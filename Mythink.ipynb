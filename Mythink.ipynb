{
 "cells": [
  {
   "cell_type": "markdown",
   "metadata": {},
   "source": [
    "等待消息进行触发生成代码，直到收到退出消息为止  \n",
    "RPC \n",
    "共享内存通信\n"
   ]
  },
  {
   "cell_type": "markdown",
   "metadata": {},
   "source": [
    "更改工作区Cell的工作目录  \n",
    "更改工作区Cell的代码，然后生成需要的代码  \n"
   ]
  },
  {
   "cell_type": "markdown",
   "metadata": {},
   "source": [
    "剥离 功能 为命令\n",
    "Mymagic 集成所有 Myjupyter kernel 的功能，这样就可以批量操作 My ipynbfile\n",
    "\n",
    "Mymagic ipynbfile\n"
   ]
  },
  {
   "cell_type": "markdown",
   "metadata": {},
   "source": [
    "分离出 ipynbfile 里的代码，并交给 Mymagic 运行  \n",
    "需要分析 ipynb 的json格式  \n",
    "一个文件里cell_type为code的所有 cell 里的 source  \n",
    "获取类型  \n",
    "cells[index][\"cell_type\"]==\"code\"  \n",
    "获取源代码  \n",
    "source=cells[index][\"source\"]  \n",
    "生成一个py文件  \n",
    "使用 Mymagic 运行生成的文件  \n",
    "  \n",
    "json格式  \n",
    "{  \n",
    "    cells[  \n",
    "    {  \n",
    "        \"cell_type\": \"code\",  \n",
    "            \"source\": [  \n",
    "            \"code line\\n\",   \n",
    "            ......   \n",
    "        ]  \n",
    "    },  \n",
    "    ....  \n",
    "    ]  \n",
    "}  \n"
   ]
  },
  {
   "cell_type": "code",
   "execution_count": null,
   "metadata": {},
   "outputs": [],
   "source": []
  }
 ],
 "metadata": {
  "kernelspec": {
   "display_name": "MyNodejs",
   "language": "javascript",
   "name": "mynodejs"
  },
  "language_info": {
   "name": "javascript"
  },
  "orig_nbformat": 4
 },
 "nbformat": 4,
 "nbformat_minor": 2
}
