{
 "cells": [
  {
   "cell_type": "markdown",
   "metadata": {},
   "source": [
    "cflags  \n",
    "ldflags  \n",
    "dlrun  \n",
    "coptions  \n",
    "joptions  \n",
    "package:   \n",
    "main:   \n",
    "pubclass:   \n",
    "runprg:   \n",
    "runprgargs  \n",
    "  \n",
    "repllistpid  \n",
    "replcmdmode  \n",
    "replprompt  \n",
    "replsetip: \"\\r\\n\"  \n",
    "replchildpid:\"0\"  \n",
    "  \n",
    "outputtype:text/plain  \n",
    "runmode  \n",
    "pid  \n",
    "pidcmd  \n",
    "args  \n",
    "rungdb  \n",
    "\n"
   ]
  }
 ],
 "metadata": {
  "language_info": {
   "name": "python"
  },
  "orig_nbformat": 4
 },
 "nbformat": 4,
 "nbformat_minor": 2
}
