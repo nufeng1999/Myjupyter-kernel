{
 "cells": [
  {
   "cell_type": "code",
   "execution_count": null,
   "metadata": {},
   "outputs": [],
   "source": []
  },
  {
   "cell_type": "code",
   "execution_count": 4,
   "id": "060595ec-e121-44d5-ba4e-28951027ca91",
   "metadata": {
    "tags": []
   },
   "outputs": [
    {
     "name": "stdout",
     "output_type": "stream",
     "text": [
      "[MyPythonkernel] Info:file /root/Jupyter/Myjupyter-kernel/src/do_flutter_command.py created successfully\n"
     ]
    }
   ],
   "source": [
    "## do_flutter_command\n",
    "##%overwritefile\n",
    "##%file:src/do_flutter_command.py\n",
    "##%noruncode\n",
    "    def do_flutter_command(self,commands=None,cwd=None,magics=None):\n",
    "        p = self.create_jupyter_subprocess(['flutter']+commands,cwd=os.path.abspath(''),shell=False)\n",
    "        self.g_rtsps[str(p.pid)]=p\n",
    "        if magics!=None and len(magics['showpid'])>0:\n",
    "            self._write_to_stdout(\"The process PID:\"+str(p.pid)+\"\\n\")\n",
    "        while p.poll() is None:\n",
    "            p.write_contents()\n",
    "        # wait for threads to finish, so output is always shown\n",
    "        p._stdout_thread.join()\n",
    "        p._stderr_thread.join()\n",
    "        del self.g_rtsps[str(p.pid)]\n",
    "        p.write_contents()\n",
    "\n",
    "        if p.returncode != 0:\n",
    "            self._write_to_stderr(\"[MyPythonkernel] Executable exited with code {}\".format(p.returncode))\n",
    "        else:\n",
    "            self._write_to_stdout(\"[MyPythonkernel] Info:flutter command success.\")\n",
    "        return\n"
   ]
  }
 ],
 "metadata": {
  "kernelspec": {
   "display_name": "MyPython",
   "language": "Python",
   "name": "mypython"
  },
  "orig_nbformat": 4
 },
 "nbformat": 4,
 "nbformat_minor": 2
}
