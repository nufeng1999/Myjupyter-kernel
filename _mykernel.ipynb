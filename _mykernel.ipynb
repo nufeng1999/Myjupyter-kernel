{
 "cells": [
  {
   "cell_type": "code",
   "execution_count": 8,
   "id": "ba40e881-6972-4912-bf1a-ad7a924c3dfc",
   "metadata": {
    "tags": []
   },
   "outputs": [
    {
     "name": "stdout",
     "output_type": "stream",
     "text": [
      "[MyPythonkernel] Info:file /root/Jupyter/Myjupyter-kernel/src/head.py created successfully\n"
     ]
    }
   ],
   "source": [
    "## import 部分  \n",
    "##%overwritefile\n",
    "##%file:src/head.py\n",
    "##%noruncode\n",
    "\n",
    "from math import exp\n",
    "from queue import Queue\n",
    "from threading import Thread\n",
    "\n",
    "from ipykernel.kernelbase import Kernel\n",
    "from pexpect import replwrap, EOF\n",
    "from jinja2 import Environment, PackageLoader, select_autoescape,Template\n",
    "\n",
    "import pexpect\n",
    "import signal\n",
    "import typing \n",
    "import typing as t\n",
    "import re\n",
    "import signal\n",
    "import subprocess\n",
    "import tempfile\n",
    "import os\n",
    "import sys\n",
    "import traceback\n",
    "import os.path as path\n",
    "import codecs\n",
    "import time\n",
    "import importlib\n",
    "import importlib.util\n",
    "import inspect"
   ]
  },
  {
   "cell_type": "code",
   "execution_count": 5,
   "id": "e23ef04c",
   "metadata": {
    "tags": []
   },
   "outputs": [
    {
     "name": "stdout",
     "output_type": "stream",
     "text": [
      "[MyPythonkernel] Info:file /root/Jupyter/Myjupyter-kernel/src/common.py created successfully\n"
     ]
    }
   ],
   "source": [
    "##全局函数和变量\n",
    "##%overwritefile\n",
    "##%file:src/common.py\n",
    "##%noruncode\n",
    "\n",
    "##%test_begin\n",
    "\n",
    "##%test_end"
   ]
  },
  {
   "cell_type": "code",
   "execution_count": 5,
   "id": "0785dbb3",
   "metadata": {},
   "outputs": [
    {
     "name": "stdout",
     "output_type": "stream",
     "text": [
      "[MyPythonkernel] Info:file /root/Jupyter/Myjupyter-kernel/src/comm_attribute.py created successfully\n"
     ]
    }
   ],
   "source": [
    "##核心内变量与属性  \n",
    "##%overwritefile\n",
    "##%file:src/comm_attribute.py\n",
    "##%noruncode\n",
    "\n",
    "    plugins={\"0\":[],\n",
    "         \"1\":[],\n",
    "         \"2\":[],\n",
    "         \"3\":[],\n",
    "         \"4\":[],\n",
    "         \"5\":[],\n",
    "         \"6\":[],\n",
    "         \"7\":[],\n",
    "         \"8\":[],\n",
    "         \"9\":[]}\n",
    "    silent=None\n",
    "    jinja2_env = Environment()\n",
    "    g_rtsps={}\n",
    "    g_chkreplexit=True\n",
    "\n"
   ]
  },
  {
   "cell_type": "code",
   "execution_count": 4,
   "id": "f4f3dc7d",
   "metadata": {},
   "outputs": [
    {
     "name": "stdout",
     "output_type": "stream",
     "text": [
      "[MyPythonkernel] Info:file /root/Jupyter/Myjupyter-kernel/src/_filter_dict.py created successfully\n"
     ]
    }
   ],
   "source": [
    "##解析参数字符串函数\n",
    "##%overwritefile\n",
    "##%file:src/_filter_dict.py\n",
    "##%noruncode\n",
    "    def _filter_dict(self,argsstr):\n",
    "        if not argsstr or len(argsstr.strip())<1:\n",
    "            return None\n",
    "        env_dict={}\n",
    "        argsstr=replacemany(replacemany(replacemany(argsstr.strip(),('  '),' '),('= '),'='),' =','=')\n",
    "        pattern = re.compile(r'([^\\s*]*)=\"(.*?)\"|([^\\s*]*)=(\\'.*?\\')|([^\\s*]*)=(.[^\\s]*)')\n",
    "        for argument in pattern.findall(argsstr):\n",
    "            li=list(argument)\n",
    "            li= [i for i in li if i != '']\n",
    "            env_dict[str(li[0])]=li[1]\n",
    "        return env_dict"
   ]
  },
  {
   "cell_type": "code",
   "execution_count": 6,
   "id": "816a3a41",
   "metadata": {},
   "outputs": [
    {
     "name": "stdout",
     "output_type": "stream",
     "text": [
      "[MyPythonkernel] Info:file /root/Jupyter/Myjupyter-kernel/src/cleannotes.py created successfully\n"
     ]
    }
   ],
   "source": [
    "##清除注释函数\n",
    "##%overwritefile\n",
    "##%file:src/cleannotes.py\n",
    "##%noruncode\n",
    "    def _is_test_begin(self,line):\n",
    "        if line==None or line=='':return ''\n",
    "        return line.strip().startswith('##test_begin') or line.strip().startswith('//test_begin')\n",
    "    def _is_test_end(self,line):\n",
    "        if line==None or line=='':return ''\n",
    "        return line.strip().startswith('##test_end') or line.strip().startswith('//test_end')\n",
    "    def _is_dqm_begin(self,line):\n",
    "        if line==None or line=='':return ''\n",
    "        return line.lstrip().startswith('\\\"\\\"\\\"')\n",
    "    def _is_dqm_end(self,line):\n",
    "        if line==None or line=='':return ''\n",
    "        return line.rstrip().endswith('\\\"\\\"\\\"')\n",
    "    def _is_sqm_begin(self,line):\n",
    "        if line==None or line=='':return ''\n",
    "        return line.lstrip().startswith('\\'\\'\\'')\n",
    "    def _is_sqm_end(self,line):\n",
    "        if line==None or line=='':return ''\n",
    "        return line.rstrip().endswith('\\'\\'\\'')\n",
    "\n",
    "    def cleannotes(self,line):\n",
    "        return '' if (not self._is_specialID(line)) and (line.lstrip().startswith('#') or line.lstrip().startswith('//')) else line\n",
    "    isdqm=False\n",
    "    def cleandqm(self,line):\n",
    "        if not self.isdqm:\n",
    "            istb=self._is_dqm_begin(line)\n",
    "            if istb: \n",
    "                self.isdqm=True\n",
    "                if len(line.strip())>5:\n",
    "                    iste=self._is_dqm_end(line)\n",
    "                    if iste:self.isdqm=False\n",
    "                return ''\n",
    "        iste=self._is_dqm_end(line)\n",
    "        if iste:\n",
    "            self.isdqm=False\n",
    "            return ''\n",
    "        line= \"\" if self.isdqm else line\n",
    "        return line\n",
    "    issqm=False\n",
    "    def cleansqm(self,line):\n",
    "        if not self.issqm:\n",
    "            istb=self._is_sqm_begin(line)\n",
    "            if istb: \n",
    "                self.issqm=True\n",
    "                if len(line.strip())>5:\n",
    "                    iste=self._is_sqm_end(line)\n",
    "                    if iste:self.issqm=False\n",
    "                return ''\n",
    "        iste=self._is_sqm_end(line)\n",
    "        if iste:\n",
    "            self.issqm=False\n",
    "            return ''\n",
    "        line= \"\" if self.issqm else line\n",
    "        return line\n",
    "    istestcode=False\n",
    "    def cleantestcode(self,line):\n",
    "        if not self.istestcode:\n",
    "            istb=self._is_test_begin(line)\n",
    "            if istb: \n",
    "                self.istestcode=True\n",
    "                if len(line.strip())>5:\n",
    "                    iste=self._is_test_end(line)\n",
    "                    if iste:self.istestcode=False\n",
    "                return ''\n",
    "        iste=self._is_test_end(line)\n",
    "        if iste:\n",
    "            self.istestcode=False\n",
    "            return ''\n",
    "        line= \"\" if self.istestcode else line\n",
    "        return line\n",
    "    "
   ]
  },
  {
   "cell_type": "code",
   "execution_count": 8,
   "id": "838ff23b",
   "metadata": {
    "tags": []
   },
   "outputs": [
    {
     "name": "stdout",
     "output_type": "stream",
     "text": [
      "[MyPythonkernel] Info:file /root/Jupyter/Myjupyter-kernel/src/_is_specialID.py created successfully\n"
     ]
    }
   ],
   "source": [
    "##%overwritefile\n",
    "##%file:src/_is_specialID.py\n",
    "##%noruncode\n",
    "    def _is_specialID(self,line):\n",
    "        if line.strip().startswith('##%') or line.strip().startswith('//%'):\n",
    "            return True\n",
    "        return False\n"
   ]
  },
  {
   "cell_type": "code",
   "execution_count": 8,
   "id": "00494001-3d72-462d-ae18-08d5e099d6f7",
   "metadata": {
    "tags": []
   },
   "outputs": [
    {
     "name": "stdout",
     "output_type": "stream",
     "text": [
      "[MyPythonkernel] Info:file /root/Jupyter/Myjupyter-kernel/src/kernel_common.py created successfully\n"
     ]
    }
   ],
   "source": [
    "##%overwritefile\n",
    "##%file:src/kernel_common.py\n",
    "##%noruncode\n",
    "    usleep = lambda x: time.sleep(x/1000000.0)\n",
    "\n",
    "    def replacemany(self,our_str, to_be_replaced:str, replace_with:str):\n",
    "        while (to_be_replaced in our_str):\n",
    "            our_str = our_str.replace(to_be_replaced, replace_with)\n",
    "        return our_str\n",
    "\n",
    "    def _filter_dict(self,argsstr):\n",
    "        if not argsstr or len(argsstr.strip())<1:\n",
    "            return None\n",
    "        env_dict={}\n",
    "        argsstr=self.replacemany(self.replacemany(self.replacemany(argsstr.strip(),('  '),' '),('= '),'='),' =','=')\n",
    "        pattern = re.compile(r'([^\\s*]*)=\"(.*?)\"|([^\\s*]*)=(\\'.*?\\')|([^\\s*]*)=(.[^\\s]*)')\n",
    "        env_list=envstr.split(\",\")\n",
    "        for i in range(0,len(env_list),2):\n",
    "            env_dict[str(env_list[i])]=env_list[i+1]\n",
    "        return env_dict\n"
   ]
  },
  {
   "cell_type": "code",
   "execution_count": 10,
   "id": "d82c5a0d-37cf-4601-99b0-395e8e13230a",
   "metadata": {
    "tags": []
   },
   "outputs": [
    {
     "name": "stdout",
     "output_type": "stream",
     "text": [
      "[MyPythonkernel] Info:file /root/Jupyter/Myjupyter-kernel/src/RealTimeSubprocess.py created successfully\n"
     ]
    }
   ],
   "source": [
    "##%overwritefile\n",
    "##%file:src/RealTimeSubprocess.py\n",
    "##%noruncode\n",
    "class RealTimeSubprocess(subprocess.Popen):\n",
    "    \"\"\"\n",
    "    A subprocess that allows to read its stdout and stderr in real time\n",
    "    \"\"\"\n",
    "\n",
    "    inputRequest = \"<inputRequest>\"\n",
    "\n",
    "    def __init__(self, cmd, write_to_stdout, write_to_stderr, read_from_stdin,cwd=None,shell=False,env=None):\n",
    "        \"\"\"\n",
    "        :param cmd: the command to execute\n",
    "        :param write_to_stdout: a callable that will be called with chunks of data from stdout\n",
    "        :param write_to_stderr: a callable that will be called with chunks of data from stderr\n",
    "        \"\"\"\n",
    "        self._write_to_stdout = write_to_stdout\n",
    "        self._write_to_stderr = write_to_stderr\n",
    "        self._read_from_stdin = read_from_stdin\n",
    "        \n",
    "        super().__init__(cmd, stdout=subprocess.PIPE, stderr=subprocess.PIPE, stdin=subprocess.PIPE,\n",
    "                            bufsize=0,cwd=cwd,shell=shell,env=env)\n",
    "\n",
    "        self._stdout_queue = Queue()\n",
    "        self._stdout_thread = Thread(target=RealTimeSubprocess._enqueue_output, args=(self.stdout, self._stdout_queue))\n",
    "        self._stdout_thread.daemon = True\n",
    "        self._stdout_thread.start()\n",
    "\n",
    "        self._stderr_queue = Queue()\n",
    "        self._stderr_thread = Thread(target=RealTimeSubprocess._enqueue_output, args=(self.stderr, self._stderr_queue))\n",
    "        self._stderr_thread.daemon = True\n",
    "        self._stderr_thread.start()\n",
    "\n",
    "    @staticmethod\n",
    "    def _enqueue_output(stream, queue):\n",
    "        \"\"\"\n",
    "        Add chunks of data from a stream to a queue until the stream is empty.\n",
    "        \"\"\"\n",
    "        for line in iter(lambda: stream.read(4096), b''):\n",
    "            queue.put(line)\n",
    "        stream.close()\n",
    "\n",
    "    def write_contents(self,magics=None):\n",
    "        \"\"\"\n",
    "        Write the available content from stdin and stderr where specified when the instance was created\n",
    "        :return:\n",
    "        \"\"\"\n",
    "\n",
    "        def read_all_from_queue(queue):\n",
    "            res = b''\n",
    "            size = queue.qsize()\n",
    "            while size != 0:\n",
    "                res += queue.get_nowait()\n",
    "                size -= 1\n",
    "            return res\n",
    "        stderr_contents = read_all_from_queue(self._stderr_queue)\n",
    "        if stderr_contents:\n",
    "            self._write_to_stderr(stderr_contents.decode())\n",
    "\n",
    "        stdout_contents = read_all_from_queue(self._stdout_queue)\n",
    "        if stdout_contents:\n",
    "            contents = stdout_contents.decode()\n",
    "            # if there is input request, make output and then\n",
    "            # ask frontend for input\n",
    "            start = contents.find(self.__class__.inputRequest)\n",
    "            if(start >= 0):\n",
    "                contents = contents.replace(self.__class__.inputRequest, '')\n",
    "                if(len(contents) > 0):\n",
    "                    self._write_to_stdout(contents,magics)\n",
    "                readLine = \"\"\n",
    "                while(len(readLine) == 0):\n",
    "                    readLine = self._read_from_stdin()\n",
    "                # need to add newline since it is not captured by frontend\n",
    "                readLine += \"\\n\"\n",
    "                self.stdin.write(readLine.encode())\n",
    "            else:\n",
    "                self._write_to_stdout(contents,magics)\n",
    "\n"
   ]
  },
  {
   "cell_type": "code",
   "execution_count": 11,
   "id": "0cbe6b80-7e1f-4dd0-a9c7-fd2558067f6c",
   "metadata": {
    "tags": []
   },
   "outputs": [
    {
     "name": "stdout",
     "output_type": "stream",
     "text": [
      "[MyPythonkernel] Info:file /root/Jupyter/Myjupyter-kernel/src/IREPLWrapper.py created successfully\n"
     ]
    }
   ],
   "source": [
    "##%overwritefile\n",
    "##%file:src/IREPLWrapper.py\n",
    "##%noruncode\n",
    "class IREPLWrapper(replwrap.REPLWrapper):\n",
    "    \"\"\"A subclass of REPLWrapper that gives incremental output\n",
    "    specifically for gdb_kernel.\n",
    "\n",
    "    The parameters are the same as for REPLWrapper, except for one\n",
    "    extra parameter:\n",
    "\n",
    "    :param line_output_callback: a callback method to receive each batch\n",
    "      of incremental output. It takes one string parameter.\n",
    "    \"\"\"\n",
    "    def __init__(self, write_to_stdout, write_to_stderr, read_from_stdin,\n",
    "                cmd_or_spawn,replsetip, orig_prompt, prompt_change,\n",
    "                extra_init_cmd=None, line_output_callback=None):\n",
    "        self._write_to_stdout = write_to_stdout\n",
    "        self._write_to_stderr = write_to_stderr\n",
    "        self._read_from_stdin = read_from_stdin\n",
    "        self.line_output_callback = line_output_callback\n",
    "        self.replsetip=replsetip\n",
    "        self.startflag=True\n",
    "        self.startexpecttimeout=60\n",
    "        # x = time.localtime(time.time())\n",
    "        self.start_time = time.time()\n",
    "        replwrap.REPLWrapper.__init__(self, cmd_or_spawn, orig_prompt,\n",
    "                                      prompt_change,extra_init_cmd=extra_init_cmd)\n",
    " \n",
    "    def _expect_prompt(self, timeout=-1):\n",
    "        if timeout == -1 or timeout ==None :\n",
    "            # \"None\" means we are executing code from a Jupyter cell by way of the run_command\n",
    "            # in the do_execute() code below, so do incremental output.\n",
    "            retry=0\n",
    "            received=False\n",
    "            cmdstart_time = time.time()\n",
    "            cmdexectimeout=10\n",
    "            while True:\n",
    "                if self.startflag :\n",
    "                    cmdexectimeout=None\n",
    "                    run_time = time.time() - self.start_time\n",
    "                    if run_time > self.startexpecttimeout:\n",
    "                        self.startflag=False\n",
    "                        self.line_output_callback(self.child.before + '\\r\\n')\n",
    "                        self.line_output_callback(\"\\n0End of startup process\\n\")\n",
    "                        break\n",
    "                try:\n",
    "                    pos = self.child.expect_exact([u'\\r\\n', self.continuation_prompt, self.replsetip, pexpect.EOF, pexpect.TIMEOUT],timeout=cmdexectimeout)\n",
    "                    if pos == 2:\n",
    "                        # End of line received\n",
    "                        if self.child.terminated:\n",
    "                            self.line_output_callback(\"\\nprocess.terminated\\n\")\n",
    "                        self.line_output_callback(self.child.before +self.replsetip+ '\\r\\n')\n",
    "                        self.line_output_callback(\"\\nEnd of startup process\\n\")\n",
    "                        self.replsetip=u'\\r\\n'\n",
    "                        cmdexectimeout=None\n",
    "                        self.startflag=False\n",
    "                        break\n",
    "                    elif pos ==3:\n",
    "                        if len(self.child.before) != 0:\n",
    "                            self.line_output_callback(self.child.before + '\\r\\n')\n",
    "                        self.line_output_callback('The process has exited.\\r\\n')\n",
    "                        break\n",
    "                    elif pos == 0:\n",
    "                        self.line_output_callback(self.child.before + '\\n')\n",
    "                        cmdstart_time = time.time()\n",
    "                    else:\n",
    "                        if len(self.child.before) != 0:\n",
    "                            # prompt received, but partial line precedes it\n",
    "                            self.line_output_callback(self.child.before)\n",
    "                            cmdstart_time = time.time()\n",
    "                        else:\n",
    "                            if self.startflag :\n",
    "                                continue\n",
    "                            run_time = time.time() - cmdstart_time\n",
    "                            if run_time > 10:\n",
    "                                break\n",
    "                            \n",
    "                except Exception as e:\n",
    "                    # self.line_output_callback(self.child.before)\n",
    "                    self._write_to_stderr(\"[MyPythonkernel] Error:Executable _expect_prompt error! \"+str(e)+\"\\n\")\n",
    "        else:\n",
    "            # Otherwise, use existing non-incremental code\n",
    "            pos = replwrap.REPLWrapper._expect_prompt(self, timeout=timeout)\n",
    "        # Prompt received, so return normally\n",
    "        return pos\n"
   ]
  },
  {
   "cell_type": "code",
   "execution_count": 12,
   "id": "aaa6f7bb-4507-42df-8bd8-a1e1a946c8ee",
   "metadata": {
    "tags": []
   },
   "outputs": [
    {
     "name": "stdout",
     "output_type": "stream",
     "text": [
      "[MyPythonkernel] Info:file /root/Jupyter/Myjupyter-kernel/src/repl_listpid.py created successfully\n"
     ]
    }
   ],
   "source": [
    "##%overwritefile\n",
    "##%file:src/repl_listpid.py\n",
    "##%noruncode\n",
    "    def repl_listpid(self):\n",
    "        if len(self.g_rtsps)>0: \n",
    "            self._write_to_stdout(\"--------All replpid--------\\n\")\n",
    "            for key in self.g_rtsps:\n",
    "                self._write_to_stdout(key+\"\\n\")\n",
    "        else:\n",
    "            self._write_to_stdout(\"--------All replpid--------\\nNone\\n\")"
   ]
  },
  {
   "cell_type": "code",
   "execution_count": 13,
   "id": "d78c853c-73c4-4de1-8fa8-a8f21863e641",
   "metadata": {
    "tags": []
   },
   "outputs": [
    {
     "name": "stdout",
     "output_type": "stream",
     "text": [
      "[MyPythonkernel] Info:file /root/Jupyter/Myjupyter-kernel/src/chk_replexit.py created successfully\n"
     ]
    }
   ],
   "source": [
    "##%overwritefile\n",
    "##%file:src/chk_replexit.py\n",
    "##%noruncode\n",
    "    def chk_replexit(grtsps): \n",
    "        while MyPythonKernel.g_chkreplexit:\n",
    "            try:\n",
    "                if len(grtsps)>0: \n",
    "                    for key in grtsps:\n",
    "                        if grtsps[key].child.terminated:\n",
    "                            pass\n",
    "                            del grtsps[key]\n",
    "                        # else:\n",
    "                        #     grtsps[key].write_contents()\n",
    "            finally:\n",
    "                pass\n",
    "        if len(grtsps)>0: \n",
    "            for key in grtsps:\n",
    "                if grtsps[key].child.terminated:\n",
    "                    pass\n",
    "                    del grtsps[key]\n",
    "                else:\n",
    "                    grtsps[key].child.terminate(force=True)\n",
    "                    del grtsps[key]\n",
    "    \n"
   ]
  },
  {
   "cell_type": "code",
   "execution_count": 14,
   "id": "c0b66a54-4954-4f4d-9580-3ddc6ae4ab8e",
   "metadata": {
    "tags": []
   },
   "outputs": [
    {
     "name": "stdout",
     "output_type": "stream",
     "text": [
      "[MyPythonkernel] Info:file /root/Jupyter/Myjupyter-kernel/src/cleanup_files.py created successfully\n"
     ]
    }
   ],
   "source": [
    "##%overwritefile\n",
    "##%file:src/cleanup_files.py\n",
    "##%noruncode\n",
    "    def cleanup_files(self):\n",
    "        \"\"\"Remove all the temporary files created by the kernel\"\"\"\n",
    "        # keep the list of files create in case there is an exception\n",
    "        # before they can be deleted as usual\n",
    "        for file in self.files:\n",
    "            if(os.path.exists(file)):\n",
    "                os.remove(file)\n",
    "\n"
   ]
  },
  {
   "cell_type": "code",
   "execution_count": 15,
   "id": "e1171ffa-7160-4f60-b7aa-d94934ddbd77",
   "metadata": {
    "tags": []
   },
   "outputs": [
    {
     "name": "stdout",
     "output_type": "stream",
     "text": [
      "[MyPythonkernel] Info:file /root/Jupyter/Myjupyter-kernel/src/new_temp_file.py created successfully\n"
     ]
    }
   ],
   "source": [
    "##%overwritefile\n",
    "##%file:src/new_temp_file.py\n",
    "##%noruncode\n",
    "    def new_temp_file(self, **kwargs):\n",
    "        \"\"\"Create a new temp file to be deleted when the kernel shuts down\"\"\"\n",
    "        # We don't want the file to be deleted when closed, but only when the kernel stops\n",
    "        kwargs['delete'] = False\n",
    "        kwargs['mode'] = 'w'\n",
    "        file = tempfile.NamedTemporaryFile(**kwargs)\n",
    "        self.files.append(file.name)\n",
    "        return file\n"
   ]
  },
  {
   "cell_type": "code",
   "execution_count": 16,
   "id": "473d2581-cd55-4292-a64f-2c0c86600c60",
   "metadata": {
    "tags": []
   },
   "outputs": [
    {
     "name": "stdout",
     "output_type": "stream",
     "text": [
      "[MyPythonkernel] Info:file /root/Jupyter/Myjupyter-kernel/src/_write_display_data.py created successfully\n"
     ]
    }
   ],
   "source": [
    "##%overwritefile\n",
    "##%file:src/_write_display_data.py\n",
    "##%noruncode\n",
    "    def _write_display_data(self,mimetype='text/html',contents=\"\"):\n",
    "\n",
    "        self.send_response(self.iopub_socket, 'display_data', {'data': {mimetype:contents}, 'metadata': {mimetype:{}}})\n"
   ]
  },
  {
   "cell_type": "code",
   "execution_count": 17,
   "id": "2d7282d6-9135-4807-bfea-00a8f497dccd",
   "metadata": {
    "tags": []
   },
   "outputs": [
    {
     "name": "stdout",
     "output_type": "stream",
     "text": [
      "[MyPythonkernel] Info:file /root/Jupyter/Myjupyter-kernel/src/_write_to_stdout.py created successfully\n"
     ]
    }
   ],
   "source": [
    "##%overwritefile\n",
    "##%file:src/_write_to_stdout.py\n",
    "##%noruncode\n",
    "    def _write_to_stdout(self,contents,magics=None):\n",
    "        if magics !=None and len(magics['outputtype'])>0:\n",
    "            self._write_display_data(mimetype=magics['outputtype'],contents=contents)\n",
    "        else:\n",
    "            self.send_response(self.iopub_socket, 'stream', {'name': 'stdout', 'text': contents})\n"
   ]
  },
  {
   "cell_type": "code",
   "execution_count": 18,
   "id": "613651e5-a511-4787-a438-9ec794d74d83",
   "metadata": {
    "tags": []
   },
   "outputs": [
    {
     "name": "stdout",
     "output_type": "stream",
     "text": [
      "[MyPythonkernel] Info:file /root/Jupyter/Myjupyter-kernel/src/_write_to_stderr.py created successfully\n"
     ]
    }
   ],
   "source": [
    "##%overwritefile\n",
    "##%file:src/_write_to_stderr.py\n",
    "##%noruncode\n",
    "    def _write_to_stderr(self, contents):\n",
    "        self.send_response(self.iopub_socket, 'stream', {'name': 'stderr', 'text': contents})\n"
   ]
  },
  {
   "cell_type": "code",
   "execution_count": 19,
   "id": "3493fad7-252b-4525-9388-c07238939a7e",
   "metadata": {
    "tags": []
   },
   "outputs": [
    {
     "name": "stdout",
     "output_type": "stream",
     "text": [
      "[MyPythonkernel] Info:file /root/Jupyter/Myjupyter-kernel/src/_read_from_stdin.py created successfully\n"
     ]
    }
   ],
   "source": [
    "##%overwritefile\n",
    "##%file:src/_read_from_stdin.py\n",
    "##%noruncode\n",
    "    def _read_from_stdin(self):\n",
    "        return self.raw_input()\n"
   ]
  },
  {
   "cell_type": "code",
   "execution_count": 20,
   "id": "1fae2f8b-62da-4250-806c-1c4d5718d27d",
   "metadata": {
    "tags": []
   },
   "outputs": [
    {
     "name": "stdout",
     "output_type": "stream",
     "text": [
      "[MyPythonkernel] Info:file /root/Jupyter/Myjupyter-kernel/src/readcodefile.py created successfully\n"
     ]
    }
   ],
   "source": [
    "##%overwritefile\n",
    "##%file:src/readcodefile.py\n",
    "##%noruncode\n",
    "    def readcodefile(self,filename,spacecount=0):\n",
    "        filecode=''\n",
    "        codelist1=None\n",
    "        if not os.path.exists(filename):\n",
    "            return ''\n",
    "        with open(os.path.join(os.path.abspath(''),filename), 'r') as codef1:\n",
    "            codelist1 = codef1.readlines()\n",
    "        if len(codelist1)>0:\n",
    "            for t in codelist1:\n",
    "                filecode+=' '*spacecount + t\n",
    "        return filecode\n"
   ]
  },
  {
   "cell_type": "code",
   "execution_count": 21,
   "id": "acd7b0c5-4c7e-4661-a0c2-c8c9336138b4",
   "metadata": {
    "tags": []
   },
   "outputs": [
    {
     "name": "stdout",
     "output_type": "stream",
     "text": [
      "[MyPythonkernel] Info:file /root/Jupyter/Myjupyter-kernel/src/_start_replprg.py created successfully\n"
     ]
    }
   ],
   "source": [
    "##%overwritefile\n",
    "##%file:src/_start_replprg.py\n",
    "##%noruncode\n",
    "    def _start_replprg(self,command,args,magics):\n",
    "        # Signal handlers are inherited by forked processes, and we can't easily\n",
    "        # reset it from the subprocess. Since kernelapp ignores SIGINT except in\n",
    "        # message handlers, we need to temporarily reset the SIGINT handler here\n",
    "        # so that bash and its children are interruptible.\n",
    "        sig = signal.signal(signal.SIGINT, signal.SIG_DFL)\n",
    "        self.silent = None\n",
    "        try:\n",
    "\n",
    "            child = pexpect.spawn(command, args,timeout=60, echo=False,\n",
    "                                  encoding='utf-8')\n",
    "            self._write_to_stdout(\"replchild pid:\"+str(child.pid)+\"\\n\")\n",
    "            self._write_to_stdout(\"--------process info---------\\n\")\n",
    "\n",
    "            self.replwrapper = IREPLWrapper(\n",
    "                                    self._write_to_stdout,\n",
    "                                    self._write_to_stderr,\n",
    "                                    self._read_from_stdin,\n",
    "                                    child,\n",
    "                                    replsetip=magics['replsetip'],\n",
    "                                    orig_prompt='\\r\\n', \n",
    "                                    prompt_change=None,\n",
    "                                    extra_init_cmd=None,\n",
    "                                    line_output_callback=self.process_output)\n",
    "            # self._write_to_stdout(\"replchild pid:\"+str(self.replwrapper.child.pid)+\"\\n\")\n",
    "            self.g_rtsps[str(self.replwrapper.child.pid)]=self.replwrapper\n",
    "            \n",
    "        except Exception as e:\n",
    "            self._write_to_stderr(\"[MyPythonkernel] Error:Executable _start_replprg error! \"+str(e)+\"\\n\")\n",
    "\n",
    "        finally:\n",
    "            signal.signal(signal.SIGINT, sig)\n"
   ]
  },
  {
   "cell_type": "code",
   "execution_count": 22,
   "id": "65c481f5-1488-40c4-ab6a-db407ac3b8b0",
   "metadata": {
    "tags": []
   },
   "outputs": [
    {
     "name": "stdout",
     "output_type": "stream",
     "text": [
      "[MyPythonkernel] Info:file /root/Jupyter/Myjupyter-kernel/src/process_output.py created successfully\n"
     ]
    }
   ],
   "source": [
    "##%overwritefile\n",
    "##%file:src/process_output.py\n",
    "##%noruncode\n",
    "    def process_output(self, output,magics=None):\n",
    "        if not self.silent:\n",
    "            if magics !=None and len(magics['outputtype'])>0:\n",
    "                self._write_display_data(mimetype=magics['outputtype'],contents=output)\n",
    "                return\n",
    "            # Send standard output\n",
    "            stream_content = {'name': 'stdout', 'text': output}\n",
    "            self.send_response(self.iopub_socket, 'stream', stream_content)\n"
   ]
  },
  {
   "cell_type": "code",
   "execution_count": 23,
   "id": "aa884b4e",
   "metadata": {
    "tags": []
   },
   "outputs": [
    {
     "name": "stdout",
     "output_type": "stream",
     "text": [
      "[MyPythonkernel] Info:file /root/Jupyter/Myjupyter-kernel/src/log_output.py created successfully\n"
     ]
    }
   ],
   "source": [
    "##%overwritefile\n",
    "##%file:src/log_output.py\n",
    "##%noruncode\n",
    "    def _log(self, output,level=1,outputtype='text/plain'):\n",
    "        streamname='stdout'\n",
    "        if not self.silent:\n",
    "            prestr=self.kernelinfo+' Info:'\n",
    "            if level==2:\n",
    "                prestr=self.kernelinfo+' Warning:'\n",
    "                streamname='stderr'\n",
    "            elif level==3:\n",
    "                prestr=self.kernelinfo+' Error:'\n",
    "                streamname='stderr'\n",
    "            else:\n",
    "                prestr=self.kernelinfo+' Info:'\n",
    "                streamname='stdout'\n",
    "            if len(outputtype)>0 and (level!=2 or level!=3):\n",
    "                self._write_display_data(mimetype=outputtype,contents=prestr+output)\n",
    "                return\n",
    "            # Send standard output\n",
    "            stream_content = {'name': streamname, 'text': prestr+output}\n",
    "            self.send_response(self.iopub_socket, 'stream', stream_content)"
   ]
  },
  {
   "cell_type": "code",
   "execution_count": 24,
   "id": "31d22b96-8e2d-404c-89e7-554130d67403",
   "metadata": {
    "tags": []
   },
   "outputs": [
    {
     "name": "stdout",
     "output_type": "stream",
     "text": [
      "[MyPythonkernel] Info:file /root/Jupyter/Myjupyter-kernel/src/send_replcmd.py created successfully\n"
     ]
    }
   ],
   "source": [
    "##%overwritefile\n",
    "##%file:src/send_replcmd.py\n",
    "##%noruncode\n",
    "    def send_replcmd(self, code, silent, store_history=True,\n",
    "                   user_expressions=None, allow_stdin=False,magics=None):\n",
    "        self.silent = silent\n",
    "        if not code.strip():\n",
    "            return {'status': 'ok', 'execution_count': self.execution_count,\n",
    "                    'payload': [], 'user_expressions': {}}\n",
    "\n",
    "        interrupted = False\n",
    "        try:\n",
    "            # Note: timeout=None tells IREPLWrapper to do incremental\n",
    "            # output.  Also note that the return value from\n",
    "            # run_command is not needed, because the output was\n",
    "            # already sent by IREPLWrapper.\n",
    "            self._write_to_stdout(\"send replcmd:\"+code.rstrip()+\"\\n\")\n",
    "            self._write_to_stdout(\"---Received information after send repl cmd---\\n\")\n",
    "            if magics and len(magics['replchildpid'])>0 :\n",
    "                if self.g_rtsps[magics['replchildpid']] and \\\n",
    "                    self.g_rtsps[magics['replchildpid']].child and \\\n",
    "                    not self.g_rtsps[magics['replchildpid']].child.terminated :\n",
    "                    self.g_rtsps[magics['replchildpid']].run_command(code.rstrip(), timeout=None)\n",
    "            else:\n",
    "                if self.replwrapper and \\\n",
    "                    self.replwrapper.child and \\\n",
    "                    not self.replwrapper.child.terminated :\n",
    "                    self.replwrapper.run_command(code.rstrip(), timeout=None)\n",
    "            pass\n",
    "        except KeyboardInterrupt:\n",
    "            self.gdbwrapper.child.sendintr()\n",
    "            interrupted = True\n",
    "            self.gdbwrapper._expect_prompt()\n",
    "            output = self.gdbwrapper.child.before\n",
    "            self.process_output(output)\n",
    "        except EOF:\n",
    "            # output = self.gdbwrapper.child.before + 'Restarting GDB'\n",
    "            # self._start_gdb()\n",
    "            # self.process_output(output)\n",
    "            pass\n",
    "\n",
    "        if interrupted:\n",
    "            return {'status': 'abort', 'execution_count': self.execution_count}\n",
    "\n",
    "        # try:\n",
    "        #     exitcode = int(self.replwrapper.run_command('echo $?').rstrip())\n",
    "        # except Exception as e:\n",
    "        #     self.process_output(\"[MyPythonkernel] Error:Executable send_replcmd error! \"+str(e)+\"\\n\")\n",
    "        exitcode = 0\n",
    "\n",
    "        if exitcode:\n",
    "            error_content = {'execution_count': self.execution_count,\n",
    "                             'ename': '', 'evalue': str(exitcode), 'traceback': []}\n",
    "\n",
    "            self.send_response(self.iopub_socket, 'error', error_content)\n",
    "            error_content['status'] = 'error'\n",
    "            return error_content\n",
    "        else:\n",
    "            return {'status': 'ok', 'execution_count': self.execution_count,\n",
    "                    'payload': [], 'user_expressions': {}}\n"
   ]
  },
  {
   "cell_type": "code",
   "execution_count": 25,
   "id": "9e9e1ff2-e5bc-4563-bf2e-9457a93dc5c7",
   "metadata": {
    "tags": []
   },
   "outputs": [
    {
     "name": "stdout",
     "output_type": "stream",
     "text": [
      "[MyPythonkernel] Info:file /root/Jupyter/Myjupyter-kernel/src/do_shell_command.py created successfully\n"
     ]
    }
   ],
   "source": [
    "##%overwritefile\n",
    "##%file:src/do_shell_command.py\n",
    "##%noruncode\n",
    "    def do_shell_command(self,commands,cwd=None,shell=True,env=True,magics=None):\n",
    "        # self._write_to_stdout(''.join((' '+ str(s) for s in commands)))\n",
    "        try:\n",
    "            if len(magics['replcmdmode'])>0:\n",
    "                findObj= commands[0].split(\" \",1)\n",
    "                if findObj and len(findObj)>1:\n",
    "                    cmd=findObj[0]\n",
    "                    arguments=findObj[1]\n",
    "                    cmdargs=[]\n",
    "                    for argument in re.findall(r'(?:[^\\s,\"]|\"(?:\\\\.|[^\"])*\")+', arguments):\n",
    "                        cmdargs += [argument.strip('\"')]\n",
    "                    self._write_to_stdout(cmd)\n",
    "                    self._write_to_stdout(''.join((' '+ str(s) for s in cmdargs))+\"\\n\")\n",
    "                    self._start_replprg(cmd,cmdargs,magics)\n",
    "                    return\n",
    "            p = RealTimeSubprocess(commands,\n",
    "                                  self._write_to_stdout,\n",
    "                                  self._write_to_stderr,\n",
    "                                  self._read_from_stdin,cwd,shell,env=env)\n",
    "            self.g_rtsps[str(p.pid)]=p\n",
    "            if magics!=None and len(magics['showpid'])>0:\n",
    "                self._write_to_stdout(\"The process PID:\"+str(p.pid)+\"\\n\")\n",
    "            while p.poll() is None:\n",
    "                p.write_contents()\n",
    "            # wait for threads to finish, so output is always shown\n",
    "            p._stdout_thread.join()\n",
    "            p._stderr_thread.join()\n",
    "            del self.g_rtsps[str(p.pid)]\n",
    "            p.write_contents()\n",
    "            if p.returncode != 0:\n",
    "                self._write_to_stderr(\"[MyPythonkernel] Error: Executable command exited with code {}\\n\".format(p.returncode))\n",
    "            else:\n",
    "                self._write_to_stdout(\"[MyPythonkernel] Info: command success.\\n\")\n",
    "            return\n",
    "        except Exception as e:\n",
    "            self._write_to_stderr(\"[MyPythonkernel] Error:Executable command error! \"+str(e)+\"\\n\")\n"
   ]
  },
  {
   "cell_type": "code",
   "execution_count": 26,
   "id": "f6e5e217-eb21-464c-a092-670fbbb2a076",
   "metadata": {
    "tags": []
   },
   "outputs": [
    {
     "name": "stdout",
     "output_type": "stream",
     "text": [
      "[MyPythonkernel] Info:file /root/Jupyter/Myjupyter-kernel/src/do_Py_command.py created successfully\n"
     ]
    }
   ],
   "source": [
    "##%overwritefile\n",
    "##%file:src/do_Py_command.py\n",
    "##%noruncode\n",
    "    def do_Py_command(self,commands=None,cwd=None,magics=None):\n",
    "        p = self.create_jupyter_subprocess(['MyPythonKernel']+commands,cwd=os.path.abspath(''),shell=False)\n",
    "        self.g_rtsps[str(p.pid)]=p\n",
    "        if magics!=None and len(magics['showpid'])>0:\n",
    "            self._write_to_stdout(\"The process PID:\"+str(p.pid)+\"\\n\")\n",
    "        while p.poll() is None:\n",
    "            p.write_contents()\n",
    "        # wait for threads to finish, so output is always shown\n",
    "        p._stdout_thread.join()\n",
    "        p._stderr_thread.join()\n",
    "        del self.g_rtsps[str(p.pid)]\n",
    "        p.write_contents()\n",
    "\n",
    "        if p.returncode != 0:\n",
    "            self._write_to_stderr(\"[MyPythonkernel] Executable exited with code {}\".format(p.returncode))\n",
    "        else:\n",
    "            self._write_to_stdout(\"[MyPythonkernel] Info:MyPythonKernel command success.\")\n",
    "        return\n"
   ]
  },
  {
   "cell_type": "code",
   "execution_count": 27,
   "id": "060595ec-e121-44d5-ba4e-28951027ca91",
   "metadata": {
    "tags": []
   },
   "outputs": [
    {
     "name": "stdout",
     "output_type": "stream",
     "text": [
      "[MyPythonkernel] Info:file /root/Jupyter/Myjupyter-kernel/src/do_flutter_command.py created successfully\n"
     ]
    }
   ],
   "source": [
    "##%overwritefile\n",
    "##%file:src/do_flutter_command.py\n",
    "##%noruncode\n",
    "    def do_flutter_command(self,commands=None,cwd=None,magics=None):\n",
    "        p = self.create_jupyter_subprocess(['flutter']+commands,cwd=os.path.abspath(''),shell=False)\n",
    "        self.g_rtsps[str(p.pid)]=p\n",
    "        if magics!=None and len(magics['showpid'])>0:\n",
    "            self._write_to_stdout(\"The process PID:\"+str(p.pid)+\"\\n\")\n",
    "        while p.poll() is None:\n",
    "            p.write_contents()\n",
    "        # wait for threads to finish, so output is always shown\n",
    "        p._stdout_thread.join()\n",
    "        p._stderr_thread.join()\n",
    "        del self.g_rtsps[str(p.pid)]\n",
    "        p.write_contents()\n",
    "\n",
    "        if p.returncode != 0:\n",
    "            self._write_to_stderr(\"[MyPythonkernel] Executable exited with code {}\".format(p.returncode))\n",
    "        else:\n",
    "            self._write_to_stdout(\"[MyPythonkernel] Info:flutter command success.\")\n",
    "        return\n"
   ]
  },
  {
   "cell_type": "code",
   "execution_count": 28,
   "id": "049cb163-fa41-467d-8034-dbd1ff71fff5",
   "metadata": {
    "tags": []
   },
   "outputs": [
    {
     "name": "stdout",
     "output_type": "stream",
     "text": [
      "[MyPythonkernel] Info:file /root/Jupyter/Myjupyter-kernel/src/send_cmd.py created successfully\n"
     ]
    }
   ],
   "source": [
    "##%overwritefile\n",
    "##%file:src/send_cmd.py\n",
    "##%noruncode\n",
    "    def send_cmd(self,pid,cmd):\n",
    "        try:\n",
    "            # self._write_to_stdout(\"send cmd PID:\"+pid+\"\\n cmd:\"+cmd)\n",
    "            # if self.g_rtsps.has_key(pid):\n",
    "                # self._write_to_stderr(\"[MyPythonkernel] Info:exist! \"+pid+\"\\n\")\n",
    "            # self.g_rtsps[pid].stdin.write(cmd.encode())\n",
    "            self.g_rtsps[pid]._write_to_stdout(cmd)\n",
    "        except Exception as e:\n",
    "            self._write_to_stderr(\"[MyPythonkernel] Error:Executable send_cmd error! \"+str(e)+\"\\n\")\n",
    "    \n",
    "        return\n"
   ]
  },
  {
   "cell_type": "code",
   "execution_count": 29,
   "id": "ef830dc5-90d4-4760-ac56-513e055b942a",
   "metadata": {
    "tags": []
   },
   "outputs": [
    {
     "name": "stdout",
     "output_type": "stream",
     "text": [
      "[MyPythonkernel] Info:file /root/Jupyter/Myjupyter-kernel/src/create_jupyter_subprocess.py created successfully\n"
     ]
    }
   ],
   "source": [
    "##%overwritefile\n",
    "##%file:src/create_jupyter_subprocess.py\n",
    "##%noruncode\n",
    "    def create_jupyter_subprocess(self, cmd,cwd=None,shell=False,env=None):\n",
    "        try:\n",
    "            return RealTimeSubprocess(cmd,\n",
    "                                  self._write_to_stdout,\n",
    "                                  self._write_to_stderr,\n",
    "                                  self._read_from_stdin,cwd,shell,env)\n",
    "        except Exception as e:\n",
    "            self._write_to_stdout(\"RealTimeSubprocess err:\"+str(e))\n",
    "            raise\n"
   ]
  },
  {
   "cell_type": "code",
   "execution_count": 30,
   "id": "14c4f42c-03c8-4b13-81a0-86ae8c6348e6",
   "metadata": {
    "tags": []
   },
   "outputs": [
    {
     "name": "stdout",
     "output_type": "stream",
     "text": [
      "[MyPythonkernel] Info:file /root/Jupyter/Myjupyter-kernel/src/generate_Pythonfile.py created successfully\n"
     ]
    }
   ],
   "source": [
    "##%overwritefile\n",
    "##%file:src/generate_Pythonfile.py\n",
    "##%noruncode\n",
    "    def generate_Pythonfile(self, source_filename, binary_filename, cflags=None, ldflags=None):\n",
    "\n",
    "        return\n"
   ]
  },
  {
   "cell_type": "code",
   "execution_count": 31,
   "id": "71627cb9-7b53-4a9c-abe6-a34f266eedf3",
   "metadata": {
    "tags": []
   },
   "outputs": [
    {
     "name": "stdout",
     "output_type": "stream",
     "text": [
      "[MyPythonkernel] Info:file /root/Jupyter/Myjupyter-kernel/src/compile_with_Python2native.py created successfully\n"
     ]
    }
   ],
   "source": [
    "##%overwritefile\n",
    "##%file:src/compile_with_Python2native.py\n",
    "##%noruncode\n",
    "    def compile_with_Python2native(self, source_filename, binary_filename, cflags=None, ldflags=None):\n",
    "        # cflags = ['-std=c89', '-pedantic', '-fPIC', '-shared', '-rdynamic'] + cflags\n",
    "        # cflags = ['-std=c99', '-Wdeclaration-after-statement', '-Wvla', '-fPIC', '-shared', '-rdynamic'] + cflags\n",
    "        # cflags = ['-std=iso9899:199409', '-pedantic', '-fPIC', '-shared', '-rdynamic'] + cflags\n",
    "        # cflags = ['-std=c99', '-pedantic', '-fPIC', '-shared', '-rdynamic'] + cflags\n",
    "        # cflags = ['-std=c11', '-pedantic', '-fPIC','-pie', '-rdynamic'] + cflags\n",
    "        outfile=None\n",
    "        #binary_filename='/root/mytestc.out'\n",
    "        # if self.linkMaths:\n",
    "        #     cflags = cflags + ['-lm']\n",
    "        # if self.wError:\n",
    "        #     cflags = cflags + ['-Werror']\n",
    "        # if self.wAll:\n",
    "        #     cflags = cflags + ['-Wall']\n",
    "        #if ('-o' not in cflags):\n",
    "            #binary_filename=cflags[cflags.index('-o')+1]\n",
    "        #else:\n",
    "        outfile= ['-o', binary_filename]\n",
    "        args = ['MyPythonKernel','compile', 'exe', source_filename] + cflags + outfile + ldflags\n",
    "        # for x in args: self._write_to_stderr(\" \" + x + \" \")\n",
    "        return self.create_jupyter_subprocess(args)\n"
   ]
  },
  {
   "cell_type": "code",
   "execution_count": 32,
   "id": "69ab2c1b-b790-4d46-821f-c00fa45527ed",
   "metadata": {
    "tags": []
   },
   "outputs": [
    {
     "name": "stdout",
     "output_type": "stream",
     "text": [
      "[MyPythonkernel] Info:file /root/Jupyter/Myjupyter-kernel/src/_filter_env.py created successfully\n"
     ]
    }
   ],
   "source": [
    "##%overwritefile\n",
    "##%file:src/_filter_env.py\n",
    "##%noruncode\n",
    "    def _filter_env(self, envstr):\n",
    "        if envstr is None or len(envstr.strip())<1:\n",
    "            return os.environ\n",
    "        envstr=str(str(envstr.split(\"|\")).split(\"=\")).replace(\" \",\"\").replace(\"\\'\",\"\").replace(\"\\\"\",\"\").replace(\"[\",\"\").replace(\"]\",\"\").replace(\"\\\\\",\"\")\n",
    "        env_list=envstr.split(\",\")\n",
    "        for i in range(0,len(env_list),2):\n",
    "            os.environ.setdefault(env_list[i],env_list[i+1])\n",
    "        return os.environ\n"
   ]
  },
  {
   "cell_type": "code",
   "execution_count": 33,
   "id": "17aeb791-b395-4d81-b426-d64f216179cc",
   "metadata": {
    "tags": []
   },
   "outputs": [
    {
     "name": "stdout",
     "output_type": "stream",
     "text": [
      "[MyPythonkernel] Info:file /root/Jupyter/Myjupyter-kernel/src/_filter_magics.py created successfully\n"
     ]
    }
   ],
   "source": [
    "##%overwritefile\n",
    "##%file:src/_filter_magics.py\n",
    "##%noruncode\n",
    "    def _filter_magics(self, code):\n",
    "\n",
    "        magics = {'cflags': [],\n",
    "                  'ldflags': [],\n",
    "                  'file': [],\n",
    "                  'overwritefile': [],\n",
    "                  'include': [],\n",
    "                  'templatefile': [],\n",
    "\n",
    "                  'repllistpid': [],\n",
    "                  'replcmdmode': [],\n",
    "                  'replprompt': [],\n",
    "                  'replsetip': \"\\r\\n\",\n",
    "                  'replchildpid':\"0\",\n",
    "\n",
    "                  'showpid': [],\n",
    "                  'norunnotecmd': [],\n",
    "                  'noruncode': [],\n",
    "                  'command': [],\n",
    "                  'fluttercmd': [],\n",
    "                  'pythoncmd': [],\n",
    "                  'outputtype':'text/plain',\n",
    "                  'env':None,\n",
    "                  'runmode': [],\n",
    "                  'pid': [],\n",
    "                  'pidcmd': [],\n",
    "                  'args': []}\n",
    "\n",
    "        actualCode = ''\n",
    "        newactualCode = ''\n",
    "\n",
    "        for line in code.splitlines():\n",
    "            orgline=line\n",
    "            line=self.forcejj2code(line)\n",
    "            if line==None or line.strip()=='': continue\n",
    "            if self._is_specialID(line):\n",
    "                if line.strip()[3:] == \"noruncode\":\n",
    "                    magics['noruncode'] += ['true']\n",
    "                    continue\n",
    "                elif line.strip()[3:] == \"overwritefile\":\n",
    "                    magics['overwritefile'] += ['true']\n",
    "                    continue\n",
    "                elif line.strip()[3:] == \"showpid\":\n",
    "                    magics['showpid'] += ['true']\n",
    "                    continue\n",
    "                elif line.strip()[3:] == \"repllistpid\":\n",
    "                    magics['repllistpid'] += ['true']\n",
    "                    self.repl_listpid()\n",
    "                    continue\n",
    "                elif line.strip()[3:] == \"replcmdmode\":\n",
    "                    magics['replcmdmode'] += ['replcmdmode']\n",
    "                    continue\n",
    "                elif line.strip()[3:] == \"replprompt\":\n",
    "                    magics['replprompt'] += ['replprompt']\n",
    "                    continue\n",
    "                elif line.strip()[3:] == \"onlyrunnotecmd\":\n",
    "                    magics['onlyrunnotecmd'] += ['true']\n",
    "                    continue\n",
    "                findObj= re.search( r':(.*)',line)\n",
    "                if not findObj or len(findObj.group(0))<2:\n",
    "                    continue\n",
    "                key, value = line.strip()[3:].split(\":\", 2)\n",
    "                key = key.strip().lower()\n",
    "\n",
    "                if key in ['ldflags', 'cflags']:\n",
    "                    for flag in value.split():\n",
    "                        magics[key] += [flag]\n",
    "                elif key == \"runmode\":\n",
    "                    if len(value)>0:\n",
    "                        magics[key] = value[re.search(r'[^/]',value).start():]\n",
    "                    else:\n",
    "                        magics[key] ='real'\n",
    "                elif key == \"file\":\n",
    "                    if len(value)>0:\n",
    "                        magics[key] = value[re.search(r'[^/]',value).start():]\n",
    "                    else:\n",
    "                        magics[key] ='newfile'\n",
    "                elif key == \"include\":\n",
    "                    if len(value)>0:\n",
    "                        magics[key] = value\n",
    "                    else:\n",
    "                        magics[key] =''\n",
    "                        continue\n",
    "                    if len(magics['include'])>0:\n",
    "                        index1=line.find('##%')\n",
    "                        line=self.readcodefile(magics['include'],index1)\n",
    "                        actualCode += line + '\\n'\n",
    "                elif key == \"templatefile\":\n",
    "                    index1=line.find('//%')\n",
    "                    if len(value)>0:\n",
    "                        magics[key] =value.split(\" \",1)\n",
    "                    else:\n",
    "                        magics[key] =None\n",
    "                        continue\n",
    "                    templatefile=magics['templatefile'][0]\n",
    "                    if len(magics['templatefile'])>1:\n",
    "                        argsstr=magics['templatefile'][1]\n",
    "                        templateargsdict=self._filter_dict(argsstr)\n",
    "                    else:\n",
    "                        templateargsdict=None\n",
    "                    if len(magics['templatefile'])>0:\n",
    "                        line=self.readtemplatefile(templatefile,index1,templateargsdict)\n",
    "                        actualCode += line + '\\n'\n",
    "                elif key == \"pidcmd\":\n",
    "                    magics['pidcmd'] = [value]\n",
    "                    if len(magics['pidcmd'])>0:\n",
    "                        findObj= value.split(\",\",1)\n",
    "                        if findObj and len(findObj)>1:\n",
    "                            pid=findObj[0]\n",
    "                            cmd=findObj[1]\n",
    "                            self.send_cmd(pid=pid,cmd=cmd)\n",
    "                elif key == \"replsetip\":\n",
    "                    magics['replsetip'] = value\n",
    "                elif key == \"replchildpid\":\n",
    "                    magics['replchildpid'] = value\n",
    "                elif key == \"command\" or key == \"cmd\":\n",
    "                    magics['command'] = [value]\n",
    "                    if len(magics['command'])>0:\n",
    "                        self.do_shell_command(magics['command'],env=magics['env'])\n",
    "                elif key == \"pythoncmd\":\n",
    "                    for flag in value.split():\n",
    "                        magics[key] += [flag]\n",
    "                    if len(magics['pythoncmd'])>0:\n",
    "                        self.do_Py_command(magics['pythoncmd'],magics=magics)\n",
    "                elif key == \"fluttercmd\":\n",
    "                    for flag in value.split():\n",
    "                        magics[key] += [flag]\n",
    "                    if len(magics['fluttercmd'])>0:\n",
    "                        self.do_flutter_command(magics['fluttercmd'],magics=magics)\n",
    "                elif key == \"env\":\n",
    "                    envdict=self._filter_env(value)\n",
    "                    magics[key] =dict(envdict)\n",
    "                elif key == \"outputtype\":\n",
    "                    magics[key]=value\n",
    "                elif key == \"args\":\n",
    "                    # Split arguments respecting quotes\n",
    "                    for argument in re.findall(r'(?:[^\\s,\"]|\"(?:\\\\.|[^\"])*\")+', value):\n",
    "                        magics['args'] += [argument.strip('\"')]\n",
    "\n",
    "                # always add empty line, so line numbers don't change\n",
    "                # actualCode += '\\n'\n",
    "\n",
    "            # keep lines which did not contain magics\n",
    "            else:\n",
    "                actualCode += line + '\\n'\n",
    "        newactualCode=actualCode\n",
    "        if len(magics['file'])>0 and len(magics['noruncode'])>0:\n",
    "            newactualCode=''\n",
    "            for line in actualCode.splitlines():\n",
    "                line=self.cleantestcode(line)\n",
    "                if line=='':continue\n",
    "                line=self.cleandqm(line)\n",
    "                if line=='':continue\n",
    "                line=self.cleansqm(line)\n",
    "                if self.cleannotes(line)=='':\n",
    "                    continue\n",
    "                else:\n",
    "                    newactualCode += line + '\\n'\n",
    "        return magics, newactualCode\n"
   ]
  },
  {
   "cell_type": "code",
   "execution_count": 34,
   "id": "02af68f9-5806-4b9f-979a-d43fa4242e35",
   "metadata": {
    "tags": []
   },
   "outputs": [
    {
     "name": "stdout",
     "output_type": "stream",
     "text": [
      "[MyPythonkernel] Info:file /root/Jupyter/Myjupyter-kernel/src/_add_main.py created successfully\n"
     ]
    }
   ],
   "source": [
    "##%overwritefile\n",
    "##%file:src/_add_main.py\n",
    "##%noruncode\n",
    "    def _add_main(self, magics, code):\n",
    "        # remove comments\n",
    "        tmpCode = re.sub(r\"//.*\", \"\", code)\n",
    "        tmpCode = re.sub(r\"/\\*.*?\\*/\", \"\", tmpCode, flags=re.M|re.S)\n",
    "\n",
    "        x = re.search(r\".*\\s+main\\s*\\(\", tmpCode)\n",
    "\n",
    "        if not x:\n",
    "            code = self.main_head + code + self.main_foot\n",
    "            magics['cflags'] += ['-lm']\n",
    "\n",
    "        return magics, code\n"
   ]
  },
  {
   "cell_type": "code",
   "execution_count": 35,
   "id": "9143f9c3-dbe4-4cc5-8091-8f3209af2172",
   "metadata": {
    "tags": []
   },
   "outputs": [
    {
     "name": "stdout",
     "output_type": "stream",
     "text": [
      "[MyPythonkernel] Info:file /root/Jupyter/Myjupyter-kernel/src/do_execute.py created successfully\n"
     ]
    }
   ],
   "source": [
    "##%overwritefile\n",
    "##%file:src/do_execute.py\n",
    "##%noruncode\n",
    "    def do_execute(self, code, silent, store_history=True,\n",
    "                   user_expressions=None, allow_stdin=True):\n",
    "        try:\n",
    "            self.silent = silent\n",
    "            magics, code = self._filter_magics(code)\n",
    "            if len(magics['replcmdmode'])>0:\n",
    "                return self.send_replcmd(code, silent, store_history=True,\n",
    "                    user_expressions=None, allow_stdin=False)\n",
    "            if len(magics['noruncode'])>0 and ( len(magics['command'])>0 or len(magics['pythoncmd'])>0):\n",
    "                return {'status': 'ok', 'execution_count': self.execution_count, 'payload': [], 'user_expressions': {}}\n",
    "            # if len(magics['file'])<1:\n",
    "            #     magics, code = self._add_main(magics, code)\n",
    "            with self.new_temp_file(suffix='.py',dir=os.path.abspath('')) as source_file:\n",
    "                source_file.write(code)\n",
    "                source_file.flush()\n",
    "                newsrcfilename=source_file.name\n",
    "                if len(magics['file'])>0:\n",
    "                    newsrcfilename = magics['file']\n",
    "                    newsrcfilename = os.path.join(os.path.abspath(''),newsrcfilename)\n",
    "                    if os.path.exists(newsrcfilename):\n",
    "                        if len(magics['overwritefile'])<1:\n",
    "                            newsrcfilename +=\".new.py\"\n",
    "                    if not os.path.exists(os.path.dirname(newsrcfilename)) :\n",
    "                        os.makedirs(os.path.dirname(newsrcfilename))\n",
    "                    os.rename(source_file.name,newsrcfilename)\n",
    "                    self._write_to_stdout(\"[MyPythonkernel] Info:file \"+ newsrcfilename +\" created successfully\\n\")\n",
    "            if len(magics['noruncode'])>0:\n",
    "                return {'status': 'ok', 'execution_count': self.execution_count, 'payload': [], 'user_expressions': {}}\n",
    "            self._write_to_stdout(\"The process :\"+newsrcfilename+\"\\n\")\n",
    "            p = self.create_jupyter_subprocess(['python',newsrcfilename]+ magics['args'],cwd=None,shell=False,env=magics['env'])\n",
    "            #p = self.create_jupyter_subprocess([binary_file.name]+ magics['args'],cwd=None,shell=False)\n",
    "            #p = self.create_jupyter_subprocess([self.master_path, binary_file.name] + magics['args'],cwd='/tmp',shell=True)\n",
    "            self.g_rtsps[str(p.pid)]=p\n",
    "            if len(magics['showpid'])>0:\n",
    "                self._write_to_stdout(\"The process PID:\"+str(p.pid)+\"\\n\")\n",
    "            while p.poll() is None:\n",
    "                p.write_contents(magics)\n",
    "            self._write_to_stdout(\"The process end:\"+str(p.pid)+\"\\n\")\n",
    "            # wait for threads to finish, so output is always shown\n",
    "            p._stdout_thread.join()\n",
    "            p._stderr_thread.join()\n",
    "            # del self.g_rtsps[str(p.pid)]\n",
    "            p.write_contents(magics)\n",
    "\n",
    "            self.cleanup_files()\n",
    "            if p.returncode != 0:\n",
    "                self._write_to_stderr(\"[MyPythonkernel] Executable exited with code {}\".format(p.returncode))\n",
    "        except Exception as e:\n",
    "            self._write_to_stderr(\"[MyPythonkernel] Error \"+str(e))\n",
    "        return {'status': 'ok', 'execution_count': self.execution_count, 'payload': [], 'user_expressions': {}}\n"
   ]
  },
  {
   "cell_type": "code",
   "execution_count": 36,
   "id": "918ce56e-eb0d-4669-a71f-70829db4c61f",
   "metadata": {
    "tags": []
   },
   "outputs": [
    {
     "name": "stdout",
     "output_type": "stream",
     "text": [
      "[MyPythonkernel] Info:file /root/Jupyter/Myjupyter-kernel/src/do_shutdown.py created successfully\n"
     ]
    }
   ],
   "source": [
    "##%overwritefile\n",
    "##%file:src/do_shutdown.py\n",
    "##%noruncode\n",
    "    def do_shutdown(self, restart):\n",
    "        self.g_chkreplexit=False\n",
    "        self.chk_replexit_thread.join()\n",
    "        \"\"\"Cleanup the created source code files and executables when shutting down the kernel\"\"\"\n",
    "        self.cleanup_files()\n"
   ]
  }
 ],
 "metadata": {
  "kernelspec": {
   "display_name": "MyPython",
   "language": "Python",
   "name": "mypython"
  },
  "language_info": {
   "codemirror_mode": {
    "name": "ipython",
    "version": 3
   },
   "file_extension": ".py",
   "mimetype": "text/x-python",
   "name": "python",
   "nbconvert_exporter": "python",
   "pygments_lexer": "ipython3",
   "version": "3.9.7"
  }
 },
 "nbformat": 4,
 "nbformat_minor": 5
}
