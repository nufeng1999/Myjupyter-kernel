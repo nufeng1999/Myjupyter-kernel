{
 "cells": [
  {
   "cell_type": "code",
   "execution_count": 5,
   "id": "ba40e881-6972-4912-bf1a-ad7a924c3dfc",
   "metadata": {
    "tags": []
   },
   "outputs": [
    {
     "name": "stdout",
     "output_type": "stream",
     "text": [
      "[MyPythonkernel] Info:file /root/Jupyter/Myjupyter-kernel/src/head.py created successfully\n"
     ]
    }
   ],
   "source": [
    "## import 部分  \n",
    "##%overwritefile\n",
    "##%file:src/head.py\n",
    "##%noruncode\n",
    "\n",
    "from math import exp\n",
    "from queue import Queue\n",
    "from threading import Thread\n",
    "\n",
    "from ipykernel.kernelbase import Kernel\n",
    "from pexpect import replwrap, EOF\n",
    "from jinja2 import Environment, PackageLoader, select_autoescape,Template\n",
    "from abc import ABCMeta, abstractmethod\n",
    "from typing import List, Dict, Tuple, Sequence\n",
    "from shutil import copyfile\n",
    "from plugins.ISpecialID import IStag,IDtag,IBtag,ITag\n",
    "import pexpect\n",
    "import signal\n",
    "import typing \n",
    "import typing as t\n",
    "import re\n",
    "import signal\n",
    "import subprocess\n",
    "import tempfile\n",
    "import os\n",
    "import sys\n",
    "import traceback\n",
    "import os.path as path\n",
    "import codecs\n",
    "import time\n",
    "import importlib\n",
    "import importlib.util\n",
    "import inspect\n",
    "from plugins._filter2_magics import Magics"
   ]
  },
  {
   "cell_type": "code",
   "execution_count": 5,
   "id": "e23ef04c",
   "metadata": {
    "tags": []
   },
   "outputs": [
    {
     "name": "stdout",
     "output_type": "stream",
     "text": [
      "[MyPythonkernel] Info:file /root/Jupyter/Myjupyter-kernel/src/common.py created successfully\n"
     ]
    }
   ],
   "source": [
    "##全局函数和变量\n",
    "##%overwritefile\n",
    "##%file:src/common.py\n",
    "##%noruncode\n",
    "\n",
    "##%test_begin\n",
    "\n",
    "##%test_end"
   ]
  },
  {
   "cell_type": "code",
   "execution_count": 13,
   "id": "0785dbb3",
   "metadata": {},
   "outputs": [
    {
     "name": "stdout",
     "output_type": "stream",
     "text": [
      "[MyPythonkernel] Info:file /root/Jupyter/Myjupyter-kernel/src/comm_attribute.py created successfully\n"
     ]
    }
   ],
   "source": [
    "##核心内变量与属性  \n",
    "##%overwritefile\n",
    "##%file:src/comm_attribute.py\n",
    "##%noruncode\n",
    "\n",
    "    ISplugins={\"0\":[],\n",
    "         \"1\":[],\n",
    "         \"2\":[],\n",
    "         \"3\":[],\n",
    "         \"4\":[],\n",
    "         \"5\":[],\n",
    "         \"6\":[],\n",
    "         \"7\":[],\n",
    "         \"8\":[],\n",
    "         \"9\":[]}\n",
    "    IDplugins={\"0\":[],\n",
    "         \"1\":[],\n",
    "         \"2\":[],\n",
    "         \"3\":[],\n",
    "         \"4\":[],\n",
    "         \"5\":[],\n",
    "         \"6\":[],\n",
    "         \"7\":[],\n",
    "         \"8\":[],\n",
    "         \"9\":[]}\n",
    "    IBplugins={\"0\":[],\n",
    "         \"1\":[],\n",
    "         \"2\":[],\n",
    "         \"3\":[],\n",
    "         \"4\":[],\n",
    "         \"5\":[],\n",
    "         \"6\":[],\n",
    "         \"7\":[],\n",
    "         \"8\":[],\n",
    "         \"9\":[]}\n",
    "    silent=None\n",
    "    jinja2_env = Environment()\n",
    "    g_rtsps={}\n",
    "    g_chkreplexit=True\n",
    "\n"
   ]
  },
  {
   "cell_type": "code",
   "execution_count": 5,
   "id": "69ab2c1b-b790-4d46-821f-c00fa45527ed",
   "metadata": {
    "tags": []
   },
   "outputs": [
    {
     "name": "stdout",
     "output_type": "stream",
     "text": [
      "[MyPythonkernel] Info:file /root/Jupyter/Myjupyter-kernel/src/_filter_env.py created successfully\n"
     ]
    }
   ],
   "source": [
    "##解析环境变量参数字符串函数\n",
    "##%overwritefile\n",
    "##%file:src/_filter_env.py\n",
    "##%noruncode\n",
    "    def _filter_env(self, envstr):\n",
    "        if envstr is None or len(envstr.strip())<1:\n",
    "            return os.environ\n",
    "        # env_dict={}\n",
    "        argsstr=self.replacemany(self.replacemany(self.replacemany(envstr.strip(),('  '),' '),('= '),'='),' =','=')\n",
    "        pattern = re.compile(r'([^\\s*]*)=\"(.*?)\"|([^\\s*]*)=(\\'.*?\\')|([^\\s*]*)=(.[^\\s]*)')\n",
    "        for argument in pattern.findall(argsstr):\n",
    "            li=list(argument)\n",
    "            li= [i for i in li if i != '']\n",
    "            # env_dict[str(li[0])]=li[1]\n",
    "            os.environ.setdefault(str(li[0]),li[1])\n",
    "        # envstr=str(str(envstr.split(\"|\")).split(\"=\")).replace(\" \",\"\").replace(\"\\'\",\"\").replace(\"\\\"\",\"\").replace(\"[\",\"\").replace(\"]\",\"\").replace(\"\\\\\",\"\")\n",
    "        # env_list=envstr.split(\",\")\n",
    "        # for i in range(0,len(env_list),2):\n",
    "        #     os.environ.setdefault(env_list[i],env_list[i+1])\n",
    "        return os.environ\n"
   ]
  },
  {
   "cell_type": "code",
   "execution_count": 7,
   "id": "f4f3dc7d",
   "metadata": {},
   "outputs": [
    {
     "name": "stdout",
     "output_type": "stream",
     "text": [
      "[MyPythonkernel] Info:file /root/Jupyter/Myjupyter-kernel/src/_filter_dict.py created successfully\n"
     ]
    }
   ],
   "source": [
    "##解析参数字符串函数\n",
    "##%overwritefile\n",
    "##%file:src/_filter_dict.py\n",
    "##%noruncode\n",
    "    def _filter_dict(self,argsstr):\n",
    "        if not argsstr or len(argsstr.strip())<1:\n",
    "            return None\n",
    "        env_dict={}\n",
    "        argsstr=replacemany(replacemany(replacemany(argsstr.strip(),('  '),' '),('= '),'='),' =','=')\n",
    "        pattern = re.compile(r'([^\\s*]*)=\"(.*?)\"|([^\\s*]*)=(\\'.*?\\')|([^\\s*]*)=(.[^\\s]*)')\n",
    "        for argument in pattern.findall(argsstr):\n",
    "            li=list(argument)\n",
    "            li= [i for i in li if i != '']\n",
    "            env_dict[str(li[0])]=li[1]\n",
    "        return env_dict"
   ]
  },
  {
   "cell_type": "code",
   "execution_count": 7,
   "id": "816a3a41",
   "metadata": {},
   "outputs": [
    {
     "name": "stdout",
     "output_type": "stream",
     "text": [
      "rename to:/root/Jupyter/Myjupyter-kernel/src/cleannotes.py\n",
      "[MyPythonkernel] Info:file /root/Jupyter/Myjupyter-kernel/src/cleannotes.py created successfully\n"
     ]
    }
   ],
   "source": [
    "##清除注释函数\n",
    "##%overwritefile\n",
    "##%file:src/cleannotes.py\n",
    "##%noruncode\n",
    "    def _is_test_begin(self,line):\n",
    "        if line==None or line=='':return ''\n",
    "        return line.strip().startswith('##test_begin') or line.strip().startswith('//test_begin')\n",
    "    def _is_test_end(self,line):\n",
    "        if line==None or line=='':return ''\n",
    "        return line.strip().startswith('##test_end') or line.strip().startswith('//test_end')\n",
    "    def _is_dqm_begin(self,line):\n",
    "        if line==None or line=='':return ''\n",
    "        return line.lstrip().startswith('\\\"\\\"\\\"')\n",
    "    def _is_dqm_end(self,line):\n",
    "        if line==None or line=='':return ''\n",
    "        return line.rstrip().endswith('\\\"\\\"\\\"')\n",
    "    def _is_sqm_begin(self,line):\n",
    "        if line==None or line=='':return ''\n",
    "        return line.lstrip().startswith('\\'\\'\\'')\n",
    "    def _is_sqm_end(self,line):\n",
    "        if line==None or line=='':return ''\n",
    "        return line.rstrip().endswith('\\'\\'\\'')\n",
    "\n",
    "    def cleannotes(self,line):\n",
    "        return '' if (not self._is_specialID(line)) and (line.lstrip().startswith('##') or line.lstrip().startswith('//')) else line\n",
    "    isdqm=False\n",
    "    def cleandqm(self,line):\n",
    "        if not self.isdqm:\n",
    "            istb=self._is_dqm_begin(line)\n",
    "            if istb: \n",
    "                self.isdqm=True\n",
    "                if len(line.strip())>5:\n",
    "                    iste=self._is_dqm_end(line)\n",
    "                    if iste:self.isdqm=False\n",
    "                return ''\n",
    "        iste=self._is_dqm_end(line)\n",
    "        if iste:\n",
    "            self.isdqm=False\n",
    "            return ''\n",
    "        line= \"\" if self.isdqm else line\n",
    "        return line\n",
    "    issqm=False\n",
    "    def cleansqm(self,line):\n",
    "        if not self.issqm:\n",
    "            istb=self._is_sqm_begin(line)\n",
    "            if istb: \n",
    "                self.issqm=True\n",
    "                if len(line.strip())>5:\n",
    "                    iste=self._is_sqm_end(line)\n",
    "                    if iste:self.issqm=False\n",
    "                return ''\n",
    "        iste=self._is_sqm_end(line)\n",
    "        if iste:\n",
    "            self.issqm=False\n",
    "            return ''\n",
    "        line= \"\" if self.issqm else line\n",
    "        return line\n",
    "    istestcode=False\n",
    "    def cleantestcode(self,line):\n",
    "        if not self.istestcode:\n",
    "            istb=self._is_test_begin(line)\n",
    "            if istb: \n",
    "                self.istestcode=True\n",
    "                if len(line.strip())>5:\n",
    "                    iste=self._is_test_end(line)\n",
    "                    if iste:self.istestcode=False\n",
    "                return ''\n",
    "        iste=self._is_test_end(line)\n",
    "        if iste:\n",
    "            self.istestcode=False\n",
    "            return ''\n",
    "        line= \"\" if self.istestcode else line\n",
    "        return line\n",
    "    "
   ]
  },
  {
   "cell_type": "code",
   "execution_count": 4,
   "id": "838ff23b",
   "metadata": {
    "tags": []
   },
   "outputs": [
    {
     "name": "stdout",
     "output_type": "stream",
     "text": [
      "[MyPythonkernel] Info:file /root/Jupyter/Myjupyter-kernel/src/_is_specialID.py created successfully\n"
     ]
    }
   ],
   "source": [
    "## _is_specialID\n",
    "##%overwritefile\n",
    "##%file:src/_is_specialID.py\n",
    "##%noruncode\n",
    "def _is_specialID(self,line):\n",
    "    if line.strip().startswith('##%') or line.strip().startswith('//%'):\n",
    "        return True\n",
    "    return False\n"
   ]
  },
  {
   "cell_type": "code",
   "execution_count": 7,
   "id": "00494001-3d72-462d-ae18-08d5e099d6f7",
   "metadata": {
    "tags": []
   },
   "outputs": [
    {
     "data": {
      "text/plain": [
       "[MyPython] Info:srcfile:/root/Jupyter/Myjupyter-kernel/tmpzlami3qh.py\n"
      ]
     },
     "metadata": {
      "text/plain": {}
     },
     "output_type": "display_data"
    },
    {
     "data": {
      "text/plain": [
       "[MyPython] Info:file /root/Jupyter/Myjupyter-kernel/src/kernel_common.py created successfully\n"
      ]
     },
     "metadata": {
      "text/plain": {}
     },
     "output_type": "display_data"
    }
   ],
   "source": [
    "##kernel_common\n",
    "##%overwritefile\n",
    "##%file:src/kernel_common.py\n",
    "##%noruncode\n",
    "    usleep = lambda x: time.sleep(x/1000000.0)\n",
    "    def addkey2dict(self,magics:Dict,key:str):\n",
    "        if not magics.__contains__(key):\n",
    "            d={key:[]}\n",
    "            magics.update(d)\n",
    "        return magics[key]\n",
    "    def replacemany(self,our_str, to_be_replaced:str, replace_with:str):\n",
    "        while (to_be_replaced in our_str):\n",
    "            our_str = our_str.replace(to_be_replaced, replace_with)\n",
    "        return our_str\n",
    "\n",
    "    def _filter_dict(self,argsstr):\n",
    "        if not argsstr or len(argsstr.strip())<1:\n",
    "            return None\n",
    "        env_dict={}\n",
    "        argsstr=self.replacemany(self.replacemany(self.replacemany(argsstr.strip(),('  '),' '),('= '),'='),' =','=')\n",
    "        pattern = re.compile(r'([^\\s*]*)=\"(.*?)\"|([^\\s*]*)=(\\'.*?\\')|([^\\s*]*)=(.[^\\s]*)')\n",
    "        for argument in pattern.findall(argsstr):\n",
    "            li=list(argument)\n",
    "            li= [i for i in li if i != '']\n",
    "            env_dict[str(li[0])]=li[1]\n",
    "        return env_dict\n",
    "    def _fileshander(self,files:List,srcfilename,magics)->str:\n",
    "        index=-1\n",
    "        fristfile=srcfilename\n",
    "        try:\n",
    "            for newsrcfilename in files:\n",
    "                index=index+1\n",
    "                newsrcfilename = os.path.join(os.path.abspath(''),newsrcfilename)\n",
    "                if os.path.exists(newsrcfilename):\n",
    "                    if magics!=None and len(self.addkey2dict(magics,'overwritefile'))<1:\n",
    "                        newsrcfilename +=\".new.py\"\n",
    "                if not os.path.exists(os.path.dirname(newsrcfilename)) :\n",
    "                    os.makedirs(os.path.dirname(newsrcfilename))\n",
    "                if index==0:\n",
    "                    os.rename(srcfilename,newsrcfilename)\n",
    "                    fristfile=newsrcfilename\n",
    "                    files[0]=newsrcfilename\n",
    "                else:\n",
    "                    self._write_to_stdout(\"copy to :\"+newsrcfilename+\"\\n\")\n",
    "                    copyfile(fristfile,newsrcfilename)\n",
    "        except Exception as e:\n",
    "                self._log(str(e),2)\n",
    "        return files[0]"
   ]
  },
  {
   "cell_type": "code",
   "execution_count": 14,
   "id": "c0b66a54-4954-4f4d-9580-3ddc6ae4ab8e",
   "metadata": {
    "tags": []
   },
   "outputs": [
    {
     "name": "stdout",
     "output_type": "stream",
     "text": [
      "[MyPythonkernel] Info:file /root/Jupyter/Myjupyter-kernel/src/cleanup_files.py created successfully\n"
     ]
    }
   ],
   "source": [
    "## cleanup_files\n",
    "##%overwritefile\n",
    "##%file:src/cleanup_files.py\n",
    "##%noruncode\n",
    "    def cleanup_files(self):\n",
    "        \"\"\"Remove all the temporary files created by the kernel\"\"\"\n",
    "        # keep the list of files create in case there is an exception\n",
    "        # before they can be deleted as usual\n",
    "        for file in self.files:\n",
    "            if(os.path.exists(file)):\n",
    "                os.remove(file)\n",
    "\n"
   ]
  },
  {
   "cell_type": "code",
   "execution_count": 15,
   "id": "e1171ffa-7160-4f60-b7aa-d94934ddbd77",
   "metadata": {
    "tags": []
   },
   "outputs": [
    {
     "name": "stdout",
     "output_type": "stream",
     "text": [
      "[MyPythonkernel] Info:file /root/Jupyter/Myjupyter-kernel/src/new_temp_file.py created successfully\n"
     ]
    }
   ],
   "source": [
    "## new_temp_file\n",
    "##%overwritefile\n",
    "##%file:src/new_temp_file.py\n",
    "##%noruncode\n",
    "    def new_temp_file(self, **kwargs):\n",
    "        \"\"\"Create a new temp file to be deleted when the kernel shuts down\"\"\"\n",
    "        # We don't want the file to be deleted when closed, but only when the kernel stops\n",
    "        kwargs['delete'] = False\n",
    "        kwargs['mode'] = 'w'\n",
    "        file = tempfile.NamedTemporaryFile(**kwargs)\n",
    "        self.files.append(file.name)\n",
    "        return file\n"
   ]
  },
  {
   "cell_type": "code",
   "execution_count": 16,
   "id": "473d2581-cd55-4292-a64f-2c0c86600c60",
   "metadata": {
    "tags": []
   },
   "outputs": [
    {
     "name": "stdout",
     "output_type": "stream",
     "text": [
      "[MyPythonkernel] Info:file /root/Jupyter/Myjupyter-kernel/src/_write_display_data.py created successfully\n"
     ]
    }
   ],
   "source": [
    "## _write_display_data\n",
    "##%overwritefile\n",
    "##%file:src/_write_display_data.py\n",
    "##%noruncode\n",
    "    def _write_display_data(self,mimetype='text/html',contents=\"\"):\n",
    "\n",
    "        self.send_response(self.iopub_socket, 'display_data', {'data': {mimetype:contents}, 'metadata': {mimetype:{}}})\n"
   ]
  },
  {
   "cell_type": "code",
   "execution_count": 17,
   "id": "2d7282d6-9135-4807-bfea-00a8f497dccd",
   "metadata": {
    "tags": []
   },
   "outputs": [
    {
     "name": "stdout",
     "output_type": "stream",
     "text": [
      "[MyPythonkernel] Info:file /root/Jupyter/Myjupyter-kernel/src/_write_to_stdout.py created successfully\n"
     ]
    }
   ],
   "source": [
    "## _write_to_stdout\n",
    "##%overwritefile\n",
    "##%file:src/_write_to_stdout.py\n",
    "##%noruncode\n",
    "    def _write_to_stdout(self,contents,magics=None):\n",
    "        if magics !=None and len(magics['outputtype'])>0:\n",
    "            self._write_display_data(mimetype=magics['outputtype'],contents=contents)\n",
    "        else:\n",
    "            self.send_response(self.iopub_socket, 'stream', {'name': 'stdout', 'text': contents})\n"
   ]
  },
  {
   "cell_type": "code",
   "execution_count": 18,
   "id": "613651e5-a511-4787-a438-9ec794d74d83",
   "metadata": {
    "tags": []
   },
   "outputs": [
    {
     "name": "stdout",
     "output_type": "stream",
     "text": [
      "[MyPythonkernel] Info:file /root/Jupyter/Myjupyter-kernel/src/_write_to_stderr.py created successfully\n"
     ]
    }
   ],
   "source": [
    "## _write_to_stderr\n",
    "##%overwritefile\n",
    "##%file:src/_write_to_stderr.py\n",
    "##%noruncode\n",
    "    def _write_to_stderr(self, contents):\n",
    "        self.send_response(self.iopub_socket, 'stream', {'name': 'stderr', 'text': contents})\n"
   ]
  },
  {
   "cell_type": "code",
   "execution_count": 19,
   "id": "3493fad7-252b-4525-9388-c07238939a7e",
   "metadata": {
    "tags": []
   },
   "outputs": [
    {
     "name": "stdout",
     "output_type": "stream",
     "text": [
      "[MyPythonkernel] Info:file /root/Jupyter/Myjupyter-kernel/src/_read_from_stdin.py created successfully\n"
     ]
    }
   ],
   "source": [
    "## _read_from_stdin\n",
    "##%overwritefile\n",
    "##%file:src/_read_from_stdin.py\n",
    "##%noruncode\n",
    "    def _read_from_stdin(self):\n",
    "        return self.raw_input()\n"
   ]
  },
  {
   "cell_type": "code",
   "execution_count": 20,
   "id": "1fae2f8b-62da-4250-806c-1c4d5718d27d",
   "metadata": {
    "tags": []
   },
   "outputs": [
    {
     "name": "stdout",
     "output_type": "stream",
     "text": [
      "[MyPythonkernel] Info:file /root/Jupyter/Myjupyter-kernel/src/readcodefile.py created successfully\n"
     ]
    }
   ],
   "source": [
    "## readcodefile\n",
    "##%overwritefile\n",
    "##%file:src/readcodefile.py\n",
    "##%noruncode\n",
    "    def readcodefile(self,filename,spacecount=0):\n",
    "        filecode=''\n",
    "        codelist1=None\n",
    "        if not os.path.exists(filename):\n",
    "            return ''\n",
    "        with open(os.path.join(os.path.abspath(''),filename), 'r') as codef1:\n",
    "            codelist1 = codef1.readlines()\n",
    "        if len(codelist1)>0:\n",
    "            for t in codelist1:\n",
    "                filecode+=' '*spacecount + t\n",
    "        return filecode\n"
   ]
  },
  {
   "cell_type": "code",
   "execution_count": 22,
   "id": "65c481f5-1488-40c4-ab6a-db407ac3b8b0",
   "metadata": {
    "tags": []
   },
   "outputs": [
    {
     "name": "stdout",
     "output_type": "stream",
     "text": [
      "[MyPythonkernel] Info:file /root/Jupyter/Myjupyter-kernel/src/process_output.py created successfully\n"
     ]
    }
   ],
   "source": [
    "## process_output\n",
    "##%overwritefile\n",
    "##%file:src/process_output.py\n",
    "##%noruncode\n",
    "    def process_output(self, output,magics=None):\n",
    "        if not self.silent:\n",
    "            if magics !=None and len(magics['outputtype'])>0:\n",
    "                self._write_display_data(mimetype=magics['outputtype'],contents=output)\n",
    "                return\n",
    "            # Send standard output\n",
    "            stream_content = {'name': 'stdout', 'text': output}\n",
    "            self.send_response(self.iopub_socket, 'stream', stream_content)\n"
   ]
  },
  {
   "cell_type": "code",
   "execution_count": 23,
   "id": "aa884b4e",
   "metadata": {
    "tags": []
   },
   "outputs": [
    {
     "name": "stdout",
     "output_type": "stream",
     "text": [
      "[MyPythonkernel] Info:file /root/Jupyter/Myjupyter-kernel/src/log_output.py created successfully\n"
     ]
    }
   ],
   "source": [
    "## _log\n",
    "##%overwritefile\n",
    "##%file:src/log_output.py\n",
    "##%noruncode\n",
    "    def _log(self, output,level=1,outputtype='text/plain'):\n",
    "        streamname='stdout'\n",
    "        if not self.silent:\n",
    "            prestr=self.kernelinfo+' Info:'\n",
    "            if level==2:\n",
    "                prestr=self.kernelinfo+' Warning:'\n",
    "                streamname='stderr'\n",
    "            elif level==3:\n",
    "                prestr=self.kernelinfo+' Error:'\n",
    "                streamname='stderr'\n",
    "            else:\n",
    "                prestr=self.kernelinfo+' Info:'\n",
    "                streamname='stdout'\n",
    "            if len(outputtype)>0 and (level!=2 or level!=3):\n",
    "                self._write_display_data(mimetype=outputtype,contents=prestr+output)\n",
    "                return\n",
    "            # Send standard output\n",
    "            stream_content = {'name': streamname, 'text': prestr+output}\n",
    "            self.send_response(self.iopub_socket, 'stream', stream_content)"
   ]
  },
  {
   "cell_type": "code",
   "execution_count": 28,
   "id": "049cb163-fa41-467d-8034-dbd1ff71fff5",
   "metadata": {
    "tags": []
   },
   "outputs": [
    {
     "name": "stdout",
     "output_type": "stream",
     "text": [
      "[MyPythonkernel] Info:file /root/Jupyter/Myjupyter-kernel/src/send_cmd.py created successfully\n"
     ]
    }
   ],
   "source": [
    "## send_cmd\n",
    "##%overwritefile\n",
    "##%file:src/send_cmd.py\n",
    "##%noruncode\n",
    "    def send_cmd(self,pid,cmd):\n",
    "        try:\n",
    "            # self._write_to_stdout(\"send cmd PID:\"+pid+\"\\n cmd:\"+cmd)\n",
    "            # if self.g_rtsps.has_key(pid):\n",
    "                # self._write_to_stderr(\"[MyPythonkernel] Info:exist! \"+pid+\"\\n\")\n",
    "            # self.g_rtsps[pid].stdin.write(cmd.encode())\n",
    "            self.g_rtsps[pid]._write_to_stdout(cmd)\n",
    "        except Exception as e:\n",
    "            self._write_to_stderr(\"[MyPythonkernel] Error:Executable send_cmd error! \"+str(e)+\"\\n\")\n",
    "    \n",
    "        return\n"
   ]
  },
  {
   "cell_type": "code",
   "execution_count": 29,
   "id": "ef830dc5-90d4-4760-ac56-513e055b942a",
   "metadata": {
    "tags": []
   },
   "outputs": [
    {
     "name": "stdout",
     "output_type": "stream",
     "text": [
      "[MyPythonkernel] Info:file /root/Jupyter/Myjupyter-kernel/src/create_jupyter_subprocess.py created successfully\n"
     ]
    }
   ],
   "source": [
    "## create_jupyter_subprocess\n",
    "##%overwritefile\n",
    "##%file:src/create_jupyter_subprocess.py\n",
    "##%noruncode\n",
    "    def create_jupyter_subprocess(self, cmd,cwd=None,shell=False,env=None):\n",
    "        try:\n",
    "            return RealTimeSubprocess(cmd,\n",
    "                                  self._write_to_stdout,\n",
    "                                  self._write_to_stderr,\n",
    "                                  self._read_from_stdin,cwd,shell,env)\n",
    "        except Exception as e:\n",
    "            self._write_to_stdout(\"RealTimeSubprocess err:\"+str(e))\n",
    "            raise\n"
   ]
  },
  {
   "cell_type": "code",
   "execution_count": 31,
   "id": "71627cb9-7b53-4a9c-abe6-a34f266eedf3",
   "metadata": {
    "tags": []
   },
   "outputs": [
    {
     "name": "stdout",
     "output_type": "stream",
     "text": [
      "[MyPythonkernel] Info:file /root/Jupyter/Myjupyter-kernel/src/compile_with_Python2native.py created successfully\n"
     ]
    }
   ],
   "source": [
    "## compile_with_Python2native\n",
    "##%overwritefile\n",
    "##%file:src/compile_with_Python2native.py\n",
    "##%noruncode\n",
    "    def compile_with_Python2native(self, source_filename, binary_filename, cflags=None, ldflags=None):\n",
    "        # cflags = ['-std=c89', '-pedantic', '-fPIC', '-shared', '-rdynamic'] + cflags\n",
    "        # cflags = ['-std=c99', '-Wdeclaration-after-statement', '-Wvla', '-fPIC', '-shared', '-rdynamic'] + cflags\n",
    "        # cflags = ['-std=iso9899:199409', '-pedantic', '-fPIC', '-shared', '-rdynamic'] + cflags\n",
    "        # cflags = ['-std=c99', '-pedantic', '-fPIC', '-shared', '-rdynamic'] + cflags\n",
    "        # cflags = ['-std=c11', '-pedantic', '-fPIC','-pie', '-rdynamic'] + cflags\n",
    "        outfile=None\n",
    "        #binary_filename='/root/mytestc.out'\n",
    "        # if self.linkMaths:\n",
    "        #     cflags = cflags + ['-lm']\n",
    "        # if self.wError:\n",
    "        #     cflags = cflags + ['-Werror']\n",
    "        # if self.wAll:\n",
    "        #     cflags = cflags + ['-Wall']\n",
    "        #if ('-o' not in cflags):\n",
    "            #binary_filename=cflags[cflags.index('-o')+1]\n",
    "        #else:\n",
    "        outfile= ['-o', binary_filename]\n",
    "        args = ['MyPythonKernel','compile', 'exe', source_filename] + cflags + outfile + ldflags\n",
    "        # for x in args: self._write_to_stderr(\" \" + x + \" \")\n",
    "        return self.create_jupyter_subprocess(args)\n"
   ]
  },
  {
   "cell_type": "code",
   "execution_count": 34,
   "id": "02af68f9-5806-4b9f-979a-d43fa4242e35",
   "metadata": {
    "tags": []
   },
   "outputs": [
    {
     "name": "stdout",
     "output_type": "stream",
     "text": [
      "[MyPythonkernel] Info:file /root/Jupyter/Myjupyter-kernel/src/_add_main.py created successfully\n"
     ]
    }
   ],
   "source": [
    "## _add_main\n",
    "##%overwritefile\n",
    "##%file:src/_add_main.py\n",
    "##%noruncode\n",
    "    def _add_main(self, magics, code):\n",
    "        # remove comments\n",
    "        tmpCode = re.sub(r\"//.*\", \"\", code)\n",
    "        tmpCode = re.sub(r\"/\\*.*?\\*/\", \"\", tmpCode, flags=re.M|re.S)\n",
    "\n",
    "        x = re.search(r\".*\\s+main\\s*\\(\", tmpCode)\n",
    "\n",
    "        if not x:\n",
    "            code = self.main_head + code + self.main_foot\n",
    "            magics['cflags'] += ['-lm']\n",
    "\n",
    "        return magics, code\n"
   ]
  },
  {
   "cell_type": "code",
   "execution_count": 4,
   "id": "918ce56e-eb0d-4669-a71f-70829db4c61f",
   "metadata": {
    "tags": []
   },
   "outputs": [
    {
     "name": "stdout",
     "output_type": "stream",
     "text": [
      "[MyPythonkernel] Info:file /root/Jupyter/Myjupyter-kernel/src/do_shutdown.py created successfully\n"
     ]
    }
   ],
   "source": [
    "## do_shutdown\n",
    "##%overwritefile\n",
    "##%file:src/do_shutdown.py\n",
    "##%noruncode\n",
    "    def do_shutdown(self, restart):\n",
    "        self.g_chkreplexit=False\n",
    "        self.chk_replexit_thread.join()\n",
    "        # self.onkernelshutdown()\n",
    "        \"\"\"Cleanup the created source code files and executables when shutting down the kernel\"\"\"\n",
    "        self.cleanup_files()\n"
   ]
  },
  {
   "cell_type": "code",
   "execution_count": null,
   "id": "d520a59e",
   "metadata": {},
   "outputs": [],
   "source": []
  }
 ],
 "metadata": {
  "interpreter": {
   "hash": "916dbcbb3f70747c44a77c7bcd40155683ae19c65e1c03b4aa3499c5328201f1"
  },
  "kernelspec": {
   "display_name": "MyPython",
   "language": "Python",
   "name": "mypython"
  }
 },
 "nbformat": 4,
 "nbformat_minor": 5
}
