{
 "cells": [
  {
   "cell_type": "code",
   "execution_count": 4,
   "id": "fdf3f426-a457-42ae-a362-9ef0cffdacf7",
   "metadata": {},
   "outputs": [
    {
     "name": "stdout",
     "output_type": "stream",
     "text": [
      "[MyPythonkernel] Info:file /root/Jupyter/Myjupyter-kernel/../jupyter-MyPython-kernel/jupyter_MyPython_kernel/kernel.py created successfully\n"
     ]
    }
   ],
   "source": [
    "##%overwritefile\n",
    "##%file:../jupyter-MyPython-kernel/jupyter_MyPython_kernel/kernel.py\n",
    "###%file:kernel.py\n",
    "##%noruncode\n",
    "#\n",
    "#   MyPython Jupyter Kernel\n",
    "#\n",
    "##%include:src/head.py\n",
    "\n",
    "##%include:src/cleantestcode.py\n",
    "##%include:src/_is_specialID.py\n",
    "##%include:src/common.py\n",
    "\n",
    "##%include:src/IREPLWrapper.py\n",
    "##%include:src/RealTimeSubprocess.py\n",
    "\n",
    "class MyPythonKernel(Kernel):\n",
    "    implementation = 'jupyter-MyPython-kernel'\n",
    "    implementation_version = '1.0'\n",
    "    language = 'Python'\n",
    "    language_version = 'C11'\n",
    "    language_info = {'name': 'python',\n",
    "                     'version': sys.version.split()[0],\n",
    "                     'mimetype': 'text/x-python',\n",
    "                     'codemirror_mode': {\n",
    "                        'name': 'ipython',\n",
    "                        'version': sys.version_info[0]\n",
    "                     },\n",
    "                     'pygments_lexer': 'ipython%d' % 3,\n",
    "                     'nbconvert_exporter': 'python',\n",
    "                     'file_extension': '.py'}\n",
    "    banner = \"MyPython kernel.\\n\" \\\n",
    "             \"Uses gcc, compiles in C11, and creates source code files and executables in temporary folder.\\n\"\n",
    "\n",
    "    main_head = \"\\n\" \\\n",
    "            \"\\n\" \\\n",
    "            \"int main(List<String> arguments){\\n\"\n",
    "\n",
    "    main_foot = \"\\nreturn 0;\\n}\"\n",
    "\n",
    "    g_rtsps={}\n",
    "    g_chkreplexit=True\n",
    "    def __init__(self, *args, **kwargs):\n",
    "        super(MyPythonKernel, self).__init__(*args, **kwargs)\n",
    "        self._allow_stdin = True\n",
    "        self.readOnlyFileSystem = False\n",
    "        self.bufferedOutput = True\n",
    "        self.linkMaths = True # always link math library\n",
    "        self.wAll = True # show all warnings by default\n",
    "        self.wError = False # but keep comipiling for warnings\n",
    "        self.files = []\n",
    "        self.resDir = path.join(path.dirname(path.realpath(__file__)), 'resources')\n",
    "\n",
    "        self.chk_replexit_thread = Thread(target=self.chk_replexit, args=(self.g_rtsps))\n",
    "        self.chk_replexit_thread.daemon = True\n",
    "        self.chk_replexit_thread.start()\n",
    "    \n",
    "##%include:src/repl_listpid.py\n",
    "##%include:src/chk_replexit.py\n",
    "##%include:src/cleanup_files.py\n",
    "##%include:src/new_temp_file.py\n",
    "##%include:src/_write_display_data.py\n",
    "##%include:src/_write_to_stdout.py\n",
    "##%include:src/_write_to_stderr.py\n",
    "##%include:src/_read_from_stdin.py\n",
    "##%include:src/readcodefile.py\n",
    "    #####################################################################\n",
    "##%include:src/_start_replprg.py\n",
    "##%include:src/process_output.py\n",
    "##%include:src/send_replcmd.py\n",
    "    #####################################################################\n",
    "##%include:src/do_shell_command.py\n",
    "    \n",
    "##%include:src/do_Py_command.py\n",
    "    \n",
    "##%include:src/do_flutter_command.py\n",
    "    \n",
    "##%include:src/send_cmd.py\n",
    "##%include:src/create_jupyter_subprocess.py\n",
    "##%include:src/generate_Pythonfile.py\n",
    "##%include:src/compile_with_Python2native.py\n",
    "##%include:src/_filter_env.py\n",
    "##%include:src/_filter_magics.py\n",
    "##%include:src/_add_main.py\n",
    "##%include:src/do_execute.py\n",
    "##%include:src/do_shutdown.py\n"
   ]
  },
  {
   "cell_type": "code",
   "execution_count": null,
   "id": "69160910-14e3-4429-a181-49aff478127d",
   "metadata": {},
   "outputs": [],
   "source": []
  }
 ],
 "metadata": {
  "interpreter": {
   "hash": "916dbcbb3f70747c44a77c7bcd40155683ae19c65e1c03b4aa3499c5328201f1"
  },
  "kernelspec": {
   "display_name": "MyPython",
   "language": "Python",
   "name": "mypython"
  },
  "language_info": {
   "codemirror_mode": {
    "name": "ipython",
    "version": 3
   },
   "file_extension": ".py",
   "mimetype": "text/x-python",
   "name": "python",
   "nbconvert_exporter": "python",
   "pygments_lexer": "ipython3",
   "version": "3.9.7"
  }
 },
 "nbformat": 4,
 "nbformat_minor": 5
}
