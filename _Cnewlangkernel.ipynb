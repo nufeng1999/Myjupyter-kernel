{
 "cells": [
  {
   "cell_type": "code",
   "execution_count": 28,
   "metadata": {},
   "outputs": [
    {
     "name": "stdout",
     "output_type": "stream",
     "text": [
      "[MyPython] Info:file h:\\Jupyter\\Myjupyter-kernel\\src/addfnlist.sh created successfully\n"
     ]
    }
   ],
   "source": [
    "##%log:1\n",
    "## %noruncode\n",
    "##%overwritefile\n",
    "##%file:src/addfnlist.sh\n",
    "##%runprg:P:\\msys64\\usr\\bin\\bash\n",
    "##%runprgargs:--login h:\\Jupyter\\Myjupyter-kernel\\src\\addfnlist.sh\n",
    "##%noruncode\n",
    "#!/bin/sh\n",
    "export newkernel=$1 \n",
    "# \"Make\"\n",
    "kprojdir=$2\n",
    "# \"/h/Jupyter/Myjupyter-kernel\"\n",
    "file=$3\n",
    "# \"test/_Bnoruncode.ipynb\"\n",
    "newfile=$3.new\n",
    "# \"test/_Bnoruncode.new.ipynb\"\n",
    "\n",
    "cd ${kprojdir}\n",
    "grep \"fnlist:.*${newkernel}\" ${file} >/dev/null\n",
    "if [ $? == 0 ];then\n",
    "    exit 0\n",
    "fi\n",
    "awk -v fined=0 '{ \\\n",
    "    if (fined==0){\\\n",
    "        i=index($0,\"fnlist:\");\\\n",
    "        j=index($0,ENVIRON[\"newkernel\"]);\\\n",
    "        if (i>0 && j<1){\\\n",
    "            lnum=FNR;\\\n",
    "            fined=1;\\\n",
    "            if(length()>100){\\\n",
    "                printf \"##fnlist:%s%s\\n,\",ENVIRON[\"newkernel\"],\"\\\\n\\\"\";\\\n",
    "                print $0; \\\n",
    "            }else{\\\n",
    "                printf \"%s %s%s,\\n\",substr($0,0,length()-4),ENVIRON[\"newkernel\"],\"\\\\n\\\"\";\\\n",
    "            } \\\n",
    "        }else{print $0;}\\\n",
    "    }else{print $0;}\\\n",
    "}' \\\n",
    "${file} >${newfile}\n",
    "mv -f ${newfile} ${file}\n",
    "exit 0\n",
    "\n",
    "\n"
   ]
  },
  {
   "cell_type": "code",
   "execution_count": 29,
   "metadata": {},
   "outputs": [
    {
     "name": "stdout",
     "output_type": "stream",
     "text": [
      "[MyPython] Info:file h:\\Jupyter\\Myjupyter-kernel\\src/addnk2plugins.sh created successfully\n"
     ]
    }
   ],
   "source": [
    "##%log:1\n",
    "## %noruncode\n",
    "##%overwritefile\n",
    "##%file:src/addnk2plugins.sh\n",
    "##%runprg:P:\\msys64\\usr\\bin\\bash\n",
    "##%runprgargs:--login h:\\Jupyter\\Myjupyter-kernel\\src\\addnk2plugins.sh\n",
    "##%noruncode\n",
    "#!/bin/sh\n",
    "newkernel=$1\n",
    "kprojdir=$2\n",
    "excludefile=(\n",
    "_Brungdb.ipynb\n",
    "_Scflags.ipynb\n",
    "_Sdartcommand.ipynb\n",
    "_Sldflags.ipynb\n",
    "_Sfluttercommand.ipynb\n",
    "_Spubcommand.ipynb\n",
    "_Snpmcommand.ipynb\n",
    "_Spycommand.ipynb\n",
    ")\n",
    "cd ${kprojdir}/plugins\n",
    "for file in *.ipynb\n",
    "do\n",
    "    if test -f $file\n",
    "    then\n",
    "        echo \"${excludefile[@]}\" | grep -q \"${file}\"\n",
    "        if [ $? == 1 ]\n",
    "        then\n",
    "            # echo \"${file} 执行追加\"\n",
    "            ${kprojdir}/src/addfnlist.sh ${newkernel} ${kprojdir} ${kprojdir}/plugins/$file \n",
    "        fi\n",
    "    fi\n",
    "done"
   ]
  },
  {
   "cell_type": "code",
   "execution_count": 30,
   "metadata": {},
   "outputs": [],
   "source": [
    "##%log:0\n",
    "##%noruncode\n",
    "##%overwritefile\n",
    "##%file:src/test.sh\n",
    "##%runprg:P:\\msys64\\usr\\bin\\bash\n",
    "##%runprgargs:--login h:\\Jupyter\\Myjupyter-kernel\\src\\test.sh\n",
    "#!/bin/sh\n",
    "# cd /h/Jupyter/Myjupyter-kernel/src\n",
    "# ./addfnlist.sh Make /h/Jupyter/Myjupyter-kernel test/_Bnoruncode.ipynb \n",
    "\n",
    "/h/Jupyter/Myjupyter-kernel/src/addfnlist.sh Make \\\n",
    "    /h/Jupyter/Myjupyter-kernel \\\n",
    "    /h/Jupyter/Myjupyter-kernel/base/_filter2_magics.ipynb\n"
   ]
  },
  {
   "cell_type": "code",
   "execution_count": 31,
   "metadata": {},
   "outputs": [],
   "source": [
    "##%log:0\n",
    "##%noruncode\n",
    "##%overwritefile\n",
    "##%file:src/test2.sh\n",
    "##%runprg:P:\\msys64\\usr\\bin\\bash\n",
    "##%runprgargs:--login h:\\Jupyter\\Myjupyter-kernel\\src\\test2.sh\n",
    "#!/bin/sh\n",
    "newkernel=\"Tcl\"\n",
    "orgkernel=\"Rust\"\n",
    "projectdir=\"/h/Jupyter\"\n",
    "kprojdir=\"/h/Jupyter/Myjupyter-kernel\"\n",
    "${kprojdir}/src/addnk2plugins.sh ${newkernel} ${kprojdir} "
   ]
  },
  {
   "cell_type": "code",
   "execution_count": 4,
   "metadata": {},
   "outputs": [
    {
     "name": "stdout",
     "output_type": "stream",
     "text": [
      "[MyPython] Info:file h:\\Jupyter\\Myjupyter-kernel\\src/cnewlangkernel.sh created successfully\n",
      "[MyPython] Info:The process :h:\\Jupyter\\Myjupyter-kernel\\src/cnewlangkernel.sh\n",
      "[MyPython] Info:P:\\msys64\\usr\\bin\\bash --login h:\\Jupyter\\Myjupyter-kernel\\src\\cnewlangkernel.sh \n",
      "[MyPython] Info:The process end:3088\n"
     ]
    }
   ],
   "source": [
    "##%log:1\n",
    "## %noruncode\n",
    "##%overwritefile\n",
    "##%file:src/cnewlangkernel.sh\n",
    "##%runprg:P:\\msys64\\usr\\bin\\bash\n",
    "##%runprgargs:--login h:\\Jupyter\\Myjupyter-kernel\\src\\cnewlangkernel.sh\n",
    "#!/bin/sh\n",
    "export newkernel=\"Make\"\n",
    "export newextension=\"makefile\"\n",
    "export orgkernel=\"Rust\"\n",
    "export orgextension=\"rs\"\n",
    "\n",
    "## ######################################################################\n",
    "projectdir=\"/h/Jupyter\"\n",
    "kprojdir=\"/h/Jupyter/Myjupyter-kernel\"\n",
    "## 创建项目目录\n",
    "mkdir -p ${projectdir}/jupyter-My${newkernel}-kernel/example\n",
    "mkdir -p ${projectdir}/jupyter-My${newkernel}-kernel/jupyter_My${newkernel}_kernel\n",
    "mkdir -p ${projectdir}/jupyter-My${newkernel}-kernel/plugins\n",
    "\n",
    "## 复制文件到新的目录\n",
    "cp -f  ${projectdir}/jupyter-My${orgkernel}-kernel/.gitignore ${projectdir}/jupyter-My${newkernel}-kernel/\n",
    "cp -f  ${projectdir}/jupyter-My${orgkernel}-kernel/setup.*    ${projectdir}/jupyter-My${newkernel}-kernel/\n",
    "cp -Rf ${projectdir}/jupyter-My${orgkernel}-kernel/plugins/*  ${projectdir}/jupyter-My${newkernel}-kernel/plugins/\n",
    "cp -f  ${projectdir}/jupyter-My${orgkernel}-kernel/jupyter_My${orgkernel}_kernel/*.png ${projectdir}/jupyter-My${newkernel}-kernel/jupyter_My${newkernel}_kernel/\n",
    "cp -f  ${projectdir}/jupyter-My${orgkernel}-kernel/jupyter_My${orgkernel}_kernel/*.py  ${projectdir}/jupyter-My${newkernel}-kernel/jupyter_My${newkernel}_kernel/\n",
    "cp -f  ${projectdir}/jupyter-My${orgkernel}-kernel/jupyter_My${orgkernel}_kernel/install_My${orgkernel}_kernel ${projectdir}/jupyter-My${newkernel}-kernel/jupyter_My${newkernel}_kernel/install_My${newkernel}_kernel\n",
    "\n",
    "## 创建kelnel项目目录\n",
    "mkdir -p ${kprojdir}/kernel/${newkernel}\n",
    "cp -f ${kprojdir}/kernel/${orgkernel}/*.ipynb  ${kprojdir}/kernel/${newkernel}/\n",
    "\n",
    "## 修改 setup.py\n",
    "sed -i \"s/${orgkernel}/${newkernel}/g\" ${projectdir}/jupyter-My${newkernel}-kernel/setup.py\n",
    "sed -i \"s/${orgkernel,}/${newkernel,}/g\" ${projectdir}/jupyter-My${newkernel}-kernel/setup.py\n",
    "sed -i \"s/${orgextension,}/${newextension,}/g\" ${projectdir}/jupyter-My${newkernel}-kernel/setup.py\n",
    "\n",
    "## 修改 __main__.py\n",
    "sed -i \"s/${orgkernel}/${newkernel}/g\" ${projectdir}/jupyter-My${newkernel}-kernel/jupyter_My${newkernel}_kernel/__main__.py\n",
    "\n",
    "## 修改 install_My${}_kernel\n",
    "sed -i \"s/${orgkernel}/${newkernel}/g\" ${projectdir}/jupyter-My${newkernel}-kernel/jupyter_My${newkernel}_kernel/install_My${newkernel}_kernel\n",
    "sed -i \"s/${orgkernel,}/${newkernel,}/g\" ${projectdir}/jupyter-My${newkernel}-kernel/jupyter_My${newkernel}_kernel/install_My${newkernel}_kernel\n",
    "\n",
    "\n",
    "## 修改l_mykernel.ipynb 文件\n",
    "sed -i \"s/${orgkernel}/${newkernel}/g\" ${kprojdir}/kernel/${newkernel}/I_kexec.ipynb\n",
    "sed -i \"s/${orgkernel,}/${newkernel,}/g\" ${kprojdir}/kernel/${newkernel}/I_kexec.ipynb\n",
    "\n",
    "sed -i \"s/${orgkernel}/${newkernel}/g\" ${kprojdir}/kernel/${newkernel}/l_mykernel.ipynb\n",
    "sed -i \"s/${orgkernel,}/${newkernel,}/g\" ${kprojdir}/kernel/${newkernel}/l_mykernel.ipynb\n",
    "sed -i \"s/\\.${orgextension,}/\\.${newextension,}/g\" ${kprojdir}/kernel/${newkernel}/l_mykernel.ipynb\n",
    "\n",
    "## 对 {kprojdir}/plugins/下文件追加 newkernel\n",
    "/h/Jupyter/Myjupyter-kernel/src/addnk2plugins.sh ${newkernel} ${kprojdir}\n",
    "\n",
    "## 对 {kprojdir}/base/_filter2_magics.ipynb 文件追加 newkernel\n",
    "/h/Jupyter/Myjupyter-kernel/src/addfnlist.sh ${newkernel} ${kprojdir} base/_filter2_magics.ipynb\n",
    "\n",
    "## 对 {kprojdir}/base/_Readme.ipynb 文件追加 newkernel\n",
    "grep -q \"\\\"My${newkernel}\\\\\\\\n\\\",\" ${kprojdir}/base/_Readme.ipynb\n",
    "if [ $? == 1 ]\n",
    "then\n",
    "    ## echo \"${file} 执行追加\"\n",
    "    sed -i \"s/\\\"My${orgkernel}\\\\\\\\n\\\",/\\\"My${orgkernel}\\\\\\\\n\\\",\\n\\\"My${newkernel}\\\\\\\\n\\\",/g\" ${kprojdir}/base/_Readme.ipynb\n",
    "fi\n",
    "\n"
   ]
  },
  {
   "cell_type": "code",
   "execution_count": null,
   "metadata": {},
   "outputs": [],
   "source": []
  }
 ],
 "metadata": {
  "kernelspec": {
   "display_name": "MyPython",
   "language": "Python",
   "name": "mypython"
  },
  "language_info": {
   "codemirror_mode": {
    "name": "ipython",
    "version": 3
   },
   "file_extension": ".py",
   "mimetype": "text/x-python",
   "name": "python",
   "nbconvert_exporter": "python",
   "pygments_lexer": "ipython3",
   "version": "3.9.6"
  },
  "orig_nbformat": 4
 },
 "nbformat": 4,
 "nbformat_minor": 2
}
