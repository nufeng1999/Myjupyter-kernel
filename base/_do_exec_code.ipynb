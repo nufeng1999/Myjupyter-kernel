{
 "cells": [
  {
   "cell_type": "code",
   "execution_count": 4,
   "metadata": {},
   "outputs": [
    {
     "data": {
      "text/plain": [
       "[MyPython] Info:file /root/Jupyter/Myjupyter-kernel/base/../src/do_execute_script.py created successfully\n"
      ]
     },
     "metadata": {
      "text/plain": {}
     },
     "output_type": "display_data"
    }
   ],
   "source": [
    "##%overwritefile\n",
    "##%file:../src/do_execute_script.py\n",
    "##%noruncode\n",
    "    def do_execute_script(self, code, magics,silent, store_history=True,\n",
    "                   user_expressions=None, allow_stdin=True):\n",
    "        try:\n",
    "            ##预处理\n",
    "            bcancel_exec,retinfo,magics, code=self.do_preexecute(code,magics, silent, store_history=store_history,\n",
    "                user_expressions=user_expressions, allow_stdin=allow_stdin)\n",
    "            if bcancel_exec:return retinfo\n",
    "            \n",
    "            return_code=0\n",
    "            fil_ename=''\n",
    "            ##生成代码文件\n",
    "            bcancel_exec,retinfo,magics, code,fil_ename,retstr=self.do_create_codefile(magics,code, silent, store_history=store_history,\n",
    "                user_expressions=user_expressions, allow_stdin=allow_stdin)\n",
    "            if bcancel_exec:return retinfo\n",
    "            \n",
    "            ##运行代码\n",
    "            bcancel_exec,retinfo,magics, code,fil_ename,retstr=self.do_runcode(return_code,fil_ename,magics,code, silent, store_history=store_history,\n",
    "                user_expressions=user_expressions, allow_stdin=allow_stdin)\n",
    "            if bcancel_exec:return retinfo\n",
    "            \n",
    "        except Exception as e:\n",
    "            self._log(\"\"+str(e),3)\n",
    "        return self.get_retinfo()\n"
   ]
  },
  {
   "cell_type": "code",
   "execution_count": 5,
   "metadata": {},
   "outputs": [
    {
     "data": {
      "text/plain": [
       "[MyPython] Info:file /root/Jupyter/Myjupyter-kernel/base/../src/do_execute_class.py created successfully\n"
      ]
     },
     "metadata": {
      "text/plain": {}
     },
     "output_type": "display_data"
    }
   ],
   "source": [
    "##%overwritefile \n",
    "##%file:../src/do_execute_class.py\n",
    "##%noruncode\n",
    "\n",
    "    def do_execute_class(self, code, magics,silent, store_history=True,\n",
    "                   user_expressions=None, allow_stdin=True):\n",
    "        try:\n",
    "\n",
    "            return_code=0\n",
    "            fil_ename=''\n",
    "            outpath=''\n",
    "            \n",
    "            bcancel_exec,retinfo,magics, code=self.do_preexecute(code, magics,silent, store_history=store_history,\n",
    "                user_expressions=user_expressions, allow_stdin=allow_stdin)\n",
    "            if bcancel_exec:return retinfo\n",
    "\n",
    "            return_code=0\n",
    "            fil_ename=''\n",
    "            ##生成代码文件\n",
    "            bcancel_exec,retinfo,magics, code,fil_ename,class_filename,outpath,retstr=self.do_create_codefile(magics,code, silent, store_history=store_history,\n",
    "                user_expressions=user_expressions, allow_stdin=allow_stdin)\n",
    "            if bcancel_exec:return retinfo\n",
    "            \n",
    "            ##运行代码\n",
    "            bcancel_exec,retinfo,magics, code,fil_ename,retstr=self.do_runcode(return_code,\n",
    "                fil_ename,class_filename,outpath,magics,code, \n",
    "                silent, store_history=store_history,user_expressions=user_expressions, allow_stdin=allow_stdin)\n",
    "            if bcancel_exec:return retinfo\n",
    "        except Exception as e:\n",
    "            self._log(\"???\"+str(e),3)\n",
    "        return self.get_retinfo()\n",
    "    "
   ]
  },
  {
   "cell_type": "code",
   "execution_count": 6,
   "metadata": {},
   "outputs": [
    {
     "data": {
      "text/plain": [
       "[MyPython] Info:file /root/Jupyter/Myjupyter-kernel/base/../src/do_execute_runprg.py created successfully\n"
      ]
     },
     "metadata": {
      "text/plain": {}
     },
     "output_type": "display_data"
    }
   ],
   "source": [
    "##%overwritefile\n",
    "##%file:../src/do_execute_runprg.py\n",
    "##%noruncode\n",
    "    def do_execute_runprg(self, code, magics,silent, store_history=True,\n",
    "                   user_expressions=None, allow_stdin=True):\n",
    "        try:\n",
    "            ##预处理\n",
    "            bcancel_exec,retinfo,magics, code=self.dor_preexecute(code,magics, silent, store_history=store_history,\n",
    "                user_expressions=user_expressions, allow_stdin=allow_stdin)\n",
    "            if bcancel_exec:return retinfo\n",
    "            \n",
    "            return_code=0\n",
    "            fil_ename=''\n",
    "            ##生成代码文件\n",
    "            bcancel_exec,retinfo,magics, code,fil_ename,retstr=self.dor_create_codefile(magics,code, silent, store_history=store_history,\n",
    "                user_expressions=user_expressions, allow_stdin=allow_stdin)\n",
    "            if bcancel_exec:return retinfo\n",
    "            \n",
    "            ##运行代码\n",
    "            bcancel_exec,retinfo,magics, code,fil_ename,retstr=self.dor_runcode(return_code,fil_ename,magics,code, silent, store_history=store_history,\n",
    "                user_expressions=user_expressions, allow_stdin=allow_stdin)\n",
    "            if bcancel_exec:return retinfo\n",
    "            \n",
    "        except Exception as e:\n",
    "            self._log(\"\"+str(e),3)\n",
    "        return self.get_retinfo()\n"
   ]
  },
  {
   "cell_type": "code",
   "execution_count": null,
   "metadata": {},
   "outputs": [],
   "source": []
  },
  {
   "cell_type": "code",
   "execution_count": 5,
   "metadata": {},
   "outputs": [
    {
     "data": {
      "text/plain": [
       "[MyPython] Info:file /root/Jupyter/Myjupyter-kernel/base/../src/do_execute.py created successfully\n"
      ]
     },
     "metadata": {
      "text/plain": {}
     },
     "output_type": "display_data"
    }
   ],
   "source": [
    "##%overwritefile \n",
    "##%file:../src/do_execute.py\n",
    "##%noruncode\n",
    "    def do_execute(self, code, silent, store_history=True,\n",
    "                   user_expressions=None, allow_stdin=True):\n",
    "        self.silent = silent\n",
    "        retinfo=self.get_retinfo()\n",
    "        magics, code = self.mag.filter(code)\n",
    "\n",
    "        if(len(self.get_magicsbykey(magics,'runprg'))>0):\n",
    "            retinfo=self.do_execute_runprg(code, magics,silent, store_history,\n",
    "                   user_expressions, allow_stdin)\n",
    "            self.cleanup_files()\n",
    "            return retinfo\n",
    "        if(self.runfiletype=='script'):\n",
    "            retinfo=self.do_execute_script(code, magics,silent, store_history,\n",
    "                   user_expressions, allow_stdin)\n",
    "        elif(self.runfiletype=='class'):\n",
    "            retinfo=self.do_execute_class(code, magics,silent, store_history,\n",
    "                   user_expressions, allow_stdin=True)\n",
    "        elif(self.runfiletype=='exe'):\n",
    "            retinfo=self.do_execute_script(code, magics,silent, store_history,\n",
    "                   user_expressions, allow_stdin)\n",
    "        \n",
    "        \n",
    "        self.cleanup_files()\n",
    "        return retinfo"
   ]
  },
  {
   "cell_type": "code",
   "execution_count": null,
   "metadata": {},
   "outputs": [],
   "source": []
  }
 ],
 "metadata": {
  "kernelspec": {
   "display_name": "MyPython",
   "language": "Python",
   "name": "mypython"
  },
  "orig_nbformat": 4
 },
 "nbformat": 4,
 "nbformat_minor": 2
}
