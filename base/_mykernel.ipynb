{
 "cells": [
  {
   "cell_type": "code",
   "execution_count": 4,
   "id": "ba40e881-6972-4912-bf1a-ad7a924c3dfc",
   "metadata": {
    "tags": []
   },
   "outputs": [
    {
     "name": "stdout",
     "output_type": "stream",
     "text": [
      "[MyPython] Info:file h:\\Jupyter\\Myjupyter-kernel\\base\\../src/head.py created successfully\n"
     ]
    }
   ],
   "source": [
    "## import 部分  \n",
    "##%overwritefile\n",
    "##%file:../src/head.py\n",
    "##%noruncode\n",
    "\n",
    "from math import exp\n",
    "from queue import Queue\n",
    "from threading import Thread\n",
    "from ipykernel.kernelbase import Kernel\n",
    "from pexpect import replwrap, EOF\n",
    "from jinja2 import Environment, PackageLoader, select_autoescape,Template\n",
    "from abc import ABCMeta, abstractmethod\n",
    "from typing import List, Dict, Tuple, Sequence\n",
    "from shutil import copyfile,move\n",
    "from urllib.request import urlopen\n",
    "import base64\n",
    "import urllib.request\n",
    "import urllib.parse\n",
    "import platform\n",
    "import pexpect\n",
    "import signal\n",
    "import typing \n",
    "import typing as t\n",
    "import re\n",
    "import signal\n",
    "import subprocess\n",
    "import tempfile\n",
    "import os\n",
    "import stat\n",
    "import sys\n",
    "import traceback\n",
    "import os.path as path\n",
    "import codecs\n",
    "import time\n",
    "import importlib\n",
    "import importlib.util\n",
    "import inspect\n",
    "\n",
    "from plugins.ISpecialID import IStag,IDtag,IBtag,ITag,ICodePreproc\n",
    "from plugins._filter2_magics import Magics"
   ]
  },
  {
   "cell_type": "code",
   "execution_count": 5,
   "id": "e23ef04c",
   "metadata": {
    "tags": []
   },
   "outputs": [
    {
     "name": "stdout",
     "output_type": "stream",
     "text": [
      "[MyPython] Info:file h:\\Jupyter\\Myjupyter-kernel\\base\\../src/common.py created successfully\n"
     ]
    }
   ],
   "source": [
    "## 全局函数和变量\n",
    "##%overwritefile\n",
    "##%file:../src/common.py\n",
    "##%noruncode\n",
    "\n",
    "\n",
    "##%test_begin\n",
    "\n",
    "##%test_end"
   ]
  },
  {
   "cell_type": "code",
   "execution_count": 6,
   "id": "0785dbb3",
   "metadata": {},
   "outputs": [
    {
     "name": "stdout",
     "output_type": "stream",
     "text": [
      "[MyPython] Info:file h:\\Jupyter\\Myjupyter-kernel\\base\\../src/comm_attribute.py created successfully\n"
     ]
    }
   ],
   "source": [
    "## 核心内变量与属性  \n",
    "##%overwritefile\n",
    "##%file:../src/comm_attribute.py\n",
    "##%noruncode\n",
    "    pausestr='''\n",
    "get_char()\n",
    "{\n",
    "SAVEDSTTY=`stty -g`\n",
    "stty -echo\n",
    "stty cbreak\n",
    "dd if=/dev/tty bs=1 count=1 2> /dev/null\n",
    "stty -raw\n",
    "stty echo\n",
    "stty $SAVEDSTTY\n",
    "}\n",
    "echo \"\"\n",
    "echo \"Press any key to start...or Press Ctrl+c to cancel\"\n",
    "char=`get_char`\n",
    "echo \"OK\"\n",
    "'''\n",
    "    silent=None\n",
    "    jinja2_env = Environment()\n",
    "    g_rtsps={}\n",
    "    g_chkreplexit=True\n",
    "\n",
    "    def get_retinfo(self, rettype:int=0):\n",
    "        retinfo={'status': 'ok', 'execution_count': self.execution_count, 'payload': [], 'user_expressions': {}}\n",
    "        return retinfo\n",
    "\n",
    "    def chkjoptions(self,magics,jarfile,targetdir):\n",
    "        if len(self.addmagicsSkey(magics,'joptions'))>-1:\n",
    "            index=-1\n",
    "            try:\n",
    "                index=self.addmagicsSkey(magics,'joptions').index('-cp')\n",
    "            except Exception as e:\n",
    "                pass\n",
    "            if(index<0):\n",
    "                magics['_st']['joptions']+=['-cp']\n",
    "                magics['_st']['joptions']+=[':']\n",
    "                index=index+1\n",
    "            cpstr=magics['_st']['joptions'][index+1]\n",
    "            cpstr=cpstr+\":\"+jarfile+\":\"+targetdir\n",
    "            if cpstr.strip().startswith(':'):\n",
    "                cpstr=cpstr[1:] \n",
    "            # self._log(cpstr)\n",
    "            magics['_st']['joptions'][index+1]=cpstr"
   ]
  },
  {
   "cell_type": "code",
   "execution_count": 7,
   "id": "69ab2c1b-b790-4d46-821f-c00fa45527ed",
   "metadata": {
    "tags": []
   },
   "outputs": [
    {
     "name": "stdout",
     "output_type": "stream",
     "text": [
      "[MyPython] Info:file h:\\Jupyter\\Myjupyter-kernel\\base\\../src/resolving_enveqval.py created successfully\n"
     ]
    }
   ],
   "source": [
    "## 解析环境变量参数字符串函数\n",
    "##%overwritefile\n",
    "##%file:../src/resolving_enveqval.py\n",
    "##%noruncode\n",
    "    def resolving_enveqval(self, envstr):\n",
    "        if envstr is None or len(envstr.strip())<1:\n",
    "            return os.environ\n",
    "        # env_dict={}\n",
    "        argsstr=self.replacemany(self.replacemany(self.replacemany(envstr.strip(),('  '),' '),('= '),'='),' =','=')\n",
    "        pattern = re.compile(r'([^\\s*]*)=\"(.*?)\"|([^\\s*]*)=(\\'.*?\\')|([^\\s*]*)=(.[^\\s]*)')\n",
    "        for argument in pattern.findall(argsstr):\n",
    "            li=list(argument)\n",
    "            li= [i for i in li if i != '']\n",
    "            # env_dict[str(li[0])]=li[1]\n",
    "            os.environ.setdefault(str(li[0]),li[1])\n",
    "        # envstr=str(str(envstr.split(\"|\")).split(\"=\")).replace(\" \",\"\").replace(\"\\'\",\"\").replace(\"\\\"\",\"\").replace(\"[\",\"\").replace(\"]\",\"\").replace(\"\\\\\",\"\")\n",
    "        # env_list=envstr.split(\",\")\n",
    "        # for i in range(0,len(env_list),2):\n",
    "        #     os.environ.setdefault(env_list[i],env_list[i+1])\n",
    "        return os.environ\n"
   ]
  },
  {
   "cell_type": "code",
   "execution_count": 8,
   "id": "f4f3dc7d",
   "metadata": {},
   "outputs": [
    {
     "name": "stdout",
     "output_type": "stream",
     "text": [
      "[MyPython] Info:file h:\\Jupyter\\Myjupyter-kernel\\base\\../src/resolving_eqval2dict.py created successfully\n"
     ]
    }
   ],
   "source": [
    "## 解析参数字符串函数\n",
    "##%overwritefile\n",
    "##%file:../src/resolving_eqval2dict.py\n",
    "##%noruncode\n",
    "    def resolving_eqval2dict(self,argsstr):\n",
    "        if not argsstr or len(argsstr.strip())<1:\n",
    "            return None\n",
    "        env_dict={}\n",
    "        argsstr=self.replacemany(self.replacemany(self.replacemany(argsstr.strip(),('  '),' '),('= '),'='),' =','=')\n",
    "        pattern = re.compile(r'([^\\s*]*)=\"(.*?)\"|([^\\s*]*)=(\\'.*?\\')|([^\\s*]*)=(.[^\\s]*)')\n",
    "        for argument in pattern.findall(argsstr):\n",
    "            li=list(argument)\n",
    "            li= [i for i in li if i != '']\n",
    "            env_dict[str(li[0])]=li[1]\n",
    "        return env_dict"
   ]
  },
  {
   "cell_type": "code",
   "execution_count": 9,
   "id": "816a3a41",
   "metadata": {},
   "outputs": [
    {
     "name": "stdout",
     "output_type": "stream",
     "text": [
      "[MyPython] Info:file h:\\Jupyter\\Myjupyter-kernel\\base\\../src/cleannotes.py created successfully\n"
     ]
    }
   ],
   "source": [
    "## 清除注释函数\n",
    "##%overwritefile\n",
    "##%file:../src/cleannotes.py\n",
    "##%noruncode\n",
    "    def _is_test_begin(self,line):\n",
    "        if line==None or line=='':return ''\n",
    "        return line.strip().startswith('##test_begin') or line.strip().startswith('//test_begin')\n",
    "    def _is_test_end(self,line):\n",
    "        if line==None or line=='':return ''\n",
    "        return line.strip().startswith('##test_end') or line.strip().startswith('//test_end')\n",
    "    def _is_dqm_begin(self,line):\n",
    "        if line==None or line=='':return ''\n",
    "        line=self.replacemany(line.strip(),(' '),'')\n",
    "        if '=\\\"\\\"\\\"' in line: \n",
    "            self.isdstr=True\n",
    "            return False\n",
    "        if '\\\"\\\"\\\"' in line: \n",
    "            if self.isdstr:return False\n",
    "            self.isdstr=False\n",
    "            return True\n",
    "        return line.lstrip().startswith('\\\"\\\"\\\"')\n",
    "    def _is_dqm_end(self,line):\n",
    "        if line==None or line=='':return ''\n",
    "        if self.isdqm:\n",
    "            return line.rstrip().endswith('\\\"\\\"\\\"')\n",
    "        return False\n",
    "    def _is_sqm_begin(self,line):\n",
    "        if line==None or line=='':return ''\n",
    "        line=self.replacemany(line.strip(),(' '),'')\n",
    "        if '=\\'\\'\\'' in line: \n",
    "            self.issstr=True\n",
    "            return False\n",
    "        if '\\'\\'\\'' in line: \n",
    "            if self.issstr:return False\n",
    "            self.issstr=False\n",
    "            return True\n",
    "        return line.lstrip().startswith('\\'\\'\\'')\n",
    "    def _is_sqm_end(self,line):\n",
    "        if line==None or line=='':return ''\n",
    "        if self.issqm:\n",
    "            return line.rstrip().endswith('\\'\\'\\'')\n",
    "        return False\n",
    "    \n",
    "    ## 清除C里的多行注释\n",
    "    def cleanCdqm(self,code):\n",
    "        return re.sub(r\"/\\*.*?\\*/\", \"\", code, flags=re.M|re.S)\n",
    "    ## 清除单行注释\n",
    "    def cleanCnotes(self,code):\n",
    "        return re.sub(r\"//.*\", \"\", code)\n",
    "    def cleannotes(self,line):\n",
    "        ##tmpCode = re.sub(r\"//.*\", \"\", line)\n",
    "        ##tmpCode = re.sub(r\"/\\*.*?\\*/\", \"\", tmpCode, flags=re.M|re.S)\n",
    "        return '' if (not self._is_specialID(line)) and (line.lstrip().startswith('## ') or line.lstrip().startswith('// ')) else line\n",
    "    isdqm=False##清除双引号多行注释\n",
    "    def cleandqmA(self,code):\n",
    "        return re.sub(r\"\\\"\\\"\\\".*?\\\"\\\"\\\"\", \"\", code, flags=re.M|re.S)\n",
    "    def cleandqm(self,line):\n",
    "        ##tmpCode = re.sub(r\"\\\"\\\"\\\".*?\\\"\\\"\\\"\", \"\", line, flags=re.M|re.S)\n",
    "        if not self.isdqm:\n",
    "            istb=self._is_dqm_begin(line)\n",
    "            if istb: \n",
    "                self.isdqm=True\n",
    "                if len(line.strip())>5:\n",
    "                    iste=self._is_dqm_end(line)\n",
    "                    if iste:self.isdqm=False\n",
    "                return ''\n",
    "        iste=self._is_dqm_end(line)\n",
    "        if iste:\n",
    "            self.isdqm=False\n",
    "            return ''\n",
    "        line= \"\" if self.isdqm else line\n",
    "        return line\n",
    "    issqm=False\n",
    "    ## 清除单引号多行注释\n",
    "    def cleansqmA(self,code):\n",
    "        return re.sub(r\"\\'\\'\\'.*?\\'\\'\\'\", \"\", code, flags=re.M|re.S)\n",
    "    def cleansqm(self,line):\n",
    "        ## tmpCode = re.sub(r\"\\'\\'\\'.*?\\'\\'\\'\", \"\", line, flags=re.M|re.S)\n",
    "        if not self.issqm:\n",
    "            istb=self._is_sqm_begin(line)\n",
    "            if istb: \n",
    "                self.issqm=True\n",
    "                if len(line.strip())>5:\n",
    "                    iste=self._is_sqm_end(line)\n",
    "                    if iste:self.issqm=False\n",
    "                return ''\n",
    "        iste=self._is_sqm_end(line)\n",
    "        if iste:\n",
    "            self.issqm=False\n",
    "            return ''\n",
    "        line= \"\" if self.issqm else line\n",
    "        return line\n",
    "    istestcode=False\n",
    "    ## 清除测试行里的代码 ##test_begin  ##test_end\n",
    "    def cleantestcodeA(self,code):\n",
    "        code=re.sub(r\"\\/\\/test_begin.*?\\/\\/test_end\", \"\", code, flags=re.M|re.S)\n",
    "        return re.sub(r\"\\#\\#test_begin.*?\\#\\#test_end\", \"\", code, flags=re.M|re.S)\n",
    "    def cleantestcode(self,line):\n",
    "        if not self.istestcode:\n",
    "            istb=self._is_test_begin(line)\n",
    "            if istb: \n",
    "                self.istestcode=True\n",
    "                if len(line.strip())>5:\n",
    "                    iste=self._is_test_end(line)\n",
    "                    if iste:self.istestcode=False\n",
    "                return ''\n",
    "        iste=self._is_test_end(line)\n",
    "        if iste:\n",
    "            self.istestcode=False\n",
    "            return ''\n",
    "        line= \"\" if self.istestcode else line\n",
    "        return line\n",
    "    "
   ]
  },
  {
   "cell_type": "code",
   "execution_count": 10,
   "id": "838ff23b",
   "metadata": {
    "tags": []
   },
   "outputs": [
    {
     "name": "stdout",
     "output_type": "stream",
     "text": [
      "[MyPython] Info:file h:\\Jupyter\\Myjupyter-kernel\\base\\../src/_is_specialID.py created successfully\n"
     ]
    }
   ],
   "source": [
    "## 判断是否为特殊标识符号\n",
    "##%overwritefile\n",
    "##%file:../src/_is_specialID.py\n",
    "##%noruncode\n",
    "def _is_specialID(self,line):\n",
    "    if line.strip().startswith('##%') or line.strip().startswith('//%'):\n",
    "        return True\n",
    "    return False\n"
   ]
  },
  {
   "cell_type": "code",
   "execution_count": 11,
   "id": "1247d3fa",
   "metadata": {},
   "outputs": [
    {
     "name": "stdout",
     "output_type": "stream",
     "text": [
      "[MyPython] Info:file h:\\Jupyter\\Myjupyter-kernel\\base\\../src/kernel_common2.py created successfully\n"
     ]
    }
   ],
   "source": [
    "## 内核公共代码部分2\n",
    "##%overwritefile\n",
    "##%file:../src/kernel_common2.py\n",
    "##%noruncode\n",
    "    def get_outencode(self,magics):\n",
    "        encodestr=self.get_magicsSvalue(magics,\"outencode\")\n",
    "        if len(encodestr)<1:\n",
    "            encodestr='UTF-8'\n",
    "        return encodestr\n",
    "    def get_magicsSvalue(self,magics:Dict,key:str):\n",
    "        return self.addmagicsSkey(magics,key)\n",
    "    def get_magicsBvalue(self,magics:Dict,key:str):\n",
    "        return self.addmagicsBkey(magics,key)\n",
    "    def get_magicsbykey(self,magics:Dict,key:str):\n",
    "        return self.addkey2dict(magics,key)\n",
    "    \n",
    "    def addmagicsSLkey(self,magics:Dict,key:str,value=None,func=None):\n",
    "        return self.addmagicskey2(magics=magics,key=key,type='_sline',func=func,value=value)\n",
    "    def addmagicsSkey(self,magics:Dict,key:str,func=None):\n",
    "        return self.addmagicskey2(magics=magics,key=key,type='_st',func=func)\n",
    "    def addmagicsBkey(self,magics:Dict,key:str,value=None,func=None):\n",
    "        return self.addmagicskey2(magics=magics,key=key,type='_bt',func=func,value=value)\n",
    "    \n",
    "    def addmagicskey2(self,magics:Dict,key:str,type:str,func=None,value=None):\n",
    "        if not magics[type].__contains__(key):\n",
    "            ##添加 key\n",
    "            d={key:[]}\n",
    "            if value!=None:\n",
    "                d={key:value}\n",
    "            magics[type].update(d)\n",
    "        if not magics[type+'f'].__contains__(key):\n",
    "            ##添加 key相关回调函数\n",
    "            d={key:[]}\n",
    "            magics[type+'f'].update(d)\n",
    "        if func!=None:\n",
    "            magics[type+'f'][key]+=[func]\n",
    "        return magics[type][key]\n",
    "    def addkey2dict(self,magics:Dict,key:str,type:str=None):\n",
    "        if not magics.__contains__(key):\n",
    "            d={key:[]}\n",
    "            if type!=None and type==\"dict\":\n",
    "                d={key:{}}\n",
    "            magics.update(d)\n",
    "        return magics[key]"
   ]
  },
  {
   "cell_type": "code",
   "execution_count": 12,
   "id": "00494001-3d72-462d-ae18-08d5e099d6f7",
   "metadata": {
    "tags": []
   },
   "outputs": [
    {
     "name": "stdout",
     "output_type": "stream",
     "text": [
      "[MyPython] Info:file h:\\Jupyter\\Myjupyter-kernel\\base\\../src/kernel_common.py created successfully\n"
     ]
    }
   ],
   "source": [
    "## 内核公共代码部分\n",
    "##%overwritefile\n",
    "##%file:../src/kernel_common.py\n",
    "##%noruncode\n",
    "    usleep = lambda x: time.sleep(x/1000000.0)\n",
    "\n",
    "\n",
    "    ## 全部替换our_str字符串里的to_be_replaced为replace_with\n",
    "    def replacemany(self,our_str, to_be_replaced:str, replace_with:str):\n",
    "        while (to_be_replaced in our_str):\n",
    "            our_str = our_str.replace(to_be_replaced, replace_with)\n",
    "        return our_str\n",
    "    ## 处理acb=xxx 这样的参数字符串到字典{}里\n",
    "    def _filter_dict(self,argsstr):\n",
    "        if not argsstr or len(argsstr.strip())<1:\n",
    "            return None\n",
    "        env_dict={}\n",
    "        argsstr=self.replacemany(self.replacemany(self.replacemany(argsstr.strip(),('  '),' '),('= '),'='),' =','=')\n",
    "        pattern = re.compile(r'([^\\s*]*)=\"(.*?)\"|([^\\s*]*)=(\\'.*?\\')|([^\\s*]*)=(.[^\\s]*)')\n",
    "        for argument in pattern.findall(argsstr):\n",
    "            li=list(argument)\n",
    "            li= [i for i in li if i != '']\n",
    "            env_dict[str(li[0])]=li[1]\n",
    "        return env_dict\n",
    "    ## 文件处理器\n",
    "    def _fileshander(self,files:List,srcfilename,magics)->str:\n",
    "        index=-1\n",
    "        fristfile=srcfilename\n",
    "        try:\n",
    "            for newsrcfilename in files:\n",
    "                index=index+1\n",
    "                newsrcfilename = os.path.join(os.path.abspath(''),newsrcfilename)\n",
    "                if os.path.exists(newsrcfilename):\n",
    "                    if magics!=None and len(self.addkey2dict(magics,'overwritefile'))<1:\n",
    "                        newsrcfilename +=\".new.py\"\n",
    "                if not os.path.exists(os.path.dirname(newsrcfilename)) :\n",
    "                    os.makedirs(os.path.dirname(newsrcfilename))\n",
    "                if index==0:\n",
    "                    os.rename(srcfilename,newsrcfilename)\n",
    "                    fristfile=newsrcfilename\n",
    "                    files[0]=newsrcfilename\n",
    "                else:\n",
    "                    self._write_to_stdout(\"copy to :\"+newsrcfilename+\"\\n\")\n",
    "                    copyfile(fristfile,newsrcfilename)\n",
    "        except Exception as e:\n",
    "                self._log(str(e),2)\n",
    "        return files[0]"
   ]
  },
  {
   "cell_type": "code",
   "execution_count": 13,
   "id": "a7dadc08",
   "metadata": {},
   "outputs": [
    {
     "name": "stdout",
     "output_type": "stream",
     "text": [
      "[MyPython] Info:file h:\\Jupyter\\Myjupyter-kernel\\base\\../src/chk_replexit.py created successfully\n"
     ]
    }
   ],
   "source": [
    "## chk_replexit\n",
    "##%overwritefile\n",
    "##%file:../src/chk_replexit.py\n",
    "##%noruncode\n",
    "    def chk_replexit(self,grtsps): \n",
    "        while self.g_chkreplexit:\n",
    "            try:\n",
    "                if len(grtsps)>0: \n",
    "                    for key in grtsps:\n",
    "                        if grtsps[key].child.terminated:\n",
    "                            pass\n",
    "                            del grtsps[key]\n",
    "                        ## else:\n",
    "                        ##     grtsps[key].write_contents()\n",
    "            finally:\n",
    "                pass\n",
    "        if len(grtsps)>0: \n",
    "            for key in grtsps:\n",
    "                if grtsps[key].child.terminated:\n",
    "                    pass\n",
    "                    del grtsps[key]\n",
    "                else:\n",
    "                    grtsps[key].child.terminate(force=True)\n",
    "                    del grtsps[key]"
   ]
  },
  {
   "cell_type": "code",
   "execution_count": 14,
   "id": "c0b66a54-4954-4f4d-9580-3ddc6ae4ab8e",
   "metadata": {
    "tags": []
   },
   "outputs": [
    {
     "name": "stdout",
     "output_type": "stream",
     "text": [
      "[MyPython] Info:file h:\\Jupyter\\Myjupyter-kernel\\base\\../src/cleanup_files.py created successfully\n"
     ]
    }
   ],
   "source": [
    "## 清除执行过程中生存的临时文件\n",
    "##%overwritefile\n",
    "##%file:../src/cleanup_files.py\n",
    "##%noruncode\n",
    "    def cleanup_files(self):\n",
    "        \"\"\"Remove all the temporary files created by the kernel\"\"\"\n",
    "        # keep the list of files create in case there is an exception\n",
    "        # before they can be deleted as usual\n",
    "        if self.files != None and len(self.files) > 0:\n",
    "            for file in self.files:\n",
    "                if(os.path.exists(file)):\n",
    "                    os.remove(file)\n",
    "\n"
   ]
  },
  {
   "cell_type": "code",
   "execution_count": 15,
   "id": "e1171ffa-7160-4f60-b7aa-d94934ddbd77",
   "metadata": {
    "tags": []
   },
   "outputs": [
    {
     "name": "stdout",
     "output_type": "stream",
     "text": [
      "[MyPython] Info:file h:\\Jupyter\\Myjupyter-kernel\\base\\../src/new_temp_file.py created successfully\n"
     ]
    }
   ],
   "source": [
    "## 产生一个新的临时文件\n",
    "##%overwritefile\n",
    "##%file:../src/new_temp_file.py\n",
    "##%noruncode\n",
    "    def new_temp_file(self, **kwargs):\n",
    "        \"\"\"Create a new temp file to be deleted when the kernel shuts down\"\"\"\n",
    "        # We don't want the file to be deleted when closed, but only when the kernel stops\n",
    "        kwargs['delete'] = False\n",
    "        kwargs['mode'] = 'w'\n",
    "        file = tempfile.NamedTemporaryFile(**kwargs)\n",
    "        self.files.append(file.name)\n",
    "        return file\n",
    "    def create_codetemp_file(self,magics,code,suffix):\n",
    "        encodestr='UTF-8'\n",
    "        if magics!=None:\n",
    "            encodestr=self.get_magicsSvalue(magics,\"fileencode\")\n",
    "        if len(encodestr)<1:\n",
    "            encodestr='UTF-8'\n",
    "        if (suffix.strip().lower().endswith(\".bat\") or\n",
    "            (suffix.strip().lower().endswith(\".ps1\") and self.sys==\"Windows\")):\n",
    "            encodestr=\"GBK\"\n",
    "\n",
    "        source_file=self.new_temp_file(suffix=suffix,dir=os.path.abspath(''),encoding=encodestr)\n",
    "        magics['codefilename']=source_file.name\n",
    "        with  source_file:\n",
    "            source_file.write(code)\n",
    "            source_file.flush()\n",
    "        return source_file"
   ]
  },
  {
   "cell_type": "code",
   "execution_count": 16,
   "id": "473d2581-cd55-4292-a64f-2c0c86600c60",
   "metadata": {
    "tags": []
   },
   "outputs": [
    {
     "name": "stdout",
     "output_type": "stream",
     "text": [
      "[MyPython] Info:file h:\\Jupyter\\Myjupyter-kernel\\base\\../src/_write_display_data.py created successfully\n"
     ]
    }
   ],
   "source": [
    "## 按 mimetype 格式输出显示内容\n",
    "##%overwritefile\n",
    "##%file:../src/_write_display_data.py\n",
    "##%noruncode\n",
    "    def _write_display_data(self,mimetype='text/html',contents=\"\"):\n",
    "        try:\n",
    "            if mimetype.startswith('image'):\n",
    "                metadata ={mimetype:{}}\n",
    "                # contents=contents\n",
    "                # self._logln(base64.encodebytes(contents))\n",
    "                # contents=base64.encodebytes(contents)\n",
    "                # contents=urllib.parse.quote(base64.b64encode(contents))\n",
    "                header=\"<div><img alt=\\\"Output\\\" src=\\\"data:\"+mimetype+\";base64,\"\n",
    "                end=\"\\\"></div>\"\n",
    "                contents=header+base64.encodebytes(contents).decode( errors='ignore')+end\n",
    "                mimetype='text/html'\n",
    "                metadata = {mimetype:{}}\n",
    "                    ## 'text/html' : {\n",
    "                    ## 'width': 640,\n",
    "                    ## 'height': 480\n",
    "                    ## }\n",
    "                    ## }\n",
    "        except Exception as e:\n",
    "            self._logln(\"_write_display_data err \"+str(e),3)\n",
    "            return\n",
    "        self.send_response(self.iopub_socket, 'display_data', {'data': {mimetype:contents}, 'metadata': {mimetype:{}}})\n"
   ]
  },
  {
   "cell_type": "code",
   "execution_count": 17,
   "id": "2d7282d6-9135-4807-bfea-00a8f497dccd",
   "metadata": {
    "tags": []
   },
   "outputs": [
    {
     "name": "stdout",
     "output_type": "stream",
     "text": [
      "[MyPython] Info:file h:\\Jupyter\\Myjupyter-kernel\\base\\../src/_write_to_stdout.py created successfully\n"
     ]
    }
   ],
   "source": [
    "## 输出结果信息\n",
    "##%overwritefile\n",
    "##%file:../src/_write_to_stdout.py\n",
    "##%noruncode\n",
    "    def _write_to_stdout(self,contents,magics=None):\n",
    "        if magics !=None and len(magics['_st']['outputtype'])>0:\n",
    "            self._write_display_data(mimetype=magics['_st']['outputtype'],contents=contents)\n",
    "        else:\n",
    "            self.send_response(self.iopub_socket, 'stream', {'name': 'stdout', 'text': contents})\n"
   ]
  },
  {
   "cell_type": "code",
   "execution_count": 18,
   "id": "613651e5-a511-4787-a438-9ec794d74d83",
   "metadata": {
    "tags": []
   },
   "outputs": [
    {
     "name": "stdout",
     "output_type": "stream",
     "text": [
      "[MyPython] Info:file h:\\Jupyter\\Myjupyter-kernel\\base\\../src/_write_to_stderr.py created successfully\n"
     ]
    }
   ],
   "source": [
    "## 输出错误信息\n",
    "##%overwritefile\n",
    "##%file:../src/_write_to_stderr.py\n",
    "##%noruncode\n",
    "    def _write_to_stderr(self, contents):\n",
    "        self.send_response(self.iopub_socket, 'stream', {'name': 'stderr', 'text': contents})\n"
   ]
  },
  {
   "cell_type": "code",
   "execution_count": 19,
   "id": "3493fad7-252b-4525-9388-c07238939a7e",
   "metadata": {
    "tags": []
   },
   "outputs": [
    {
     "name": "stdout",
     "output_type": "stream",
     "text": [
      "[MyPython] Info:file h:\\Jupyter\\Myjupyter-kernel\\base\\../src/_read_from_stdin.py created successfully\n"
     ]
    }
   ],
   "source": [
    "## 产生一个文本输入框\n",
    "##%overwritefile\n",
    "##%file:../src/_read_from_stdin.py\n",
    "##%noruncode\n",
    "    def _read_from_stdin(self):\n",
    "        return self.raw_input()\n"
   ]
  },
  {
   "cell_type": "code",
   "execution_count": 20,
   "id": "1fae2f8b-62da-4250-806c-1c4d5718d27d",
   "metadata": {
    "tags": []
   },
   "outputs": [
    {
     "name": "stdout",
     "output_type": "stream",
     "text": [
      "[MyPython] Info:file h:\\Jupyter\\Myjupyter-kernel\\base\\../src/readcodefile.py created successfully\n"
     ]
    }
   ],
   "source": [
    "## 读取代码文件，include使用\n",
    "##%overwritefile\n",
    "##%file:../src/readcodefile.py\n",
    "##%noruncode\n",
    "    def readcodefile(self,filename,spacecount=0):\n",
    "        filecode=''\n",
    "        codelist1=None\n",
    "        if not os.path.exists(filename):\n",
    "            return ''\n",
    "        with open(os.path.join(os.path.abspath(''),filename), 'r',encoding=\"UTF-8\") as codef1:\n",
    "            codelist1 = codef1.readlines()\n",
    "        if len(codelist1)>0:\n",
    "            for t in codelist1:\n",
    "                filecode+=' '*spacecount + t\n",
    "        return filecode\n",
    "    def loadurl(self,url):\n",
    "        content=''\n",
    "        try:\n",
    "            request=urllib.request.Request(url)\n",
    "            myURL = urlopen(request)\n",
    "            # content= myURL.read()\n",
    "            lines = myURL.readlines()\n",
    "            for line in lines:\n",
    "                print(line)\n",
    "                content+=line.decode()+\"\\n\"\n",
    "        except Exception as e:\n",
    "            self._logln(\"loadurl error! \"+str(e),3)\n",
    "        return content\n"
   ]
  },
  {
   "cell_type": "code",
   "execution_count": 21,
   "id": "65c481f5-1488-40c4-ab6a-db407ac3b8b0",
   "metadata": {
    "tags": []
   },
   "outputs": [
    {
     "name": "stdout",
     "output_type": "stream",
     "text": [
      "[MyPython] Info:file h:\\Jupyter\\Myjupyter-kernel\\base\\../src/process_output.py created successfully\n"
     ]
    }
   ],
   "source": [
    "## 输出信息\n",
    "##%overwritefile\n",
    "##%file:../src/process_output.py\n",
    "##%noruncode\n",
    "    def process_output(self, output,magics=None):\n",
    "        if not self.silent:\n",
    "            if magics !=None and len(magics['_st']['outputtype'])>0:\n",
    "                self._write_display_data(mimetype=magics['_st']['outputtype'],contents=output)\n",
    "                return\n",
    "            # Send standard output\n",
    "            stream_content = {'name': 'stdout', 'text': output}\n",
    "            self.send_response(self.iopub_socket, 'stream', stream_content)\n"
   ]
  },
  {
   "cell_type": "code",
   "execution_count": 22,
   "id": "aa884b4e",
   "metadata": {
    "tags": []
   },
   "outputs": [
    {
     "name": "stdout",
     "output_type": "stream",
     "text": [
      "[MyPython] Info:file h:\\Jupyter\\Myjupyter-kernel\\base\\../src/log_output.py created successfully\n"
     ]
    }
   ],
   "source": [
    "## 输出日志信息\n",
    "##%overwritefile\n",
    "##%file:../src/log_output.py\n",
    "##%noruncode\n",
    "    ## _loglevel='1'\n",
    "    def _log(self, output,level=1,outputtype='text/plain'):\n",
    "        if self._loglevel=='0': return\n",
    "        streamname='stdout'\n",
    "        if not self.silent:\n",
    "            prestr=self.kernelinfo+' Info:'\n",
    "            if level==2:\n",
    "                prestr=self.kernelinfo+' Warning:'\n",
    "                streamname='stderr'\n",
    "            elif level==3:\n",
    "                prestr=self.kernelinfo+' Error:'\n",
    "                streamname='stderr'\n",
    "            else:\n",
    "                prestr=self.kernelinfo+' Info:'\n",
    "                streamname='stdout'\n",
    "            # if len(outputtype)>0 and (level!=2 or level!=3):\n",
    "                # self._write_display_data(mimetype=outputtype,contents=prestr+output)\n",
    "                # return\n",
    "            # Send standard output\n",
    "            stream_content = {'name': streamname, 'text': prestr+output}\n",
    "            self.send_response(self.iopub_socket, 'stream', stream_content)\n",
    "    def _logln(self, output,level=1,outputtype='text/plain'):\n",
    "        self._log(output+\"\\n\",level=1,outputtype='text/plain')"
   ]
  },
  {
   "cell_type": "code",
   "execution_count": 23,
   "id": "049cb163-fa41-467d-8034-dbd1ff71fff5",
   "metadata": {
    "tags": []
   },
   "outputs": [
    {
     "name": "stdout",
     "output_type": "stream",
     "text": [
      "[MyPython] Info:file h:\\Jupyter\\Myjupyter-kernel\\base\\../src/send_cmd.py created successfully\n"
     ]
    }
   ],
   "source": [
    "## send_cmd\n",
    "##%overwritefile\n",
    "##%file:../src/send_cmd.py\n",
    "##%noruncode\n",
    "    def send_cmd(self,pid,cmd):\n",
    "        try:\n",
    "            # self._write_to_stdout(\"send cmd PID:\"+pid+\"\\n cmd:\"+cmd)\n",
    "            # if self.g_rtsps.has_key(pid):\n",
    "                # self._write_to_stderr(\"[MyPythonkernel] Info:exist! \"+pid+\"\\n\")\n",
    "            # self.g_rtsps[pid].stdin.write(cmd.encode())\n",
    "            self.g_rtsps[pid]._write_to_stdout(cmd)\n",
    "        except Exception as e:\n",
    "            self._log(\"Executable send_cmd error! \"+str(e)+\"\\n\")\n",
    "    \n",
    "        return\n"
   ]
  },
  {
   "cell_type": "code",
   "execution_count": 4,
   "id": "ef830dc5-90d4-4760-ac56-513e055b942a",
   "metadata": {
    "tags": []
   },
   "outputs": [
    {
     "name": "stdout",
     "output_type": "stream",
     "text": [
      "[MyPython] Info:file h:\\Jupyter\\Myjupyter-kernel\\base\\../src/create_jupyter_subprocess.py created successfully\n"
     ]
    }
   ],
   "source": [
    "## create_jupyter_subprocess\n",
    "##%overwritefile\n",
    "##%file:../src/create_jupyter_subprocess.py\n",
    "##%noruncode\n",
    "    def create_jupyter_subprocess(self, cmd,cwd=None,shell=False,env=None,magics=None,outencode=None):\n",
    "        try:\n",
    "            if env==None or len(env)<1:\n",
    "                env=os.environ\n",
    "            if magics!=None and magics['status']=='' and len(self.addmagicsBkey(magics,'runinterm'))>0:\n",
    "                self.inittermcmd(magics)\n",
    "                if len(magics['_st']['term'])<1:\n",
    "                    self._logln(\"no term！\",2)\n",
    "                execfile=''\n",
    "                for x in cmd:\n",
    "                    execfile+=x+\" \"\n",
    "                cmdshstr=self.create_termrunsh(execfile,magics)\n",
    "                if self.sys=='Windows':\n",
    "                    cmd=magics['_st']['term']+[cmdshstr]\n",
    "                elif self.sys=='Linux':\n",
    "                    cmd=magics['_st']['term']+['--',cmdshstr]\n",
    "                else:\n",
    "                    cmd=magics['_st']['term']+['--',cmdshstr]\n",
    "            cstr=''\n",
    "            for x in cmd: cstr+=x+\" \"\n",
    "            self._logln(cstr)\n",
    "            if(magics!=None and (outencode==None or len(outencode)<0)):\n",
    "                outencode=self.get_outencode(magics)\n",
    "            if(outencode==None or len(outencode)<0):\n",
    "                outencode='UTF-8'\n",
    "            return RealTimeSubprocess(cmd,\n",
    "                                  self._write_to_stdout,\n",
    "                                  self._write_to_stderr,\n",
    "                                  self._read_from_stdin,cwd,shell,env,self,outencode=outencode)\n",
    "        except Exception as e:\n",
    "            self._logln(\"RealTimeSubprocess err:\"+str(e),3)\n",
    "            raise\n",
    "    def getossubsys(self):\n",
    "        uname=''\n",
    "        try:\n",
    "            u=os.popen('bash -c \"uname\"')\n",
    "            uname=u.read()\n",
    "        except Exception as e:\n",
    "            self._logln(\"\"+str(e),3)\n",
    "        return uname\n",
    "    def inittermcmd(self,magics):\n",
    "        if len(magics['_st']['term'])>0:return ''\n",
    "        termcmd=''\n",
    "        try:\n",
    "            if self.subsys.startswith('MINGW64') or self.subsys.startswith('CYGWIN'):\n",
    "                termcmd='mintty \"/usr/bin/bash\" --login'\n",
    "            if self.sys=='Linux':\n",
    "                termcmd='gnome-terminal'\n",
    "            elif self.sys=='Windows':\n",
    "                termcmd='c:\\\\Windows\\\\System32\\\\cmd.exe /c start'\n",
    "        except Exception as e:\n",
    "            self._logln(\"\"+str(e),3)\n",
    "        if len(termcmd)>1:\n",
    "            magics['_st']['term']=[]\n",
    "            for argument in re.findall(r'(?:[^\\s,\"]|\"(?:\\\\.|[^\"])*\")+', termcmd):\n",
    "                magics['_st']['term'] += [argument.strip('\"')]\n",
    "        return termcmd\n",
    "## %overwritefile\n",
    "## %file:../src/create_termrunsh.py\n",
    "## %noruncode\n",
    "    def create_termrunsh(self,execfile,magics):\n",
    "        fil_ename=execfile\n",
    "        uname=''\n",
    "        try:\n",
    "            u=os.popen('bash -c \"uname\"')\n",
    "            uname=u.read()\n",
    "        except Exception as e:\n",
    "            self._logln(\"\"+str(e),3)\n",
    "        if self.subsys.startswith('MINGW64') or self.subsys.startswith('CYGWIN'):\n",
    "            pausestr=self.pausestr\n",
    "            termrunsh=\"\\n\"+execfile+\"\\n\"+pausestr+\"\\n\"\n",
    "            termrunsh_file=self.create_codetemp_file(magics,termrunsh,suffix='.sh')\n",
    "            newsrcfilename=termrunsh_file.name\n",
    "            fil_ename=newsrcfilename\n",
    "        elif self.sys=='Windows' :\n",
    "            termrunsh=\"echo off\\r\\ncls\\r\\n\"+execfile+\"\\r\\npause\\r\\nexit\\r\\n\"\n",
    "            if execfile.strip().lower().endswith(\".bat\"):\n",
    "                termrunsh=\"echo off\\r\\ncls\\r\\ncall \"+execfile+\"\\r\\npause\\r\\nexit\\r\\n\"\n",
    "            termrunsh_file=self.create_codetemp_file(magics,termrunsh,suffix='.bat')\n",
    "            newsrcfilename=termrunsh_file.name\n",
    "            fil_ename=newsrcfilename\n",
    "        elif self.sys=='Linux':\n",
    "            pausestr=self.pausestr\n",
    "            termrunsh=\"\\n\"+execfile+\"\\n\"+pausestr+\"\\n\"\n",
    "            termrunsh_file=self.create_codetemp_file(magics,termrunsh,suffix='.sh')\n",
    "            newsrcfilename=termrunsh_file.name\n",
    "            fil_ename=newsrcfilename\n",
    "        else:\n",
    "            self._logln(\"Cannot create terminal!\",3)\n",
    "        self._logln(fil_ename)\n",
    "        os.chmod(newsrcfilename,stat.S_IRWXU+stat.S_IRGRP+stat.S_IXGRP+stat.S_IXOTH)\n",
    "        return fil_ename\n"
   ]
  },
  {
   "cell_type": "code",
   "execution_count": 25,
   "id": "71627cb9-7b53-4a9c-abe6-a34f266eedf3",
   "metadata": {
    "tags": []
   },
   "outputs": [
    {
     "name": "stdout",
     "output_type": "stream",
     "text": [
      "[MyPython] Info:file h:\\Jupyter\\Myjupyter-kernel\\base\\../src/compile_with_Python2native.py created successfully\n"
     ]
    }
   ],
   "source": [
    "## compile_with_Python2native\n",
    "##%overwritefile\n",
    "##%file:../src/compile_with_Python2native.py\n",
    "##%noruncode\n",
    "    def compile_with_Python2native(self, source_filename, binary_filename, cflags=None, ldflags=None):\n",
    "        # outfile=None\n",
    "        # outfile= ['-o', binary_filename]\n",
    "        args = ['pyinstaller','-F', source_filename] + cflags + ldflags\n",
    "        # for x in args: self._write_to_stderr(\" \" + x + \" \")\n",
    "        return self.create_jupyter_subprocess(args),source_filename\n"
   ]
  },
  {
   "cell_type": "code",
   "execution_count": 26,
   "id": "02af68f9-5806-4b9f-979a-d43fa4242e35",
   "metadata": {
    "tags": []
   },
   "outputs": [
    {
     "name": "stdout",
     "output_type": "stream",
     "text": [
      "[MyPython] Info:file h:\\Jupyter\\Myjupyter-kernel\\base\\../src/_add_main.py created successfully\n"
     ]
    }
   ],
   "source": [
    "## _add_main\n",
    "##%overwritefile\n",
    "##%file:../src/_add_main.py\n",
    "##%noruncode\n",
    "    def _add_main(self, magics, code):\n",
    "        # remove comments\n",
    "        tmpCode = re.sub(r\"//.*\", \"\", code)\n",
    "        tmpCode = re.sub(r\"/\\*.*?\\*/\", \"\", tmpCode, flags=re.M|re.S)\n",
    "\n",
    "        x = re.search(r\".*\\s+main\\s*\\(\", tmpCode)\n",
    "\n",
    "        if not x:\n",
    "            code = self.main_head + code + self.main_foot\n",
    "            # magics['_st']['cflags'] += ['-lm']\n",
    "\n",
    "        return magics, code\n"
   ]
  },
  {
   "cell_type": "code",
   "execution_count": 27,
   "id": "918ce56e-eb0d-4669-a71f-70829db4c61f",
   "metadata": {
    "tags": []
   },
   "outputs": [
    {
     "name": "stdout",
     "output_type": "stream",
     "text": [
      "[MyPython] Info:file h:\\Jupyter\\Myjupyter-kernel\\base\\../src/do_shutdown.py created successfully\n"
     ]
    }
   ],
   "source": [
    "## do_shutdown\n",
    "##%overwritefile\n",
    "##%file:../src/do_shutdown.py\n",
    "##%noruncode\n",
    "    def do_shutdown(self, restart):\n",
    "        self.g_chkreplexit=False\n",
    "        self.chk_replexit_thread.join()\n",
    "        # self.onkernelshutdown()\n",
    "        \"\"\"Cleanup the created source code files and executables when shutting down the kernel\"\"\"\n",
    "        self.cleanup_files()\n"
   ]
  },
  {
   "cell_type": "code",
   "execution_count": null,
   "id": "d520a59e",
   "metadata": {},
   "outputs": [],
   "source": []
  }
 ],
 "metadata": {
  "interpreter": {
   "hash": "916dbcbb3f70747c44a77c7bcd40155683ae19c65e1c03b4aa3499c5328201f1"
  },
  "kernelspec": {
   "display_name": "MyPython",
   "language": "Python",
   "name": "mypython"
  },
  "language_info": {
   "codemirror_mode": {
    "name": "ipython",
    "version": 3
   },
   "file_extension": ".py",
   "mimetype": "text/x-python",
   "name": "python",
   "nbconvert_exporter": "python",
   "pygments_lexer": "ipython3",
   "version": "3.9.6"
  }
 },
 "nbformat": 4,
 "nbformat_minor": 5
}
