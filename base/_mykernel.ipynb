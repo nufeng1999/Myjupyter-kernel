{
 "cells": [
  {
   "cell_type": "code",
   "execution_count": null,
   "id": "ba40e881-6972-4912-bf1a-ad7a924c3dfc",
   "metadata": {
    "tags": []
   },
   "outputs": [],
   "source": [
    "## import 部分  \n",
    "##%overwritefile\n",
    "##%file:../src/head.py\n",
    "##%noruncode\n",
    "\n",
    "from math import exp\n",
    "from queue import Queue\n",
    "from threading import Thread\n",
    "from ipykernel.kernelbase import Kernel\n",
    "from pexpect import replwrap, EOF\n",
    "from jinja2 import Environment, PackageLoader, select_autoescape,Template\n",
    "from abc import ABCMeta, abstractmethod\n",
    "from typing import List, Dict, Tuple, Sequence\n",
    "from shutil import copyfile\n",
    "import pexpect\n",
    "import signal\n",
    "import typing \n",
    "import typing as t\n",
    "import re\n",
    "import signal\n",
    "import subprocess\n",
    "import tempfile\n",
    "import os\n",
    "import sys\n",
    "import traceback\n",
    "import os.path as path\n",
    "import codecs\n",
    "import time\n",
    "import importlib\n",
    "import importlib.util\n",
    "import inspect\n",
    "\n",
    "from plugins.ISpecialID import IStag,IDtag,IBtag,ITag,ICodePreproc\n",
    "from plugins._filter2_magics import Magics"
   ]
  },
  {
   "cell_type": "code",
   "execution_count": null,
   "id": "e23ef04c",
   "metadata": {
    "tags": []
   },
   "outputs": [],
   "source": [
    "##全局函数和变量\n",
    "##%overwritefile\n",
    "##%file:../src/common.py\n",
    "##%noruncode\n",
    "\n",
    "\n",
    "##%test_begin\n",
    "\n",
    "##%test_end"
   ]
  },
  {
   "cell_type": "code",
   "execution_count": null,
   "id": "0785dbb3",
   "metadata": {},
   "outputs": [],
   "source": [
    "##核心内变量与属性  \n",
    "##%overwritefile\n",
    "##%file:../src/comm_attribute.py\n",
    "##%noruncode\n",
    "\n",
    "    silent=None\n",
    "    jinja2_env = Environment()\n",
    "    g_rtsps={}\n",
    "    g_chkreplexit=True\n",
    "\n",
    "    def get_retinfo(self, rettype:int=0):\n",
    "        retinfo={'status': 'ok', 'execution_count': self.execution_count, 'payload': [], 'user_expressions': {}}\n",
    "        return retinfo\n",
    "\n",
    "    def chkjoptions(self,magics,jarfile,targetdir):\n",
    "        if len(self.addkey2dict(magics,'joptions'))>-1:\n",
    "            index=-1\n",
    "            try:\n",
    "                index=magics['joptions'].index('-cp')\n",
    "            except Exception as e:\n",
    "                pass\n",
    "            if(index<0):\n",
    "                magics['joptions']+=['-cp']\n",
    "                magics['joptions']+=[':']\n",
    "                index=index+1\n",
    "            cpstr=magics['joptions'][index+1]\n",
    "            cpstr=cpstr+\":\"+jarfile+\":\"+targetdir\n",
    "            if cpstr.strip().startswith(':'):\n",
    "                cpstr=cpstr[1:] \n",
    "            # self._log(cpstr)\n",
    "            magics['joptions'][index+1]=cpstr"
   ]
  },
  {
   "cell_type": "code",
   "execution_count": null,
   "id": "69ab2c1b-b790-4d46-821f-c00fa45527ed",
   "metadata": {
    "tags": []
   },
   "outputs": [],
   "source": [
    "##解析环境变量参数字符串函数\n",
    "##%overwritefile\n",
    "##%file:../src/resolving_enveqval.py\n",
    "##%noruncode\n",
    "    def resolving_enveqval(self, envstr):\n",
    "        if envstr is None or len(envstr.strip())<1:\n",
    "            return os.environ\n",
    "        # env_dict={}\n",
    "        argsstr=self.replacemany(self.replacemany(self.replacemany(envstr.strip(),('  '),' '),('= '),'='),' =','=')\n",
    "        pattern = re.compile(r'([^\\s*]*)=\"(.*?)\"|([^\\s*]*)=(\\'.*?\\')|([^\\s*]*)=(.[^\\s]*)')\n",
    "        for argument in pattern.findall(argsstr):\n",
    "            li=list(argument)\n",
    "            li= [i for i in li if i != '']\n",
    "            # env_dict[str(li[0])]=li[1]\n",
    "            os.environ.setdefault(str(li[0]),li[1])\n",
    "        # envstr=str(str(envstr.split(\"|\")).split(\"=\")).replace(\" \",\"\").replace(\"\\'\",\"\").replace(\"\\\"\",\"\").replace(\"[\",\"\").replace(\"]\",\"\").replace(\"\\\\\",\"\")\n",
    "        # env_list=envstr.split(\",\")\n",
    "        # for i in range(0,len(env_list),2):\n",
    "        #     os.environ.setdefault(env_list[i],env_list[i+1])\n",
    "        return os.environ\n"
   ]
  },
  {
   "cell_type": "code",
   "execution_count": 4,
   "id": "f4f3dc7d",
   "metadata": {},
   "outputs": [
    {
     "data": {
      "text/plain": [
       "[MyPython] Info:raise_ICodescan\n"
      ]
     },
     "metadata": {
      "text/plain": {}
     },
     "output_type": "display_data"
    },
    {
     "data": {
      "text/plain": [
       "[MyPython] Info:file /root/Jupyter/Myjupyter-kernel/base/../src/resolving_eqval2dict.py created successfully\n"
      ]
     },
     "metadata": {
      "text/plain": {}
     },
     "output_type": "display_data"
    }
   ],
   "source": [
    "##解析参数字符串函数\n",
    "##%overwritefile\n",
    "##%file:../src/resolving_eqval2dict.py\n",
    "##%noruncode\n",
    "    def resolving_eqval2dict(self,argsstr):\n",
    "        if not argsstr or len(argsstr.strip())<1:\n",
    "            return None\n",
    "        env_dict={}\n",
    "        argsstr=self.replacemany(self.replacemany(self.replacemany(argsstr.strip(),('  '),' '),('= '),'='),' =','=')\n",
    "        pattern = re.compile(r'([^\\s*]*)=\"(.*?)\"|([^\\s*]*)=(\\'.*?\\')|([^\\s*]*)=(.[^\\s]*)')\n",
    "        for argument in pattern.findall(argsstr):\n",
    "            li=list(argument)\n",
    "            li= [i for i in li if i != '']\n",
    "            env_dict[str(li[0])]=li[1]\n",
    "        return env_dict"
   ]
  },
  {
   "cell_type": "code",
   "execution_count": null,
   "id": "816a3a41",
   "metadata": {},
   "outputs": [],
   "source": [
    "##清除注释函数\n",
    "##%overwritefile\n",
    "##%file:../src/cleannotes.py\n",
    "##%noruncode\n",
    "    def _is_test_begin(self,line):\n",
    "        if line==None or line=='':return ''\n",
    "        return line.strip().startswith('##test_begin') or line.strip().startswith('//test_begin')\n",
    "    def _is_test_end(self,line):\n",
    "        if line==None or line=='':return ''\n",
    "        return line.strip().startswith('##test_end') or line.strip().startswith('//test_end')\n",
    "    def _is_dqm_begin(self,line):\n",
    "        if line==None or line=='':return ''\n",
    "        return line.lstrip().startswith('\\\"\\\"\\\"')\n",
    "    def _is_dqm_end(self,line):\n",
    "        if line==None or line=='':return ''\n",
    "        return line.rstrip().endswith('\\\"\\\"\\\"')\n",
    "    def _is_sqm_begin(self,line):\n",
    "        if line==None or line=='':return ''\n",
    "        return line.lstrip().startswith('\\'\\'\\'')\n",
    "    def _is_sqm_end(self,line):\n",
    "        if line==None or line=='':return ''\n",
    "        return line.rstrip().endswith('\\'\\'\\'')\n",
    "    \n",
    "    ##清除C里的多行注释\n",
    "    def cleanCdqm(self,code):\n",
    "        return re.sub(r\"/\\*.*?\\*/\", \"\", code, flags=re.M|re.S)\n",
    "    ##清除单行注释\n",
    "    def cleanCnotes(self,code):\n",
    "        return re.sub(r\"//.*\", \"\", code)\n",
    "    def cleannotes(self,line):\n",
    "        ##tmpCode = re.sub(r\"//.*\", \"\", line)\n",
    "        ##tmpCode = re.sub(r\"/\\*.*?\\*/\", \"\", tmpCode, flags=re.M|re.S)\n",
    "        return '' if (not self._is_specialID(line)) and (line.lstrip().startswith('##') or line.lstrip().startswith('//')) else line\n",
    "    isdqm=False##清除双引号多行注释\n",
    "    def cleandqmA(self,code):\n",
    "        return re.sub(r\"\\\"\\\"\\\".*?\\\"\\\"\\\"\", \"\", code, flags=re.M|re.S)\n",
    "    def cleandqm(self,line):\n",
    "        ##tmpCode = re.sub(r\"\\\"\\\"\\\".*?\\\"\\\"\\\"\", \"\", line, flags=re.M|re.S)\n",
    "        if not self.isdqm:\n",
    "            istb=self._is_dqm_begin(line)\n",
    "            if istb: \n",
    "                self.isdqm=True\n",
    "                if len(line.strip())>5:\n",
    "                    iste=self._is_dqm_end(line)\n",
    "                    if iste:self.isdqm=False\n",
    "                return ''\n",
    "        iste=self._is_dqm_end(line)\n",
    "        if iste:\n",
    "            self.isdqm=False\n",
    "            return ''\n",
    "        line= \"\" if self.isdqm else line\n",
    "        return line\n",
    "    issqm=False\n",
    "    ##清除单引号多行注释\n",
    "    def cleansqmA(self,code):\n",
    "        return re.sub(r\"\\'\\'\\'.*?\\'\\'\\'\", \"\", code, flags=re.M|re.S)\n",
    "    def cleansqm(self,line):\n",
    "        ## tmpCode = re.sub(r\"\\'\\'\\'.*?\\'\\'\\'\", \"\", line, flags=re.M|re.S)\n",
    "        if not self.issqm:\n",
    "            istb=self._is_sqm_begin(line)\n",
    "            if istb: \n",
    "                self.issqm=True\n",
    "                if len(line.strip())>5:\n",
    "                    iste=self._is_sqm_end(line)\n",
    "                    if iste:self.issqm=False\n",
    "                return ''\n",
    "        iste=self._is_sqm_end(line)\n",
    "        if iste:\n",
    "            self.issqm=False\n",
    "            return ''\n",
    "        line= \"\" if self.issqm else line\n",
    "        return line\n",
    "    istestcode=False\n",
    "    ##清除测试行里的代码 ##test_begin  ##test_end\n",
    "    def cleantestcodeA(self,code):\n",
    "        code=re.sub(r\"\\/\\/test_begin.*?\\/\\/test_end\", \"\", code, flags=re.M|re.S)\n",
    "        return re.sub(r\"\\#\\#test_begin.*?\\#\\#test_end\", \"\", code, flags=re.M|re.S)\n",
    "    def cleantestcode(self,line):\n",
    "        if not self.istestcode:\n",
    "            istb=self._is_test_begin(line)\n",
    "            if istb: \n",
    "                self.istestcode=True\n",
    "                if len(line.strip())>5:\n",
    "                    iste=self._is_test_end(line)\n",
    "                    if iste:self.istestcode=False\n",
    "                return ''\n",
    "        iste=self._is_test_end(line)\n",
    "        if iste:\n",
    "            self.istestcode=False\n",
    "            return ''\n",
    "        line= \"\" if self.istestcode else line\n",
    "        return line\n",
    "    "
   ]
  },
  {
   "cell_type": "code",
   "execution_count": null,
   "id": "838ff23b",
   "metadata": {
    "tags": []
   },
   "outputs": [],
   "source": [
    "## 判断是否为特殊标识符号\n",
    "##%overwritefile\n",
    "##%file:../src/_is_specialID.py\n",
    "##%noruncode\n",
    "def _is_specialID(self,line):\n",
    "    if line.strip().startswith('##%') or line.strip().startswith('//%'):\n",
    "        return True\n",
    "    return False\n"
   ]
  },
  {
   "cell_type": "code",
   "execution_count": null,
   "id": "00494001-3d72-462d-ae18-08d5e099d6f7",
   "metadata": {
    "tags": []
   },
   "outputs": [],
   "source": [
    "##内核公共代码部分\n",
    "##%overwritefile\n",
    "##%file:../src/kernel_common.py\n",
    "##%noruncode\n",
    "    usleep = lambda x: time.sleep(x/1000000.0)\n",
    "    def addkey2dict(self,magics:Dict,key:str):\n",
    "        if not magics.__contains__(key):\n",
    "            d={key:[]}\n",
    "            magics.update(d)\n",
    "        return magics[key]\n",
    "    def get_magicsbykey(self,magics:Dict,key:str):\n",
    "        return self.addkey2dict(magics,key)\n",
    "    ##全部替换our_str字符串里的to_be_replaced为replace_with\n",
    "    def replacemany(self,our_str, to_be_replaced:str, replace_with:str):\n",
    "        while (to_be_replaced in our_str):\n",
    "            our_str = our_str.replace(to_be_replaced, replace_with)\n",
    "        return our_str\n",
    "    ##处理acb=xxx 这样的参数字符串到字典{}里\n",
    "    def _filter_dict(self,argsstr):\n",
    "        if not argsstr or len(argsstr.strip())<1:\n",
    "            return None\n",
    "        env_dict={}\n",
    "        argsstr=self.replacemany(self.replacemany(self.replacemany(argsstr.strip(),('  '),' '),('= '),'='),' =','=')\n",
    "        pattern = re.compile(r'([^\\s*]*)=\"(.*?)\"|([^\\s*]*)=(\\'.*?\\')|([^\\s*]*)=(.[^\\s]*)')\n",
    "        for argument in pattern.findall(argsstr):\n",
    "            li=list(argument)\n",
    "            li= [i for i in li if i != '']\n",
    "            env_dict[str(li[0])]=li[1]\n",
    "        return env_dict\n",
    "    ##文件处理器\n",
    "    def _fileshander(self,files:List,srcfilename,magics)->str:\n",
    "        index=-1\n",
    "        fristfile=srcfilename\n",
    "        try:\n",
    "            for newsrcfilename in files:\n",
    "                index=index+1\n",
    "                newsrcfilename = os.path.join(os.path.abspath(''),newsrcfilename)\n",
    "                if os.path.exists(newsrcfilename):\n",
    "                    if magics!=None and len(self.addkey2dict(magics,'overwritefile'))<1:\n",
    "                        newsrcfilename +=\".new.py\"\n",
    "                if not os.path.exists(os.path.dirname(newsrcfilename)) :\n",
    "                    os.makedirs(os.path.dirname(newsrcfilename))\n",
    "                if index==0:\n",
    "                    os.rename(srcfilename,newsrcfilename)\n",
    "                    fristfile=newsrcfilename\n",
    "                    files[0]=newsrcfilename\n",
    "                else:\n",
    "                    self._write_to_stdout(\"copy to :\"+newsrcfilename+\"\\n\")\n",
    "                    copyfile(fristfile,newsrcfilename)\n",
    "        except Exception as e:\n",
    "                self._log(str(e),2)\n",
    "        return files[0]"
   ]
  },
  {
   "cell_type": "code",
   "execution_count": null,
   "id": "a7dadc08",
   "metadata": {},
   "outputs": [],
   "source": [
    "## chk_replexit\n",
    "##%overwritefile\n",
    "##%file:../src/chk_replexit.py\n",
    "##%noruncode\n",
    "    def chk_replexit(self,grtsps): \n",
    "        while self.g_chkreplexit:\n",
    "            try:\n",
    "                if len(grtsps)>0: \n",
    "                    for key in grtsps:\n",
    "                        if grtsps[key].child.terminated:\n",
    "                            pass\n",
    "                            del grtsps[key]\n",
    "                        # else:\n",
    "                        #     grtsps[key].write_contents()\n",
    "            finally:\n",
    "                pass\n",
    "        if len(grtsps)>0: \n",
    "            for key in grtsps:\n",
    "                if grtsps[key].child.terminated:\n",
    "                    pass\n",
    "                    del grtsps[key]\n",
    "                else:\n",
    "                    grtsps[key].child.terminate(force=True)\n",
    "                    del grtsps[key]"
   ]
  },
  {
   "cell_type": "code",
   "execution_count": null,
   "id": "c0b66a54-4954-4f4d-9580-3ddc6ae4ab8e",
   "metadata": {
    "tags": []
   },
   "outputs": [],
   "source": [
    "## 清除执行过程中生存的临时文件\n",
    "##%overwritefile\n",
    "##%file:../src/cleanup_files.py\n",
    "##%noruncode\n",
    "    def cleanup_files(self):\n",
    "        \"\"\"Remove all the temporary files created by the kernel\"\"\"\n",
    "        # keep the list of files create in case there is an exception\n",
    "        # before they can be deleted as usual\n",
    "        if self.files != None and len(self.files) > 0:\n",
    "            for file in self.files:\n",
    "                if(os.path.exists(file)):\n",
    "                    os.remove(file)\n",
    "\n"
   ]
  },
  {
   "cell_type": "code",
   "execution_count": 4,
   "id": "e1171ffa-7160-4f60-b7aa-d94934ddbd77",
   "metadata": {
    "tags": []
   },
   "outputs": [
    {
     "data": {
      "text/plain": [
       "[MyPython] Info:file /root/Jupyter/Myjupyter-kernel/base/../src/new_temp_file.py created successfully\n"
      ]
     },
     "metadata": {
      "text/plain": {}
     },
     "output_type": "display_data"
    }
   ],
   "source": [
    "## 产生一个新的临时文件\n",
    "##%overwritefile\n",
    "##%file:../src/new_temp_file.py\n",
    "##%noruncode\n",
    "    def new_temp_file(self, **kwargs):\n",
    "        \"\"\"Create a new temp file to be deleted when the kernel shuts down\"\"\"\n",
    "        # We don't want the file to be deleted when closed, but only when the kernel stops\n",
    "        kwargs['delete'] = False\n",
    "        kwargs['mode'] = 'w'\n",
    "        file = tempfile.NamedTemporaryFile(**kwargs)\n",
    "        self.files.append(file.name)\n",
    "        return file\n",
    "    def create_codetemp_file(self,magics,code,suffix):\n",
    "        source_file=self.new_temp_file(suffix=suffix,dir=os.path.abspath(''))\n",
    "        magics['codefilename']=source_file.name\n",
    "        with  source_file:\n",
    "            source_file.write(code)\n",
    "            source_file.flush()\n",
    "        return source_file"
   ]
  },
  {
   "cell_type": "code",
   "execution_count": null,
   "id": "473d2581-cd55-4292-a64f-2c0c86600c60",
   "metadata": {
    "tags": []
   },
   "outputs": [],
   "source": [
    "## 按 mimetype 格式输出显示内容\n",
    "##%overwritefile\n",
    "##%file:../src/_write_display_data.py\n",
    "##%noruncode\n",
    "    def _write_display_data(self,mimetype='text/html',contents=\"\"):\n",
    "\n",
    "        self.send_response(self.iopub_socket, 'display_data', {'data': {mimetype:contents}, 'metadata': {mimetype:{}}})\n"
   ]
  },
  {
   "cell_type": "code",
   "execution_count": null,
   "id": "2d7282d6-9135-4807-bfea-00a8f497dccd",
   "metadata": {
    "tags": []
   },
   "outputs": [],
   "source": [
    "## 输出结果信息\n",
    "##%overwritefile\n",
    "##%file:../src/_write_to_stdout.py\n",
    "##%noruncode\n",
    "    def _write_to_stdout(self,contents,magics=None):\n",
    "        if magics !=None and len(magics['outputtype'])>0:\n",
    "            self._write_display_data(mimetype=magics['outputtype'],contents=contents)\n",
    "        else:\n",
    "            self.send_response(self.iopub_socket, 'stream', {'name': 'stdout', 'text': contents})\n"
   ]
  },
  {
   "cell_type": "code",
   "execution_count": null,
   "id": "613651e5-a511-4787-a438-9ec794d74d83",
   "metadata": {
    "tags": []
   },
   "outputs": [],
   "source": [
    "## 输出错误信息\n",
    "##%overwritefile\n",
    "##%file:../src/_write_to_stderr.py\n",
    "##%noruncode\n",
    "    def _write_to_stderr(self, contents):\n",
    "        self.send_response(self.iopub_socket, 'stream', {'name': 'stderr', 'text': contents})\n"
   ]
  },
  {
   "cell_type": "code",
   "execution_count": null,
   "id": "3493fad7-252b-4525-9388-c07238939a7e",
   "metadata": {
    "tags": []
   },
   "outputs": [],
   "source": [
    "## 产生一个文本输入框\n",
    "##%overwritefile\n",
    "##%file:../src/_read_from_stdin.py\n",
    "##%noruncode\n",
    "    def _read_from_stdin(self):\n",
    "        return self.raw_input()\n"
   ]
  },
  {
   "cell_type": "code",
   "execution_count": null,
   "id": "1fae2f8b-62da-4250-806c-1c4d5718d27d",
   "metadata": {
    "tags": []
   },
   "outputs": [],
   "source": [
    "## 读取代码文件，include使用\n",
    "##%overwritefile\n",
    "##%file:../src/readcodefile.py\n",
    "##%noruncode\n",
    "    def readcodefile(self,filename,spacecount=0):\n",
    "        filecode=''\n",
    "        codelist1=None\n",
    "        if not os.path.exists(filename):\n",
    "            return ''\n",
    "        with open(os.path.join(os.path.abspath(''),filename), 'r') as codef1:\n",
    "            codelist1 = codef1.readlines()\n",
    "        if len(codelist1)>0:\n",
    "            for t in codelist1:\n",
    "                filecode+=' '*spacecount + t\n",
    "        return filecode\n"
   ]
  },
  {
   "cell_type": "code",
   "execution_count": null,
   "id": "65c481f5-1488-40c4-ab6a-db407ac3b8b0",
   "metadata": {
    "tags": []
   },
   "outputs": [],
   "source": [
    "## 输出信息\n",
    "##%overwritefile\n",
    "##%file:../src/process_output.py\n",
    "##%noruncode\n",
    "    def process_output(self, output,magics=None):\n",
    "        if not self.silent:\n",
    "            if magics !=None and len(magics['outputtype'])>0:\n",
    "                self._write_display_data(mimetype=magics['outputtype'],contents=output)\n",
    "                return\n",
    "            # Send standard output\n",
    "            stream_content = {'name': 'stdout', 'text': output}\n",
    "            self.send_response(self.iopub_socket, 'stream', stream_content)\n"
   ]
  },
  {
   "cell_type": "code",
   "execution_count": null,
   "id": "aa884b4e",
   "metadata": {
    "tags": []
   },
   "outputs": [],
   "source": [
    "## 输出日志信息\n",
    "##%overwritefile\n",
    "##%file:../src/log_output.py\n",
    "##%noruncode\n",
    "    def _log(self, output,level=1,outputtype='text/plain'):\n",
    "        streamname='stdout'\n",
    "        if not self.silent:\n",
    "            prestr=self.kernelinfo+' Info:'\n",
    "            if level==2:\n",
    "                prestr=self.kernelinfo+' Warning:'\n",
    "                streamname='stderr'\n",
    "            elif level==3:\n",
    "                prestr=self.kernelinfo+' Error:'\n",
    "                streamname='stderr'\n",
    "            else:\n",
    "                prestr=self.kernelinfo+' Info:'\n",
    "                streamname='stdout'\n",
    "            if len(outputtype)>0 and (level!=2 or level!=3):\n",
    "                self._write_display_data(mimetype=outputtype,contents=prestr+output)\n",
    "                return\n",
    "            # Send standard output\n",
    "            stream_content = {'name': streamname, 'text': prestr+output}\n",
    "            self.send_response(self.iopub_socket, 'stream', stream_content)\n",
    "    def _logln(self, output,level=1,outputtype='text/plain'):\n",
    "        self._log(output+\"\\n\",level=1,outputtype='text/plain')"
   ]
  },
  {
   "cell_type": "code",
   "execution_count": null,
   "id": "049cb163-fa41-467d-8034-dbd1ff71fff5",
   "metadata": {
    "tags": []
   },
   "outputs": [],
   "source": [
    "## send_cmd\n",
    "##%overwritefile\n",
    "##%file:../src/send_cmd.py\n",
    "##%noruncode\n",
    "    def send_cmd(self,pid,cmd):\n",
    "        try:\n",
    "            # self._write_to_stdout(\"send cmd PID:\"+pid+\"\\n cmd:\"+cmd)\n",
    "            # if self.g_rtsps.has_key(pid):\n",
    "                # self._write_to_stderr(\"[MyPythonkernel] Info:exist! \"+pid+\"\\n\")\n",
    "            # self.g_rtsps[pid].stdin.write(cmd.encode())\n",
    "            self.g_rtsps[pid]._write_to_stdout(cmd)\n",
    "        except Exception as e:\n",
    "            self._log(\"Executable send_cmd error! \"+str(e)+\"\\n\")\n",
    "    \n",
    "        return\n"
   ]
  },
  {
   "cell_type": "code",
   "execution_count": null,
   "id": "ef830dc5-90d4-4760-ac56-513e055b942a",
   "metadata": {
    "tags": []
   },
   "outputs": [],
   "source": [
    "## create_jupyter_subprocess\n",
    "##%overwritefile\n",
    "##%file:../src/create_jupyter_subprocess.py\n",
    "##%noruncode\n",
    "    def create_jupyter_subprocess(self, cmd,cwd=None,shell=False,env=None):\n",
    "        try:\n",
    "            return RealTimeSubprocess(cmd,\n",
    "                                  self._write_to_stdout,\n",
    "                                  self._write_to_stderr,\n",
    "                                  self._read_from_stdin,cwd,shell,env)\n",
    "        except Exception as e:\n",
    "            self._write_to_stdout(\"RealTimeSubprocess err:\"+str(e))\n",
    "            raise\n"
   ]
  },
  {
   "cell_type": "code",
   "execution_count": null,
   "id": "71627cb9-7b53-4a9c-abe6-a34f266eedf3",
   "metadata": {
    "tags": []
   },
   "outputs": [],
   "source": [
    "## compile_with_Python2native\n",
    "##%overwritefile\n",
    "##%file:../src/compile_with_Python2native.py\n",
    "##%noruncode\n",
    "    def compile_with_Python2native(self, source_filename, binary_filename, cflags=None, ldflags=None):\n",
    "        # outfile=None\n",
    "        # outfile= ['-o', binary_filename]\n",
    "        args = ['pyinstaller','-F', source_filename] + cflags + ldflags\n",
    "        # for x in args: self._write_to_stderr(\" \" + x + \" \")\n",
    "        return self.create_jupyter_subprocess(args),source_filename\n"
   ]
  },
  {
   "cell_type": "code",
   "execution_count": null,
   "id": "02af68f9-5806-4b9f-979a-d43fa4242e35",
   "metadata": {
    "tags": []
   },
   "outputs": [],
   "source": [
    "## _add_main\n",
    "##%overwritefile\n",
    "##%file:../src/_add_main.py\n",
    "##%noruncode\n",
    "    def _add_main(self, magics, code):\n",
    "        # remove comments\n",
    "        tmpCode = re.sub(r\"//.*\", \"\", code)\n",
    "        tmpCode = re.sub(r\"/\\*.*?\\*/\", \"\", tmpCode, flags=re.M|re.S)\n",
    "\n",
    "        x = re.search(r\".*\\s+main\\s*\\(\", tmpCode)\n",
    "\n",
    "        if not x:\n",
    "            code = self.main_head + code + self.main_foot\n",
    "            # magics['cflags'] += ['-lm']\n",
    "\n",
    "        return magics, code\n"
   ]
  },
  {
   "cell_type": "code",
   "execution_count": null,
   "id": "918ce56e-eb0d-4669-a71f-70829db4c61f",
   "metadata": {
    "tags": []
   },
   "outputs": [],
   "source": [
    "## do_shutdown\n",
    "##%overwritefile\n",
    "##%file:../src/do_shutdown.py\n",
    "##%noruncode\n",
    "    def do_shutdown(self, restart):\n",
    "        self.g_chkreplexit=False\n",
    "        self.chk_replexit_thread.join()\n",
    "        # self.onkernelshutdown()\n",
    "        \"\"\"Cleanup the created source code files and executables when shutting down the kernel\"\"\"\n",
    "        self.cleanup_files()\n"
   ]
  },
  {
   "cell_type": "code",
   "execution_count": null,
   "id": "d520a59e",
   "metadata": {},
   "outputs": [],
   "source": []
  }
 ],
 "metadata": {
  "interpreter": {
   "hash": "916dbcbb3f70747c44a77c7bcd40155683ae19c65e1c03b4aa3499c5328201f1"
  },
  "kernelspec": {
   "display_name": "MyPython",
   "language": "Python",
   "name": "mypython"
  },
  "language_info": {
   "codemirror_mode": {
    "name": "ipython",
    "version": 3
   },
   "file_extension": ".py",
   "mimetype": "text/x-python",
   "name": "python",
   "nbconvert_exporter": "python",
   "pygments_lexer": "ipython3",
   "version": "3.9.7"
  }
 },
 "nbformat": 4,
 "nbformat_minor": 5
}
