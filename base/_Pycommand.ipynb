{
 "cells": [
  {
   "cell_type": "code",
   "execution_count": null,
   "metadata": {},
   "outputs": [],
   "source": []
  },
  {
   "cell_type": "code",
   "execution_count": 4,
   "id": "f6e5e217-eb21-464c-a092-670fbbb2a076",
   "metadata": {
    "tags": []
   },
   "outputs": [
    {
     "data": {
      "text/plain": [
       "[MyPython] Info:file H:/Jupyter/Myjupyter-kernel/base/../src/do_Py_command.py created successfully\n"
      ]
     },
     "metadata": {
      "text/plain": {}
     },
     "output_type": "display_data"
    }
   ],
   "source": [
    "## do_Py_command\n",
    "##%overwritefile\n",
    "##%file:../src/do_Py_command.py\n",
    "##%noruncode\n",
    "    def do_Py_command(self,commands,cwd=None,shell=False,env=True,magics=None):\n",
    "        try:\n",
    "            cmds=[]\n",
    "            for argument in re.findall(r'(?:[^\\s,\"]|\"(?:\\\\.|[^\"])*\")+', commands.strip()):\n",
    "                cmds += [argument.strip('\"')]\n",
    "            p = self.create_jupyter_subprocess(['python']+cmds,cwd,shell,env=env,magics=magics)\n",
    "            if magics!=None and len(self.get_magicsbykey(magics,'showpid'))>0:\n",
    "                self._write_to_stdout(\"The process PID:\"+str(p.pid)+\"\\n\")\n",
    "            self.g_rtsps[str(p.pid)]=p\n",
    "            returncode=p.wait_end(magics)\n",
    "            del self.g_rtsps[str(p.pid)]\n",
    "\n",
    "            if returncode != 0:\n",
    "                self._logln(\"Executable python exited with code {}\".format(returncode))\n",
    "            else:\n",
    "                self._logln(\"command python success.\")\n",
    "        except Exception as e:\n",
    "            self._logln(\"Executable python command error! \"+str(e)+\"\\n\",3)\n",
    "        return\n"
   ]
  },
  {
   "cell_type": "code",
   "execution_count": null,
   "metadata": {},
   "outputs": [],
   "source": []
  }
 ],
 "metadata": {
  "kernelspec": {
   "display_name": "MyPython",
   "language": "Python",
   "name": "mypython"
  },
  "orig_nbformat": 4
 },
 "nbformat": 4,
 "nbformat_minor": 2
}
