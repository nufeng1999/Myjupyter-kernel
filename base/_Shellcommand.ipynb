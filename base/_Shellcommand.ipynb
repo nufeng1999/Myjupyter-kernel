{
 "cells": [
  {
   "cell_type": "code",
   "execution_count": null,
   "metadata": {},
   "outputs": [],
   "source": []
  },
  {
   "cell_type": "code",
   "execution_count": 4,
   "id": "9e9e1ff2-e5bc-4563-bf2e-9457a93dc5c7",
   "metadata": {
    "tags": []
   },
   "outputs": [
    {
     "name": "stdout",
     "output_type": "stream",
     "text": [
      "[MyPython] Info:file /mnt/h/Jupyter/Myjupyter-kernel/base/../src/do_shell_command.py created successfully\n"
     ]
    }
   ],
   "source": [
    "## do_shell_command\n",
    "##%overwritefile\n",
    "##%file:../src/do_shell_command.py\n",
    "##%noruncode\n",
    "    def do_shell_command(self,commands,cwd=None,shell=False,env=True,magics=None):\n",
    "        ##self._write_to_stdout('do_shell_command '.join((' '+ str(s) for s in commands)))\n",
    "        try:\n",
    "            if len(magics['_bt']['replcmdmode'])>0:\n",
    "                findObj= commands[0].split(\" \",1)\n",
    "                if findObj and len(findObj)>1:\n",
    "                    cmd=findObj[0]\n",
    "                    arguments=findObj[1]\n",
    "                    cmdargs=[]\n",
    "                    for argument in re.findall(r'(?:[^\\s,\"]|\"(?:\\\\.|[^\"])*\")+', arguments):\n",
    "                        cmdargs += [argument.strip('\"')]\n",
    "                    self._write_to_stdout(cmd)\n",
    "                    self._write_to_stdout(''.join((' '+ str(s) for s in cmdargs))+\"\\n\")\n",
    "                    self._start_replprg(cmd,cmdargs,magics)\n",
    "                    return\n",
    "            cmds=[]\n",
    "            for argument in re.findall(r'(?:[^\\s,\"]|\"(?:\\\\.|[^\"])*\")+', commands.strip()):\n",
    "                cmds += [argument.strip('\"')]\n",
    "            ## create_jupyter_subprocess(self, cmd,cwd=None,shell=False,env=None,magics=None)\n",
    "            p = self.create_jupyter_subprocess(cmds,cwd,shell,env=env,magics=magics)\n",
    "            if magics!=None and len(self.get_magicsbykey(magics,'showpid'))>0:\n",
    "                self._write_to_stdout(\"The process PID:\"+str(p.pid)+\"\\n\")\n",
    "            self.g_rtsps[str(p.pid)]=p\n",
    "            returncode=p.wait_end(magics)\n",
    "            del self.g_rtsps[str(p.pid)]\n",
    "            if returncode != 0:\n",
    "                self._logln(\"Executable command exited with code {}\\n\".format(returncode),3)\n",
    "            else:\n",
    "                self._logln(\"command success.\\n\")\n",
    "            return\n",
    "        except Exception as e:\n",
    "            self._logln(\"Executable command error! \"+str(e)+\"\\n\",3)\n"
   ]
  },
  {
   "cell_type": "code",
   "execution_count": null,
   "metadata": {},
   "outputs": [],
   "source": []
  }
 ],
 "metadata": {
  "kernelspec": {
   "display_name": "MyPython",
   "language": "Python",
   "name": "mypython"
  },
  "language_info": {
   "codemirror_mode": {
    "name": "ipython",
    "version": 3
   },
   "file_extension": ".py",
   "mimetype": "text/x-python",
   "name": "python",
   "nbconvert_exporter": "python",
   "pygments_lexer": "ipython3",
   "version": "3.9.7"
  },
  "orig_nbformat": 4
 },
 "nbformat": 4,
 "nbformat_minor": 2
}
