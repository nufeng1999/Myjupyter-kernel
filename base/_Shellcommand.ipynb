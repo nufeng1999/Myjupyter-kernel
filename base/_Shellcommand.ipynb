{
 "cells": [
  {
   "cell_type": "code",
   "execution_count": null,
   "metadata": {},
   "outputs": [],
   "source": []
  },
  {
   "cell_type": "code",
   "execution_count": 4,
   "id": "9e9e1ff2-e5bc-4563-bf2e-9457a93dc5c7",
   "metadata": {
    "tags": []
   },
   "outputs": [
    {
     "data": {
      "text/plain": [
       "[MyPython] Info:file H:/Jupyter/Myjupyter-kernel/base/../src/do_shell_command.py created successfully\n"
      ]
     },
     "metadata": {
      "text/plain": {}
     },
     "output_type": "display_data"
    }
   ],
   "source": [
    "## do_shell_command\n",
    "##%overwritefile\n",
    "##%file:../src/do_shell_command.py\n",
    "##%noruncode\n",
    "    def do_shell_command(self,commands,cwd=None,shell=True,env=True,magics=None):\n",
    "        # self._write_to_stdout(''.join((' '+ str(s) for s in commands)))\n",
    "        try:\n",
    "            if len(magics['_st']['replcmdmode'])>0:\n",
    "                findObj= commands[0].split(\" \",1)\n",
    "                if findObj and len(findObj)>1:\n",
    "                    cmd=findObj[0]\n",
    "                    arguments=findObj[1]\n",
    "                    cmdargs=[]\n",
    "                    for argument in re.findall(r'(?:[^\\s,\"]|\"(?:\\\\.|[^\"])*\")+', arguments):\n",
    "                        cmdargs += [argument.strip('\"')]\n",
    "                    self._write_to_stdout(cmd)\n",
    "                    self._write_to_stdout(''.join((' '+ str(s) for s in cmdargs))+\"\\n\")\n",
    "                    self._start_replprg(cmd,cmdargs,magics)\n",
    "                    return\n",
    "            p = RealTimeSubprocess(commands,\n",
    "                                  self._write_to_stdout,\n",
    "                                  self._write_to_stderr,\n",
    "                                  self._read_from_stdin,cwd,shell,env=env)\n",
    "            self.g_rtsps[str(p.pid)]=p\n",
    "            if magics!=None and len(magics['showpid'])>0:\n",
    "                self._write_to_stdout(\"The process PID:\"+str(p.pid)+\"\\n\")\n",
    "            while p.poll() is None:\n",
    "                p.write_contents()\n",
    "            # wait for threads to finish, so output is always shown\n",
    "            p._stdout_thread.join()\n",
    "            p._stderr_thread.join()\n",
    "            del self.g_rtsps[str(p.pid)]\n",
    "            p.write_contents()\n",
    "            if p.returncode != 0:\n",
    "                self._write_to_stderr(\"[MyPythonkernel] Error: Executable command exited with code {}\\n\".format(p.returncode))\n",
    "            else:\n",
    "                self._write_to_stdout(\"[MyPythonkernel] Info: command success.\\n\")\n",
    "            return\n",
    "        except Exception as e:\n",
    "            self._write_to_stderr(\"[MyPythonkernel] Error:Executable command error! \"+str(e)+\"\\n\")\n"
   ]
  },
  {
   "cell_type": "code",
   "execution_count": null,
   "metadata": {},
   "outputs": [],
   "source": []
  }
 ],
 "metadata": {
  "kernelspec": {
   "display_name": "MyPython",
   "language": "Python",
   "name": "mypython"
  },
  "language_info": {
   "codemirror_mode": {
    "name": "ipython",
    "version": 3
   },
   "file_extension": ".py",
   "mimetype": "text/x-python",
   "name": "python",
   "nbconvert_exporter": "python",
   "pygments_lexer": "ipython3",
   "version": "3.9.7"
  },
  "orig_nbformat": 4
 },
 "nbformat": 4,
 "nbformat_minor": 2
}
