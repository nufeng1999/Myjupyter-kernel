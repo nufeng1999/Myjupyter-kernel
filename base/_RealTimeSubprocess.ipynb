{
 "cells": [
  {
   "cell_type": "code",
   "execution_count": null,
   "metadata": {},
   "outputs": [],
   "source": []
  },
  {
   "cell_type": "code",
   "execution_count": 4,
   "id": "d82c5a0d-37cf-4601-99b0-395e8e13230a",
   "metadata": {
    "tags": []
   },
   "outputs": [
    {
     "data": {
      "text/plain": [
       "[MyPython] Info:file /root/Jupyter/Myjupyter-kernel/base/../src/RealTimeSubprocess.py created successfully\n"
      ]
     },
     "metadata": {
      "text/plain": {}
     },
     "output_type": "display_data"
    }
   ],
   "source": [
    "##%overwritefile\n",
    "##%file:../src/RealTimeSubprocess.py\n",
    "##%noruncode\n",
    "class RealTimeSubprocess(subprocess.Popen):\n",
    "    \"\"\"\n",
    "    A subprocess that allows to read its stdout and stderr in real time\n",
    "    \"\"\"\n",
    "\n",
    "    inputRequest = \"<inputRequest>\"\n",
    "\n",
    "    def __init__(self, cmd, write_to_stdout, write_to_stderr, read_from_stdin,cwd=None,shell=False,env=None):\n",
    "        \"\"\"\n",
    "        :param cmd: the command to execute\n",
    "        :param write_to_stdout: a callable that will be called with chunks of data from stdout\n",
    "        :param write_to_stderr: a callable that will be called with chunks of data from stderr\n",
    "        \"\"\"\n",
    "        self._write_to_stdout = write_to_stdout\n",
    "        self._write_to_stderr = write_to_stderr\n",
    "        self._read_from_stdin = read_from_stdin\n",
    "        if env!=None and len(env)<1:env=None\n",
    "        \n",
    "        super().__init__(cmd, stdout=subprocess.PIPE, stderr=subprocess.PIPE, stdin=subprocess.PIPE,\n",
    "                            bufsize=0,cwd=cwd,shell=shell,env=env)\n",
    "\n",
    "        self._stdout_queue = Queue()\n",
    "        self._stdout_thread = Thread(target=RealTimeSubprocess._enqueue_output, args=(self.stdout, self._stdout_queue))\n",
    "        self._stdout_thread.daemon = True\n",
    "        self._stdout_thread.start()\n",
    "\n",
    "        self._stderr_queue = Queue()\n",
    "        self._stderr_thread = Thread(target=RealTimeSubprocess._enqueue_output, args=(self.stderr, self._stderr_queue))\n",
    "        self._stderr_thread.daemon = True\n",
    "        self._stderr_thread.start()\n",
    "\n",
    "    @staticmethod\n",
    "    def _enqueue_output(stream, queue):\n",
    "        \"\"\"\n",
    "        Add chunks of data from a stream to a queue until the stream is empty.\n",
    "        \"\"\"\n",
    "        for line in iter(lambda: stream.read(4096), b''):\n",
    "            queue.put(line)\n",
    "        stream.close()\n",
    "\n",
    "    def write_contents(self,magics=None):\n",
    "        \"\"\"\n",
    "        Write the available content from stdin and stderr where specified when the instance was created\n",
    "        :return:\n",
    "        \"\"\"\n",
    "\n",
    "        def read_all_from_queue(queue):\n",
    "            res = b''\n",
    "            size = queue.qsize()\n",
    "            while size != 0:\n",
    "                res += queue.get_nowait()\n",
    "                size -= 1\n",
    "            return res\n",
    "        stderr_contents = read_all_from_queue(self._stderr_queue)\n",
    "        if stderr_contents:\n",
    "            self._write_to_stderr(stderr_contents.decode())\n",
    "\n",
    "        stdout_contents = read_all_from_queue(self._stdout_queue)\n",
    "        if stdout_contents:\n",
    "            contents = stdout_contents.decode()\n",
    "            # if there is input request, make output and then\n",
    "            # ask frontend for input\n",
    "            start = contents.find(self.__class__.inputRequest)\n",
    "            if(start >= 0):\n",
    "                contents = contents.replace(self.__class__.inputRequest, '')\n",
    "                if(len(contents) > 0):\n",
    "                    self._write_to_stdout(contents,magics)\n",
    "                readLine = \"\"\n",
    "                while(len(readLine) == 0):\n",
    "                    readLine = self._read_from_stdin()\n",
    "                # need to add newline since it is not captured by frontend\n",
    "                readLine += \"\\n\"\n",
    "                self.stdin.write(readLine.encode())\n",
    "            else:\n",
    "                self._write_to_stdout(contents,magics)\n",
    "\n",
    "    def wait_end(self,magics):\n",
    "        while self.poll() is None:\n",
    "            self.write_contents(magics)\n",
    "        self._write_to_stdout(\"The process end:\"+str(self.pid)+\"\\n\",magics)\n",
    "        ############################################\n",
    "        self.write_contents(magics)\n",
    "        # wait for threads to finish, so output is always shown\n",
    "        self._stdout_thread.join()\n",
    "        self._stderr_thread.join()\n",
    "        self.write_contents(magics)\n",
    "        return self.returncode"
   ]
  },
  {
   "cell_type": "code",
   "execution_count": null,
   "metadata": {},
   "outputs": [],
   "source": []
  }
 ],
 "metadata": {
  "kernelspec": {
   "display_name": "MyPython",
   "language": "Python",
   "name": "mypython"
  },
  "orig_nbformat": 4
 },
 "nbformat": 4,
 "nbformat_minor": 2
}
