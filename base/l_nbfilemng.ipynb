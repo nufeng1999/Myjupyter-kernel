{
 "cells": [
  {
   "cell_type": "code",
   "execution_count": null,
   "metadata": {},
   "outputs": [],
   "source": [
    "## 装入ipynb 文件里的指定cell 内容\n",
    "##%overwritefile\n",
    "## %file:../src/loadnbcellnum.py\n",
    "## %file:../../jupyter-MyPython-kernel/jupyter_MyPython_kernel/loadnbcellnum.py\n",
    "\n",
    "##%fnlist:Python C Dart Kotlin Groovy Java Batch PS R Swift Lua Perl PHP Tcl Vimscript\n",
    "##%fnlist:Gjs Vala Nodejs Bash VBScript WLS Go Html TypeScript Make Ruby Rust\n",
    "##%fileforlist:../../jupyter-My$fnlist-kernel/plugins/loadnbcellnum.py\n",
    "\n",
    "##%noruncode\n",
    "##%cleartest\n",
    "##"
   ]
  },
  {
   "cell_type": "code",
   "execution_count": 31,
   "metadata": {},
   "outputs": [
    {
     "name": "stdout",
     "output_type": "stream",
     "text": [
      "[MyPythonKernel211713] Info:copy to :h:\\Jupyter\\Myjupyter-kernel\\base\\../../jupyter-MyC-kernel/jupyter_MyC-kernel/ipynbfile.py\n",
      "[MyPythonKernel211713] Info:copy to :h:\\Jupyter\\Myjupyter-kernel\\base\\../../jupyter-MyDart-kernel/jupyter_MyDart-kernel/ipynbfile.py\n",
      "[MyPythonKernel211713] Info:copy to :h:\\Jupyter\\Myjupyter-kernel\\base\\../../jupyter-MyKotlin-kernel/jupyter_MyKotlin-kernel/ipynbfile.py\n",
      "[MyPythonKernel211713] Info:copy to :h:\\Jupyter\\Myjupyter-kernel\\base\\../../jupyter-MyGroovy-kernel/jupyter_MyGroovy-kernel/ipynbfile.py\n",
      "[MyPythonKernel211713] Info:copy to :h:\\Jupyter\\Myjupyter-kernel\\base\\../../jupyter-MyJava-kernel/jupyter_MyJava-kernel/ipynbfile.py\n",
      "[MyPythonKernel211713] Info:copy to :h:\\Jupyter\\Myjupyter-kernel\\base\\../../jupyter-MyBatch-kernel/jupyter_MyBatch-kernel/ipynbfile.py\n",
      "[MyPythonKernel211713] Info:copy to :h:\\Jupyter\\Myjupyter-kernel\\base\\../../jupyter-MyPS-kernel/jupyter_MyPS-kernel/ipynbfile.py\n",
      "[MyPythonKernel211713] Info:copy to :h:\\Jupyter\\Myjupyter-kernel\\base\\../../jupyter-MyR-kernel/jupyter_MyR-kernel/ipynbfile.py\n",
      "[MyPythonKernel211713] Info:copy to :h:\\Jupyter\\Myjupyter-kernel\\base\\../../jupyter-MySwift-kernel/jupyter_MySwift-kernel/ipynbfile.py\n",
      "[MyPythonKernel211713] Info:copy to :h:\\Jupyter\\Myjupyter-kernel\\base\\../../jupyter-MyLua-kernel/jupyter_MyLua-kernel/ipynbfile.py\n",
      "[MyPythonKernel211713] Info:copy to :h:\\Jupyter\\Myjupyter-kernel\\base\\../../jupyter-MyPerl-kernel/jupyter_MyPerl-kernel/ipynbfile.py\n",
      "[MyPythonKernel211713] Info:copy to :h:\\Jupyter\\Myjupyter-kernel\\base\\../../jupyter-MyPHP-kernel/jupyter_MyPHP-kernel/ipynbfile.py\n",
      "[MyPythonKernel211713] Info:copy to :h:\\Jupyter\\Myjupyter-kernel\\base\\../../jupyter-MyTcl-kernel/jupyter_MyTcl-kernel/ipynbfile.py\n",
      "[MyPythonKernel211713] Info:copy to :h:\\Jupyter\\Myjupyter-kernel\\base\\../../jupyter-MyVimscript-kernel/jupyter_MyVimscript-kernel/ipynbfile.py\n",
      "[MyPythonKernel211713] Info:copy to :h:\\Jupyter\\Myjupyter-kernel\\base\\../../jupyter-MyGjs-kernel/jupyter_MyGjs-kernel/ipynbfile.py\n",
      "[MyPythonKernel211713] Info:copy to :h:\\Jupyter\\Myjupyter-kernel\\base\\../../jupyter-MyVala-kernel/jupyter_MyVala-kernel/ipynbfile.py\n",
      "[MyPythonKernel211713] Info:copy to :h:\\Jupyter\\Myjupyter-kernel\\base\\../../jupyter-MyNodejs-kernel/jupyter_MyNodejs-kernel/ipynbfile.py\n",
      "[MyPythonKernel211713] Info:copy to :h:\\Jupyter\\Myjupyter-kernel\\base\\../../jupyter-MyBash-kernel/jupyter_MyBash-kernel/ipynbfile.py\n",
      "[MyPythonKernel211713] Info:copy to :h:\\Jupyter\\Myjupyter-kernel\\base\\../../jupyter-MyVBScript-kernel/jupyter_MyVBScript-kernel/ipynbfile.py\n",
      "[MyPythonKernel211713] Info:copy to :h:\\Jupyter\\Myjupyter-kernel\\base\\../../jupyter-MyWLS-kernel/jupyter_MyWLS-kernel/ipynbfile.py\n",
      "[MyPythonKernel211713] Info:copy to :h:\\Jupyter\\Myjupyter-kernel\\base\\../../jupyter-MyGo-kernel/jupyter_MyGo-kernel/ipynbfile.py\n",
      "[MyPythonKernel211713] Info:copy to :h:\\Jupyter\\Myjupyter-kernel\\base\\../../jupyter-MyHtml-kernel/jupyter_MyHtml-kernel/ipynbfile.py\n",
      "[MyPythonKernel211713] Info:copy to :h:\\Jupyter\\Myjupyter-kernel\\base\\../../jupyter-MyTypeScript-kernel/jupyter_MyTypeScript-kernel/ipynbfile.py\n",
      "[MyPythonKernel211713] Info:copy to :h:\\Jupyter\\Myjupyter-kernel\\base\\../../jupyter-MyMake-kernel/jupyter_MyMake-kernel/ipynbfile.py\n",
      "[MyPythonKernel211713] Info:copy to :h:\\Jupyter\\Myjupyter-kernel\\base\\../../jupyter-MyRuby-kernel/jupyter_MyRuby-kernel/ipynbfile.py\n",
      "[MyPythonKernel211713] Info:copy to :h:\\Jupyter\\Myjupyter-kernel\\base\\../../jupyter-MyRust-kernel/jupyter_MyRust-kernel/ipynbfile.py\n",
      "[MyPythonKernel211713] Info:file h:\\Jupyter\\Myjupyter-kernel\\base\\../../jupyter-MyPython-kernel/jupyter_MyPython-kernel/ipynbfile.py created successfully\n"
     ]
    }
   ],
   "source": [
    "## 装入ipynb 文件里的指定cell 内容\n",
    "##%overwritefile\n",
    "## %file:../src/ipynbfile.py\n",
    "## %file:../../jupyter-MyPython-kernel/jupyter_MyPython_kernel/ipynbfile.py\n",
    "##%fnlist:Python C Dart Kotlin Groovy Java Batch PS R Swift Lua Perl PHP Tcl Vimscript\n",
    "##%fnlist:Gjs Vala Nodejs Bash VBScript WLS Go Html TypeScript Make Ruby Rust\n",
    "##%fileforlist:../../jupyter-My$fnlist-kernel/jupyter_My$fnlist-kernel/ipynbfile.py\n",
    "##%noruncode\n",
    "##%cleartest\n",
    "##\n",
    "import json\n",
    "import os\n",
    "from json import JSONDecoder\n",
    "def loadnb(fileitem):\n",
    "    if len(fileitem.strip())<1:return None,None\n",
    "    li=fileitem.split(\" \", 1)\n",
    "    if len(li)<2:return None,None\n",
    "    filename=li[0]\n",
    "    index=int(li[1])\n",
    "    return filename,loadnbcellcode(filename,index)\n",
    "def getnbcodecount(filename):\n",
    "    count=0\n",
    "    try:\n",
    "        with open(filename, 'r',encoding='UTF-8') as f:\n",
    "            jsc = json.load(f)\n",
    "            count=len(jsc['cells'])\n",
    "    except Exception as e:\n",
    "        raise\n",
    "    return count\n",
    "def loadnbcellcode(filename,index):\n",
    "    code=''\n",
    "    decoder = JSONDecoder()\n",
    "    try:\n",
    "        with open(filename, 'r',encoding='UTF-8') as f:\n",
    "            jsc = json.load(f)\n",
    "            if jsc['cells'][index][\"cell_type\"]==\"code\":\n",
    "                source=jsc['cells'][index][\"source\"]\n",
    "                source=eval(str(source))\n",
    "                for c in source:\n",
    "                    code+=c\n",
    "    except Exception as e:\n",
    "        raise\n",
    "        code=''\n",
    "    return code\n",
    "##test_begin\n",
    "# l_mykernel.ipynb\n",
    "# code=loadnbcellnum(\"l_mykernel.ipynb\",0)\n",
    "# code=loadnbcellcode(\"../Myjupyter-kernel/Mythink.ipynb\",2)\n",
    "print(os.getcwd())\n",
    "code=loadnbcellcode(\"..\\Mythink.ipynb\",2)\n",
    "print(code)\n",
    "##test_end"
   ]
  },
  {
   "cell_type": "code",
   "execution_count": null,
   "metadata": {},
   "outputs": [],
   "source": []
  }
 ],
 "metadata": {
  "kernelspec": {
   "display_name": "MyPython",
   "language": "Python",
   "name": "mypython"
  },
  "language_info": {
   "codemirror_mode": {
    "name": "ipython",
    "version": 3
   },
   "file_extension": ".py",
   "mimetype": "text/x-python",
   "name": "python",
   "nbconvert_exporter": "python",
   "pygments_lexer": "ipython3",
   "version": "3.9.6"
  },
  "orig_nbformat": 4
 },
 "nbformat": 4,
 "nbformat_minor": 2
}
