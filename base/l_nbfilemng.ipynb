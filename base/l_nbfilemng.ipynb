{
 "cells": [
  {
   "cell_type": "code",
   "execution_count": null,
   "metadata": {},
   "outputs": [],
   "source": [
    "## 装入ipynb 文件里的指定cell 内容\n",
    "##%overwritefile\n",
    "## %file:../src/loadnbcellnum.py\n",
    "## %file:../../jupyter-MyPython-kernel/jupyter_MyPython_kernel/loadnbcellnum.py\n",
    "\n",
    "##%fnlist:Python C Dart Kotlin Groovy Java Batch PS R Swift Lua Perl PHP Tcl Vimscript\n",
    "##%fnlist:Gjs Vala Nodejs Bash VBScript WLS Go Html TypeScript Make Ruby Rust\n",
    "##%fileforlist:../../jupyter-My$fnlist-kernel/plugins/loadnbcellnum.py\n",
    "\n",
    "##%noruncode\n",
    "##%cleartest\n",
    "##"
   ]
  },
  {
   "cell_type": "code",
   "execution_count": 29,
   "metadata": {},
   "outputs": [
    {
     "name": "stdout",
     "output_type": "stream",
     "text": [
      "[MyPythonKernel211713] Info:copy to :h:\\Jupyter\\Myjupyter-kernel\\base\\../../jupyter-MyC-kernel/plugins/ipynbfile.py\n",
      "[MyPythonKernel211713] Info:copy to :h:\\Jupyter\\Myjupyter-kernel\\base\\../../jupyter-MyDart-kernel/plugins/ipynbfile.py\n",
      "[MyPythonKernel211713] Info:copy to :h:\\Jupyter\\Myjupyter-kernel\\base\\../../jupyter-MyKotlin-kernel/plugins/ipynbfile.py\n",
      "[MyPythonKernel211713] Info:copy to :h:\\Jupyter\\Myjupyter-kernel\\base\\../../jupyter-MyGroovy-kernel/plugins/ipynbfile.py\n",
      "[MyPythonKernel211713] Info:copy to :h:\\Jupyter\\Myjupyter-kernel\\base\\../../jupyter-MyJava-kernel/plugins/ipynbfile.py\n",
      "[MyPythonKernel211713] Info:copy to :h:\\Jupyter\\Myjupyter-kernel\\base\\../../jupyter-MyBatch-kernel/plugins/ipynbfile.py\n",
      "[MyPythonKernel211713] Info:copy to :h:\\Jupyter\\Myjupyter-kernel\\base\\../../jupyter-MyPS-kernel/plugins/ipynbfile.py\n",
      "[MyPythonKernel211713] Info:copy to :h:\\Jupyter\\Myjupyter-kernel\\base\\../../jupyter-MyR-kernel/plugins/ipynbfile.py\n",
      "[MyPythonKernel211713] Info:copy to :h:\\Jupyter\\Myjupyter-kernel\\base\\../../jupyter-MySwift-kernel/plugins/ipynbfile.py\n",
      "[MyPythonKernel211713] Info:copy to :h:\\Jupyter\\Myjupyter-kernel\\base\\../../jupyter-MyLua-kernel/plugins/ipynbfile.py\n",
      "[MyPythonKernel211713] Info:copy to :h:\\Jupyter\\Myjupyter-kernel\\base\\../../jupyter-MyPerl-kernel/plugins/ipynbfile.py\n",
      "[MyPythonKernel211713] Info:copy to :h:\\Jupyter\\Myjupyter-kernel\\base\\../../jupyter-MyPHP-kernel/plugins/ipynbfile.py\n",
      "[MyPythonKernel211713] Info:copy to :h:\\Jupyter\\Myjupyter-kernel\\base\\../../jupyter-MyTcl-kernel/plugins/ipynbfile.py\n",
      "[MyPythonKernel211713] Info:copy to :h:\\Jupyter\\Myjupyter-kernel\\base\\../../jupyter-MyVimscript-kernel/plugins/ipynbfile.py\n",
      "[MyPythonKernel211713] Info:copy to :h:\\Jupyter\\Myjupyter-kernel\\base\\../../jupyter-MyGjs-kernel/plugins/ipynbfile.py\n",
      "[MyPythonKernel211713] Info:copy to :h:\\Jupyter\\Myjupyter-kernel\\base\\../../jupyter-MyVala-kernel/plugins/ipynbfile.py\n",
      "[MyPythonKernel211713] Info:copy to :h:\\Jupyter\\Myjupyter-kernel\\base\\../../jupyter-MyNodejs-kernel/plugins/ipynbfile.py\n",
      "[MyPythonKernel211713] Info:copy to :h:\\Jupyter\\Myjupyter-kernel\\base\\../../jupyter-MyBash-kernel/plugins/ipynbfile.py\n",
      "[MyPythonKernel211713] Info:copy to :h:\\Jupyter\\Myjupyter-kernel\\base\\../../jupyter-MyVBScript-kernel/plugins/ipynbfile.py\n",
      "[MyPythonKernel211713] Info:copy to :h:\\Jupyter\\Myjupyter-kernel\\base\\../../jupyter-MyWLS-kernel/plugins/ipynbfile.py\n",
      "[MyPythonKernel211713] Info:copy to :h:\\Jupyter\\Myjupyter-kernel\\base\\../../jupyter-MyGo-kernel/plugins/ipynbfile.py\n",
      "[MyPythonKernel211713] Info:copy to :h:\\Jupyter\\Myjupyter-kernel\\base\\../../jupyter-MyHtml-kernel/plugins/ipynbfile.py\n",
      "[MyPythonKernel211713] Info:copy to :h:\\Jupyter\\Myjupyter-kernel\\base\\../../jupyter-MyTypeScript-kernel/plugins/ipynbfile.py\n",
      "[MyPythonKernel211713] Info:copy to :h:\\Jupyter\\Myjupyter-kernel\\base\\../../jupyter-MyMake-kernel/plugins/ipynbfile.py\n",
      "[MyPythonKernel211713] Info:copy to :h:\\Jupyter\\Myjupyter-kernel\\base\\../../jupyter-MyRuby-kernel/plugins/ipynbfile.py\n",
      "[MyPythonKernel211713] Info:copy to :h:\\Jupyter\\Myjupyter-kernel\\base\\../../jupyter-MyRust-kernel/plugins/ipynbfile.py\n",
      "[MyPythonKernel211713] Info:file h:\\Jupyter\\Myjupyter-kernel\\base\\../../jupyter-MyPython-kernel/plugins/ipynbfile.py created successfully\n"
     ]
    }
   ],
   "source": [
    "## 装入ipynb 文件里的指定cell 内容\n",
    "##%overwritefile\n",
    "## %file:../src/ipynbfile.py\n",
    "## %file:../../jupyter-MyPython-kernel/jupyter_MyPython_kernel/ipynbfile.py\n",
    "##%fnlist:Python C Dart Kotlin Groovy Java Batch PS R Swift Lua Perl PHP Tcl Vimscript\n",
    "##%fnlist:Gjs Vala Nodejs Bash VBScript WLS Go Html TypeScript Make Ruby Rust\n",
    "##%fileforlist:../../jupyter-My$fnlist-kernel/plugins/ipynbfile.py\n",
    "##%noruncode\n",
    "##%cleartest\n",
    "##\n",
    "import json\n",
    "import os\n",
    "from json import JSONDecoder\n",
    "def loadnb(fileitem):\n",
    "    if len(fileitem.strip())<1:return None,None\n",
    "    li=fileitem.split(\" \", 1)\n",
    "    if len(li)<2:return None,None\n",
    "    filename=li[0]\n",
    "    index=int(li[1])\n",
    "    return filename,loadnbcellcode(filename,index)\n",
    "def getnbcodecount(filename):\n",
    "    count=0\n",
    "    try:\n",
    "        with open(filename, 'r',encoding='UTF-8') as f:\n",
    "            jsc = json.load(f)\n",
    "            count=len(jsc['cells'])\n",
    "    except Exception as e:\n",
    "        raise\n",
    "    return count\n",
    "def loadnbcellcode(filename,index):\n",
    "    code=''\n",
    "    decoder = JSONDecoder()\n",
    "    try:\n",
    "        with open(filename, 'r',encoding='UTF-8') as f:\n",
    "            jsc = json.load(f)\n",
    "            if jsc['cells'][index][\"cell_type\"]==\"code\":\n",
    "                source=jsc['cells'][index][\"source\"]\n",
    "                source=eval(str(source))\n",
    "                for c in source:\n",
    "                    code+=c\n",
    "    except Exception as e:\n",
    "        raise\n",
    "        code=''\n",
    "    return code\n",
    "##test_begin\n",
    "# l_mykernel.ipynb\n",
    "# code=loadnbcellnum(\"l_mykernel.ipynb\",0)\n",
    "# code=loadnbcellcode(\"../Myjupyter-kernel/Mythink.ipynb\",2)\n",
    "print(os.getcwd())\n",
    "code=loadnbcellcode(\"..\\Mythink.ipynb\",2)\n",
    "print(code)\n",
    "##test_end"
   ]
  },
  {
   "cell_type": "code",
   "execution_count": null,
   "metadata": {},
   "outputs": [],
   "source": []
  }
 ],
 "metadata": {
  "kernelspec": {
   "display_name": "MyPython",
   "language": "Python",
   "name": "mypython"
  },
  "language_info": {
   "codemirror_mode": {
    "name": "ipython",
    "version": 3
   },
   "file_extension": ".py",
   "mimetype": "text/x-python",
   "name": "python",
   "nbconvert_exporter": "python",
   "pygments_lexer": "ipython3",
   "version": "3.9.6"
  },
  "orig_nbformat": 4
 },
 "nbformat": 4,
 "nbformat_minor": 2
}
