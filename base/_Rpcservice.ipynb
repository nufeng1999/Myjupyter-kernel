{
 "cells": [
  {
   "cell_type": "code",
   "execution_count": 8,
   "metadata": {},
   "outputs": [
    {
     "name": "stdout",
     "output_type": "stream",
     "text": [
      "[MyPythonKernel211735] Info:file h:\\Jupyter\\Myjupyter-kernel\\base\\../src/_rpcservice.py created successfully\n"
     ]
    }
   ],
   "source": [
    "## RPC 服务\n",
    "##%overwritefile\n",
    "##%file:../src/_rpcservice.py\n",
    "##%noruncode\n",
    "     \n",
    "    def start_srvmode(self,magics,rpcsrvobj,rpcurl=None):\n",
    "        ## 使用线程启动\n",
    "        if self._rpcsrv_thread != None:\n",
    "            return\n",
    "        self._rpcsrv_thread = Thread(target=MyMagics.rpc_srv, args=(self,magics,rpcsrvobj,rpcurl))\n",
    "        self._rpcsrv_thread.daemon = True\n",
    "        self._logln(\"srvmode start...\")\n",
    "        self._rpcsrv_thread.start()\n",
    "    def rpc_srv(kobj,magics,rpcsrvobj,rpcurl=None):\n",
    "        rurl=rpcurl\n",
    "        # kobj.__rpcsrv = None\n",
    "        if rpcurl==None:\n",
    "            rurl=kobj.get_magicsSvalue(magics,'srvmode')\n",
    "        if rpcsrvobj!=None and rurl!=None and len(rurl)>0:\n",
    "            try:\n",
    "                kobj.__rpcsrv = zerorpc.Server(rpcsrvobj)\n",
    "                kobj.__rpcsrv._context.setsockopt(socket.SO_REUSEADDR, 1)\n",
    "                kobj.__rpcsrv.bind(rurl)\n",
    "                kobj.__rpcsrv.run()\n",
    "            except Exception as e:\n",
    "                kobj._logln(\"start_srvmode err:\"+str(e),3)\n",
    "                if kobj.__rpcsrv!=None :kobj.__rpcsrv.close()\n",
    "        else:\n",
    "            kobj._logln(\"srvmode err！\",3)\n",
    "        return \n",
    "    def stop_srvmode(self):\n",
    "        if self.__rpcsrv!=None :\n",
    "            try:\n",
    "                rurl=self.get_magicsSvalue(self.first_magics,'srvmode')\n",
    "                self.__rpcsrv.disconnect(rurl)\n",
    "                self.__rpcsrv.stop()\n",
    "                self.__rpcsrv.close()\n",
    "                self.__rpcsrv._context.destroy()\n",
    "                # self._put2stdin_queue = None\n",
    "            except Exception as e:\n",
    "                pass\n",
    "        # self._rpcsrv_thread.join()"
   ]
  },
  {
   "cell_type": "code",
   "execution_count": 6,
   "metadata": {},
   "outputs": [
    {
     "name": "stdout",
     "output_type": "stream",
     "text": [
      "[MyPythonKernel211735] Info:file h:\\Jupyter\\Myjupyter-kernel\\base\\../src/_getrpccli.py created successfully\n"
     ]
    }
   ],
   "source": [
    "## RPC 客户端\n",
    "##%overwritefile\n",
    "##%file:../src/_getrpccli.py\n",
    "##%noruncode\n",
    "    def get_rpcsrvobj(self,magics,rpcurl=None):\n",
    "        rpcsrvobj=None\n",
    "        if rpcurl==None:\n",
    "            rpcurl=self.get_magicsSvalue(magics,'srvurl')\n",
    "        if rpcurl!=None and len(rpcurl)>0:\n",
    "            try:\n",
    "                ## self._logln('rpcsrvobj.connect '+rpcurl)\n",
    "                rpcsrvobj = zerorpc.Client()\n",
    "                rpcsrvobj.connect(rpcurl)\n",
    "            except Exception as e:\n",
    "                ## self._logln(\"rpccli err:\"+str(e),3)\n",
    "                if rpcsrvobj!=None :rpcsrvobj.close()\n",
    "                rpcsrvobj=None\n",
    "        return rpcsrvobj\n",
    "    def send_stdincmd(self,magics,rpcurl,cmdstr):\n",
    "        ## 发送命令后关闭rpc连接\n",
    "        if rpcurl==None or len(rpcurl.strip())<3:\n",
    "            rpcurl=self.get_magicsSvalue(magics,'srvurl')\n",
    "        if rpcurl!=None and len(rpcurl.strip())>0:\n",
    "            try:\n",
    "                ## self._logln('get_rpcsrvobj '+rpcurl)\n",
    "                rpcsrvobj=self.get_rpcsrvobj(magics,rpcurl)\n",
    "                if rpcsrvobj!=None:\n",
    "                    ## self._logln('rpcsrvobj.stdincmd '+cmdstr)\n",
    "                    rpcsrvobj.stdincmd(cmdstr)\n",
    "                    rpcsrvobj.close()\n",
    "            except Exception as e:\n",
    "                pass\n",
    "    def send_cmd(self,magics,rpcurl,cmdstr):\n",
    "        ## 发送命令后关闭rpc连接\n",
    "        if rpcurl==None or len(rpcurl.strip())<3:\n",
    "            rpcurl=self.get_magicsSvalue(magics,'srvurl')\n",
    "        if rpcurl!=None and len(rpcurl.strip())>0:\n",
    "            try:\n",
    "                ## self._logln('send_cmd '+rpcurl)\n",
    "                rpcsrvobj=self.get_rpcsrvobj(magics,rpcurl)\n",
    "                if rpcsrvobj!=None:\n",
    "                    ## self._logln('rpcsrvobj.cmd '+cmdstr)\n",
    "                    rpcsrvobj.cmd(cmdstr)\n",
    "                    rpcsrvobj.close()\n",
    "            except Exception as e:\n",
    "                pass\n",
    "    def exec_rpccmd(self,magics,rpcurl=None,func=None,*args,**kwargs):\n",
    "        if self.rpcsrvobj==None and rpcurl!=None and len(rpcurl)>0:\n",
    "            self.rpcsrvobj=self.get_rpccli(magics,rpcurl=rpcurl)\n",
    "        if self.rpcsrvobj!=None and func!=None:\n",
    "            ret=func(*args,**kwargs)\n",
    "            return ret\n",
    "        return None\n"
   ]
  },
  {
   "cell_type": "code",
   "execution_count": 7,
   "metadata": {},
   "outputs": [
    {
     "name": "stdout",
     "output_type": "stream",
     "text": [
      "[MyPythonKernel211735] Info:file h:\\Jupyter\\Myjupyter-kernel\\base\\../src/_RPCClass.py created successfully\n"
     ]
    }
   ],
   "source": [
    "## RPC 服务类\n",
    "##%overwritefile\n",
    "##%file:../src/_RPCClass.py\n",
    "##%noruncode\n",
    "class RPCsrv(object):\n",
    "\n",
    "    def __init__(self,kobj,magics):\n",
    "        self.kobj=kobj\n",
    "        self.magics=magics\n",
    "    def output(self, contents):\n",
    "        self.kobj._logln(contents)\n",
    "        return\n",
    "    def stdincmd(self,cmdstr,outencode='UTF-8'):\n",
    "        pass\n",
    "        ## self.kobj._logln(\"stdincmd received:\"+cmdstr)\n",
    "        ## 放入stdin队列里\n",
    "        if self.kobj._put2stdin_queue.full(): return ''\n",
    "        self.kobj._put2stdin_queue.put(cmdstr.encode(outencode, errors='ignore'))\n",
    "        return cmdstr\n",
    "    def cmd(self,cmdstr,outencode='UTF-8'):\n",
    "        self.kobj._logln(\"cmd received:\"+cmdstr)\n",
    "        if cmdstr.strip()=='stopsrv':\n",
    "            self.kobj.stop_srvmode()\n",
    "        return cmdstr\n",
    "    def retryexeccode(self):\n",
    "        self.kobj.do_retryexeccode()\n",
    "        return\n",
    "    def stopsrv(self):\n",
    "        self.kobj.stop_srvmode()\n",
    "        return\n",
    "    "
   ]
  },
  {
   "cell_type": "code",
   "execution_count": null,
   "metadata": {},
   "outputs": [],
   "source": []
  }
 ],
 "metadata": {
  "kernelspec": {
   "display_name": "MyPython",
   "language": "Python",
   "name": "mypython"
  },
  "language_info": {
   "codemirror_mode": {
    "name": "ipython",
    "version": 3
   },
   "file_extension": ".py",
   "mimetype": "text/x-python",
   "name": "python",
   "nbconvert_exporter": "python",
   "pygments_lexer": "ipython3",
   "version": "3.9.6"
  },
  "orig_nbformat": 4
 },
 "nbformat": 4,
 "nbformat_minor": 2
}
