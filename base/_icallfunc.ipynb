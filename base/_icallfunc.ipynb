{
 "cells": [
  {
   "cell_type": "code",
   "execution_count": 4,
   "metadata": {},
   "outputs": [
    {
     "data": {
      "text/plain": [
       "[MyPython] Info:file /root/Jupyter/Myjupyter-kernel/base/../src/_icallfunc.py created successfully\n"
      ]
     },
     "metadata": {
      "text/plain": {}
     },
     "output_type": "display_data"
    }
   ],
   "source": [
    "##触发接口调用\n",
    "##%overwritefile\n",
    "##%file:../src/_icallfunc.py\n",
    "##%noruncode\n",
    "    def raise_plugin(self,code,magics,returncode=None,filename='',ifunc=1,ieven=1)->Tuple[bool,str]:\n",
    "        bcancel_exec=False\n",
    "        bretcancel_exec=False\n",
    "        retstr=''\n",
    "        for pluginlist in self.plugins:\n",
    "            for pkey,pvalue in pluginlist.items():\n",
    "                # print( pkey +\":\"+str(len(pvalue))+\"\\n\")\n",
    "                for pobj in pvalue:\n",
    "                    newline=''\n",
    "                    try:\n",
    "                        # if key in pobj.getIDSptag(pobj):\n",
    "                        if ifunc==1 and ieven==1:\n",
    "                                bretcancel_exec,retstr=pobj.on_before_buildfile(pobj,code,magics)\n",
    "                        elif ifunc==2 and ieven==1:\n",
    "                                bretcancel_exec,retstr=pobj.on_before_compile(pobj,code,magics)\n",
    "                        elif ifunc==3 and ieven==1:\n",
    "                                bretcancel_exec,retstr=pobj.on_before_exec(pobj,code,magics)\n",
    "                        elif ifunc==1 and ieven==2:\n",
    "                                bretcancel_exec=pobj.on_after_buildfile(pobj,returncode,filename,magics)\n",
    "                        elif ifunc==2 and ieven==2:\n",
    "                                bretcancel_exec=pobj.on_after_compile(pobj,returncode,filename,magics)\n",
    "                        elif ifunc==3 and ieven==2:\n",
    "                                bretcancel_exec=pobj.on_after_exec(pobj,returncode,filename,magics)\n",
    "                        elif ifunc==3 and ieven==3:\n",
    "                                bretcancel_exec=pobj.on_after_completion(pobj,returncode,filename,magics)        \n",
    "                        bcancel_exec=bretcancel_exec & bcancel_exec\n",
    "                        if bcancel_exec:\n",
    "                            return bcancel_exec,\"\"\n",
    "                            // return {'status': 'ok', 'execution_count': self.execution_count, 'payload': [], 'user_expressions': {}}\n",
    "                    except Exception as e:\n",
    "                        self._log(pobj.getName(pobj)+\"---\"+str(e)+\"\\n\")\n",
    "                    finally:pass\n",
    "        return bcancel_exec,retstr\n",
    "    \n"
   ]
  },
  {
   "cell_type": "code",
   "execution_count": null,
   "metadata": {},
   "outputs": [],
   "source": []
  }
 ],
 "metadata": {
  "kernelspec": {
   "display_name": "MyPython",
   "language": "Python",
   "name": "mypython"
  },
  "language_info": {
   "codemirror_mode": {
    "name": "ipython",
    "version": 3
   },
   "file_extension": ".py",
   "mimetype": "text/x-python",
   "name": "python",
   "nbconvert_exporter": "python",
   "pygments_lexer": "ipython3",
   "version": "3.9.7"
  },
  "orig_nbformat": 4
 },
 "nbformat": 4,
 "nbformat_minor": 2
}
