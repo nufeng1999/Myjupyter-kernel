{
 "cells": [
  {
   "cell_type": "code",
   "execution_count": 4,
   "metadata": {},
   "outputs": [
    {
     "name": "stdout",
     "output_type": "stream",
     "text": [
      "[MyPythonKernel143624] Info:../src/_icallfunc.py\n",
      "[MyPythonKernel143624] Info:file /mnt/h/Jupyter/Myjupyter-kernel/base/../src/_icallfunc.py created successfully\n"
     ]
    }
   ],
   "source": [
    "##触发接口调用\n",
    "##%overwritefile\n",
    "##%file:../src/_icallfunc.py\n",
    "##%noruncode\n",
    "    def raise_plugin(self,code,magics,returncode=None,filename='',ifunc=1,ieven=1)->Tuple[bool,str]:\n",
    "        bcancel_exec=False\n",
    "        bretcancel_exec=False\n",
    "        retstr=''\n",
    "        for pluginlist in self.plugins:\n",
    "            for pkey,pvalue in pluginlist.items():\n",
    "                # print( pkey +\":\"+str(len(pvalue))+\"\\n\")\n",
    "                for pobj in pvalue:\n",
    "                    newline=''\n",
    "                    try:\n",
    "                        # if key in pobj.getIDSptag(pobj):\n",
    "                        if ifunc==1 and ieven==1:\n",
    "                                bretcancel_exec,retstr=pobj.on_before_buildfile(pobj,code,magics)\n",
    "                        elif ifunc==2 and ieven==1:\n",
    "                                bretcancel_exec,retstr=pobj.on_before_compile(pobj,code,magics)\n",
    "                        elif ifunc==3 and ieven==1:\n",
    "                                bretcancel_exec,retstr=pobj.on_before_exec(pobj,code,magics)\n",
    "                        elif ifunc==1 and ieven==2:\n",
    "                                bretcancel_exec=pobj.on_after_buildfile(pobj,returncode,filename,magics)\n",
    "                        elif ifunc==2 and ieven==2:\n",
    "                                bretcancel_exec=pobj.on_after_compile(pobj,returncode,filename,magics)\n",
    "                        elif ifunc==3 and ieven==2:\n",
    "                                bretcancel_exec=pobj.on_after_exec(pobj,returncode,filename,magics)\n",
    "                        elif ifunc==3 and ieven==3:\n",
    "                                bretcancel_exec=pobj.on_after_completion(pobj,returncode,filename,magics)        \n",
    "                        bcancel_exec=bretcancel_exec & bcancel_exec\n",
    "                        if bcancel_exec:\n",
    "                            return bcancel_exec,\"\"\n",
    "                            ## return {'status': 'ok', 'execution_count': self.execution_count, 'payload': [], 'user_expressions': {}}\n",
    "                    except Exception as e:\n",
    "                        self._log(pobj.getName(pobj)+\"---\"+str(e)+\"\\n\")\n",
    "                    finally:pass\n",
    "        return bcancel_exec,retstr\n",
    "    \n"
   ]
  },
  {
   "cell_type": "code",
   "execution_count": 5,
   "metadata": {},
   "outputs": [
    {
     "name": "stdout",
     "output_type": "stream",
     "text": [
      "[MyPythonKernel143624] Info:../src/code_sfile_start.py\n",
      "[MyPythonKernel143624] Info:file /mnt/h/Jupyter/Myjupyter-kernel/base/../src/code_sfile_start.py created successfully\n"
     ]
    }
   ],
   "source": [
    "##生成文件前通知插件\n",
    "##%overwritefile\n",
    "##%file:../src/code_sfile_start.py\n",
    "##%noruncode\n",
    "bcancel_exec,retstr=self.raise_plugin(code,magics,return_code,file_name,1,1)\n",
    "if bcancel_exec:return  self.get_retinfo()\n"
   ]
  },
  {
   "cell_type": "code",
   "execution_count": 6,
   "metadata": {},
   "outputs": [
    {
     "name": "stdout",
     "output_type": "stream",
     "text": [
      "[MyPythonKernel143624] Info:../src/code_sfile_complete.py\n",
      "[MyPythonKernel143624] Info:file /mnt/h/Jupyter/Myjupyter-kernel/base/../src/code_sfile_complete.py created successfully\n"
     ]
    }
   ],
   "source": [
    "##生成文件后通知插件\n",
    "##%overwritefile\n",
    "##%file:../src/code_sfile_complete.py\n",
    "##%noruncode\n",
    "bcancel_exec,retstr=self.raise_plugin(code,magics,return_code,file_name,1,2)\n",
    "if bcancel_exec:return  self.get_retinfo()\n"
   ]
  },
  {
   "cell_type": "code",
   "execution_count": 7,
   "metadata": {},
   "outputs": [
    {
     "name": "stdout",
     "output_type": "stream",
     "text": [
      "[MyPythonKernel143624] Info:../src/code_cfile_start.py\n",
      "[MyPythonKernel143624] Info:file /mnt/h/Jupyter/Myjupyter-kernel/base/../src/code_cfile_start.py created successfully\n"
     ]
    }
   ],
   "source": [
    "##编译文件前通知插件\n",
    "##%overwritefile\n",
    "##%file:../src/code_cfile_start.py\n",
    "##%noruncode\n",
    "bcancel_exec,retstr=self.raise_plugin(code,magics,return_code,file_name,2,1)\n",
    "if bcancel_exec:return  self.get_retinfo()\n"
   ]
  },
  {
   "cell_type": "code",
   "execution_count": 8,
   "metadata": {},
   "outputs": [
    {
     "name": "stdout",
     "output_type": "stream",
     "text": [
      "[MyPythonKernel143624] Info:../src/code_cfile_complete.py\n",
      "[MyPythonKernel143624] Info:file /mnt/h/Jupyter/Myjupyter-kernel/base/../src/code_cfile_complete.py created successfully\n"
     ]
    }
   ],
   "source": [
    "##编译文件后通知插件\n",
    "##%overwritefile\n",
    "##%file:../src/code_cfile_complete.py\n",
    "##%noruncode\n",
    "bcancel_exec,retstr=self.raise_plugin(code,magics,return_code,file_name,2,2)\n",
    "if bcancel_exec:return  self.get_retinfo()\n"
   ]
  },
  {
   "cell_type": "code",
   "execution_count": 9,
   "metadata": {},
   "outputs": [
    {
     "name": "stdout",
     "output_type": "stream",
     "text": [
      "[MyPythonKernel143624] Info:../src/code_run_start.py\n",
      "[MyPythonKernel143624] Info:file /mnt/h/Jupyter/Myjupyter-kernel/base/../src/code_run_start.py created successfully\n"
     ]
    }
   ],
   "source": [
    "##运行文件前通知插件\n",
    "##%overwritefile\n",
    "##%file:../src/code_run_start.py\n",
    "##%noruncode\n",
    "bcancel_exec,retstr=self.raise_plugin(code,magics,return_code,file_name,3,1)\n",
    "if bcancel_exec:return self.get_retinfo()\n"
   ]
  },
  {
   "cell_type": "code",
   "execution_count": 10,
   "metadata": {},
   "outputs": [
    {
     "name": "stdout",
     "output_type": "stream",
     "text": [
      "[MyPythonKernel143624] Info:../src/code_runing.py\n",
      "[MyPythonKernel143624] Info:file /mnt/h/Jupyter/Myjupyter-kernel/base/../src/code_runing.py created successfully\n"
     ]
    }
   ],
   "source": [
    "##文件启动后通知插件\n",
    "##%overwritefile\n",
    "##%file:../src/code_runing.py\n",
    "##%noruncode\n",
    "bcancel_exec,retstr=self.raise_plugin(code,magics,return_code,file_name,3,2)\n",
    "if bcancel_exec:return self.get_retinfo()\n"
   ]
  },
  {
   "cell_type": "code",
   "execution_count": 11,
   "metadata": {},
   "outputs": [
    {
     "name": "stdout",
     "output_type": "stream",
     "text": [
      "[MyPythonKernel143624] Info:../src/code_run_complete.py\n",
      "[MyPythonKernel143624] Info:file /mnt/h/Jupyter/Myjupyter-kernel/base/../src/code_run_complete.py created successfully\n"
     ]
    }
   ],
   "source": [
    "##文件执行结束后通知插件\n",
    "##%overwritefile\n",
    "##%file:../src/code_run_complete.py\n",
    "##%noruncode\n",
    "bcancel_exec,retstr=self.raise_plugin(code,magics,return_code,file_name,3,3)\n",
    "if bcancel_exec:return self.get_retinfo()\n"
   ]
  }
 ],
 "metadata": {
  "kernelspec": {
   "display_name": "MyPython",
   "language": "Python",
   "name": "mypython"
  },
  "language_info": {
   "codemirror_mode": {
    "name": "ipython",
    "version": 3
   },
   "file_extension": ".py",
   "mimetype": "text/x-python",
   "name": "python",
   "nbconvert_exporter": "python",
   "pygments_lexer": "ipython3",
   "version": "3.9.7"
  },
  "orig_nbformat": 4
 },
 "nbformat": 4,
 "nbformat_minor": 2
}
