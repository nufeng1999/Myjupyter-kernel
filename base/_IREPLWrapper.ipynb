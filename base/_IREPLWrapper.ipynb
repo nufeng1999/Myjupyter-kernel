{
 "cells": [
  {
   "cell_type": "code",
   "execution_count": null,
   "metadata": {},
   "outputs": [],
   "source": []
  },
  {
   "cell_type": "code",
   "execution_count": 4,
   "id": "0cbe6b80-7e1f-4dd0-a9c7-fd2558067f6c",
   "metadata": {
    "tags": []
   },
   "outputs": [
    {
     "data": {
      "text/plain": [
       "[MyPython] Info:file H:/Jupyter/Myjupyter-kernel/base/../src/IREPLWrapper.py created successfully\n"
      ]
     },
     "metadata": {
      "text/plain": {}
     },
     "output_type": "display_data"
    }
   ],
   "source": [
    "##%overwritefile\n",
    "##%file:../src/IREPLWrapper.py\n",
    "##%noruncode\n",
    "class IREPLWrapper(replwrap.REPLWrapper):\n",
    "    \"\"\"A subclass of REPLWrapper that gives incremental output\n",
    "    specifically for gdb_kernel.\n",
    "\n",
    "    The parameters are the same as for REPLWrapper, except for one\n",
    "    extra parameter:\n",
    "\n",
    "    :param line_output_callback: a callback method to receive each batch\n",
    "      of incremental output. It takes one string parameter.\n",
    "    \"\"\"\n",
    "    def __init__(self, write_to_stdout, write_to_stderr, read_from_stdin,\n",
    "                cmd_or_spawn,replsetip, orig_prompt, prompt_change,\n",
    "                extra_init_cmd=None, line_output_callback=None):\n",
    "        self._write_to_stdout = write_to_stdout\n",
    "        self._write_to_stderr = write_to_stderr\n",
    "        self._read_from_stdin = read_from_stdin\n",
    "        self.line_output_callback = line_output_callback\n",
    "        self.replsetip=replsetip\n",
    "        self.startflag=True\n",
    "        self.startexpecttimeout=60\n",
    "        # x = time.localtime(time.time())\n",
    "        self.start_time = time.time()\n",
    "        replwrap.REPLWrapper.__init__(self, cmd_or_spawn, orig_prompt,\n",
    "                                      prompt_change,extra_init_cmd=extra_init_cmd)\n",
    " \n",
    "    def _expect_prompt(self, timeout=-1):\n",
    "        if timeout ==None :\n",
    "            # \"None\" means we are executing code from a Jupyter cell by way of the run_command\n",
    "            # in the do_execute() code below, so do incremental output.\n",
    "            retry=0\n",
    "            received=False\n",
    "            cmdstart_time = time.time()\n",
    "            cmdexectimeout=10\n",
    "            while True:\n",
    "                if self.startflag :\n",
    "                    cmdexectimeout=None\n",
    "                    run_time = time.time() - cmdstart_time\n",
    "                    if run_time > self.startexpecttimeout:\n",
    "                        self.startflag=False\n",
    "                        self.line_output_callback(self.child.before + '\\r\\n')\n",
    "                        # self.line_output_callback(\"\\nEnd of startup process\\n\")\n",
    "                        break\n",
    "                try:\n",
    "                    pos = self.child.expect_exact([self.prompt, self.continuation_prompt, self.replsetip, pexpect.EOF, pexpect.TIMEOUT],timeout=cmdexectimeout)\n",
    "                    if pos == 2:\n",
    "                        # End of line received\n",
    "                        if self.child.terminated:\n",
    "                            self.line_output_callback(\"\\nprocess.terminated\\n\")\n",
    "                        self.line_output_callback(self.child.before +self.replsetip+ '\\r\\n')\n",
    "                        self.line_output_callback(\"\\nEnd of startup process\\n\")\n",
    "                        self.replsetip=u'\\r\\n'\n",
    "                        cmdexectimeout=None\n",
    "                        self.startflag=False\n",
    "                        break\n",
    "                    elif pos ==3:\n",
    "                        if len(self.child.before) != 0:\n",
    "                            self.line_output_callback(self.child.before + '\\r\\n')\n",
    "                        self.line_output_callback('The process has exited.\\r\\n')\n",
    "                        break\n",
    "                    elif pos == 0:\n",
    "                        self.line_output_callback(self.child.before + '\\n')\n",
    "                        cmdstart_time = time.time()\n",
    "                        if self.prompt!=\"\\r\\n\":break\n",
    "                    else:\n",
    "                        if len(self.child.before) != 0:\n",
    "                            # prompt received, but partial line precedes it\n",
    "                            self.line_output_callback(self.child.before)\n",
    "                            cmdstart_time = time.time()\n",
    "                        else:\n",
    "                            if self.startflag :\n",
    "                                continue\n",
    "                            run_time = time.time() - cmdstart_time\n",
    "                            if run_time > 10:\n",
    "                                break\n",
    "                            \n",
    "                except Exception as e:\n",
    "                    # self.line_output_callback(self.child.before)\n",
    "                    self._write_to_stderr(\"[MyCkernel] Error:Executable _expect_prompt error! \"+str(e)+\"\\n\")\n",
    "        else:\n",
    "            # Otherwise, use existing non-incremental code\n",
    "            pos = replwrap.REPLWrapper._expect_prompt(self, timeout=timeout)\n",
    "        # Prompt received, so return normally\n",
    "        return pos\n"
   ]
  },
  {
   "cell_type": "code",
   "execution_count": 5,
   "id": "aaa6f7bb-4507-42df-8bd8-a1e1a946c8ee",
   "metadata": {
    "tags": []
   },
   "outputs": [
    {
     "data": {
      "text/plain": [
       "[MyPython] Info:file H:/Jupyter/Myjupyter-kernel/base/../src/repl_listpid.py created successfully\n"
      ]
     },
     "metadata": {
      "text/plain": {}
     },
     "output_type": "display_data"
    }
   ],
   "source": [
    "##%overwritefile\n",
    "##%file:../src/repl_listpid.py\n",
    "##%noruncode\n",
    "    def repl_listpid(self,cmd=None):\n",
    "        if len(self.g_rtsps)>0: \n",
    "            self._write_to_stdout(\"--------All replpid--------\\n\")\n",
    "            for key in self.g_rtsps:\n",
    "                self._write_to_stdout(key+\"\\n\")\n",
    "        else:\n",
    "            self._write_to_stdout(\"--------All replpid--------\\nNone\\n\")"
   ]
  },
  {
   "cell_type": "code",
   "execution_count": 6,
   "id": "d78c853c-73c4-4de1-8fa8-a8f21863e641",
   "metadata": {
    "tags": []
   },
   "outputs": [
    {
     "data": {
      "text/plain": [
       "[MyPython] Info:file H:/Jupyter/Myjupyter-kernel/base/../src/chk_replexit.py created successfully\n"
      ]
     },
     "metadata": {
      "text/plain": {}
     },
     "output_type": "display_data"
    }
   ],
   "source": [
    "##%overwritefile\n",
    "##%file:../src/chk_replexit.py\n",
    "##%noruncode\n",
    "    def chk_replexit(self,grtsps): \n",
    "        while self.g_chkreplexit:\n",
    "            try:\n",
    "                if len(grtsps)>0: \n",
    "                    for key in grtsps:\n",
    "                        if grtsps[key].child.terminated:\n",
    "                            pass\n",
    "                            del grtsps[key]\n",
    "                        # else:\n",
    "                        #     grtsps[key].write_contents()\n",
    "            finally:\n",
    "                pass\n",
    "        if len(grtsps)>0: \n",
    "            for key in grtsps:\n",
    "                if grtsps[key].child.terminated:\n",
    "                    pass\n",
    "                    del grtsps[key]\n",
    "                else:\n",
    "                    grtsps[key].child.terminate(force=True)\n",
    "                    del grtsps[key]\n",
    "    \n"
   ]
  },
  {
   "cell_type": "code",
   "execution_count": 7,
   "id": "31d22b96-8e2d-404c-89e7-554130d67403",
   "metadata": {
    "tags": []
   },
   "outputs": [
    {
     "data": {
      "text/plain": [
       "[MyPython] Info:file H:/Jupyter/Myjupyter-kernel/base/../src/send_replcmd.py created successfully\n"
      ]
     },
     "metadata": {
      "text/plain": {}
     },
     "output_type": "display_data"
    }
   ],
   "source": [
    "##%overwritefile\n",
    "##%file:../src/send_replcmd.py\n",
    "##%noruncode\n",
    "    def send_replcmd(self, code, silent, store_history=True,\n",
    "                   user_expressions=None, allow_stdin=False,magics=None):\n",
    "        self.silent = silent\n",
    "        if not code.strip():\n",
    "            return {'status': 'ok', 'execution_count': self.execution_count,\n",
    "                    'payload': [], 'user_expressions': {}}\n",
    "\n",
    "        interrupted = False\n",
    "        try:\n",
    "            # Note: timeout=None tells IREPLWrapper to do incremental\n",
    "            # output.  Also note that the return value from\n",
    "            # run_command is not needed, because the output was\n",
    "            # already sent by IREPLWrapper.\n",
    "            self._write_to_stdout(\"send replcmd:\"+code.rstrip()+\"\\n\")\n",
    "            self._write_to_stdout(\"---Received information after send repl cmd---\\n\")\n",
    "            if magics and len(magics['_st']['replchildpid'])>0 :\n",
    "                if self.g_rtsps[magics['_st']['replchildpid']] and \\\n",
    "                    self.g_rtsps[magics['_st']['replchildpid']].child and \\\n",
    "                    not self.g_rtsps[magics['_st']['replchildpid']].child.terminated :\n",
    "                    self.g_rtsps[magics['_st']['replchildpid']].run_command(code.rstrip(), timeout=None)\n",
    "            else:\n",
    "                if self.replwrapper and \\\n",
    "                    self.replwrapper.child and \\\n",
    "                    not self.replwrapper.child.terminated :\n",
    "                    self.replwrapper.run_command(code.rstrip(), timeout=None)\n",
    "            pass\n",
    "        except KeyboardInterrupt:\n",
    "            self.gdbwrapper.child.sendintr()\n",
    "            interrupted = True\n",
    "            self.gdbwrapper._expect_prompt()\n",
    "            output = self.gdbwrapper.child.before\n",
    "            self.process_output(output)\n",
    "        except EOF:\n",
    "            # output = self.gdbwrapper.child.before + 'Restarting GDB'\n",
    "            # self._start_gdb()\n",
    "            # self.process_output(output)\n",
    "            pass\n",
    "\n",
    "        if interrupted:\n",
    "            return {'status': 'abort', 'execution_count': self.execution_count}\n",
    "\n",
    "        # try:\n",
    "        #     exitcode = int(self.replwrapper.run_command('echo $?').rstrip())\n",
    "        # except Exception as e:\n",
    "        #     self.process_output(\"[MyPythonkernel] Error:Executable send_replcmd error! \"+str(e)+\"\\n\")\n",
    "        exitcode = 0\n",
    "\n",
    "        if exitcode:\n",
    "            error_content = {'execution_count': self.execution_count,\n",
    "                             'ename': '', 'evalue': str(exitcode), 'traceback': []}\n",
    "\n",
    "            self.send_response(self.iopub_socket, 'error', error_content)\n",
    "            error_content['status'] = 'error'\n",
    "            return error_content\n",
    "        else:\n",
    "            return {'status': 'ok', 'execution_count': self.execution_count,\n",
    "                    'payload': [], 'user_expressions': {}}\n"
   ]
  },
  {
   "cell_type": "code",
   "execution_count": 8,
   "id": "acd7b0c5-4c7e-4661-a0c2-c8c9336138b4",
   "metadata": {
    "tags": []
   },
   "outputs": [
    {
     "data": {
      "text/plain": [
       "[MyPython] Info:file H:/Jupyter/Myjupyter-kernel/base/../src/_start_replprg.py created successfully\n"
      ]
     },
     "metadata": {
      "text/plain": {}
     },
     "output_type": "display_data"
    }
   ],
   "source": [
    "##%overwritefile\n",
    "##%file:../src/_start_replprg.py\n",
    "##%noruncode\n",
    "    def _start_replprg(self,command,args,magics):\n",
    "        # Signal handlers are inherited by forked processes, and we can't easily\n",
    "        # reset it from the subprocess. Since kernelapp ignores SIGINT except in\n",
    "        # message handlers, we need to temporarily reset the SIGINT handler here\n",
    "        # so that bash and its children are interruptible.\n",
    "        sig = signal.signal(signal.SIGINT, signal.SIG_DFL)\n",
    "        self.silent = None\n",
    "        try:\n",
    "\n",
    "            child = pexpect.spawn(command, args,timeout=60, echo=False,\n",
    "                                  encoding='utf-8')\n",
    "            self._write_to_stdout(\"replchild pid:\"+str(child.pid)+\"\\n\")\n",
    "            self._write_to_stdout(\"--------process info---------\\n\")\n",
    "\n",
    "            self.replwrapper = IREPLWrapper(\n",
    "                                    self._write_to_stdout,\n",
    "                                    self._write_to_stderr,\n",
    "                                    self._read_from_stdin,\n",
    "                                    child,\n",
    "                                    replsetip=magics['_st']['replsetip'],\n",
    "                                    orig_prompt='\\r\\n', \n",
    "                                    prompt_change=None,\n",
    "                                    extra_init_cmd=None,\n",
    "                                    line_output_callback=self.process_output)\n",
    "            # self._write_to_stdout(\"replchild pid:\"+str(self.replwrapper.child.pid)+\"\\n\")\n",
    "            self.g_rtsps[str(self.replwrapper.child.pid)]=self.replwrapper\n",
    "            \n",
    "        except Exception as e:\n",
    "            self._write_to_stderr(\"[MyPythonkernel] Error:Executable _start_replprg error! \"+str(e)+\"\\n\")\n",
    "\n",
    "        finally:\n",
    "            signal.signal(signal.SIGINT, sig)\n"
   ]
  },
  {
   "cell_type": "code",
   "execution_count": null,
   "metadata": {},
   "outputs": [],
   "source": []
  }
 ],
 "metadata": {
  "kernelspec": {
   "display_name": "MyPython",
   "language": "Python",
   "name": "mypython"
  },
  "language_info": {
   "codemirror_mode": {
    "name": "ipython",
    "version": 3
   },
   "file_extension": ".py",
   "mimetype": "text/x-python",
   "name": "python",
   "nbconvert_exporter": "python",
   "pygments_lexer": "ipython3",
   "version": "3.9.7"
  },
  "orig_nbformat": 4
 },
 "nbformat": 4,
 "nbformat_minor": 2
}
