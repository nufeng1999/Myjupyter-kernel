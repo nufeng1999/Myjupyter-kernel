{
 "cells": [
  {
   "cell_type": "code",
   "execution_count": null,
   "metadata": {},
   "outputs": [],
   "source": [
    "#_filter2_magics_i1\n",
    "##%overwritefile\n",
    "##%file:../src/_filter2_magics_i1.py\n",
    "##%noruncode\n",
    "for pkey,pvalue in self.IBplugins.items():\n",
    "    # print( pkey +\":\"+str(len(pvalue))+\"\\n\")\n",
    "    for pobj in pvalue:\n",
    "        newline=''\n",
    "        try:\n",
    "            if line.strip()[3:] in pobj.getIDBptag(pobj):\n",
    "                newline=pobj.on_IBpCodescanning(pobj,magics,line)\n",
    "                if newline=='':continue\n",
    "\n",
    "        except Exception as e:\n",
    "            pass\n",
    "        finally:pass\n",
    "        # if newline!=None and newline!='':\n",
    "        #     actualCode += newline + '\\n'\n",
    "##"
   ]
  },
  {
   "cell_type": "code",
   "execution_count": null,
   "metadata": {},
   "outputs": [],
   "source": [
    "#_filter2_magics_i2\n",
    "##%overwritefile\n",
    "##%file:../src/_filter2_magics_i2.py\n",
    "##%noruncode\n",
    "\n",
    "for pkey,pvalue in self.ISplugins.items():\n",
    "    # print( pkey +\":\"+str(len(pvalue))+\"\\n\")\n",
    "    for pobj in pvalue:\n",
    "        newline=''\n",
    "        try:\n",
    "            if key in pobj.getIDSptag(pobj):\n",
    "                newline=pobj.on_ISpCodescanning(pobj,key,value,magics,line)\n",
    "                if newline=='':continue\n",
    "\n",
    "        except Exception as e:\n",
    "            pass\n",
    "        finally:pass\n",
    "        if newline!=None and newline!='':\n",
    "            actualCode += newline + '\\n'\n",
    "# always add empty line, so line numbers don't change\n",
    "# actualCode += '\\n'"
   ]
  },
  {
   "cell_type": "code",
   "execution_count": null,
   "metadata": {},
   "outputs": [],
   "source": [
    "#_filter2_magics_pend\n",
    "##%overwritefile\n",
    "##%file:../src/_filter2_magics_pend.py\n",
    "##%noruncode\n",
    "\n",
    "if len(self.addkey2dict(magics,'file'))>0 :\n",
    "    newactualCode=''\n",
    "    for line in actualCode.splitlines():\n",
    "        try:\n",
    "            # if len(self.addkey2dict(magics,'test'))<1:\n",
    "            line=self.kobj.cleantestcode(line)\n",
    "            if line=='':continue\n",
    "            ##调用双标签接口\n",
    "            line=self.kobj.callIDplugin(line)\n",
    "            ##\n",
    "            if line=='':continue\n",
    "            line=self.kobj.cleandqm(line)\n",
    "            if line=='':continue\n",
    "            line=self.kobj.cleansqm(line)\n",
    "            if self.kobj.cleannotes(line)=='':\n",
    "                continue\n",
    "            else:\n",
    "                newactualCode += line + '\\n'\n",
    "        except Exception as e:\n",
    "            self.kobj._log(str(e),3)"
   ]
  },
  {
   "cell_type": "code",
   "execution_count": null,
   "metadata": {},
   "outputs": [],
   "source": [
    "##触发接口调用\n",
    "##%overwritefile\n",
    "##%file:../src/_callICodescan.py\n",
    "##%noruncode\n",
    "def raise_ICodescan(self,magics,code)->Tuple[bool,str]:\n",
    "    bcancel_exec=False\n",
    "    bretcancel_exec=False\n",
    "    newcode=code\n",
    "    # for pluginlist in self.plugins:\n",
    "    for pkey,pvalue in self.ICodePreprocs.items():\n",
    "        # print( pkey +\":\"+str(len(pvalue))+\"\\n\")\n",
    "        for pobj in pvalue:\n",
    "            try:\n",
    "                bretcancel_exec,newcode=pobj.on_Codescanning(pobj,magics,newcode)\n",
    "                bcancel_exec=bretcancel_exec & bcancel_exec\n",
    "                if bcancel_exec:\n",
    "                    return bcancel_exec,newcode\n",
    "            except Exception as e:\n",
    "                self.kobj._logln(pobj.getName(pobj)+\"---\"+str(e))\n",
    "            finally:pass\n",
    "    return bcancel_exec,newcode\n",
    "    \n"
   ]
  },
  {
   "cell_type": "code",
   "execution_count": 4,
   "metadata": {},
   "outputs": [
    {
     "data": {
      "text/plain": [
       "[MyPython] Info:copy to :H:/Jupyter/Myjupyter-kernel/base/../../jupyter-MyPython-kernel/plugins/_filter2_magics.py\n"
      ]
     },
     "metadata": {
      "text/plain": {}
     },
     "output_type": "display_data"
    },
    {
     "data": {
      "text/plain": [
       "[MyPython] Info:copy to :H:/Jupyter/Myjupyter-kernel/base/../../jupyter-MyC-kernel/plugins/_filter2_magics.py\n"
      ]
     },
     "metadata": {
      "text/plain": {}
     },
     "output_type": "display_data"
    },
    {
     "data": {
      "text/plain": [
       "[MyPython] Info:copy to :H:/Jupyter/Myjupyter-kernel/base/../../jupyter-MyDart-kernel/plugins/_filter2_magics.py\n"
      ]
     },
     "metadata": {
      "text/plain": {}
     },
     "output_type": "display_data"
    },
    {
     "data": {
      "text/plain": [
       "[MyPython] Info:copy to :H:/Jupyter/Myjupyter-kernel/base/../../jupyter-MyKotlin-kernel/plugins/_filter2_magics.py\n"
      ]
     },
     "metadata": {
      "text/plain": {}
     },
     "output_type": "display_data"
    },
    {
     "data": {
      "text/plain": [
       "[MyPython] Info:copy to :H:/Jupyter/Myjupyter-kernel/base/../../jupyter-MyGroovy-kernel/plugins/_filter2_magics.py\n"
      ]
     },
     "metadata": {
      "text/plain": {}
     },
     "output_type": "display_data"
    },
    {
     "data": {
      "text/plain": [
       "[MyPython] Info:copy to :H:/Jupyter/Myjupyter-kernel/base/../../jupyter-MyJava-kernel/plugins/_filter2_magics.py\n"
      ]
     },
     "metadata": {
      "text/plain": {}
     },
     "output_type": "display_data"
    },
    {
     "data": {
      "text/plain": [
       "[MyPython] Info:copy to :H:/Jupyter/Myjupyter-kernel/base/../../jupyter-MyGjs-kernel/plugins/_filter2_magics.py\n"
      ]
     },
     "metadata": {
      "text/plain": {}
     },
     "output_type": "display_data"
    },
    {
     "data": {
      "text/plain": [
       "[MyPython] Info:copy to :H:/Jupyter/Myjupyter-kernel/base/../../jupyter-MyVala-kernel/plugins/_filter2_magics.py\n"
      ]
     },
     "metadata": {
      "text/plain": {}
     },
     "output_type": "display_data"
    },
    {
     "data": {
      "text/plain": [
       "[MyPython] Info:copy to :H:/Jupyter/Myjupyter-kernel/base/../../jupyter-MyNodejs-kernel/plugins/_filter2_magics.py\n"
      ]
     },
     "metadata": {
      "text/plain": {}
     },
     "output_type": "display_data"
    },
    {
     "data": {
      "text/plain": [
       "[MyPython] Info:copy to :H:/Jupyter/Myjupyter-kernel/base/../../jupyter-MyBash-kernel/plugins/_filter2_magics.py\n"
      ]
     },
     "metadata": {
      "text/plain": {}
     },
     "output_type": "display_data"
    },
    {
     "data": {
      "text/plain": [
       "[MyPython] Info:file H:/Jupyter/Myjupyter-kernel/base/../src/_filter2_magics.py created successfully\n"
      ]
     },
     "metadata": {
      "text/plain": {}
     },
     "output_type": "display_data"
    }
   ],
   "source": [
    "#_filter2_magics\n",
    "##%overwritefile\n",
    "##%file:../src/_filter2_magics.py\n",
    "##%file:../../jupyter-MyPython-kernel/plugins/_filter2_magics.py\n",
    "##%file:../../jupyter-MyC-kernel/plugins/_filter2_magics.py\n",
    "##%file:../../jupyter-MyDart-kernel/plugins/_filter2_magics.py\n",
    "\n",
    "##%file:../../jupyter-MyKotlin-kernel/plugins/_filter2_magics.py\n",
    "##%file:../../jupyter-MyGroovy-kernel/plugins/_filter2_magics.py\n",
    "##%file:../../jupyter-MyJava-kernel/plugins/_filter2_magics.py\n",
    "\n",
    "##%file:../../jupyter-MyGjs-kernel/plugins/_filter2_magics.py\n",
    "##%file:../../jupyter-MyVala-kernel/plugins/_filter2_magics.py\n",
    "##%file:../../jupyter-MyNodejs-kernel/plugins/_filter2_magics.py\n",
    "\n",
    "##%file:../../jupyter-MyBash-kernel/plugins/_filter2_magics.py\n",
    "\n",
    "##%noruncode\n",
    "##########################\n",
    "from math import exp\n",
    "from queue import Queue\n",
    "from threading import Thread\n",
    "\n",
    "from ipykernel.kernelbase import Kernel\n",
    "from pexpect import replwrap, EOF\n",
    "from jinja2 import Environment, PackageLoader, select_autoescape,Template\n",
    "from abc import ABCMeta, abstractmethod\n",
    "from typing import List, Dict, Tuple, Sequence\n",
    "from shutil import copyfile\n",
    "from plugins.ISpecialID import IStag,IDtag,IBtag,ITag\n",
    "import pexpect\n",
    "import signal\n",
    "import typing \n",
    "import typing as t\n",
    "import re\n",
    "import signal\n",
    "import subprocess\n",
    "import tempfile\n",
    "import os\n",
    "import sys\n",
    "import traceback\n",
    "import os.path as path\n",
    "import codecs\n",
    "import time\n",
    "import importlib\n",
    "import importlib.util\n",
    "import inspect\n",
    "\n",
    "###############################\n",
    "class Magics():\n",
    "    plugins=None\n",
    "    ISplugins=None\n",
    "    IDplugins=None\n",
    "    IBplugins=None\n",
    "    kobj=None\n",
    "    \n",
    "    plugins=[ISplugins,IDplugins,IBplugins]\n",
    "    def __init__(self,kobj,plugins:List,ICodePreprocs):\n",
    "        self.kobj=kobj\n",
    "        self.plugins=plugins\n",
    "        self.ICodePreprocs=ICodePreprocs\n",
    "        self.ISplugins=self.plugins[0]\n",
    "        self.IDplugins=self.plugins[1]\n",
    "        self.IBplugins=self.plugins[2]\n",
    "        pass\n",
    "    ##%include:../src/_is_specialID.py\n",
    "    def addkey2dict(self,magics:Dict,key:str):\n",
    "        if not magics.__contains__(key):\n",
    "            d={key:[]}\n",
    "            magics.update(d)\n",
    "        return magics[key]\n",
    "    \n",
    "    ##%include:../src/_callICodescan.py\n",
    "    def filter(self, code):\n",
    "        ##魔法字典\n",
    "        ## magics={}\n",
    "        actualCode = ''\n",
    "        newactualCode = ''\n",
    "        magics = {'codefilename':'',\n",
    "                  'classname':'',\n",
    "                  'cflags': [],\n",
    "                  'ldflags': [],\n",
    "                  'runinterm': '',\n",
    "                  'term': 'gnome-terminal',\n",
    "                  'dlrun': [],\n",
    "                  'coptions': [],\n",
    "                  'joptions': [],\n",
    "                  'onlyrunmagics': '',\n",
    "                  'package': '',\n",
    "                  'main': '',\n",
    "                  'pubclass': '',\n",
    "                  'runprg': '',\n",
    "                  'runprgargs': [],\n",
    "                  'log': '',\n",
    "\n",
    "                  'repllistpid': [],\n",
    "                  'replcmdmode': [],\n",
    "                  'replprompt': [],\n",
    "                  'replsetip': \"\\r\\n\",\n",
    "                  'replchildpid':\"0\",\n",
    "\n",
    "                  'outputtype':'text/plain',\n",
    "                  'runmode': [],\n",
    "                  'pid': [],\n",
    "                  'pidcmd': [],\n",
    "                  'args': [],\n",
    "                  'rungdb': []}\n",
    "        ##扫描源码\n",
    "        for line in code.splitlines():\n",
    "            ##扫描源码每行行\n",
    "            orgline=line\n",
    "            ## line=self.forcejj2code(line)\n",
    "\n",
    "            if line==None or line.strip()=='': continue\n",
    "            if line.strip().startswith('package'):\n",
    "                qline=self.kobj.replacemany(line,'; ', ';')\n",
    "                qline=self.kobj.replacemany(qline,' ;', ';')\n",
    "                qline= qline[:len(qline)-1]\n",
    "                li=qline.strip().split()\n",
    "                if(len(li)>1):\n",
    "                    magics[li[0].strip()] = li[1].strip()\n",
    "                actualCode += line + '\\n'\n",
    "                continue\n",
    "            if line.strip().startswith('public'):\n",
    "                qline = self.kobj.replacemany(line, 's  ', 's ')\n",
    "                li = qline.strip().split()\n",
    "                if(len(li) > 2 and li[1].strip() == 'class'):\n",
    "                    magics[li[0].strip()] = li[1].strip()\n",
    "                    pubclass = li[2].strip()\n",
    "                    if pubclass.strip().endswith('{'):\n",
    "                        pubclass = pubclass[:len(pubclass)-1]\n",
    "                    magics['pubclass'] = pubclass\n",
    "                actualCode += line + '\\n'\n",
    "                continue\n",
    "            if self._is_specialID(line):\n",
    "                if line.strip()[3:] == \"repllistpid\":\n",
    "                    magics['repllistpid'] += ['true']\n",
    "                    self.repl_listpid()\n",
    "                    continue\n",
    "                elif line.strip()[3:] == \"onlyrunmagics\":\n",
    "                    magics['onlyrunmagics'] = 'true'\n",
    "                    continue\n",
    "                elif line.strip()[3:] == \"replcmdmode\":\n",
    "                    magics['replcmdmode'] += ['replcmdmode']\n",
    "                    continue\n",
    "                elif line.strip()[3:] == \"replprompt\":\n",
    "                    magics['replprompt'] += ['replprompt']\n",
    "                elif line.strip()[3:] == \"runinterm\":\n",
    "                    magics['runinterm'] = 'true'\n",
    "                    continue\n",
    "                else:\n",
    "                    ##通知插件进行预处理\n",
    "                    ##preprocessor\n",
    "                    ##通知BOOL型标签插件处理\n",
    "                    ##on_IBpCodescanning\n",
    "                    ##调用BOOL标签接口\n",
    "                    ##%include:../src/_filter2_magics_i1.py\n",
    "                    ##获得BOOL关键字\n",
    "                    ##登记Bool型参数和值\n",
    "\n",
    "                ##获得参数型 关键字和其参数\n",
    "                findObj= re.search( r':(.*)',line)\n",
    "                if not findObj or len(findObj.group(0))<2:\n",
    "                    continue\n",
    "                key, value = line.strip()[3:].split(\":\", 1)\n",
    "                key = key.strip().lower()\n",
    "                if key in ['ldflags', 'cflags','coptions','joptions']:\n",
    "                    for flag in value.split():\n",
    "                        magics[key] += [flag]\n",
    "                elif key == \"runmode\":\n",
    "                    if len(value)>0:\n",
    "                        magics[key] = value[re.search(r'[^/]',value).start():]\n",
    "                    else:\n",
    "                        magics[key] ='real'\n",
    "                elif key == \"replsetip\":\n",
    "                    magics['replsetip'] = value\n",
    "                elif key == \"replchildpid\":\n",
    "                    magics['replchildpid'] = value\n",
    "                elif key == \"pidcmd\":\n",
    "                    magics['pidcmd'] = [value]\n",
    "                    if len(magics['pidcmd'])>0:\n",
    "                        findObj= value.split(\",\",1)\n",
    "                        if findObj and len(findObj)>1:\n",
    "                            pid=findObj[0]\n",
    "                            cmd=findObj[1]\n",
    "                            self.kobj.send_cmd(pid=pid,cmd=cmd)\n",
    "                \n",
    "                elif key == \"term\":\n",
    "                    magics['term']=[]\n",
    "                    for argument in re.findall(r'(?:[^\\s,\"]|\"(?:\\\\.|[^\"])*\")+', value):\n",
    "                        magics['term'] += [argument.strip('\"')]\n",
    "                elif key == \"outputtype\":\n",
    "                    magics[key]=value\n",
    "                elif key == \"log\":\n",
    "                    magics['log'] = value.strip()\n",
    "                    self.kobj._loglevel= value.strip()\n",
    "                elif key == \"loadurl\":\n",
    "                    url=value\n",
    "                    if(len(url)>0):\n",
    "                        line=self.kobj.loadurl(url)\n",
    "                        actualCode += line + '\\n'\n",
    "                elif key == \"runprg\":\n",
    "                    magics['runprg'] = value\n",
    "                elif key == \"runprgargs\":\n",
    "                    ## Split arguments respecting quotes\n",
    "                    for argument in re.findall(r'(?:[^\\s,\"]|\"(?:\\\\.|[^\"])*\")+', value):\n",
    "                        magics['runprgargs'] += [argument.strip('\"')]\n",
    "                elif key == \"args\":\n",
    "                    ## Split arguments respecting quotes\n",
    "                    for argument in re.findall(r'(?:[^\\s,\"]|\"(?:\\\\.|[^\"])*\")+', value):\n",
    "                        magics['args'] += [argument.strip('\"')]\n",
    "                else:\n",
    "                    pass\n",
    "                    ##通知插件进行宏标签处理\n",
    "                    ##登记参数和值\n",
    "                    ##处理参数和值 ？？？\n",
    "                    ##合并处理结果\n",
    "                    ##调用单标签接口\n",
    "                    ##%include:../src/_filter2_magics_i2.py\n",
    "            else:\n",
    "                ## keep lines which did not contain magics\n",
    "                actualCode += line + '\\n'\n",
    "        newactualCode=actualCode\n",
    "\n",
    "        bcancel_exec,newcode=self.raise_ICodescan(magics,newactualCode)\n",
    "        if not bcancel_exec:\n",
    "            newactualCode=newcode\n",
    "\n",
    "        ##第二次扫描源代码\n",
    "            ##扫描源码每行行\n",
    "            ##清理测试代码 test_begin test_end\n",
    "            ##清理单行注释 // #\n",
    "            ##清理多行注释 /* */ ''' \"\"\"\n",
    "        ##%include:../src/_filter2_magics_pend.py\n",
    "        return magics, newactualCode"
   ]
  },
  {
   "cell_type": "code",
   "execution_count": null,
   "metadata": {},
   "outputs": [],
   "source": [
    "##%kcmd:list\n",
    "##%noruncode"
   ]
  },
  {
   "cell_type": "code",
   "execution_count": null,
   "metadata": {},
   "outputs": [],
   "source": [
    "# ------------------------------------------------------------\n",
    "# calclex.py\n",
    "#\n",
    "# tokenizer for a simple expression evaluator for\n",
    "# numbers and +,-,*,/\n",
    "# ------------------------------------------------------------\n",
    "##%overwritefile\n",
    "##%file:../test/calclex.py\n",
    "import sys\n",
    "sys.path.append(\"/usr/local/lib/python3.9/dist-packages\")\n",
    "from ply import lex as lex\n",
    "\n",
    "# List of token names.   This is always required\n",
    "tokens = (\n",
    "    'spid',\n",
    "   'test',\n",
    "   'name',\n",
    "   'macro',\n",
    "   'NUMBER',\n",
    "   'PLUS',\n",
    "   'MINUS',\n",
    "   'TIMES',\n",
    "   'DIVIDE',\n",
    "   'LPAREN',\n",
    "   'RPAREN',\n",
    ")\n",
    "\n",
    "# Regular expression rules for simple tokens\n",
    "# t_test    = r'bool'\n",
    "# t_name    = r'string'\n",
    "# t_macro    = r'macro'\n",
    "t_spid=r'abc.*'\n",
    "t_PLUS    = r'\\+'\n",
    "t_MINUS   = r'-'\n",
    "t_TIMES   = r'\\*'\n",
    "t_DIVIDE  = r'/'\n",
    "t_LPAREN  = r'\\#\\#\\%'\n",
    "t_RPAREN  = r'\\n'\n",
    "\n",
    "# A regular expression rule with some action code\n",
    "def t_test(t):\n",
    "    r'\\#\\#\\#\\%test'\n",
    "    # t.value = t.value\n",
    "    return t\n",
    "def t_name(t):\n",
    "    r'\\#\\#\\#\\%name+'\n",
    "    # t.value = t.value\n",
    "    return t\n",
    "def t_macro(t):\n",
    "    r'\\#\\#\\#\\%macro+'\n",
    "    # t.value = t.value\n",
    "    return t\n",
    "def t_NUMBER(t):\n",
    "    r'\\d+'\n",
    "    t.value = int(t.value)\n",
    "    return t\n",
    "\n",
    "# Define a rule so we can track line numbers\n",
    "def t_newline(t):\n",
    "    r'\\n+'\n",
    "    t.lexer.lineno += len(t.value)\n",
    "\n",
    "# A string containing ignored characters (spaces and tabs)\n",
    "t_ignore_COMMENT = r'\\#.*'\n",
    "# Error handling rule\n",
    "def t_error(t):\n",
    "    print(\"Illegal character '%s'\" % t.value[0])\n",
    "    t.lexer.skip(1)\n",
    "\n",
    "# Build the lexer\n",
    "lexer = lex.lex()\n",
    "# Test it out\n",
    "data = '''\n",
    "###%test 'jjjj'\n",
    "###%name:xxxx\n",
    "###%macro name value string\n",
    "'''\n",
    "\n",
    "# Give the lexer some input\n",
    "lexer.input(data)\n",
    "\n",
    "# Tokenize\n",
    "while True:\n",
    "    tok = lexer.token()\n",
    "    if not tok:\n",
    "        break      # No more input\n",
    "    print(tok)"
   ]
  },
  {
   "cell_type": "code",
   "execution_count": null,
   "metadata": {},
   "outputs": [],
   "source": [
    "def test():\n",
    "    'this is test line'\n",
    "    print(self)\n",
    "test()"
   ]
  }
 ],
 "metadata": {
  "interpreter": {
   "hash": "75596ead963b1eeb4cf3ce4e8a9c4a864202dd5fd95b19dff9cbdac9756331e2"
  },
  "kernelspec": {
   "display_name": "MyPython",
   "language": "Python",
   "name": "mypython"
  },
  "language_info": {
   "codemirror_mode": {
    "name": "ipython",
    "version": 3
   },
   "file_extension": ".py",
   "mimetype": "text/x-python",
   "name": "python",
   "nbconvert_exporter": "python",
   "pygments_lexer": "ipython3",
   "version": "3.9.7"
  },
  "orig_nbformat": 4
 },
 "nbformat": 4,
 "nbformat_minor": 2
}
