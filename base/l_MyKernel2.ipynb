{
 "cells": [
  {
   "cell_type": "code",
   "execution_count": 4,
   "metadata": {},
   "outputs": [
    {
     "name": "stdout",
     "output_type": "stream",
     "text": [
      "[MyPythonKernel212016] Info:../src/_send_response.py\n",
      "[MyPythonKernel212016] Info:file h:\\Jupyter\\Myjupyter-kernel\\base\\../src/_send_response.py created successfully\n"
     ]
    }
   ],
   "source": [
    "## 按 mimetype 格式输出显示内容\n",
    "##%overwritefile\n",
    "##%file:../src/_send_response.py\n",
    "##%noruncode\n",
    "## %kcmd:list\n",
    "    def rawinput(self):\n",
    "        if len(self.__independent)>0:\n",
    "            ## 独立的并且有jkobj\n",
    "        #     return self.get_raw_input()\n",
    "        # elif len(self.__independent)>0:\n",
    "        #     ## 仅独立的\n",
    "            return sys.stdin.readline()\n",
    "        elif len(self.__independent)<1:\n",
    "            ## 拥有 jkobj\n",
    "            return self.get_raw_input()\n",
    "        # elif len(self.__independent)<1:\n",
    "        #     ## 非独立的\n",
    "        return self.get_raw_input()\n",
    "            \n",
    "    def sendresponse(self,contents,name='stdout',mimetype=None):\n",
    "        if mimetype==None:\n",
    "            # if len(self.get_mymagics().__independent)>0:\n",
    "                ## 独立的并且有jkobj\n",
    "            #     self.__jkobj.send_response(self.__jkobj.get_iopub_socket(), 'stream', {'name': name, 'text': contents})\n",
    "            # elif len(self.__independent)>0 and self.__jkobj==None:\n",
    "            #     ## 仅独立的\n",
    "            #     sys.stdout.write(contents)\n",
    "            #     sys.stdout.flush()\n",
    "            # elif len(self.get_mymagics().__independent)<1:\n",
    "                ## 拥有 jkobj\n",
    "            self.send_response(self.iopub_socket, 'stream', {'name': name, 'text': contents})\n",
    "            # elif len(self.__independent)<1 and self.__jkobj==None:\n",
    "            #     ## 非独立的\n",
    "            #     self.send_response(self.iopub_socket, 'stream', {'name': name, 'text': contents})\n",
    "        else:\n",
    "            # if len(self.get_mymagics().__independent)>0:\n",
    "                ## 独立的并且有jkobj\n",
    "            #     self.__jkobj.send_response(self.__jkobj.get_iopub_socket(), 'display_data', {'data': {mimetype:contents}, 'metadata': {mimetype:{}}})\n",
    "            # elif len(self.__independent)>0 and self.__jkobj==None:\n",
    "                ## 仅独立的\n",
    "            #     sys.stdout.write(contents)\n",
    "            #     sys.stdout.flush()\n",
    "            # elif len(self.get_mymagics().__independent)<1:\n",
    "                ## 拥有 jkobj\n",
    "            #     self.__jkobj.send_response(self.__jkobj.get_iopub_socket(), 'display_data', {'data': {mimetype:contents}, 'metadata': {mimetype:{}}})\n",
    "            # elif len(self.__independent)<1 and self.__jkobj==None:\n",
    "                ## 非独立的\n",
    "            self.send_response(self.iopub_socket, 'display_data', {'data': {mimetype:contents}, 'metadata': {mimetype:{}}})\n"
   ]
  },
  {
   "cell_type": "code",
   "execution_count": 5,
   "metadata": {},
   "outputs": [
    {
     "name": "stdout",
     "output_type": "stream",
     "text": [
      "[MyPythonKernel212016] Info:../src/do_kexecute.py\n",
      "[MyPythonKernel212016] Info:file h:\\Jupyter\\Myjupyter-kernel\\base\\../src/do_kexecute.py created successfully\n"
     ]
    }
   ],
   "source": [
    "## do_shutdown\n",
    "##%overwritefile\n",
    "##%file:../src/do_kexecute.py\n",
    "##%noruncode\n",
    "    def do_execute(self, code, silent, store_history=True,\n",
    "                   user_expressions=None, allow_stdin=True):\n",
    "        ## mymagics.do_execute 执行代码时将回调jkobj里的函数\n",
    "        ## 包括预编译do_preexecute 生成文件do_create_codefile 编译do_compile_code 执行do_runcode 函数\n",
    "        # mymagics=MyMagics(jkobj=self,runfiletype=self.runfiletype)\n",
    "        # self.mymagics=mymagics\n",
    "        ## 执行代码\n",
    "        retinfo = self.mymagics.do_execute(\n",
    "            code, silent, \n",
    "            store_history=store_history,\n",
    "            user_expressions=user_expressions, \n",
    "            allow_stdin=allow_stdin)\n",
    "\n",
    "        ## 清理\n",
    "        self.mymagics.do_shutdown()\n",
    "        return retinfo"
   ]
  },
  {
   "cell_type": "code",
   "execution_count": 6,
   "metadata": {},
   "outputs": [
    {
     "name": "stdout",
     "output_type": "stream",
     "text": [
      "[MyPythonKernel212016] Info:../src/do_kshutdown.py\n",
      "[MyPythonKernel212016] Info:file h:\\Jupyter\\Myjupyter-kernel\\base\\../src/do_kshutdown.py created successfully\n"
     ]
    }
   ],
   "source": [
    "## do_shutdown\n",
    "##%overwritefile\n",
    "##%file:../src/do_kshutdown.py\n",
    "##%noruncode\n",
    "    def do_shutdown(self, restart):\n",
    "        pass"
   ]
  },
  {
   "cell_type": "code",
   "execution_count": 7,
   "metadata": {},
   "outputs": [
    {
     "name": "stdout",
     "output_type": "stream",
     "text": [
      "[MyPythonKernel212016] Info:copy to :h:\\Jupyter\\Myjupyter-kernel\\base\\../../jupyter-MyC-kernel/jupyter_MyC_kernel/MyKernel.py\n",
      "[MyPythonKernel212016] Info:copy to :h:\\Jupyter\\Myjupyter-kernel\\base\\../../jupyter-MyDart-kernel/jupyter_MyDart_kernel/MyKernel.py\n",
      "[MyPythonKernel212016] Info:copy to :h:\\Jupyter\\Myjupyter-kernel\\base\\../../jupyter-MyKotlin-kernel/jupyter_MyKotlin_kernel/MyKernel.py\n",
      "[MyPythonKernel212016] Info:copy to :h:\\Jupyter\\Myjupyter-kernel\\base\\../../jupyter-MyGroovy-kernel/jupyter_MyGroovy_kernel/MyKernel.py\n",
      "[MyPythonKernel212016] Info:copy to :h:\\Jupyter\\Myjupyter-kernel\\base\\../../jupyter-MyJava-kernel/jupyter_MyJava_kernel/MyKernel.py\n",
      "[MyPythonKernel212016] Info:copy to :h:\\Jupyter\\Myjupyter-kernel\\base\\../../jupyter-MyBatch-kernel/jupyter_MyBatch_kernel/MyKernel.py\n",
      "[MyPythonKernel212016] Info:copy to :h:\\Jupyter\\Myjupyter-kernel\\base\\../../jupyter-MyPS-kernel/jupyter_MyPS_kernel/MyKernel.py\n",
      "[MyPythonKernel212016] Info:copy to :h:\\Jupyter\\Myjupyter-kernel\\base\\../../jupyter-MyR-kernel/jupyter_MyR_kernel/MyKernel.py\n",
      "[MyPythonKernel212016] Info:copy to :h:\\Jupyter\\Myjupyter-kernel\\base\\../../jupyter-MySwift-kernel/jupyter_MySwift_kernel/MyKernel.py\n",
      "[MyPythonKernel212016] Info:copy to :h:\\Jupyter\\Myjupyter-kernel\\base\\../../jupyter-MyLua-kernel/jupyter_MyLua_kernel/MyKernel.py\n",
      "[MyPythonKernel212016] Info:copy to :h:\\Jupyter\\Myjupyter-kernel\\base\\../../jupyter-MyPerl-kernel/jupyter_MyPerl_kernel/MyKernel.py\n",
      "[MyPythonKernel212016] Info:copy to :h:\\Jupyter\\Myjupyter-kernel\\base\\../../jupyter-MyPHP-kernel/jupyter_MyPHP_kernel/MyKernel.py\n",
      "[MyPythonKernel212016] Info:copy to :h:\\Jupyter\\Myjupyter-kernel\\base\\../../jupyter-MyTcl-kernel/jupyter_MyTcl_kernel/MyKernel.py\n",
      "[MyPythonKernel212016] Info:copy to :h:\\Jupyter\\Myjupyter-kernel\\base\\../../jupyter-MyVimscript-kernel/jupyter_MyVimscript_kernel/MyKernel.py\n",
      "[MyPythonKernel212016] Info:copy to :h:\\Jupyter\\Myjupyter-kernel\\base\\../../jupyter-MyGjs-kernel/jupyter_MyGjs_kernel/MyKernel.py\n",
      "[MyPythonKernel212016] Info:copy to :h:\\Jupyter\\Myjupyter-kernel\\base\\../../jupyter-MyVala-kernel/jupyter_MyVala_kernel/MyKernel.py\n",
      "[MyPythonKernel212016] Info:copy to :h:\\Jupyter\\Myjupyter-kernel\\base\\../../jupyter-MyNodejs-kernel/jupyter_MyNodejs_kernel/MyKernel.py\n",
      "[MyPythonKernel212016] Info:copy to :h:\\Jupyter\\Myjupyter-kernel\\base\\../../jupyter-MyBash-kernel/jupyter_MyBash_kernel/MyKernel.py\n",
      "[MyPythonKernel212016] Info:copy to :h:\\Jupyter\\Myjupyter-kernel\\base\\../../jupyter-MyVBScript-kernel/jupyter_MyVBScript_kernel/MyKernel.py\n",
      "[MyPythonKernel212016] Info:copy to :h:\\Jupyter\\Myjupyter-kernel\\base\\../../jupyter-MyWLS-kernel/jupyter_MyWLS_kernel/MyKernel.py\n",
      "[MyPythonKernel212016] Info:copy to :h:\\Jupyter\\Myjupyter-kernel\\base\\../../jupyter-MyGo-kernel/jupyter_MyGo_kernel/MyKernel.py\n",
      "[MyPythonKernel212016] Info:copy to :h:\\Jupyter\\Myjupyter-kernel\\base\\../../jupyter-MyHtml-kernel/jupyter_MyHtml_kernel/MyKernel.py\n",
      "[MyPythonKernel212016] Info:copy to :h:\\Jupyter\\Myjupyter-kernel\\base\\../../jupyter-MyTypeScript-kernel/jupyter_MyTypeScript_kernel/MyKernel.py\n",
      "[MyPythonKernel212016] Info:copy to :h:\\Jupyter\\Myjupyter-kernel\\base\\../../jupyter-MyMake-kernel/jupyter_MyMake_kernel/MyKernel.py\n",
      "[MyPythonKernel212016] Info:copy to :h:\\Jupyter\\Myjupyter-kernel\\base\\../../jupyter-MyRuby-kernel/jupyter_MyRuby_kernel/MyKernel.py\n",
      "[MyPythonKernel212016] Info:copy to :h:\\Jupyter\\Myjupyter-kernel\\base\\../../jupyter-MyRust-kernel/jupyter_MyRust_kernel/MyKernel.py\n",
      "[MyPythonKernel212016] Info:file h:\\Jupyter\\Myjupyter-kernel\\base\\../../jupyter-MyPython-kernel/jupyter_MyPython_kernel/MyKernel.py created successfully\n"
     ]
    }
   ],
   "source": [
    "## MyKernel\n",
    "##%noruncode\n",
    "##%overwritefile\n",
    "## %file:../src/Mykernel.py\n",
    "## %file:../../jupyter-MyPython-kernel/jupyter_MyPython_kernel/MyKernel.py\n",
    "##%fnlist:Python C Dart Kotlin Groovy Java Batch PS R Swift Lua Perl PHP Tcl Vimscript\n",
    "##%fnlist:Gjs Vala Nodejs Bash VBScript WLS Go Html TypeScript Make Ruby Rust\n",
    "##%fileforlist:../../jupyter-My$fnlist-kernel/jupyter_My$fnlist_kernel/MyKernel.py\n",
    "##\n",
    "##   MyPython Jupyter Kernel\n",
    "## \n",
    "\n",
    "from ipykernel.kernelbase import Kernel\n",
    "from .MyMagics import * \n",
    "from plugins._filter2_magics import Magics\n",
    "import platform\n",
    "import sys\n",
    "class MyKernel(Kernel):\n",
    "    implementation = 'jupyter-MyPython-kernel'\n",
    "    implementation_version = '1.0'\n",
    "    language = 'Python'\n",
    "    language_version = sys.version.split()[0]\n",
    "    language_info = {'name': 'python',\n",
    "                     'version': sys.version.split()[0],\n",
    "                     'mimetype': 'text/x-python',\n",
    "                     'codemirror_mode': {\n",
    "                        'name': 'ipython',\n",
    "                        'version': sys.version_info[0]\n",
    "                     },\n",
    "                     'pygments_lexer': 'ipython%d' % 3,\n",
    "                     'nbconvert_exporter': 'python',\n",
    "                     'file_extension': '.py'}\n",
    "    banner = \"MyPython kernel.\\n\" \\\n",
    "             \"Uses , compiles in , and creates source code files and executables in temporary folder.\\n\"\n",
    "    kernelinfo=\"[MyPython]\"\n",
    "    main_head = \"\\n\" \\\n",
    "            \"\\n\" \\\n",
    "            \"int main(List<String> arguments){\\n\"\n",
    "    main_foot = \"\\nreturn 0;\\n}\"\n",
    "\n",
    "    def __init__(self, *args, **kwargs):\n",
    "        super(MyKernel, self).__init__(*args, **kwargs)\n",
    "        self.runfiletype='script'\n",
    "        self.kernelinfo='[MyKernel]'\n",
    "        self.mymagics=MyMagics(jkobj=self,runfiletype=self.runfiletype)\n",
    "\n",
    "    def get_runfiletype(self)->str:\n",
    "        return self.runfiletype\n",
    "    def get_kernelinfo(self)->str:\n",
    "        return self.kernelinfo\n",
    "    def get_main_head(self)->str:\n",
    "        return self.main_head\n",
    "    def get_main_foot(self)->str:\n",
    "        return self.main_foot\n",
    "    def get_mymagics(self):\n",
    "        return self.mymagics\n",
    "    def set_mymagics(self,object):\n",
    "        self.mymagics=object\n",
    "\n",
    "    def get_execution_count(self):\n",
    "        return self.execution_count\n",
    "    # def get_raw_input(self):\n",
    "    #     return self.__jkobj.raw_input\n",
    "    # def get_iopub_socket(self):\n",
    "    #     return self.__jkobj.iopub_socket\n",
    "\n",
    "##%include:../src/_send_response.py\n",
    "##%include:../src/do_kexecute.py\n",
    "##%include:../src/do_kshutdown.py"
   ]
  },
  {
   "cell_type": "code",
   "execution_count": null,
   "metadata": {},
   "outputs": [],
   "source": []
  }
 ],
 "metadata": {
  "interpreter": {
   "hash": "31f2aee4e71d21fbe5cf8b01ff0e069b9275f58929596ceb00d14d90e3e16cd6"
  },
  "kernelspec": {
   "display_name": "MyPython",
   "language": "Python",
   "name": "mypython"
  },
  "language_info": {
   "codemirror_mode": {
    "name": "ipython",
    "version": 3
   },
   "file_extension": ".py",
   "mimetype": "text/x-python",
   "name": "python",
   "nbconvert_exporter": "python",
   "pygments_lexer": "ipython3",
   "version": "3.9.6"
  },
  "orig_nbformat": 4
 },
 "nbformat": 4,
 "nbformat_minor": 2
}
