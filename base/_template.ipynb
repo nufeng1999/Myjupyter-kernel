{
 "cells": [
  {
   "cell_type": "code",
   "execution_count": 4,
   "metadata": {},
   "outputs": [
    {
     "data": {
      "text/plain": [
       "[MyPython] Info:file /root/Jupyter/Myjupyter-kernel/base/../src/_templateHander.py created successfully\n"
      ]
     },
     "metadata": {
      "text/plain": {}
     },
     "output_type": "display_data"
    }
   ],
   "source": [
    "##%overwritefile\n",
    "##%file:../src/_templateHander.py\n",
    "##%noruncode\n",
    "    isjj2code=False\n",
    "    def _is_jj2_begin(self,line):\n",
    "        if line==None or line=='':return ''\n",
    "        return line.strip().startswith('##jj2_begin') or line.strip().startswith('//jj2_begin')\n",
    "    def _is_jj2_end(self,line):\n",
    "        if line==None or line=='':return ''\n",
    "        return line.strip().startswith('##jj2_end') or line.strip().startswith('//jj2_end')\n",
    "\n",
    "    jj2code_cache=[]\n",
    "    jj2code_args={}\n",
    "\n",
    "    def cleanjj2code_cache(self,):\n",
    "        self.jj2code_cache.clear()\n",
    "        self.jj2code_args={}\n",
    "    def addjj2codeline(self,line):\n",
    "        self.jj2code_cache+=[line]\n",
    "    def getjj2code(self):\n",
    "        if len(self.jj2code_cache)<1:return ''\n",
    "        code=''.join(line+'\\n' for line in self.jj2code_cache)\n",
    "        return code\n",
    "    def execjj2code_cache(self) -> str:\n",
    "        code=self.getjj2code()\n",
    "        if code==None or code.strip()=='': return code\n",
    "        env = Environment()\n",
    "        template = Template(code)\n",
    "        # self.process_output('render\\n')\n",
    "        # for key in self.jj2code_args:\n",
    "            # self.process_output(key+':'+self.jj2code_args[key])\n",
    "        ret=template.render(self.jj2code_args)\n",
    "        # self.process_output('ret'+'\\n')\n",
    "        return ret\n",
    "    def forcejj2code(self,line): \n",
    "        if not self.isjj2code:\n",
    "            istb=self._is_jj2_begin(line)\n",
    "            if istb: \n",
    "                self.isjj2code=True\n",
    "                if len(line.strip())>15:\n",
    "                    argline =line.split(\":\",1)\n",
    "                    # self.process_output(line+'\\n')\n",
    "                    if len(argline)>1:\n",
    "                        argstr=argline[1]\n",
    "                        # self.process_output(argstr+' is argstr\\n')\n",
    "                        tplargs=self.resolving_eqval2_dict(argstr)\n",
    "                        self.jj2code_args.update(tplargs)\n",
    "                        # self.process_output('jj2code_args.update\\n')\n",
    "                        # for key in self.jj2code_args:\n",
    "                            # self.process_output(key+':'+self.jj2code_args[key])\n",
    "                    iste=self._is_jj2_end(line)\n",
    "                    if iste:\n",
    "                        self.cleanjj2code_cache()\n",
    "                        self.isjj2code=False\n",
    "                        return ''\n",
    "                line= ''\n",
    "        iste=self._is_jj2_end(line)\n",
    "        if iste:\n",
    "            self.isjj2code=False\n",
    "            line= ''\n",
    "            line=self.execjj2code_cache()\n",
    "            self.cleanjj2code_cache()\n",
    "            return line\n",
    "        if self.isjj2code: self.addjj2codeline(line)\n",
    "        line= \"\" if self.isjj2code else line+\"\\n\"\n",
    "        return line\n"
   ]
  },
  {
   "cell_type": "code",
   "execution_count": 5,
   "metadata": {},
   "outputs": [
    {
     "data": {
      "text/plain": [
       "[MyPython] Info:file /root/Jupyter/Myjupyter-kernel/base/../src/_readtemplatefile.py created successfully\n"
      ]
     },
     "metadata": {
      "text/plain": {}
     },
     "output_type": "display_data"
    }
   ],
   "source": [
    "##%overwritefile\n",
    "##%file:../src/_readtemplatefile.py\n",
    "##%noruncode\n",
    "    def readtemplatefile(self,filename,spacecount=0,*args: t.Any, **kwargs: t.Any):\n",
    "        filecode=''\n",
    "        newfilecode=''\n",
    "        codelist1=None\n",
    "        filenm=os.path.join(os.path.abspath(''),filename);\n",
    "        if not os.path.exists(filenm):\n",
    "            return filecode;\n",
    "        template = self.jinja2_env.get_template(filenm)\n",
    "        filecode=template.render(*args,**kwargs)\n",
    "\n",
    "        for line in filecode.splitlines():\n",
    "            if len(line)>0:\n",
    "                for t in line:\n",
    "                    newfilecode+=' '*spacecount + t+'\\n'\n",
    "        return newfilecode\n"
   ]
  },
  {
   "cell_type": "code",
   "execution_count": null,
   "metadata": {},
   "outputs": [],
   "source": []
  }
 ],
 "metadata": {
  "kernelspec": {
   "display_name": "MyPython",
   "language": "Python",
   "name": "mypython"
  },
  "language_info": {
   "codemirror_mode": {
    "name": "ipython",
    "version": 3
   },
   "file_extension": ".py",
   "mimetype": "text/x-python",
   "name": "python",
   "nbconvert_exporter": "python",
   "pygments_lexer": "ipython3",
   "version": "3.9.7"
  },
  "orig_nbformat": 4
 },
 "nbformat": 4,
 "nbformat_minor": 2
}
