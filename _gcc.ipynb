{
 "cells": [
  {
   "cell_type": "code",
   "execution_count": null,
   "metadata": {},
   "outputs": [],
   "source": []
  },
  {
   "cell_type": "code",
   "execution_count": null,
   "id": "790ed872",
   "metadata": {},
   "outputs": [],
   "source": [
    "##%overwritefile\n",
    "##%file:src/compile_with_gcc.py\n",
    "##%noruncode\n",
    "    def compile_with_gcc(self, source_filename, binary_filename, cflags=None, ldflags=None,env=None):\n",
    "        # cflags = ['-std=c89', '-pedantic', '-fPIC', '-shared', '-rdynamic'] + cflags\n",
    "        # cflags = ['-std=c99', '-Wdeclaration-after-statement', '-Wvla', '-fPIC', '-shared', '-rdynamic'] + cflags\n",
    "        # cflags = ['-std=iso9899:199409', '-pedantic', '-fPIC', '-shared', '-rdynamic'] + cflags\n",
    "        # cflags = ['-std=c99', '-pedantic', '-fPIC', '-shared', '-rdynamic'] + cflags\n",
    "        # cflags = ['-std=c11', '-pedantic', '-fPIC', '-shared', '-rdynamic'] + cflags\n",
    "        outfile=binary_filename\n",
    "        if self.linkMaths:\n",
    "            cflags = cflags + ['-lm']\n",
    "        if self.wError:\n",
    "            cflags = cflags + ['-Werror']\n",
    "        if self.wAll:\n",
    "            cflags = cflags + ['-Wall']\n",
    "        if self.readOnlyFileSystem:\n",
    "            cflags = ['-DREAD_ONLY_FILE_SYSTEM'] + cflags\n",
    "        if self.bufferedOutput:\n",
    "            cflags = ['-DBUFFERED_OUTPUT'] + cflags\n",
    "\n",
    "        for s in cflags:\n",
    "                if s.startswith('-o'):\n",
    "                    if(len(s)>2):\n",
    "                        outfile=s[2:]\n",
    "                    else:\n",
    "                        outfile=cflags[cflags.index('-o')+1]\n",
    "                        if outfile.startswith('-'):\n",
    "                            outfile=binary_filename\n",
    "                binary_filename=outfile\n",
    "        args = ['gcc', source_filename] + ['-o', binary_filename]+ cflags  + ldflags\n",
    "        self._log(''.join((' '+ str(s) for s in args))+\"\\n\")\n",
    "        return self.create_jupyter_subprocess(args,env=env),binary_filename,args\n"
   ]
  },
  {
   "cell_type": "code",
   "execution_count": null,
   "id": "33551652",
   "metadata": {},
   "outputs": [],
   "source": [
    "##%overwritefile\n",
    "##%file:src/c_exec_gcc_.py\n",
    "##%noruncode\n",
    "    def _exec_gcc_(self,source_filename,magics):\n",
    "        self._write_to_stdout('Generating executable file\\n')\n",
    "        with self.new_temp_file(suffix='.out') as binary_file:\n",
    "            p,outfile,gcccmd = self.compile_with_gcc(\n",
    "                source_filename, \n",
    "                binary_file.name,\n",
    "                self.addkey2dict(magics,'cflags'),\n",
    "                self.addkey2dict(magics,'ldflags'),\n",
    "                self.addkey2dict(magics,'env'))\n",
    "            while p.poll() is None:\n",
    "                p.write_contents()\n",
    "            p.write_contents()\n",
    "            binary_file.name=os.path.join(os.path.abspath(''),outfile)\n",
    "            if p.returncode != 0:  # Compilation failed\n",
    "                self._log(''.join(('Error: '+ str(s) for s in gcccmd))+\"\\n\",3)\n",
    "                self._log(\"[C kernel] GCC exited with code {}, the executable will not be executed\".format(p.returncode),3)\n",
    "\n",
    "                # delete source files before exit\n",
    "                os.remove(source_filename)\n",
    "                os.remove(binary_file.name)\n",
    "        return p.returncode,binary_file.name\n"
   ]
  }
 ],
 "metadata": {
  "kernelspec": {
   "display_name": "MyPython",
   "language": "Python",
   "name": "mypython"
  },
  "orig_nbformat": 4
 },
 "nbformat": 4,
 "nbformat_minor": 2
}
