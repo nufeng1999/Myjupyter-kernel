{
 "cells": [
  {
   "cell_type": "code",
   "execution_count": null,
   "metadata": {},
   "outputs": [],
   "source": [
    "##%overwritefile\n",
    "## %file:src/noruncode.py\n",
    "##%runlist:Runprg Bash Batch C Dart Gjs Go Groovy Html Java Kotlin Lua Make Nodejs Perl PHP \n",
    "##%runlist:PowerShell Python R Ruby Rust Swift Tcl TypeScript Vala VBScript Vimscript WLScript\n",
    "##%runforlist:./kernel/$runlist/l_mykernel.ipynb\n",
    "## %noruncode\n",
    "print(\"重新生成所有的内核代码\")"
   ]
  }
 ],
 "metadata": {
  "kernelspec": {
   "display_name": "MyPython",
   "language": "Python",
   "name": "mypython"
  },
  "orig_nbformat": 4
 },
 "nbformat": 4,
 "nbformat_minor": 2
}
