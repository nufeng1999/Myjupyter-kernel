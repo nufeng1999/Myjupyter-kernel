{
 "cells": [
  {
   "cell_type": "code",
   "execution_count": 4,
   "id": "2ef90a66",
   "metadata": {},
   "outputs": [
    {
     "data": {
      "text/plain": [
       "[MyPython] Info:file /root/Jupyter/Myjupyter-kernel/kernel/Dart/src/do_dart_runcode.py created successfully\n"
      ]
     },
     "metadata": {
      "text/plain": {}
     },
     "output_type": "display_data"
    }
   ],
   "source": [
    "##do_runcode\n",
    "##%overwritefile\n",
    "##%file:src/do_dart_runcode.py\n",
    "##%noruncode\n",
    "    def do_runcode(self,return_code,fil_ename,magics,code, silent, store_history=True,\n",
    "                    user_expressions=None, allow_stdin=True):\n",
    "        return_code=return_code\n",
    "        fil_ename=fil_ename\n",
    "        bcancel_exec=False\n",
    "        retinfo=self.get_retinfo()\n",
    "        retstr=''\n",
    "\n",
    "        ##代码运行前\n",
    "        bcancel_exec,retstr=self.raise_plugin(code,magics,return_code,fil_ename,3,1)\n",
    "        if bcancel_exec:return bcancel_exec,retinfo,magics, code,fil_ename,retstr\n",
    "        self._logln(\"The process :\"+fil_ename)\n",
    "        p = self.create_jupyter_subprocess(['dart','--verbose',fil_ename]+ magics['args'],cwd=None,shell=False,env=self.addkey2dict(magics,'env'))\n",
    "        #p = self.create_jupyter_subprocess([binary_file.name]+ magics['args'],cwd=None,shell=False)\n",
    "        #p = self.create_jupyter_subprocess([self.master_path, binary_file.name] + magics['args'],cwd='/tmp',shell=True)\n",
    "        self.g_rtsps[str(p.pid)]=p\n",
    "        return_code=p.returncode\n",
    "        ##代码启动后\n",
    "        bcancel_exec,retstr=self.raise_plugin(code,magics,return_code,fil_ename,3,2)\n",
    "        if bcancel_exec:return bcancel_exec,retinfo,magics, code,fil_ename,retstr\n",
    "         \n",
    "        if magics!=None and len(self.addkey2dict(magics,'showpid'))>0:\n",
    "            self._write_to_stdout(\"The process PID:\"+str(p.pid)+\"\\n\")\n",
    "        while p.poll() is None:\n",
    "            p.write_contents(magics)\n",
    "\n",
    "        # wait for threads to finish, so output is always shown\n",
    "        p._stdout_thread.join()\n",
    "        p._stderr_thread.join()\n",
    "        del self.g_rtsps[str(p.pid)]\n",
    "        p.write_contents(magics)\n",
    "\n",
    "        return_code=p.returncode\n",
    "        bcancel_exec,retstr=self.raise_plugin(code,magics,return_code,fil_ename,3,3)\n",
    "        if bcancel_exec:return bcancel_exec,retinfo,magics, code,fil_ename,retstr\n",
    "        ##代码运行结束\n",
    "        self.cleanup_files()\n",
    "        if p.returncode != 0:\n",
    "            self._log(\"Executable exited with code {}\".format(p.returncode),2)\n",
    "        return bcancel_exec,retinfo,magics, code,fil_ename,retstr"
   ]
  },
  {
   "cell_type": "code",
   "execution_count": 5,
   "id": "f44df5cb",
   "metadata": {},
   "outputs": [
    {
     "data": {
      "text/plain": [
       "[MyPython] Info:file /root/Jupyter/Myjupyter-kernel/kernel/Dart/src/do_dart_create_codefile.py created successfully\n"
      ]
     },
     "metadata": {
      "text/plain": {}
     },
     "output_type": "display_data"
    }
   ],
   "source": [
    "##do_dart_create_codefile\n",
    "##%overwritefile\n",
    "##%file:src/do_dart_create_codefile.py\n",
    "##%noruncode\n",
    "    def do_create_codefile(self,magics,code, silent, store_history=True,\n",
    "                    user_expressions=None, allow_stdin=True):\n",
    "        return_code=0\n",
    "        fil_ename=''\n",
    "        bcancel_exec=False\n",
    "        retinfo=self.get_retinfo()\n",
    "        retstr=''\n",
    "\n",
    "        ##调生成文件前用接口\n",
    "        bcancel_exec,retstr=self.raise_plugin(code,magics,return_code,fil_ename,1,1)\n",
    "        if bcancel_exec:return bcancel_exec,retinfo,magics, code,fil_ename,retstr\n",
    "        \n",
    "        with self.new_temp_file(suffix='.dart',dir=os.path.abspath('')) as source_file:\n",
    "            source_file.write(code)\n",
    "            source_file.flush()\n",
    "            newsrcfilename=source_file.name\n",
    "            fil_ename=newsrcfilename\n",
    "            return_code=True\n",
    "            # Generate new src file\n",
    "            bcancel_exec,retstr=self.raise_plugin(code,magics,return_code,fil_ename,1,2)\n",
    "            if bcancel_exec:return bcancel_exec,retinfo,magics, code,fil_ename,retstr\n",
    "            if len(self.addkey2dict(magics,'file'))>0:\n",
    "                    fil_ename=magics['file'][0]\n",
    "            else: fil_ename=source_file.name\n",
    "            # Generate executable file :being\n",
    "            # Generate executable file :end\n",
    "        if len(self.addkey2dict(magics,'noruncode'))>0:\n",
    "            bcancel_exec=True\n",
    "            retinfo= {'status': 'ok', 'execution_count': self.execution_count, 'payload': [], 'user_expressions': {}}\n",
    "            return bcancel_exec,retinfo,magics, code,fil_ename,retstr\n",
    "        \n",
    "        return bcancel_exec,retinfo,magics, code,fil_ename,retstr"
   ]
  },
  {
   "cell_type": "code",
   "execution_count": 6,
   "id": "112d64e4",
   "metadata": {},
   "outputs": [
    {
     "data": {
      "text/plain": [
       "[MyPython] Info:file /root/Jupyter/Myjupyter-kernel/kernel/Dart/src/do_dart_preexecute.py created successfully\n"
      ]
     },
     "metadata": {
      "text/plain": {}
     },
     "output_type": "display_data"
    }
   ],
   "source": [
    "##do_dart_preexecute\n",
    "##%overwritefile\n",
    "##%file:src/do_dart_preexecute.py\n",
    "##%noruncode\n",
    "    def do_preexecute(self,code, magics,silent, store_history=True,\n",
    "                user_expressions=None, allow_stdin=False):\n",
    "        bcancel_exec=False\n",
    "        retinfo=self.get_retinfo()\n",
    "        # magics, code = self.mag.filter(code)\n",
    "        if len(self.addkey2dict(magics,'replcmdmode'))>0:\n",
    "            bcancel_exec=True\n",
    "            retinfo= self.send_replcmd(code, silent, store_history=True,\n",
    "                user_expressions=None, allow_stdin=False)\n",
    "            return bcancel_exec,retinfo,magics, code\n",
    "        if (len(self.addkey2dict(magics,'noruncode'))>0\n",
    "            and ( len(self.addkey2dict(magics,'command'))>0 \n",
    "            or len(self.addkey2dict(magics,'dartcmd'))>0)):\n",
    "            return {'status': 'ok', 'execution_count': self.execution_count, 'payload': [], 'user_expressions': {}}\n",
    "        \n",
    "        if len(self.addkey2dict(magics,'file'))<1:\n",
    "            magics, code = self._add_main(magics, code)\n",
    "        return_code=0\n",
    "        fil_ename=''\n",
    "        return bcancel_exec,retinfo,magics, code"
   ]
  },
  {
   "cell_type": "code",
   "execution_count": 7,
   "id": "5b2870cf",
   "metadata": {},
   "outputs": [
    {
     "data": {
      "text/plain": [
       "[MyPython] Info:file /root/Jupyter/Myjupyter-kernel/kernel/Dart/src/dart_do_dart_command.py created successfully\n"
      ]
     },
     "metadata": {
      "text/plain": {}
     },
     "output_type": "display_data"
    }
   ],
   "source": [
    "##do_dart_command\n",
    "##%overwritefile\n",
    "##%file:src/dart_do_dart_command.py\n",
    "##%noruncode\n",
    "    def do_dart_command(self,commands=None,cwd=None,magics=None):\n",
    "        p = self.create_jupyter_subprocess(['dart']+commands,cwd=os.path.abspath(''),shell=False)\n",
    "        self.g_rtsps[str(p.pid)]=p\n",
    "        if magics!=None and len(magics['showpid'])>0:\n",
    "            self._write_to_stdout(\"The process PID:\"+str(p.pid)+\"\\n\")\n",
    "        while p.poll() is None:\n",
    "            p.write_contents()\n",
    "        # wait for threads to finish, so output is always shown\n",
    "        p._stdout_thread.join()\n",
    "        p._stderr_thread.join()\n",
    "        del self.g_rtsps[str(p.pid)]\n",
    "        p.write_contents()\n",
    "\n",
    "        if p.returncode != 0:\n",
    "            self._write_to_stderr(\"[Dart kernel] Executable exited with code {}\".format(p.returncode))\n",
    "        else:\n",
    "            self._write_to_stdout(\"[Dart kernel] Info:dart command success.\")\n",
    "        return\n"
   ]
  },
  {
   "cell_type": "code",
   "execution_count": 8,
   "id": "4cbbf122",
   "metadata": {},
   "outputs": [
    {
     "data": {
      "text/plain": [
       "[MyPython] Info:file /root/Jupyter/Myjupyter-kernel/kernel/Dart/src/dart_do_flutter_command.py created successfully\n"
      ]
     },
     "metadata": {
      "text/plain": {}
     },
     "output_type": "display_data"
    }
   ],
   "source": [
    "##do_flutter_command\n",
    "##%overwritefile\n",
    "##%file:src/dart_do_flutter_command.py\n",
    "##%noruncode\n",
    "    def do_flutter_command(self,commands=None,cwd=None,magics=None):\n",
    "        p = self.create_jupyter_subprocess(['flutter']+commands,cwd=os.path.abspath(''),shell=False)\n",
    "        self.g_rtsps[str(p.pid)]=p\n",
    "        if magics!=None and len(magics['showpid'])>0:\n",
    "            self._write_to_stdout(\"The process PID:\"+str(p.pid)+\"\\n\")\n",
    "        while p.poll() is None:\n",
    "            p.write_contents()\n",
    "        # wait for threads to finish, so output is always shown\n",
    "        p._stdout_thread.join()\n",
    "        p._stderr_thread.join()\n",
    "        del self.g_rtsps[str(p.pid)]\n",
    "        p.write_contents()\n",
    "\n",
    "        if p.returncode != 0:\n",
    "            self._write_to_stderr(\"[Dart kernel] Executable exited with code {}\".format(p.returncode))\n",
    "        else:\n",
    "            self._write_to_stdout(\"[Dart kernel] Info:flutter command success.\")\n",
    "        return\n"
   ]
  },
  {
   "cell_type": "code",
   "execution_count": 4,
   "id": "cf5bc10a",
   "metadata": {},
   "outputs": [
    {
     "data": {
      "text/plain": [
       "[MyPython] Info:file /root/Jupyter/Myjupyter-kernel/kernel/Dart/../../../jupyter-MyDart-kernel/jupyter_MyDart_kernel/kernel.py created successfully\n"
      ]
     },
     "metadata": {
      "text/plain": {}
     },
     "output_type": "display_data"
    }
   ],
   "source": [
    "## new kernel.py\n",
    "##%overwritefile\n",
    "##%file:../../../jupyter-MyDart-kernel/jupyter_MyDart_kernel/kernel.py\n",
    "###%file:dart_kernel.py\n",
    "##%noruncode\n",
    "#\n",
    "#   MyDart Jupyter Kernel\n",
    "#   generated by MyPython\n",
    "#\n",
    "##%include:../../src/head.py\n",
    "##%include:../../src/common.py\n",
    "##%include:../../src/Mykernel.py\n",
    "class DartKernel(MyKernel):\n",
    "    implementation = 'jupyter_MyDart_kernel'\n",
    "    implementation_version = '1.0'\n",
    "    language = 'Dart'\n",
    "    language_version = '2.X.X'\n",
    "    language_info = {'name': 'text/x-csrc',\n",
    "                     'mimetype': 'text/x-csrc',\n",
    "                     'file_extension': '.dart'}\n",
    "    runfiletype='script'\n",
    "    banner = \"Dart kernel.\\n\" \\\n",
    "             \"Uses Dart, compiles in dart, and creates source code files and executables in temporary folder.\\n\"\n",
    "\n",
    "    main_head = \"\\n\" \\\n",
    "            \"\\n\" \\\n",
    "            \"int main(List<String> arguments){\\n\"\n",
    "\n",
    "    main_foot = \"\\nreturn 0;\\n}\"\n",
    "    \n",
    "##//%include:../../src/comm_attribute.py\n",
    "\n",
    "    def __init__(self, *args, **kwargs):\n",
    "        super(DartKernel, self).__init__(*args, **kwargs)\n",
    "        self.kernelinfo='[MyDart Kernel]'\n",
    "        self._allow_stdin = True\n",
    "        self.readOnlyFileSystem = False\n",
    "        self.bufferedOutput = True\n",
    "        self.linkMaths = True # always link math library\n",
    "        self.wAll = True # show all warnings by default\n",
    "        self.wError = False # but keep comipiling for warnings\n",
    "#################\n",
    "##%include:src/dart_do_dart_command.py\n",
    "##%include:src/dart_do_flutter_command.py\n",
    "\n",
    "##%include:src/do_dart_runcode.py\n",
    "##%include:src/do_dart_create_codefile.py\n",
    "##%include:src/do_dart_preexecute.py\n",
    "\n"
   ]
  },
  {
   "cell_type": "code",
   "execution_count": null,
   "id": "ae147a46",
   "metadata": {},
   "outputs": [],
   "source": []
  }
 ],
 "metadata": {
  "interpreter": {
   "hash": "916dbcbb3f70747c44a77c7bcd40155683ae19c65e1c03b4aa3499c5328201f1"
  },
  "kernelspec": {
   "display_name": "MyPython",
   "language": "Python",
   "name": "mypython"
  },
  "language_info": {
   "codemirror_mode": {
    "name": "ipython",
    "version": 3
   },
   "file_extension": ".py",
   "mimetype": "text/x-python",
   "name": "python",
   "nbconvert_exporter": "python",
   "pygments_lexer": "ipython3",
   "version": "3.9.7"
  }
 },
 "nbformat": 4,
 "nbformat_minor": 5
}
