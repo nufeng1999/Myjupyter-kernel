{
 "cells": [
  {
   "cell_type": "code",
   "execution_count": 4,
   "id": "2ef90a66",
   "metadata": {},
   "outputs": [
    {
     "name": "stdout",
     "output_type": "stream",
     "text": [
      "[MyPython] Info:src/do_dart_runcode.py\n",
      "[MyPython] Info:file h:\\Jupyter\\Myjupyter-kernel\\kernel\\Dart\\src/do_dart_runcode.py created successfully\n"
     ]
    }
   ],
   "source": [
    "##do_runcode\n",
    "##%overwritefile\n",
    "##%file:src/do_dart_runcode.py\n",
    "##%noruncode\n",
    "    def do_runcode(self,return_code,file_name,magics,code, silent, store_history=True,\n",
    "                    user_expressions=None, allow_stdin=True):\n",
    "        return_code=return_code\n",
    "        file_name=file_name\n",
    "        bcancel_exec=False\n",
    "        retinfo=self.mymagics.get_retinfo()\n",
    "        retstr=''\n",
    "\n",
    "        ##代码运行前\n",
    "        # bcancel_exec,retstr=self.raise_plugin(code,magics,return_code,file_name,3,1)\n",
    "        # if bcancel_exec:return bcancel_exec,retinfo,magics, code,file_name,retstr\n",
    "        # self.mymagics._logln(\"The process :\"+file_name)\n",
    "        p = self.mymagics.create_jupyter_subprocess(['dart','--verbose',file_name]+ magics['_st']['args'],cwd=None,shell=False,env=self.mymagics.addkey2dict(magics,'env'),magics=magics)\n",
    "        #p = self.create_jupyter_subprocess([binary_file.name]+ magics['args'],cwd=None,shell=False)\n",
    "        #p = self.create_jupyter_subprocess([self.master_path, binary_file.name] + magics['args'],cwd='/tmp',shell=True)\n",
    "        self.mymagics.g_rtsps[str(p.pid)]=p\n",
    "        return_code=p.returncode\n",
    "        ##代码启动后\n",
    "        # bcancel_exec,retstr=self.raise_plugin(code,magics,return_code,file_name,3,2)\n",
    "        # if bcancel_exec:return bcancel_exec,retinfo,magics, code,file_name,retstr\n",
    "         \n",
    "        if magics!=None and len(self.mymagics.addkey2dict(magics,'showpid'))>0:\n",
    "            self._write_to_stdout(\"The process PID:\"+str(p.pid)+\"\\n\")\n",
    "        return_code=p.wait_end(magics)\n",
    "        ##代码运行结束\n",
    "        # self.cleanup_files()\n",
    "        if p.returncode != 0:\n",
    "            self.mymagics._log(\"Executable exited with code {}\".format(p.returncode),2)\n",
    "        return bcancel_exec,retinfo,magics, code,file_name,retstr"
   ]
  },
  {
   "cell_type": "code",
   "execution_count": 5,
   "id": "0e892e4c",
   "metadata": {},
   "outputs": [
    {
     "name": "stdout",
     "output_type": "stream",
     "text": [
      "[MyPython] Info:src/do_c_compilecode.py\n",
      "[MyPython] Info:file h:\\Jupyter\\Myjupyter-kernel\\kernel\\Dart\\src/do_c_compilecode.py created successfully\n"
     ]
    }
   ],
   "source": [
    "##do_compile_code\n",
    "##%overwritefile\n",
    "##%file:src/do_c_compilecode.py\n",
    "##%noruncode\n",
    "    def do_compile_code(self,return_code,file_name,magics,code, silent, store_history=True,\n",
    "                    user_expressions=None, allow_stdin=True):\n",
    "        return_code=0\n",
    "        file_name=file_name\n",
    "        sourcefilename=file_name\n",
    "        bcancel_exec=False\n",
    "        retinfo=self.mymagics.get_retinfo()\n",
    "        retstr=''\n",
    "\n",
    "        return bcancel_exec,retinfo,magics, code,file_name,retstr"
   ]
  },
  {
   "cell_type": "code",
   "execution_count": 6,
   "id": "f44df5cb",
   "metadata": {},
   "outputs": [
    {
     "name": "stdout",
     "output_type": "stream",
     "text": [
      "[MyPython] Info:src/do_dart_create_codefile.py\n",
      "[MyPython] Info:file h:\\Jupyter\\Myjupyter-kernel\\kernel\\Dart\\src/do_dart_create_codefile.py created successfully\n"
     ]
    }
   ],
   "source": [
    "##do_dart_create_codefile\n",
    "##%overwritefile\n",
    "##%file:src/do_dart_create_codefile.py\n",
    "##%noruncode\n",
    "    def do_create_codefile(self,magics,code, silent, store_history=True,\n",
    "                    user_expressions=None, allow_stdin=True):\n",
    "        return_code=0\n",
    "        file_name=''\n",
    "        bcancel_exec=False\n",
    "        retinfo=self.mymagics.get_retinfo()\n",
    "        retstr=''\n",
    "        \n",
    "        source_file=self.mymagics.create_codetemp_file(magics,code,suffix='.dart')\n",
    "        newsrcfilename=source_file.name\n",
    "        file_name=newsrcfilename\n",
    "        return_code=True\n",
    "        \n",
    "        return bcancel_exec,retinfo,magics, code,file_name,retstr"
   ]
  },
  {
   "cell_type": "code",
   "execution_count": 7,
   "id": "112d64e4",
   "metadata": {},
   "outputs": [
    {
     "name": "stdout",
     "output_type": "stream",
     "text": [
      "[MyPython] Info:src/do_dart_preexecute.py\n",
      "[MyPython] Info:file h:\\Jupyter\\Myjupyter-kernel\\kernel\\Dart\\src/do_dart_preexecute.py created successfully\n"
     ]
    }
   ],
   "source": [
    "##do_dart_preexecute\n",
    "##%overwritefile\n",
    "##%file:src/do_dart_preexecute.py\n",
    "##%noruncode\n",
    "    def do_preexecute(self,code, magics,silent, store_history=True,\n",
    "                user_expressions=None, allow_stdin=False):\n",
    "        bcancel_exec=False\n",
    "        retinfo=self.mymagics.get_retinfo()\n",
    "\n",
    "        if len(self.mymagics.addkey2dict(magics,'noruncode'))<1 :\n",
    "            magics, code = self.mymagics._add_main(magics, code)\n",
    "\n",
    "        return_code=0\n",
    "        file_name=''\n",
    "        return bcancel_exec,retinfo,magics, code"
   ]
  },
  {
   "cell_type": "code",
   "execution_count": 8,
   "id": "5b2870cf",
   "metadata": {},
   "outputs": [
    {
     "name": "stdout",
     "output_type": "stream",
     "text": [
      "[MyPython] Info:src/dart_do_dart_command.py\n",
      "[MyPython] Info:file h:\\Jupyter\\Myjupyter-kernel\\kernel\\Dart\\src/dart_do_dart_command.py created successfully\n"
     ]
    }
   ],
   "source": [
    "##do_dart_command\n",
    "##%overwritefile\n",
    "##%file:src/dart_do_dart_command.py\n",
    "##%noruncode\n",
    "    def do_dart_command(self,commands=None,cwd=None,magics=None):\n",
    "        try:\n",
    "            p = self.mymagics.create_jupyter_subprocess(['dart']+commands,cwd=os.path.abspath(''),shell=False,magics=magics)\n",
    "            self.mymagics.g_rtsps[str(p.pid)]=p\n",
    "            if magics!=None and len(self.mymagics.addkey2dict(magics,'showpid'))>0:\n",
    "                self.mymagics._logln(\"The process PID:\"+str(p.pid))\n",
    "            returncode=p.wait_end(magics)\n",
    "            del self.mymagics.g_rtsps[str(p.pid)]\n",
    "            if returncode != 0:\n",
    "                self.mymagics._logln(\"Executable exited with code {}\".format(returncode),3)\n",
    "            else:\n",
    "                self.mymagics._logln(\"Info:dart command success.\")\n",
    "            return\n",
    "        except Exception as e:\n",
    "            self.mymagics._logln(\"Executable dart command error! \"+str(e)+\"\\n\",3)\n"
   ]
  },
  {
   "cell_type": "code",
   "execution_count": 9,
   "id": "4cbbf122",
   "metadata": {},
   "outputs": [
    {
     "name": "stdout",
     "output_type": "stream",
     "text": [
      "[MyPython] Info:src/dart_do_flutter_command.py\n",
      "[MyPython] Info:file h:\\Jupyter\\Myjupyter-kernel\\kernel\\Dart\\src/dart_do_flutter_command.py created successfully\n"
     ]
    }
   ],
   "source": [
    "##do_flutter_command\n",
    "##%overwritefile\n",
    "##%file:src/dart_do_flutter_command.py\n",
    "##%noruncode\n",
    "    def do_flutter_command(self,commands=None,cwd=None,magics=None):\n",
    "        try:\n",
    "            p = self.mymagics.create_jupyter_subprocess(['flutter']+commands,cwd=os.path.abspath(''),shell=False,magics=magics)\n",
    "            self.mymagics.g_rtsps[str(p.pid)]=p\n",
    "            if magics!=None and len(self.mymagics.addkey2dict(magics,'showpid'))>0:\n",
    "                self.mymagics._logln(\"The process PID:\"+str(p.pid))\n",
    "            returncode=p.wait_end(magics)\n",
    "            del self.mymagics.g_rtsps[str(p.pid)]\n",
    "            if returncode != 0:\n",
    "                self.mymagics._logln(\"Executable flutter exited with code {}\".format(p.returncode),3)\n",
    "            else:\n",
    "                self.mymagics._logln(\"Info:flutter command success.\")\n",
    "            return\n",
    "        except Exception as e:\n",
    "            self.mymagics._logln(\"Executable flutter command error! \"+str(e)+\"\\n\",3)\n"
   ]
  },
  {
   "cell_type": "code",
   "execution_count": 4,
   "id": "cf5bc10a",
   "metadata": {},
   "outputs": [
    {
     "name": "stdout",
     "output_type": "stream",
     "text": [
      "[MyPython] Info:../../../jupyter-MyDart-kernel/jupyter_MyDart_kernel/kernel.py\n",
      "[MyPython] Info:file h:\\Jupyter\\Myjupyter-kernel\\kernel\\Dart\\../../../jupyter-MyDart-kernel/jupyter_MyDart_kernel/kernel.py created successfully\n"
     ]
    }
   ],
   "source": [
    "## new kernel.py\n",
    "##%overwritefile\n",
    "##%file:../../../jupyter-MyDart-kernel/jupyter_MyDart_kernel/kernel.py\n",
    "###%file:dart_kernel.py\n",
    "##%noruncode\n",
    "#\n",
    "#   MyDart Jupyter Kernel\n",
    "#   generated by MyPython\n",
    "#\n",
    "##%include:../../src/head.py\n",
    "from .MyKernel import MyKernel\n",
    "\n",
    "class DartKernel(MyKernel):\n",
    "    implementation = 'jupyter_MyDart_kernel'\n",
    "    implementation_version = '1.0'\n",
    "    language = 'Dart'\n",
    "    language_version = ''\n",
    "    language_info = {'name': 'text/dart',\n",
    "                     'mimetype': 'text/dart',\n",
    "                     'file_extension': '.dart'}\n",
    "    runfiletype='script'\n",
    "    banner = \"Dart kernel.\\n\" \\\n",
    "             \"Uses Dart, compiles in dart, and creates source code files and executables in temporary folder.\\n\"\n",
    "\n",
    "    main_head = \"\\n\" \\\n",
    "            \"\\n\" \\\n",
    "            \"int main(List<String> arguments){\\n\"\n",
    "\n",
    "    main_foot = \"\\nreturn 0;\\n}\"\n",
    "    \n",
    "##//%include:../../src/comm_attribute.py\n",
    "\n",
    "    def __init__(self, *args, **kwargs):\n",
    "        super(DartKernel, self).__init__(*args, **kwargs)\n",
    "        self.runfiletype='script'\n",
    "        self.kernelinfo=\"[MyDartKernel{0}]\".format(time.strftime(\"%H%M%S\", time.localtime()))\n",
    "#################\n",
    "##%include:src/dart_do_dart_command.py\n",
    "##%include:src/dart_do_flutter_command.py\n",
    "\n",
    "##%include:src/do_dart_runcode.py\n",
    "##%include:src/do_c_compilecode.py\n",
    "##%include:src/do_dart_create_codefile.py\n",
    "##%include:src/do_dart_preexecute.py\n",
    "\n"
   ]
  },
  {
   "cell_type": "code",
   "execution_count": null,
   "id": "34da8712",
   "metadata": {},
   "outputs": [],
   "source": []
  }
 ],
 "metadata": {
  "interpreter": {
   "hash": "916dbcbb3f70747c44a77c7bcd40155683ae19c65e1c03b4aa3499c5328201f1"
  },
  "kernelspec": {
   "display_name": "MyPython",
   "language": "Python",
   "name": "mypython"
  }
 },
 "nbformat": 4,
 "nbformat_minor": 5
}
