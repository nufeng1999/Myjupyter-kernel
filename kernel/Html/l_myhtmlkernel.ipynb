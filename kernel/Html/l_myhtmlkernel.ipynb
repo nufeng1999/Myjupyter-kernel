{
 "cells": [
  {
   "cell_type": "code",
   "execution_count": 4,
   "id": "29cc610c",
   "metadata": {},
   "outputs": [
    {
     "name": "stdout",
     "output_type": "stream",
     "text": [
      "[MyPython] Info:file h:\\Jupyter\\Myjupyter-kernel\\kernel\\Html\\src/do_html_runcode.py created successfully\n"
     ]
    }
   ],
   "source": [
    "##do_runcode\n",
    "##%overwritefile\n",
    "##%file:src/do_html_runcode.py\n",
    "##%noruncode\n",
    "    def do_runcode(self,return_code,fil_ename,magics,code, silent, store_history=True,\n",
    "                    user_expressions=None, allow_stdin=True):\n",
    "        return_code=return_code\n",
    "        fil_ename=fil_ename\n",
    "        bcancel_exec=False\n",
    "        retinfo=self.get_retinfo()\n",
    "        retstr=''\n",
    "        ##代码运行前\n",
    "        for line in code.splitlines():\n",
    "            self._write_to_stdout(line,magics)\n",
    "\n",
    "        ##代码启动后\n",
    "\n",
    "        return_code=0\n",
    "        ##代码运行结束\n",
    "        if return_code != 0:\n",
    "            self._log(\"Executable exited with code {}\".format(return_code),2)\n",
    "        return bcancel_exec,retinfo,magics, code,fil_ename,retstr"
   ]
  },
  {
   "cell_type": "code",
   "execution_count": 5,
   "id": "58ae8be2",
   "metadata": {},
   "outputs": [
    {
     "name": "stdout",
     "output_type": "stream",
     "text": [
      "[MyPython] Info:file h:\\Jupyter\\Myjupyter-kernel\\kernel\\Html\\src/do_html_compilecode.py created successfully\n"
     ]
    }
   ],
   "source": [
    "##do_compile_code\n",
    "##%overwritefile\n",
    "##%file:src/do_html_compilecode.py\n",
    "##%noruncode\n",
    "    def do_compile_code(self,return_code,fil_ename,magics,code, silent, store_history=True,\n",
    "                    user_expressions=None, allow_stdin=True):\n",
    "        return_code=0\n",
    "        fil_ename=fil_ename\n",
    "        sourcefilename=fil_ename\n",
    "        bcancel_exec=False\n",
    "        retinfo=self.get_retinfo()\n",
    "        retstr=''\n",
    "\n",
    "        return bcancel_exec,retinfo,magics, code,fil_ename,retstr"
   ]
  },
  {
   "cell_type": "code",
   "execution_count": 6,
   "id": "9e2e5e68",
   "metadata": {},
   "outputs": [
    {
     "name": "stdout",
     "output_type": "stream",
     "text": [
      "[MyPython] Info:file h:\\Jupyter\\Myjupyter-kernel\\kernel\\Html\\src/do_html_create_codefile.py created successfully\n"
     ]
    }
   ],
   "source": [
    "##do_create_codefile\n",
    "##%overwritefile\n",
    "##%file:src/do_html_create_codefile.py\n",
    "##%noruncode\n",
    "    def do_create_codefile(self,magics,code, silent, store_history=True,\n",
    "                    user_expressions=None, allow_stdin=True):\n",
    "        return_code=0\n",
    "        fil_ename=''\n",
    "        bcancel_exec=False\n",
    "        retinfo=self.get_retinfo()\n",
    "        retstr=''\n",
    "\n",
    "        source_file=self.create_codetemp_file(magics,code,suffix='.html')\n",
    "        newsrcfilename=source_file.name\n",
    "        fil_ename=newsrcfilename\n",
    "        return_code=True\n",
    "\n",
    "        return bcancel_exec,self.get_retinfo(),magics, code,fil_ename,retstr"
   ]
  },
  {
   "cell_type": "code",
   "execution_count": 7,
   "id": "9343d6d3",
   "metadata": {},
   "outputs": [
    {
     "name": "stdout",
     "output_type": "stream",
     "text": [
      "[MyPython] Info:file h:\\Jupyter\\Myjupyter-kernel\\kernel\\Html\\src/do_html_preexecute.py created successfully\n"
     ]
    }
   ],
   "source": [
    "##do_preexecute\n",
    "##%overwritefile\n",
    "##%file:src/do_html_preexecute.py\n",
    "##%noruncode\n",
    "    def do_preexecute(self,code,magics,silent, store_history=True,\n",
    "                user_expressions=None, allow_stdin=False):\n",
    "        bcancel_exec=False\n",
    "        retinfo=self.get_retinfo()\n",
    "        \n",
    "        return bcancel_exec,retinfo,magics, code"
   ]
  },
  {
   "cell_type": "code",
   "execution_count": 4,
   "id": "84d3b67c",
   "metadata": {},
   "outputs": [
    {
     "name": "stdout",
     "output_type": "stream",
     "text": [
      "[MyPythonKernel184851] Info:file h:\\Jupyter\\Myjupyter-kernel\\kernel\\Html\\../../../jupyter-MyHtml-kernel/jupyter_MyHtml_kernel/kernel.py created successfully\n"
     ]
    }
   ],
   "source": [
    "## new kernel.py\n",
    "##%overwritefile\n",
    "##%file:../../../jupyter-MyHtml-kernel/jupyter_MyHtml_kernel/kernel.py\n",
    "##//%file:kernel.py\n",
    "##%noruncode\n",
    "#\n",
    "#   MyHtml Jupyter Kernel\n",
    "#\n",
    "##%include:../../src/head.py\n",
    "##%include:../../src/common.py\n",
    "\n",
    "##%include:../../src/Mykernel.py\n",
    "\n",
    "class MyHtmlKernel(MyKernel):\n",
    "    implementation = 'jupyter-MyHtml-kernel'\n",
    "    implementation_version = '1.0'\n",
    "    language = 'html'\n",
    "    language_version = ''\n",
    "    language_info = {'name': 'html',\n",
    "                     'version': sys.version.split()[0],\n",
    "                     'mimetype': 'text/html',\n",
    "                     'codemirror_mode': {\n",
    "                        'name': 'ipython',\n",
    "                        'version': sys.version_info[0]\n",
    "                     },\n",
    "                     'pygments_lexer': 'ipython%d' % 3,\n",
    "                     'nbconvert_exporter': 'python',\n",
    "                     'file_extension': '.html'}\n",
    "    runfiletype='script'\n",
    "    banner = \"MyHtml kernel.\\n\" \\\n",
    "             \"creates source code files and executables in temporary folder.\\n\"\n",
    "    kernelinfo=\"[MyHtml]\"\n",
    "    main_head = \"\\n\" \\\n",
    "            \"\\n\" \\\n",
    "            \"int main(List<String> arguments){\\n\"\n",
    "\n",
    "    main_foot = \"\\nreturn 0;\\n}\"\n",
    "\n",
    "##//%include:src/comm_attribute.py\n",
    "\n",
    "    def __init__(self, *args, **kwargs):\n",
    "        super(MyHtmlKernel, self).__init__(*args, **kwargs)\n",
    "        self.kernelinfo=\"[MyHtmlKernel{0}]\".format(time.strftime(\"%H%M%S\", time.localtime()))\n",
    "        self._allow_stdin = True\n",
    "        self.readOnlyFileSystem = False\n",
    "        self.bufferedOutput = True\n",
    "        self.linkMaths = True # always link math library\n",
    "        self.wAll = True # show all warnings by default\n",
    "        self.wError = False # but keep comipiling for warnings\n",
    "        \n",
    "#################\n",
    "\n",
    "##%include:src/do_html_runcode.py\n",
    "##%include:src/do_html_compilecode.py\n",
    "##%include:src/do_html_create_codefile.py\n",
    "##%include:src/do_html_preexecute.py\n"
   ]
  },
  {
   "cell_type": "code",
   "execution_count": null,
   "id": "fc6d0d16",
   "metadata": {},
   "outputs": [],
   "source": []
  }
 ],
 "metadata": {
  "interpreter": {
   "hash": "31f2aee4e71d21fbe5cf8b01ff0e069b9275f58929596ceb00d14d90e3e16cd6"
  },
  "kernelspec": {
   "display_name": "MyPython",
   "language": "Python",
   "name": "mypython"
  },
  "language_info": {
   "codemirror_mode": {
    "name": "ipython",
    "version": 3
   },
   "file_extension": ".py",
   "mimetype": "text/x-python",
   "name": "python",
   "nbconvert_exporter": "python",
   "pygments_lexer": "ipython3",
   "version": "3.9.6"
  }
 },
 "nbformat": 4,
 "nbformat_minor": 5
}
