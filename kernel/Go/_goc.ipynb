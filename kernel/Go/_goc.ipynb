{
 "cells": [
  {
   "cell_type": "code",
   "execution_count": 4,
   "id": "790ed872",
   "metadata": {},
   "outputs": [
    {
     "name": "stdout",
     "output_type": "stream",
     "text": [
      "[MyPython] Info:file h:\\Jupyter\\Myjupyter-kernel\\kernel\\Go\\src/compile_with_goc.py created successfully\n"
     ]
    }
   ],
   "source": [
    "##%overwritefile\n",
    "##%file:src/compile_with_goc.py\n",
    "##%noruncode\n",
    "    def compile_with_goc(self, source_filename, binary_filename, cflags=None, ldflags=None,env=None,magics=None):\n",
    "        # cflags = ['-std=c89', '-pedantic', '-fPIC', '-shared', '-rdynamic'] + cflags\n",
    "        # cflags = ['-std=c99', '-Wdeclaration-after-statement', '-Wvla', '-fPIC', '-shared', '-rdynamic'] + cflags\n",
    "        # cflags = ['-std=iso9899:199409', '-pedantic', '-fPIC', '-shared', '-rdynamic'] + cflags\n",
    "        # cflags = ['-std=c99', '-pedantic', '-fPIC', '-shared', '-rdynamic'] + cflags\n",
    "        # cflags = ['-std=c11', '-pedantic', '-fPIC', '-shared', '-rdynamic'] + cflags\n",
    "        outfile=binary_filename\n",
    "        orig_cflags=cflags\n",
    "        orig_ldflags=ldflags\n",
    "\n",
    "        index=0\n",
    "        for s in cflags:\n",
    "            if s.startswith('-o'):\n",
    "                if(len(s)>2):\n",
    "                    outfile=s[2:]\n",
    "                    del cflags[index]\n",
    "                else:\n",
    "                    outfile=cflags[cflags.index('-o')+1]\n",
    "                    if outfile.startswith('-'):\n",
    "                        outfile=binary_filename\n",
    "                    del cflags[cflags.index('-o')+1]\n",
    "                    del cflags[cflags.index('-o')]\n",
    "            binary_filename=outfile\n",
    "            index+=1\n",
    "        args=[]\n",
    "        if magics!=None and len(self.mymagics.addkey2dict(magics,'ccompiler'))>0:\n",
    "            args = magics['ccompiler'] + orig_cflags +[source_filename] + orig_ldflags\n",
    "        else:\n",
    "            args = ['go','build']+ ['-o', binary_filename]+[source_filename] + cflags  + ldflags\n",
    "        # self._log(''.join((' '+ str(s) for s in args))+\"\\n\")\n",
    "        return self.mymagics.create_jupyter_subprocess(args,env=env,magics=magics),binary_filename,args\n"
   ]
  },
  {
   "cell_type": "code",
   "execution_count": 5,
   "id": "33551652",
   "metadata": {},
   "outputs": [
    {
     "name": "stdout",
     "output_type": "stream",
     "text": [
      "[MyPython] Info:file h:\\Jupyter\\Myjupyter-kernel\\kernel\\Go\\src/go_exec_goc_.py created successfully\n"
     ]
    }
   ],
   "source": [
    "##%overwritefile\n",
    "##%file:src/go_exec_goc_.py\n",
    "##%noruncode\n",
    "    def _exec_goc_(self,source_filename,magics):\n",
    "        self.mymagics._logln('Generating executable file')\n",
    "        with self.mymagics.new_temp_file(suffix='.out') as binary_file:\n",
    "            magics['status']='compiling'\n",
    "            p,outfile,gcccmd = self.compile_with_goc(\n",
    "                source_filename, \n",
    "                binary_file.name,\n",
    "                self.mymagics.get_magicsSvalue(magics,'cflags'),\n",
    "                self.mymagics.get_magicsSvalue(magics,'ldflags'),\n",
    "                self.mymagics.get_magicsbykey(magics,'env'),\n",
    "                magics=magics)\n",
    "            returncode=p.wait_end(magics)\n",
    "            p.write_contents()\n",
    "            magics['status']='compiling'\n",
    "            binary_file.name=os.path.join(os.path.abspath(''),outfile)\n",
    "            if returncode != 0:  # Compilation failed\n",
    "                self.mymagics._logln(''.join((str(s) for s in gcccmd))+\"\\n\",3)\n",
    "                self.mymagics._logln(\"Go build exited with code {}, the executable will not be executed\".format(returncode),3)\n",
    "\n",
    "                # delete source files before exit\n",
    "                os.remove(source_filename)\n",
    "                os.remove(binary_file.name)\n",
    "        return p.returncode,binary_file.name\n"
   ]
  },
  {
   "cell_type": "code",
   "execution_count": null,
   "metadata": {},
   "outputs": [],
   "source": []
  }
 ],
 "metadata": {
  "interpreter": {
   "hash": "75596ead963b1eeb4cf3ce4e8a9c4a864202dd5fd95b19dff9cbdac9756331e2"
  },
  "kernelspec": {
   "display_name": "MyPython",
   "language": "Python",
   "name": "mypython"
  },
  "orig_nbformat": 4
 },
 "nbformat": 4,
 "nbformat_minor": 2
}
