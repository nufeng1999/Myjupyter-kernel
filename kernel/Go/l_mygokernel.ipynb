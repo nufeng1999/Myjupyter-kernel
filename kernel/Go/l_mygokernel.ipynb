{
 "cells": [
  {
   "cell_type": "code",
   "execution_count": 4,
   "id": "5d40cafc",
   "metadata": {},
   "outputs": [
    {
     "name": "stdout",
     "output_type": "stream",
     "text": [
      "[MyPython] Info:file h:\\Jupyter\\Myjupyter-kernel\\kernel\\Go\\src/do_go_runcode.py created successfully\n"
     ]
    }
   ],
   "source": [
    "##do_runcode\n",
    "##%overwritefile\n",
    "##%file:src/do_go_runcode.py\n",
    "##%noruncode\n",
    "    def do_runcode(self,return_code,fil_ename,magics,code, silent, store_history=True,\n",
    "                    user_expressions=None, allow_stdin=True):\n",
    "        return_code=return_code\n",
    "        fil_ename=fil_ename\n",
    "        bcancel_exec=False\n",
    "        retinfo=self.get_retinfo()\n",
    "        retstr=''\n",
    "        ##代码运行前\n",
    "        ################# repl mode run code files\n",
    "        #FIXME:\n",
    "        if len(self.addkey2dict(magics,'execfile'))>0:\n",
    "            fil_ename=magics['execfile']\n",
    "        if magics['_st']['runmode']=='repl':\n",
    "            self._start_replprg(fil_ename,magics['_st']['args'],magics)\n",
    "\n",
    "            return_code=self.replwrapper.child.status\n",
    "            bcancel_exec,retstr=self.raise_plugin(code,magics,return_code,fil_ename,3,2)\n",
    "            return bcancel_exec,retinfo,magics, code,fil_ename,retstr\n",
    "        ############################################\n",
    "\n",
    "    ############################################\n",
    "        p=None\n",
    "        #################dynamically load and execute code\n",
    "        #FIXME:\n",
    "        \n",
    "        if len(magics['dlrun'])>0:\n",
    "            p = self.create_jupyter_subprocess([self.master_path, fil_ename] + magics['_st']['args'],env=self.addkey2dict(magics,'env'),magics=magics)\n",
    "        #################\n",
    "        else:\n",
    "            p = self.create_jupyter_subprocess([fil_ename] + magics['_st']['args'],env=self.addkey2dict(magics,'env'),magics=magics)\n",
    "        self.subprocess=p\n",
    "        self.g_rtsps[str(p.pid)]=p\n",
    "        return_code=p.returncode\n",
    "        ##代码启动后\n",
    "        bcancel_exec,retstr=self.raise_plugin(code,magics,return_code,fil_ename,3,2)\n",
    "        # if bcancel_exec:return bcancel_exec,retinfo,magics, code,fil_ename,retstr\n",
    "        \n",
    "        if len(self.addkey2dict(magics,'showpid'))>0:\n",
    "            self._write_to_stdout(\"The process PID:\"+str(p.pid)+\"\\n\")\n",
    "        p.wait_end(magics)\n",
    "        return_code=p.returncode\n",
    "        ##代码运行结束\n",
    "        # now remove the files we have just created\n",
    "        # if(os.path.exists(source_file.name)):\n",
    "            # os.remove(source_file.name)\n",
    "        # if(os.path.exists(binary_filename)):\n",
    "            # os.remove(binary_filename)\n",
    "\n",
    "        # if p.returncode != 0:\n",
    "            # self._write_to_stderr(\"[C kernel] Executable exited with code {}\".format(p.returncode))\n",
    "        return bcancel_exec,retinfo,magics, code,fil_ename,retstr"
   ]
  },
  {
   "cell_type": "code",
   "execution_count": 5,
   "id": "e64adf6a",
   "metadata": {},
   "outputs": [
    {
     "name": "stdout",
     "output_type": "stream",
     "text": [
      "[MyPython] Info:file h:\\Jupyter\\Myjupyter-kernel\\kernel\\Go\\src/do_go_compilecode.py created successfully\n"
     ]
    }
   ],
   "source": [
    "##do_compile_code\n",
    "##%overwritefile\n",
    "##%file:src/do_go_compilecode.py\n",
    "##%noruncode\n",
    "    def do_compile_code(self,return_code,fil_ename,magics,code, silent, store_history=True,\n",
    "                    user_expressions=None, allow_stdin=True):\n",
    "        return_code=0\n",
    "        fil_ename=fil_ename\n",
    "        sourcefilename=fil_ename\n",
    "        bcancel_exec=False\n",
    "        retinfo=self.get_retinfo()\n",
    "        retstr=''\n",
    "\n",
    "        returncode,binary_filename=self._exec_goc_(fil_ename,magics)\n",
    "        fil_ename=binary_filename\n",
    "        return_code=returncode\n",
    "        \n",
    "        if returncode!=0:return  True,retinfo, code,fil_ename,retstr\n",
    "\n",
    "        return bcancel_exec,retinfo,magics, code,fil_ename,retstr"
   ]
  },
  {
   "cell_type": "code",
   "execution_count": 6,
   "id": "bd9bb362",
   "metadata": {},
   "outputs": [
    {
     "name": "stdout",
     "output_type": "stream",
     "text": [
      "[MyPython] Info:file h:\\Jupyter\\Myjupyter-kernel\\kernel\\Go\\src/do_go_create_codefile.py created successfully\n"
     ]
    }
   ],
   "source": [
    "##do_create_codefile\n",
    "##%overwritefile\n",
    "##%file:src/do_go_create_codefile.py\n",
    "##%noruncode\n",
    "    def do_create_codefile(self,magics,code, silent, store_history=True,\n",
    "                    user_expressions=None, allow_stdin=True):\n",
    "        return_code=0\n",
    "        fil_ename=''\n",
    "        sourcefilename=''\n",
    "        bcancel_exec=False\n",
    "        retinfo=self.get_retinfo()\n",
    "        retstr=''\n",
    "\n",
    "        source_file=self.create_codetemp_file(magics,code,suffix='.go')\n",
    "        sourcefilename=source_file.name \n",
    "        newsrcfilename=source_file.name\n",
    "        fil_ename=newsrcfilename\n",
    "        return_code=True\n",
    "\n",
    "        return  bcancel_exec,self.get_retinfo(),magics, code,fil_ename,retstr"
   ]
  },
  {
   "cell_type": "code",
   "execution_count": 7,
   "id": "ebdfe787",
   "metadata": {},
   "outputs": [
    {
     "name": "stdout",
     "output_type": "stream",
     "text": [
      "[MyPython] Info:file h:\\Jupyter\\Myjupyter-kernel\\kernel\\Go\\src/do_go_preexecute.py created successfully\n"
     ]
    }
   ],
   "source": [
    "##do_preexecute\n",
    "##%overwritefile\n",
    "##%file:src/do_go_preexecute.py\n",
    "##%noruncode\n",
    "    def do_preexecute(self,code,magics, silent, store_history=True,\n",
    "                user_expressions=None, allow_stdin=False):\n",
    "        bcancel_exec=False\n",
    "        retinfo=self.get_retinfo()\n",
    "        ############# run gdb and send command begin\n",
    "        if len(self.addkey2dict(magics,'rungdb'))>0:\n",
    "            bcancel_exec=True\n",
    "            retinfo= self.replgdb_sendcmd(code,silent, store_history,\n",
    "                user_expressions, allow_stdin)\n",
    "            return bcancel_exec,retinfo,magics, code\n",
    "        ############# run gdb and send command\n",
    "        #############send replcmd's command\n",
    "        if magics['_st']['runmode']=='repl':\n",
    "            if hasattr(self, 'replcmdwrapper'):\n",
    "                if self.replcmdwrapper :\n",
    "                    bcancel_exec=True\n",
    "                    retinfo= self.repl_sendcmd(code, silent, store_history,\n",
    "                        user_expressions, allow_stdin,magics)\n",
    "                    return bcancel_exec,retinfo,magics, code\n",
    "        # if len(self.addkey2dict(magics,'noruncode'))<1 :\n",
    "        #     magics, code = self._add_main(magics, code)\n",
    "        return bcancel_exec,retinfo,magics, code"
   ]
  },
  {
   "cell_type": "code",
   "execution_count": 8,
   "id": "1272b946",
   "metadata": {},
   "outputs": [
    {
     "name": "stdout",
     "output_type": "stream",
     "text": [
      "[MyPython] Info:file h:\\Jupyter\\Myjupyter-kernel\\kernel\\Go\\../../../jupyter-MyGo-kernel/jupyter_MyGo_kernel/kernel.py created successfully\n"
     ]
    }
   ],
   "source": [
    "## new kernel.py\n",
    "##%overwritefile\n",
    "##%file:../../../jupyter-MyGo-kernel/jupyter_MyGo_kernel/kernel.py\n",
    "###%file:go_kernel.py\n",
    "##%noruncode\n",
    "#\n",
    "#   MyGo Jupyter Kernel \n",
    "#   generated by MyPython\n",
    "#\n",
    "##%include:../../src/head.py\n",
    "##%include:../../src/common.py\n",
    "##%include:../../src/Mykernel.py\n",
    "class GoKernel(MyKernel):\n",
    "    implementation = 'jupyter-MyGo-kernel'\n",
    "    implementation_version = '1.0'\n",
    "    language = 'Go'\n",
    "    language_version = ''\n",
    "    language_info = {'name': 'text/x-gosrc',\n",
    "                     'mimetype': 'text/x-gosrc',\n",
    "                     'file_extension': '.go'}\n",
    "    runfiletype='exe'\n",
    "    banner = \"Go kernel.\\n\" \\\n",
    "             \"Uses go, creates source code files and executables in temporary folder.\\n\"\n",
    "\n",
    "    main_head = \"#include <stdio.h>\\n\" \\\n",
    "            \"#include <math.h>\\n\" \\\n",
    "            \"int main(int argc, char* argv[], char** env){\\n\"\n",
    "\n",
    "    main_foot = \"\\nreturn 0;\\n}\"\n",
    "\n",
    "\n",
    "\n",
    "    def __init__(self, *args, **kwargs):\n",
    "        super(GoKernel, self).__init__(*args, **kwargs)\n",
    "        # MyKernel.__init__(self, cmd_or_spawn, orig_prompt,\n",
    "        #                               prompt_change,extra_init_cmd=extra_init_cmd)\n",
    "        self.kernelinfo='[MyGo Kernel]'\n",
    "        self._allow_stdin = True\n",
    "        self.readOnlyFileSystem = False\n",
    "        self.bufferedOutput = True\n",
    "        self.linkMaths = True # always link math library\n",
    "        self.wAll = True # show all warnings by default\n",
    "        self.wError = False # but keep comipiling for warnings\n",
    "        \n",
    "#################\n",
    "##%include:src/compile_with_goc.py\n",
    "##%include:src/go_exec_goc_.py\n",
    "##%include:src/c_start_gdb.py\n",
    "##%include:src/c_do_replexecutegdb.py\n",
    "##%include:src/c_replgdb_sendcmd.py\n",
    "\n",
    "##%include:src/do_go_runcode.py\n",
    "##%include:src/do_go_compilecode.py\n",
    "##%include:src/do_go_create_codefile.py\n",
    "##%include:src/do_go_preexecute.py\n",
    "\n"
   ]
  },
  {
   "cell_type": "code",
   "execution_count": null,
   "id": "3c4fc2ef",
   "metadata": {},
   "outputs": [],
   "source": []
  }
 ],
 "metadata": {
  "interpreter": {
   "hash": "38bff49347d1e315ffe4e438ca69c956c90694fd6c920dd305da3d1e99520bc7"
  },
  "kernelspec": {
   "display_name": "MyPython",
   "language": "Python",
   "name": "mypython"
  },
  "language_info": {
   "codemirror_mode": {
    "name": "ipython",
    "version": 3
   },
   "file_extension": ".py",
   "mimetype": "text/x-python",
   "name": "python",
   "nbconvert_exporter": "python",
   "pygments_lexer": "ipython3",
   "version": "3.9.6"
  }
 },
 "nbformat": 4,
 "nbformat_minor": 5
}
