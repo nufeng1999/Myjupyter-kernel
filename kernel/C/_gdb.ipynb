{
 "cells": [
  {
   "cell_type": "code",
   "execution_count": null,
   "metadata": {},
   "outputs": [],
   "source": []
  },
  {
   "cell_type": "code",
   "execution_count": 4,
   "id": "6f706a3f",
   "metadata": {},
   "outputs": [
    {
     "data": {
      "text/plain": [
       "[MyPython] Info:file /mnt/h/Jupyter/Myjupyter-kernel/kernel/C/src/c_start_gdb.py created successfully\n"
      ]
     },
     "metadata": {
      "text/plain": {}
     },
     "output_type": "display_data"
    }
   ],
   "source": [
    "##%overwritefile\n",
    "##%file:src/c_start_gdb.py\n",
    "##%noruncode\n",
    "    def _start_gdb(self):\n",
    "        # Signal handlers are inherited by forked processes, and we can't easily\n",
    "        # reset it from the subprocess. Since kernelapp ignores SIGINT except in\n",
    "        # message handlers, we need to temporarily reset the SIGINT handler here\n",
    "        # so that bash and its children are interruptible.\n",
    "        sig = signal.signal(signal.SIGINT, signal.SIG_DFL)\n",
    "        try:\n",
    "            if hasattr(self, 'gdbwrapper'):\n",
    "                if not self.gdbwrapper.child.terminated:\n",
    "                    return\n",
    "        finally:\n",
    "            pass\n",
    "        try:\n",
    "            # self._write_to_stdout(\"------exec gdb-----\\n\")\n",
    "            child = pexpect.spawn('gdb', ['-q'], echo=False,encoding='utf-8')\n",
    "            self.gdbwrapper = IREPLWrapper(\n",
    "                                    self._write_to_stdout,\n",
    "                                    self._write_to_stderr,\n",
    "                                    self._read_from_stdin,\n",
    "                                    child, \n",
    "                                    replsetip=u'(gdb)',\n",
    "                                    orig_prompt=u'(gdb)',\n",
    "                                    prompt_change=None,\n",
    "                                    extra_init_cmd='set pagination off',\n",
    "                                    line_output_callback=self.process_output)\n",
    "        except Exception as e:\n",
    "            self._logln(\" IREPLWrapper error! \\n\"+str(e))\n",
    "            exitcode = 1\n",
    "        finally:\n",
    "            signal.signal(signal.SIGINT, sig)\n"
   ]
  },
  {
   "cell_type": "code",
   "execution_count": 5,
   "id": "308e216a",
   "metadata": {},
   "outputs": [
    {
     "data": {
      "text/plain": [
       "[MyPython] Info:file /mnt/h/Jupyter/Myjupyter-kernel/kernel/C/src/c_do_replexecutegdb.py created successfully\n"
      ]
     },
     "metadata": {
      "text/plain": {}
     },
     "output_type": "display_data"
    }
   ],
   "source": [
    "##%overwritefile\n",
    "##%file:src/c_do_replexecutegdb.py\n",
    "##%noruncode\n",
    "    def do_replexecutegdb(self, code, silent, store_history=True,\n",
    "                   user_expressions=None, allow_stdin=True):\n",
    "        self.silent = silent\n",
    "        if not code.strip():\n",
    "            return {'status': 'ok', 'execution_count': self.execution_count,\n",
    "                    'payload': [], 'user_expressions': {}}\n",
    "\n",
    "        interrupted = False\n",
    "        try:\n",
    "            # Note: timeout=None tells IREPLWrapper to do incremental\n",
    "            # output.  Also note that the return value from\n",
    "            # run_command is not needed, because the output was\n",
    "            # already sent by IREPLWrapper.\n",
    "            self.gdbwrapper.run_command(code.rstrip(), timeout=None)\n",
    "        except KeyboardInterrupt:\n",
    "            self.gdbwrapper.child.sendintr()\n",
    "            interrupted = True\n",
    "            self.gdbwrapper._expect_prompt()\n",
    "            output = self.gdbwrapper.child.before\n",
    "            self.process_output(output)\n",
    "        except EOF:\n",
    "            output = self.gdbwrapper.child.before + 'Restarting GDB'\n",
    "            self._start_gdb()\n",
    "            self.process_output(output)\n",
    "\n",
    "        if interrupted:\n",
    "            return {'status': 'abort', 'execution_count': self.execution_count}\n",
    "\n",
    "        try:\n",
    "            if code.rstrip().startswith('shell'):\n",
    "                exitcode = int(self.gdbwrapper.run_command('shell echo $?').rstrip())\n",
    "            else:\n",
    "                exitcode = int(self.gdbwrapper.run_command('echo $?').rstrip())\n",
    "        except Exception:\n",
    "            exitcode = 1\n",
    "\n",
    "        if exitcode:\n",
    "            error_content = {'execution_count': self.execution_count,\n",
    "                             'ename': '', 'evalue': str(exitcode), 'traceback': []}\n",
    "\n",
    "            self.send_response(self.iopub_socket, 'error', error_content)\n",
    "            error_content['status'] = 'error'\n",
    "            return error_content\n",
    "        else:\n",
    "            return {'status': 'ok', 'execution_count': self.execution_count,\n",
    "                    'payload': [], 'user_expressions': {}}\n"
   ]
  },
  {
   "cell_type": "code",
   "execution_count": 6,
   "id": "e36755b7",
   "metadata": {},
   "outputs": [
    {
     "data": {
      "text/plain": [
       "[MyPython] Info:file /root/Jupyter/Myjupyter-kernel/kernel/C/src/c_replgdb_sendcmd.py created successfully\n"
      ]
     },
     "metadata": {
      "text/plain": {}
     },
     "output_type": "display_data"
    }
   ],
   "source": [
    "##%overwritefile\n",
    "##%file:src/c_replgdb_sendcmd.py\n",
    "##%noruncode\n",
    "    def replgdb_sendcmd(self,code,silent, store_history=True,\n",
    "                   user_expressions=None, allow_stdin=True):\n",
    "        self._start_gdb()\n",
    "        return self.do_replexecutegdb( code.replace('//%rungdb', ''), silent, store_history,\n",
    "                   user_expressions, False)\n"
   ]
  },
  {
   "cell_type": "code",
   "execution_count": null,
   "metadata": {},
   "outputs": [],
   "source": []
  }
 ],
 "metadata": {
  "kernelspec": {
   "display_name": "MyPython",
   "language": "Python",
   "name": "mypython"
  },
  "language_info": {
   "codemirror_mode": {
    "name": "ipython",
    "version": 3
   },
   "file_extension": ".py",
   "mimetype": "text/x-python",
   "name": "python",
   "nbconvert_exporter": "python",
   "pygments_lexer": "ipython3",
   "version": "3.9.7"
  },
  "orig_nbformat": 4
 },
 "nbformat": 4,
 "nbformat_minor": 2
}
