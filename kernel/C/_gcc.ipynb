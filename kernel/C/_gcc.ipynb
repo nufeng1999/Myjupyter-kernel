{
 "cells": [
  {
   "cell_type": "code",
   "execution_count": 15,
   "metadata": {},
   "outputs": [
    {
     "data": {
      "text/plain": [
       "[MyPython] Info:The process :h:\\Jupyter\\Myjupyter-kernel\\kernel\\C\\tmprmznogke.py\n"
      ]
     },
     "metadata": {
      "text/plain": {}
     },
     "output_type": "display_data"
    },
    {
     "data": {
      "text/plain": [
       "[MyPython] Info:python3 h:\\Jupyter\\Myjupyter-kernel\\kernel\\C\\tmprmznogke.py \n"
      ]
     },
     "metadata": {
      "text/plain": {}
     },
     "output_type": "display_data"
    },
    {
     "data": {
      "text/plain": [
       "----\r\n",
       "\r\n"
      ]
     },
     "metadata": {
      "text/plain": {}
     },
     "output_type": "display_data"
    },
    {
     "data": {
      "text/plain": [
       "The process end:7628\n"
      ]
     },
     "metadata": {
      "text/plain": {}
     },
     "output_type": "display_data"
    }
   ],
   "source": [
    "print(\"----\\n\")"
   ]
  },
  {
   "cell_type": "code",
   "execution_count": 16,
   "id": "790ed872",
   "metadata": {},
   "outputs": [
    {
     "data": {
      "text/plain": [
       "[MyPython] Info:file h:\\Jupyter\\Myjupyter-kernel\\kernel\\C\\src/compile_with_gcc.py created successfully\n"
      ]
     },
     "metadata": {
      "text/plain": {}
     },
     "output_type": "display_data"
    }
   ],
   "source": [
    "##%overwritefile\n",
    "##%file:src/compile_with_gcc.py\n",
    "##%noruncode\n",
    "    def compile_with_gcc(self, source_filename, binary_filename, cflags=None, ldflags=None,env=None,magics=None):\n",
    "        # cflags = ['-std=c89', '-pedantic', '-fPIC', '-shared', '-rdynamic'] + cflags\n",
    "        # cflags = ['-std=c99', '-Wdeclaration-after-statement', '-Wvla', '-fPIC', '-shared', '-rdynamic'] + cflags\n",
    "        # cflags = ['-std=iso9899:199409', '-pedantic', '-fPIC', '-shared', '-rdynamic'] + cflags\n",
    "        # cflags = ['-std=c99', '-pedantic', '-fPIC', '-shared', '-rdynamic'] + cflags\n",
    "        # cflags = ['-std=c11', '-pedantic', '-fPIC', '-shared', '-rdynamic'] + cflags\n",
    "        outfile=binary_filename\n",
    "        orig_cflags=cflags\n",
    "        orig_ldflags=ldflags\n",
    "        if self.linkMaths:\n",
    "            cflags = cflags + ['-lm']\n",
    "        if self.wError:\n",
    "            cflags = cflags + ['-Werror']\n",
    "        if self.wAll:\n",
    "            cflags = cflags + ['-Wall']\n",
    "        if self.readOnlyFileSystem:\n",
    "            cflags = ['-DREAD_ONLY_FILE_SYSTEM'] + cflags\n",
    "        if self.bufferedOutput:\n",
    "            cflags = ['-DBUFFERED_OUTPUT'] + cflags\n",
    "\n",
    "        for s in cflags:\n",
    "                if s.startswith('-o'):\n",
    "                    if(len(s)>2):\n",
    "                        outfile=s[2:]\n",
    "                    else:\n",
    "                        outfile=cflags[cflags.index('-o')+1]\n",
    "                        if outfile.startswith('-'):\n",
    "                            outfile=binary_filename\n",
    "                binary_filename=outfile\n",
    "        args=[]\n",
    "        if magics!=None and len(self.addkey2dict(magics,'ccompiler'))>0:\n",
    "            args = magics['ccompiler'] + orig_cflags +[source_filename] + orig_ldflags\n",
    "        else:\n",
    "            args = ['gcc', source_filename] + ['-o', binary_filename]+ cflags  + ldflags\n",
    "        self._log(''.join((' '+ str(s) for s in args))+\"\\n\")\n",
    "        return self.create_jupyter_subprocess(args,env=env),binary_filename,args\n"
   ]
  },
  {
   "cell_type": "code",
   "execution_count": 17,
   "id": "33551652",
   "metadata": {},
   "outputs": [
    {
     "data": {
      "text/plain": [
       "[MyPython] Info:file h:\\Jupyter\\Myjupyter-kernel\\kernel\\C\\src/c_exec_gcc_.py created successfully\n"
      ]
     },
     "metadata": {
      "text/plain": {}
     },
     "output_type": "display_data"
    }
   ],
   "source": [
    "##%overwritefile\n",
    "##%file:src/c_exec_gcc_.py\n",
    "##%noruncode\n",
    "    def _exec_gcc_(self,source_filename,magics):\n",
    "        self._logln('Generating executable file')\n",
    "        with self.new_temp_file(suffix='.out') as binary_file:\n",
    "            p,outfile,gcccmd = self.compile_with_gcc(\n",
    "                source_filename, \n",
    "                binary_file.name,\n",
    "                self.addkey2dict(magics,'cflags'),\n",
    "                self.addkey2dict(magics,'ldflags'),\n",
    "                self.addkey2dict(magics,'env'),\n",
    "                magics=magics)\n",
    "            while p.poll() is None:\n",
    "                p.write_contents()\n",
    "            p.write_contents()\n",
    "            binary_file.name=os.path.join(os.path.abspath(''),outfile)\n",
    "            if p.returncode != 0:  # Compilation failed\n",
    "                self._log(''.join((str(s) for s in gcccmd))+\"\\n\",3)\n",
    "                self._log(\"C compiler exited with code {}, the executable will not be executed\".format(p.returncode),3)\n",
    "\n",
    "                # delete source files before exit\n",
    "                os.remove(source_filename)\n",
    "                os.remove(binary_file.name)\n",
    "        return p.returncode,binary_file.name\n"
   ]
  },
  {
   "cell_type": "code",
   "execution_count": null,
   "metadata": {},
   "outputs": [],
   "source": []
  }
 ],
 "metadata": {
  "interpreter": {
   "hash": "75596ead963b1eeb4cf3ce4e8a9c4a864202dd5fd95b19dff9cbdac9756331e2"
  },
  "kernelspec": {
   "display_name": "MyPython",
   "language": "Python",
   "name": "mypython"
  },
  "language_info": {
   "codemirror_mode": {
    "name": "ipython",
    "version": 3
   },
   "file_extension": ".py",
   "mimetype": "text/x-python",
   "name": "python",
   "nbconvert_exporter": "python",
   "pygments_lexer": "ipython3",
   "version": "3.9.6"
  },
  "orig_nbformat": 4
 },
 "nbformat": 4,
 "nbformat_minor": 2
}
