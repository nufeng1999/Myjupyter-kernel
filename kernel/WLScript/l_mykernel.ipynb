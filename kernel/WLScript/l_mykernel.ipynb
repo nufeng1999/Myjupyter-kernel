{
 "cells": [
  {
   "cell_type": "code",
   "execution_count": 4,
   "id": "de5955fb",
   "metadata": {},
   "outputs": [
    {
     "name": "stdout",
     "output_type": "stream",
     "text": [
      "[MyPython] Info:file h:\\Jupyter\\Myjupyter-kernel\\kernel\\WLScript\\src/do_getrealpath.py created successfully\n"
     ]
    }
   ],
   "source": [
    "##do_getrealpath\n",
    "##%overwritefile\n",
    "##%file:src/do_getrealpath.py\n",
    "##%noruncode\n",
    "##u=os.popen('bash -c \"uname\"')\n",
    "    def getrealpath(self,filename):\n",
    "        u=''\n",
    "        realpath=filename\n",
    "        try:\n",
    "            if self.subsys.startswith('MINGW64') or self.subsys.startswith('CYGWIN'):\n",
    "                r=os.popen('bash -c \"cygpath '+filename+'\"')\n",
    "                realpath=r.read()\n",
    "        except Exception as e:\n",
    "            self._logln(\"\"+str(e),3)\n",
    "        return realpath\n",
    "\n"
   ]
  },
  {
   "cell_type": "code",
   "execution_count": 5,
   "id": "2ef90a66",
   "metadata": {},
   "outputs": [
    {
     "name": "stdout",
     "output_type": "stream",
     "text": [
      "[MyPython] Info:file h:\\Jupyter\\Myjupyter-kernel\\kernel\\WLScript\\src/do_wlscript_runcode.py created successfully\n"
     ]
    }
   ],
   "source": [
    "##do_runcode\n",
    "##%overwritefile\n",
    "##%file:src/do_wlscript_runcode.py\n",
    "##%noruncode\n",
    "    def do_runcode(self,return_code,fil_ename,magics,code, silent, store_history=True,\n",
    "                    user_expressions=None, allow_stdin=True):\n",
    "        return_code=return_code\n",
    "        fil_ename=fil_ename\n",
    "        bcancel_exec=False\n",
    "        retinfo=self.get_retinfo()\n",
    "        retstr=''\n",
    "\n",
    "        ##代码运行前\n",
    "        # bcancel_exec,retstr=self.raise_plugin(code,magics,return_code,fil_ename,3,1)\n",
    "        # if bcancel_exec:return bcancel_exec,retinfo,magics, code,fil_ename,retstr\n",
    "        # self._logln(\"The process :\"+fil_ename)\n",
    "        fil_ename=self.getrealpath(fil_ename)\n",
    "        runprgargs=self.get_magicsSvalue(magics,'runprgargs')\n",
    "        cmds=[]\n",
    "        if self.sys==\"Windows\":\n",
    "            cmds=['cmd','/c']\n",
    "        cmds+=['wolframscript']\n",
    "        if (len(runprgargs)>0):\n",
    "            cmds+=runprgargs\n",
    "        cmds+=['-f',fil_ename]\n",
    "        p = self.create_jupyter_subprocess(cmds+ magics['_st']['args'],cwd=None,shell=False,env=self.addkey2dict(magics,'env'),magics=magics)\n",
    "        self.g_rtsps[str(p.pid)]=p\n",
    "        return_code=p.returncode\n",
    "        ##代码启动后\n",
    "        # bcancel_exec,retstr=self.raise_plugin(code,magics,return_code,fil_ename,3,2)\n",
    "        # if bcancel_exec:return bcancel_exec,retinfo,magics, code,fil_ename,retstr\n",
    "         \n",
    "        if magics!=None and len(self.addkey2dict(magics,'showpid'))>0:\n",
    "            self._write_to_stdout(\"The process PID:\"+str(p.pid)+\"\\n\")\n",
    "        return_code=p.wait_end(magics)\n",
    "        ##代码运行结束\n",
    "        # self.cleanup_files()\n",
    "        if return_code != 0:\n",
    "            self._log(\"Executable exited with code {}\".format(return_code),2)\n",
    "        return bcancel_exec,retinfo,magics, code,fil_ename,retstr"
   ]
  },
  {
   "cell_type": "code",
   "execution_count": 6,
   "id": "0e892e4c",
   "metadata": {},
   "outputs": [
    {
     "name": "stdout",
     "output_type": "stream",
     "text": [
      "[MyPython] Info:file h:\\Jupyter\\Myjupyter-kernel\\kernel\\WLScript\\src/do_wlscript_compilecode.py created successfully\n"
     ]
    }
   ],
   "source": [
    "##do_compile_code\n",
    "##%overwritefile\n",
    "##%file:src/do_wlscript_compilecode.py\n",
    "##%noruncode\n",
    "    def do_compile_code(self,return_code,fil_ename,magics,code, silent, store_history=True,\n",
    "                    user_expressions=None, allow_stdin=True):\n",
    "        return_code=0\n",
    "        fil_ename=fil_ename\n",
    "        sourcefilename=fil_ename\n",
    "        bcancel_exec=False\n",
    "        retinfo=self.get_retinfo()\n",
    "        retstr=''\n",
    "\n",
    "        return bcancel_exec,retinfo,magics, code,fil_ename,retstr"
   ]
  },
  {
   "cell_type": "code",
   "execution_count": 7,
   "id": "f44df5cb",
   "metadata": {},
   "outputs": [
    {
     "name": "stdout",
     "output_type": "stream",
     "text": [
      "[MyPython] Info:file h:\\Jupyter\\Myjupyter-kernel\\kernel\\WLScript\\src/do_wlscript_create_codefile.py created successfully\n"
     ]
    }
   ],
   "source": [
    "##do_wlscript_create_codefile\n",
    "##%overwritefile\n",
    "##%file:src/do_wlscript_create_codefile.py\n",
    "##%noruncode\n",
    "    def do_create_codefile(self,magics,code, silent, store_history=True,\n",
    "                    user_expressions=None, allow_stdin=True):\n",
    "        return_code=0\n",
    "        fil_ename=''\n",
    "        bcancel_exec=False\n",
    "        retinfo=self.get_retinfo()\n",
    "        retstr=''\n",
    "        \n",
    "        source_file=self.create_codetemp_file(magics,code,suffix='.vbs')\n",
    "        newsrcfilename=source_file.name\n",
    "        fil_ename=newsrcfilename\n",
    "        return_code=True\n",
    "        \n",
    "        return bcancel_exec,retinfo,magics, code,fil_ename,retstr"
   ]
  },
  {
   "cell_type": "code",
   "execution_count": 8,
   "id": "112d64e4",
   "metadata": {},
   "outputs": [
    {
     "name": "stdout",
     "output_type": "stream",
     "text": [
      "[MyPython] Info:file h:\\Jupyter\\Myjupyter-kernel\\kernel\\WLScript\\src/do_wlscript_preexecute.py created successfully\n"
     ]
    }
   ],
   "source": [
    "##do_wlscript_preexecute\n",
    "##%overwritefile\n",
    "##%file:src/do_wlscript_preexecute.py\n",
    "##%noruncode\n",
    "    def do_preexecute(self,code, magics,silent, store_history=True,\n",
    "                user_expressions=None, allow_stdin=False):\n",
    "        bcancel_exec=False\n",
    "        retinfo=self.get_retinfo()\n",
    "\n",
    "\n",
    "        return_code=0\n",
    "        fil_ename=''\n",
    "        return bcancel_exec,retinfo,magics, code"
   ]
  },
  {
   "cell_type": "code",
   "execution_count": 4,
   "id": "cf5bc10a",
   "metadata": {},
   "outputs": [
    {
     "name": "stdout",
     "output_type": "stream",
     "text": [
      "[MyPythonKernel183738] Info:file h:\\Jupyter\\Myjupyter-kernel\\kernel\\WLScript\\../../../jupyter-MyWLS-kernel/jupyter_MyWLS_kernel/kernel.py created successfully\n"
     ]
    }
   ],
   "source": [
    "## new kernel.py\n",
    "##%overwritefile\n",
    "##%file:../../../jupyter-MyWLS-kernel/jupyter_MyWLS_kernel/kernel.py\n",
    "###%file:wls_kernel.py\n",
    "##%noruncode\n",
    "#\n",
    "#   MyVBScript Jupyter Kernel\n",
    "#   generated by MyPython\n",
    "#\n",
    "##%include:../../src/head.py\n",
    "##%include:../../src/common.py\n",
    "##%include:../../src/Mykernel.py\n",
    "class WLScriptKernel(MyKernel):\n",
    "    implementation = 'jupyter_MyWLS_kernel'\n",
    "    implementation_version = '1.0'\n",
    "    language = 'Wolfram'\n",
    "    language_version = ''\n",
    "    language_info = {'name': 'Wolfram Language',\n",
    "                     'mimetype': 'text/wolfram',\n",
    "                     'file_extension': '.wls'}\n",
    "    runfiletype='script'\n",
    "    banner = \"wolframscript kernel.\\n\" \\\n",
    "             \"Uses wolframscript, creates source code files and executables in temporary folder.\\n\"\n",
    "\n",
    "    main_head = \"\\n\" \\\n",
    "            \"\\n\" \\\n",
    "            \"int main(List<String> arguments){\\n\"\n",
    "\n",
    "    main_foot = \"\\nreturn 0;\\n}\"\n",
    "    \n",
    "##//%include:../../src/comm_attribute.py\n",
    "\n",
    "    def __init__(self, *args, **kwargs):\n",
    "        super(WLScriptKernel, self).__init__(*args, **kwargs)\n",
    "        ## self.kernelinfo='[MyWLSKernel]'\n",
    "        self._allow_stdin = True\n",
    "        self.readOnlyFileSystem = False\n",
    "        self.bufferedOutput = True\n",
    "        self.linkMaths = True # always link math library\n",
    "        self.wAll = True # show all warnings by default\n",
    "        self.wError = False # but keep comipiling for warnings\n",
    "        self.kernelinfo=\"[MyWLSKernel{0}]\".format(time.strftime(\"%H%M%S\", time.localtime()))\n",
    "#################\n",
    "##%include:src/do_getrealpath.py\n",
    "##%include:src/do_wlscript_runcode.py\n",
    "##%include:src/do_wlscript_compilecode.py\n",
    "##%include:src/do_wlscript_create_codefile.py\n",
    "##%include:src/do_wlscript_preexecute.py\n",
    "\n"
   ]
  },
  {
   "cell_type": "code",
   "execution_count": null,
   "id": "93ab4f00",
   "metadata": {},
   "outputs": [],
   "source": []
  }
 ],
 "metadata": {
  "interpreter": {
   "hash": "790d66b9a7d127603100553f17b106d8e2aaf6777ced79107fc93b8d84add8f0"
  },
  "kernelspec": {
   "display_name": "MyPython",
   "language": "Python",
   "name": "mypython"
  }
 },
 "nbformat": 4,
 "nbformat_minor": 5
}
