{
 "cells": [
  {
   "cell_type": "code",
   "execution_count": 6,
   "id": "8e3ce0af",
   "metadata": {},
   "outputs": [
    {
     "data": {
      "text/plain": [
       "[MyPython] Info:file /root/Jupyter/Myjupyter-kernel/kernel/Kotlin/src/do_kt_runcode.py created successfully\n"
      ]
     },
     "metadata": {
      "text/plain": {}
     },
     "output_type": "display_data"
    }
   ],
   "source": [
    "##do_runcode\n",
    "##%overwritefile\n",
    "##%file:src/do_kt_runcode.py\n",
    "##%noruncode\n",
    "    def do_runcode(self,return_code,fil_ename,class_filename,outpath,magics,code, silent, store_history=True,\n",
    "                    user_expressions=None, allow_stdin=True):\n",
    "        return_code=return_code\n",
    "        fil_ename=fil_ename\n",
    "        bcancel_exec=False\n",
    "        retinfo=self.get_retinfo()\n",
    "        retstr=''\n",
    "        ##代码运行前\n",
    "\n",
    "        mainclass=(magics['package']+\".\" if len(magics['package'])>0 else '') +class_filename\n",
    "        self.chkjoptions(magics,'/root/.sdkman/candidates/kotlin/1.6.0/lib/kotlin-stdlib.jar',outpath)\n",
    "        \n",
    "        self._write_to_stdout(\"The process :\"+mainclass+\"\\n\")\n",
    "        ################# repl mode run code files\n",
    "        #FIXME:\n",
    "        if magics['runmode']=='repl':\n",
    "            self._start_replprg('java',magics['joptions']+[mainclass] + magics['args'],magics)\n",
    "\n",
    "            return_code=p.returncode\n",
    "            bcancel_exec,retstr=self.raise_plugin(code,magics,return_code,fil_ename,3,2)\n",
    "            return bcancel_exec,retinfo,magics, code,fil_ename,retstr\n",
    "        ############################################\n",
    "\n",
    "    ############################################\n",
    "        #################dynamically load and execute code\n",
    "        #FIXME:\n",
    "        # if len(magics['dlrun'])>0:\n",
    "        #     p = self.create_jupyter_subprocess([self.master_path, mainclass] + magics['args'],env=self.addkey2dict(magics,'env'))\n",
    "        # #################\n",
    "        # else:\n",
    "        cmdstr = ['java']+magics['joptions']+[mainclass] + magics['args']\n",
    "        # self._log(' '.join((' '+ str(s) for s in cmdstr))+\"\\n\")\n",
    "        p = self.create_jupyter_subprocess(['java']+magics['joptions']+[mainclass] + magics['args'],env=self.addkey2dict(magics,'env'))\n",
    "        self.subprocess=p\n",
    "        self.g_rtsps[str(p.pid)]=p\n",
    "        return_code=p.returncode\n",
    "        ##代码启动后\n",
    "        bcancel_exec,retstr=self.raise_plugin(code,magics,return_code,fil_ename,3,2)\n",
    "        # if bcancel_exec:return bcancel_exec,retinfo,magics, code,fil_ename,retstr\n",
    "        \n",
    "        if len(self.addkey2dict(magics,'showpid'))>0:\n",
    "            self._write_to_stdout(\"The process PID:\"+str(p.pid)+\"\\n\")\n",
    "        return_code=p.wait_end(magics)\n",
    "        ##代码运行结束\n",
    "        # now remove the files we have just created\n",
    "        # if(os.path.exists(source_file.name)):\n",
    "        #     os.remove(source_file.name)\n",
    "        # if(os.path.exists(class_filename)):\n",
    "            # os.remove(class_filename)\n",
    "\n",
    "        if p.returncode != 0:\n",
    "            self._logln(\"Executable exited with code {}\".format(p.returncode))\n",
    "        return bcancel_exec,retinfo,magics, code,fil_ename,retstr"
   ]
  },
  {
   "cell_type": "code",
   "execution_count": 7,
   "id": "e335e25a",
   "metadata": {},
   "outputs": [
    {
     "data": {
      "text/plain": [
       "[MyPython] Info:file /root/Jupyter/Myjupyter-kernel/kernel/Kotlin/src/do_kt_compilecode.py created successfully\n"
      ]
     },
     "metadata": {
      "text/plain": {}
     },
     "output_type": "display_data"
    }
   ],
   "source": [
    "##do_compile_code\n",
    "##%overwritefile\n",
    "##%file:src/do_kt_compilecode.py\n",
    "##%noruncode\n",
    "    def do_compile_code(self,return_code,fil_ename,magics,code, silent, store_history=True,\n",
    "                    user_expressions=None, allow_stdin=True):\n",
    "        return_code=0\n",
    "        fil_ename=fil_ename\n",
    "        sourcefilename=fil_ename\n",
    "        bcancel_exec=False\n",
    "        retinfo=self.get_retinfo()\n",
    "        retstr=''\n",
    "        \n",
    "        # if len(self.addkey2dict(magics,'file'))>0:\n",
    "        #     fil_ename=magics['file'][0]\n",
    "        # else: fil_ename=source_file.name\n",
    "        returncode,class_filename=self._exec_kotlinc_(fil_ename,magics)\n",
    "        fil_ename=class_filename\n",
    "        outpath=os.path.dirname(class_filename)\n",
    "        sf = os.path.basename(class_filename)\n",
    "        class_filename = sf.split(\".\")[0]\n",
    "        return_code=returncode\n",
    "        mainclass=class_filename\n",
    "\n",
    "        if returncode!=0:return True,self.get_retinfo(),magics, code,fil_ename,class_filename,outpath,retstr\n",
    "        # Generate executable file :end\n",
    "        return bcancel_exec,retinfo,magics, code,fil_ename,class_filename,outpath,retstr"
   ]
  },
  {
   "cell_type": "code",
   "execution_count": 8,
   "id": "b3d277ac",
   "metadata": {},
   "outputs": [
    {
     "data": {
      "text/plain": [
       "[MyPython] Info:file /root/Jupyter/Myjupyter-kernel/kernel/Kotlin/src/do_kt_create_codefile.py created successfully\n"
      ]
     },
     "metadata": {
      "text/plain": {}
     },
     "output_type": "display_data"
    }
   ],
   "source": [
    "##do_create_codefile\n",
    "##%overwritefile\n",
    "##%file:src/do_kt_create_codefile.py\n",
    "##%noruncode\n",
    "    def do_create_codefile(self,magics,code, silent, store_history=True,\n",
    "                    user_expressions=None, allow_stdin=True):\n",
    "        return_code=0\n",
    "        fil_ename=''\n",
    "        bcancel_exec=False\n",
    "        retinfo=self.get_retinfo()\n",
    "        retstr=''\n",
    "        class_filename=''\n",
    "        outpath=''\n",
    "        source_file=self.create_codetemp_file(magics,code,suffix='.kt')\n",
    "        newsrcfilename=source_file.name\n",
    "        fil_ename=newsrcfilename\n",
    "        return_code=True\n",
    "        \n",
    "        ############# only run gcc，no not run executable file\n",
    "        # if len(self.addkey2dict(magics,'onlyrungcc'))>0:\n",
    "        #     self._log(\"only run gcc \\n\")\n",
    "        return  bcancel_exec,self.get_retinfo(),magics, code,fil_ename,class_filename,outpath,retstr"
   ]
  },
  {
   "cell_type": "code",
   "execution_count": 9,
   "id": "bf46a01e",
   "metadata": {},
   "outputs": [
    {
     "data": {
      "text/plain": [
       "[MyPython] Info:file /root/Jupyter/Myjupyter-kernel/kernel/Kotlin/src/do_kt_preexecute.py created successfully\n"
      ]
     },
     "metadata": {
      "text/plain": {}
     },
     "output_type": "display_data"
    }
   ],
   "source": [
    "##%overwritefile\n",
    "##%file:src/do_kt_preexecute.py\n",
    "##%noruncode\n",
    "    def do_preexecute(self,code,magics, silent, store_history=True,\n",
    "                user_expressions=None, allow_stdin=False):\n",
    "        bcancel_exec=False\n",
    "        retinfo=self.get_retinfo()\n",
    "    \n",
    "        ##扫描代码\n",
    "        #############send replcmd's command\n",
    "        if magics['runmode']=='repl':\n",
    "            if hasattr(self, 'replcmdwrapper'):\n",
    "                if self.replcmdwrapper :\n",
    "                    bcancel_exec=True\n",
    "                    retinfo= self.repl_sendcmd(code, silent, store_history,\n",
    "                        user_expressions, allow_stdin,magics)\n",
    "                    return bcancel_exec,retinfo,magics, code\n",
    "        \n",
    "        return bcancel_exec,retinfo,magics, code"
   ]
  },
  {
   "cell_type": "code",
   "execution_count": 10,
   "id": "1272b946",
   "metadata": {},
   "outputs": [
    {
     "data": {
      "text/plain": [
       "[MyPython] Info:file /root/Jupyter/Myjupyter-kernel/kernel/Kotlin/../../../jupyter-MyKotlin-kernel/jupyter_MyKotlin_kernel/kernel.py created successfully\n"
      ]
     },
     "metadata": {
      "text/plain": {}
     },
     "output_type": "display_data"
    }
   ],
   "source": [
    "## new kernel.py\n",
    "##%overwritefile\n",
    "##%file:../../../jupyter-MyKotlin-kernel/jupyter_MyKotlin_kernel/kernel.py\n",
    "###%file:kotlin_kernel.py\n",
    "##%noruncode\n",
    "#\n",
    "#   MyKotlin Jupyter Kernel \n",
    "#   generated by MyPython\n",
    "#\n",
    "##%include:../../src/head.py\n",
    "##%include:../../src/common.py\n",
    "##%include:../../src/Mykernel.py\n",
    "class KotlinKernel(MyKernel):\n",
    "    implementation = 'jupyter-MyKotlin-kernel'\n",
    "    implementation_version = '1.0'\n",
    "    language = 'C'\n",
    "    language_version = '1'\n",
    "    language_info = {'name': 'text/x-kotlin',\n",
    "                     'mimetype': 'text/x-kotlin',\n",
    "                     'file_extension': '.kt'}\n",
    "    runfiletype='class'\n",
    "    banner = \"MyKotlin kernel.\\n\" \\\n",
    "             \"Uses gcc, compiles in C11, and creates source code files and executables in temporary folder.\\n\"\n",
    "\n",
    "    main_head = \"#include <stdio.h>\\n\" \\\n",
    "            \"#include <math.h>\\n\" \\\n",
    "            \"int main(int argc, char* argv[], char** env){\\n\"\n",
    "\n",
    "    main_foot = \"\\nreturn 0;\\n}\"\n",
    "\n",
    "##//%include:src/comm_attribute.py\n",
    "\n",
    "    def __init__(self, *args, **kwargs):\n",
    "        super(KotlinKernel, self).__init__(*args, **kwargs)\n",
    "        self.kernelinfo='[MyC Kernel]'\n",
    "        self._allow_stdin = True\n",
    "        self.readOnlyFileSystem = False\n",
    "        self.bufferedOutput = True\n",
    "        self.linkMaths = True # always link math library\n",
    "        self.wAll = True # show all warnings by default\n",
    "        self.wError = False # but keep comipiling for warnings\n",
    "        \n",
    "#################\n",
    "##%include:src/compile_with_kotlinc.py\n",
    "##%include:src/k_exec_kotlinc_.py\n",
    "##%include:src/do_kt_runcode.py\n",
    "##%include:src/do_kt_compilecode.py\n",
    "##%include:src/do_kt_create_codefile.py\n",
    "##%include:src/do_kt_preexecute.py\n",
    "\n"
   ]
  },
  {
   "cell_type": "code",
   "execution_count": null,
   "id": "e4a0b550",
   "metadata": {},
   "outputs": [],
   "source": []
  }
 ],
 "metadata": {
  "interpreter": {
   "hash": "31f2aee4e71d21fbe5cf8b01ff0e069b9275f58929596ceb00d14d90e3e16cd6"
  },
  "kernelspec": {
   "display_name": "MyPython",
   "language": "Python",
   "name": "mypython"
  },
  "language_info": {
   "codemirror_mode": {
    "name": "ipython",
    "version": 3
   },
   "file_extension": ".py",
   "mimetype": "text/x-python",
   "name": "python",
   "nbconvert_exporter": "python",
   "pygments_lexer": "ipython3",
   "version": "3.9.7"
  }
 },
 "nbformat": 4,
 "nbformat_minor": 5
}
