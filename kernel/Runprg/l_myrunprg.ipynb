{
 "cells": [
  {
   "cell_type": "code",
   "execution_count": 4,
   "id": "29cc610c",
   "metadata": {},
   "outputs": [
    {
     "data": {
      "text/plain": [
       "[MyPython] Info:file h:\\Jupyter\\Myjupyter-kernel\\kernel\\Runprg\\src/dor_runcode.py created successfully\n"
      ]
     },
     "metadata": {
      "text/plain": {}
     },
     "output_type": "display_data"
    }
   ],
   "source": [
    "##do_runcode\n",
    "##%overwritefile\n",
    "##%file:src/dor_runcode.py\n",
    "##%noruncode\n",
    "    def dor_runcode(self,return_code,fil_ename,magics,code, silent, store_history=True,\n",
    "                    user_expressions=None, allow_stdin=True):    \n",
    "        ##runprg\n",
    "        ##runprgargs\n",
    "        return_code=return_code\n",
    "        fil_ename=fil_ename\n",
    "        bcancel_exec=False\n",
    "        retinfo=self.get_retinfo()\n",
    "        retstr=''\n",
    "        runprg=self.get_magicsSvalue(magics,'runprg')\n",
    "        runprgargs=self.get_magicsSvalue(magics,'runprgargs')\n",
    "        if (len(runprgargs)<1):\n",
    "            self._logln(\"No label runprgargs!\",2)\n",
    "        # self._logln(runprgargs[0])\n",
    "        ##代码运行前\n",
    "        p = self.create_jupyter_subprocess([runprg]+ runprgargs,cwd=None,shell=False,env=self.addkey2dict(magics,'env'))\n",
    "        self.g_rtsps[str(p.pid)]=p\n",
    "        return_code=p.returncode\n",
    "        ##代码启动后\n",
    "        bcancel_exec,retstr=self.raise_plugin(code,magics,return_code,fil_ename,3,2)\n",
    "        \n",
    "        if len(self.addkey2dict(magics,'showpid'))>0:\n",
    "            self._logln(\"The process PID:\"+str(p.pid))\n",
    "        return_code=p.wait_end(magics)\n",
    "        # self._logln(\"The process end:\"+str(p.pid))\n",
    "        ##\n",
    "        ##调用接口\n",
    "        # return_code=p.returncode\n",
    "        ##代码运行结束\n",
    "        if p.returncode != 0:\n",
    "            self._logln(\"Executable exited with code {}\".format(p.returncode),2)\n",
    "        return bcancel_exec,retinfo,magics, code,fil_ename,retstr"
   ]
  },
  {
   "cell_type": "code",
   "execution_count": 5,
   "id": "9e2e5e68",
   "metadata": {},
   "outputs": [
    {
     "data": {
      "text/plain": [
       "[MyPython] Info:file H:/Jupyter/Myjupyter-kernel/kernel/Runprg/src/dor_create_codefile.py created successfully\n"
      ]
     },
     "metadata": {
      "text/plain": {}
     },
     "output_type": "display_data"
    }
   ],
   "source": [
    "##do_create_codefile\n",
    "##%overwritefile\n",
    "##%file:src/dor_create_codefile.py\n",
    "##%noruncode\n",
    "    def dor_create_codefile(self,magics,code, silent, store_history=True,\n",
    "                    user_expressions=None, allow_stdin=True):    \n",
    "        ##runprg\n",
    "        ##runprgargs\n",
    "        return_code=0\n",
    "        fil_ename=''\n",
    "        bcancel_exec=False\n",
    "        retinfo=self.get_retinfo()\n",
    "        retstr=''\n",
    "        ##调生成文件前接口\n",
    "        source_file=self.create_codetemp_file(magics,code,suffix='.sh')\n",
    "        newsrcfilename=source_file.name\n",
    "        fil_ename=newsrcfilename\n",
    "        return_code=True\n",
    "        \n",
    "        return bcancel_exec,retinfo,magics, code,fil_ename,retstr"
   ]
  },
  {
   "cell_type": "code",
   "execution_count": 6,
   "id": "9343d6d3",
   "metadata": {},
   "outputs": [
    {
     "data": {
      "text/plain": [
       "[MyPython] Info:file H:/Jupyter/Myjupyter-kernel/kernel/Runprg/src/dor_preexecute.py created successfully\n"
      ]
     },
     "metadata": {
      "text/plain": {}
     },
     "output_type": "display_data"
    }
   ],
   "source": [
    "##do_preexecute\n",
    "##%overwritefile\n",
    "##%file:src/dor_preexecute.py\n",
    "##%noruncode\n",
    "    def dor_preexecute(self,code,magics,silent, store_history=True,\n",
    "                user_expressions=None, allow_stdin=False):        \n",
    "        ##runprg\n",
    "        ##runprgargs\n",
    "        bcancel_exec=False\n",
    "        retinfo=self.get_retinfo()\n",
    "\n",
    "        return bcancel_exec,retinfo,magics, code"
   ]
  }
 ],
 "metadata": {
  "interpreter": {
   "hash": "31f2aee4e71d21fbe5cf8b01ff0e069b9275f58929596ceb00d14d90e3e16cd6"
  },
  "kernelspec": {
   "display_name": "MyPython",
   "language": "Python",
   "name": "mypython"
  }
 },
 "nbformat": 4,
 "nbformat_minor": 5
}
