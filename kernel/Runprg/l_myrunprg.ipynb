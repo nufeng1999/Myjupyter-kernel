{
 "cells": [
  {
   "cell_type": "code",
   "execution_count": 7,
   "id": "29cc610c",
   "metadata": {},
   "outputs": [
    {
     "data": {
      "text/plain": [
       "[MyPython] Info:file /root/Jupyter/Myjupyter-kernel/kernel/Runprg/src/dor_runcode.py created successfully\n"
      ]
     },
     "metadata": {
      "text/plain": {}
     },
     "output_type": "display_data"
    }
   ],
   "source": [
    "##do_runcode\n",
    "##%overwritefile\n",
    "##%file:src/dor_runcode.py\n",
    "##%noruncode\n",
    "    def dor_runcode(self,return_code,fil_ename,magics,code, silent, store_history=True,\n",
    "                    user_expressions=None, allow_stdin=True):    \n",
    "        ##runprg\n",
    "        ##runprgargs\n",
    "        return_code=return_code\n",
    "        fil_ename=fil_ename\n",
    "        bcancel_exec=False\n",
    "        retinfo=self.get_retinfo()\n",
    "        retstr=''\n",
    "        runprg=self.get_magicsbykey(magics,'runprg')\n",
    "        runprgargs=self.get_magicsbykey(magics,'runprgargs')\n",
    "        ##代码运行前\n",
    "        bcancel_exec,retstr=self.raise_plugin(code,magics,return_code,fil_ename,3,1)\n",
    "        if bcancel_exec:return bcancel_exec,retinfo,magics, code,fil_ename,retstr\n",
    "        self._logln(\"The process :\"+fil_ename)\n",
    "        p = self.create_jupyter_subprocess([runprg]+ runprgargs,cwd=None,shell=False,env=self.addkey2dict(magics,'env'))\n",
    "        self.g_rtsps[str(p.pid)]=p\n",
    "        return_code=p.returncode\n",
    "        ##代码启动后\n",
    "        bcancel_exec,retstr=self.raise_plugin(code,magics,return_code,fil_ename,3,2)\n",
    "        if bcancel_exec:return bcancel_exec,retinfo,magics, code,fil_ename,retstr\n",
    "        \n",
    "        if len(self.addkey2dict(magics,'showpid'))>0:\n",
    "            self._write_to_stdout(\"The process PID:\"+str(p.pid)+\"\\n\")\n",
    "        while p.poll() is None:\n",
    "            p.write_contents(magics)\n",
    "        self._write_to_stdout(\"The process end:\"+str(p.pid)+\"\\n\")\n",
    "        # wait for threads to finish, so output is always shown\n",
    "        p._stdout_thread.join()\n",
    "        p._stderr_thread.join()\n",
    "        # del self.g_rtsps[str(p.pid)]\n",
    "        p.write_contents(magics)\n",
    "        ##\n",
    "        ##调用接口\n",
    "        return_code=p.returncode\n",
    "        bcancel_exec,retstr=self.raise_plugin(code,magics,return_code,fil_ename,3,3)\n",
    "        if bcancel_exec:return bcancel_exec,retinfo,magics, code,fil_ename,retstr\n",
    "        ##代码运行结束\n",
    "        if p.returncode != 0:\n",
    "            self._log(\"Executable exited with code {}\".format(p.returncode),2)\n",
    "        return bcancel_exec,retinfo,magics, code,fil_ename,retstr"
   ]
  },
  {
   "cell_type": "code",
   "execution_count": 5,
   "id": "9e2e5e68",
   "metadata": {},
   "outputs": [
    {
     "data": {
      "text/plain": [
       "[MyPython] Info:file /root/Jupyter/Myjupyter-kernel/kernel/Runprg/src/dor_create_codefile.py created successfully\n"
      ]
     },
     "metadata": {
      "text/plain": {}
     },
     "output_type": "display_data"
    }
   ],
   "source": [
    "##do_create_codefile\n",
    "##%overwritefile\n",
    "##%file:src/dor_create_codefile.py\n",
    "##%noruncode\n",
    "    def dor_create_codefile(self,magics,code, silent, store_history=True,\n",
    "                    user_expressions=None, allow_stdin=True):    \n",
    "        ##runprg\n",
    "        ##runprgargs\n",
    "        return_code=0\n",
    "        fil_ename=''\n",
    "        bcancel_exec=False\n",
    "        retinfo=self.get_retinfo()\n",
    "        retstr=''\n",
    "        ##调生成文件前接口\n",
    "        bcancel_exec,retstr=self.raise_plugin(code,magics,return_code,fil_ename,1,1)\n",
    "        if bcancel_exec:return bcancel_exec,retinfo,magics, code,fil_ename,retstr\n",
    "        with self.new_temp_file(suffix='.py',dir=os.path.abspath('')) as source_file:\n",
    "            source_file.write(code)\n",
    "            source_file.flush()\n",
    "            newsrcfilename=source_file.name\n",
    "            fil_ename=newsrcfilename\n",
    "            return_code=True\n",
    "            # Generate new src file\n",
    "            ##调生成文件后接口\n",
    "            bcancel_exec,retstr=self.raise_plugin(code,magics,return_code,fil_ename,1,2)\n",
    "            if bcancel_exec:return bcancel_exec,retinfo,magics, code,fil_ename,retstr\n",
    "            if len(self.addkey2dict(magics,'file'))>0:\n",
    "                    fil_ename=magics['file'][0]\n",
    "            else: fil_ename=source_file.name\n",
    "        if len(self.addkey2dict(magics,'noruncode'))>0:\n",
    "            bcancel_exec=True\n",
    "            retinfo= self.get_retinfo()\n",
    "            return bcancel_exec,retinfo,magics, code,fil_ename,retstr\n",
    "        \n",
    "        return bcancel_exec,retinfo,magics, code,fil_ename,retstr"
   ]
  },
  {
   "cell_type": "code",
   "execution_count": 6,
   "id": "9343d6d3",
   "metadata": {},
   "outputs": [
    {
     "data": {
      "text/plain": [
       "[MyPython] Info:file /root/Jupyter/Myjupyter-kernel/kernel/Runprg/src/dor_preexecute.py created successfully\n"
      ]
     },
     "metadata": {
      "text/plain": {}
     },
     "output_type": "display_data"
    }
   ],
   "source": [
    "##do_preexecute\n",
    "##%overwritefile\n",
    "##%file:src/dor_preexecute.py\n",
    "##%noruncode\n",
    "    def dor_preexecute(self,code,magics,silent, store_history=True,\n",
    "                user_expressions=None, allow_stdin=False):        \n",
    "        ##runprg\n",
    "        ##runprgargs\n",
    "        bcancel_exec=False\n",
    "        retinfo=self.get_retinfo()\n",
    "        if len(self.addkey2dict(magics,'replcmdmode'))>0:\n",
    "            bcancel_exec=True\n",
    "            retinfo= self.send_replcmd(code, silent, store_history=store_history,\n",
    "                user_expressions=user_expressions, allow_stdin=allow_stdin)\n",
    "            return bcancel_exec,retinfo,magics, code\n",
    "        if (len(self.addkey2dict(magics,'noruncode'))>0 \n",
    "            and ( len(self.addkey2dict(magics,'command'))>0 \n",
    "            or len(self.addkey2dict(magics,'pythoncmd'))>0)):\n",
    "            bcancel_exec=True\n",
    "        return bcancel_exec,retinfo,magics, code"
   ]
  },
  {
   "cell_type": "code",
   "execution_count": null,
   "id": "84d3b67c",
   "metadata": {},
   "outputs": [],
   "source": []
  },
  {
   "cell_type": "code",
   "execution_count": null,
   "id": "fc6d0d16",
   "metadata": {},
   "outputs": [],
   "source": []
  }
 ],
 "metadata": {
  "interpreter": {
   "hash": "31f2aee4e71d21fbe5cf8b01ff0e069b9275f58929596ceb00d14d90e3e16cd6"
  },
  "kernelspec": {
   "display_name": "MyPython",
   "language": "Python",
   "name": "mypython"
  }
 },
 "nbformat": 4,
 "nbformat_minor": 5
}
