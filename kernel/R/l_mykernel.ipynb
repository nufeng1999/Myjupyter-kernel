{
 "cells": [
  {
   "cell_type": "code",
   "execution_count": 4,
   "id": "29cc610c",
   "metadata": {},
   "outputs": [
    {
     "name": "stdout",
     "output_type": "stream",
     "text": [
      "[MyPython] Info:file h:\\Jupyter\\Myjupyter-kernel\\kernel\\R\\src/do_r_runcode.py created successfully\n"
     ]
    }
   ],
   "source": [
    "##do_runcode\n",
    "##%overwritefile\n",
    "##%file:src/do_r_runcode.py\n",
    "##%noruncode\n",
    "    def do_runcode(self,return_code,fil_ename,magics,code, silent, store_history=True,\n",
    "                    user_expressions=None, allow_stdin=True):\n",
    "        return_code=return_code\n",
    "        fil_ename=fil_ename\n",
    "        bcancel_exec=False\n",
    "        retinfo=self.get_retinfo()\n",
    "        retstr=''\n",
    "        ##代码运行前\n",
    "        ## Rscript [--options] [-e expr [-e expr2 ...] | file] [args]\n",
    "        options=self.get_magicsSvalue(magics,'options')\n",
    "        Rcmd=['Rscript']\n",
    "        if len(options)>0:\n",
    "            Rcmd+=options\n",
    "        p = self.create_jupyter_subprocess(Rcmd+[fil_ename]+ magics['_st']['args'],cwd=None,shell=False,env=self.addkey2dict(magics,'env'),magics=magics)\n",
    "        #p = self.create_jupyter_subprocess([binary_file.name]+ magics['args'],cwd=None,shell=False)\n",
    "        #p = self.create_jupyter_subprocess([self.master_path, binary_file.name] + magics['args'],cwd='/tmp',shell=True)\n",
    "        self.g_rtsps[str(p.pid)]=p\n",
    "        return_code=p.returncode\n",
    "        ##代码启动后\n",
    "        bcancel_exec,retstr=self.raise_plugin(code,magics,return_code,fil_ename,3,2)\n",
    "        # if bcancel_exec:return bcancel_exec,retinfo,magics, code,fil_ename,retstr\n",
    "        \n",
    "        if len(self.addkey2dict(magics,'showpid'))>0:\n",
    "            self._write_to_stdout(\"The process PID:\"+str(p.pid)+\"\\n\")\n",
    "        return_code=p.wait_end(magics)\n",
    "        # del self.g_rtsps[str(p.pid)]\n",
    "        # p.write_contents(magics)\n",
    "        ##\n",
    "        ##调用接口\n",
    "        return_code=p.returncode\n",
    "        ##代码运行结束\n",
    "        if p.returncode != 0:\n",
    "            self._log(\"Executable exited with code {}\".format(p.returncode),2)\n",
    "        return bcancel_exec,retinfo,magics, code,fil_ename,retstr"
   ]
  },
  {
   "cell_type": "code",
   "execution_count": 5,
   "id": "58ae8be2",
   "metadata": {},
   "outputs": [
    {
     "name": "stdout",
     "output_type": "stream",
     "text": [
      "[MyPython] Info:file h:\\Jupyter\\Myjupyter-kernel\\kernel\\R\\src/do_r_compilecode.py created successfully\n"
     ]
    }
   ],
   "source": [
    "##do_compile_code\n",
    "##%overwritefile\n",
    "##%file:src/do_r_compilecode.py\n",
    "##%noruncode\n",
    "    def do_compile_code(self,return_code,fil_ename,magics,code, silent, store_history=True,\n",
    "                    user_expressions=None, allow_stdin=True):\n",
    "        return_code=0\n",
    "        fil_ename=fil_ename\n",
    "        sourcefilename=fil_ename\n",
    "        bcancel_exec=False\n",
    "        retinfo=self.get_retinfo()\n",
    "        retstr=''\n",
    "\n",
    "\n",
    "        return bcancel_exec,retinfo,magics, code,fil_ename,retstr"
   ]
  },
  {
   "cell_type": "code",
   "execution_count": 6,
   "id": "9e2e5e68",
   "metadata": {},
   "outputs": [
    {
     "name": "stdout",
     "output_type": "stream",
     "text": [
      "[MyPython] Info:file h:\\Jupyter\\Myjupyter-kernel\\kernel\\R\\src/do_r_create_codefile.py created successfully\n"
     ]
    }
   ],
   "source": [
    "##do_create_codefile\n",
    "##%overwritefile\n",
    "##%file:src/do_r_create_codefile.py\n",
    "##%noruncode\n",
    "    def do_create_codefile(self,magics,code, silent, store_history=True,\n",
    "                    user_expressions=None, allow_stdin=True):\n",
    "        return_code=0\n",
    "        fil_ename=''\n",
    "        bcancel_exec=False\n",
    "        retinfo=self.get_retinfo()\n",
    "        retstr=''\n",
    "\n",
    "        source_file=self.create_codetemp_file(magics,code,suffix='.r')\n",
    "        newsrcfilename=source_file.name\n",
    "        fil_ename=newsrcfilename\n",
    "        return_code=True\n",
    "\n",
    "        return bcancel_exec,self.get_retinfo(),magics, code,fil_ename,retstr"
   ]
  },
  {
   "cell_type": "code",
   "execution_count": 7,
   "id": "9343d6d3",
   "metadata": {},
   "outputs": [
    {
     "name": "stdout",
     "output_type": "stream",
     "text": [
      "[MyPython] Info:file h:\\Jupyter\\Myjupyter-kernel\\kernel\\R\\src/do_r_preexecute.py created successfully\n"
     ]
    }
   ],
   "source": [
    "##do_preexecute\n",
    "##%overwritefile\n",
    "##%file:src/do_r_preexecute.py\n",
    "##%noruncode\n",
    "    def do_preexecute(self,code,magics,silent, store_history=True,\n",
    "                user_expressions=None, allow_stdin=False):\n",
    "        bcancel_exec=False\n",
    "        retinfo=self.get_retinfo()\n",
    "        \n",
    "        return bcancel_exec,retinfo,magics, code"
   ]
  },
  {
   "cell_type": "code",
   "execution_count": 4,
   "id": "84d3b67c",
   "metadata": {},
   "outputs": [
    {
     "name": "stdout",
     "output_type": "stream",
     "text": [
      "[MyPythonKernel184436] Info:file h:\\Jupyter\\Myjupyter-kernel\\kernel\\R\\../../../jupyter-MyR-kernel/jupyter_MyR_kernel/kernel.py created successfully\n"
     ]
    }
   ],
   "source": [
    "## new kernel.py\n",
    "##%overwritefile\n",
    "##%file:../../../jupyter-MyR-kernel/jupyter_MyR_kernel/kernel.py\n",
    "##//%file:kernel.py\n",
    "##%noruncode\n",
    "#\n",
    "#   MyPython Jupyter Kernel\n",
    "#\n",
    "##%include:../../src/head.py\n",
    "##%include:../../src/common.py\n",
    "\n",
    "##%include:../../src/Mykernel.py\n",
    "\n",
    "class MyRKernel(MyKernel):\n",
    "    implementation = 'jupyter-MyR-kernel'\n",
    "    implementation_version = '1.0'\n",
    "    language = 'r'\n",
    "    language_version = ''\n",
    "    language_info = {'name': 'r',\n",
    "                     'version': sys.version.split()[0],\n",
    "                     'mimetype': 'text/r',\n",
    "                     'codemirror_mode': {\n",
    "                        'name': 'ipython',\n",
    "                        'version': sys.version_info[0]\n",
    "                     },\n",
    "                     'pygments_lexer': 'ipython%d' % 3,\n",
    "                     'nbconvert_exporter': 'R',\n",
    "                     'file_extension': '.ts'}\n",
    "    runfiletype='script'\n",
    "    banner = \"MyR kernel.\\n\" \\\n",
    "             \"Uses R, creates source code files and executables in temporary folder.\\n\"\n",
    "    kernelinfo=\"[MyR]\"\n",
    "    main_head = \"\\n\" \\\n",
    "            \"\\n\" \\\n",
    "            \"int main(List<String> arguments){\\n\"\n",
    "\n",
    "    main_foot = \"\\nreturn 0;\\n}\"\n",
    "\n",
    "##//%include:src/comm_attribute.py\n",
    "\n",
    "    def __init__(self, *args, **kwargs):\n",
    "        super(MyRKernel, self).__init__(*args, **kwargs)\n",
    "        self.kernelinfo=\"[MyRKernel{0}]\".format(time.strftime(\"%H%M%S\", time.localtime()))\n",
    "        self._allow_stdin = True\n",
    "        self.readOnlyFileSystem = False\n",
    "        self.bufferedOutput = True\n",
    "        self.linkMaths = True # always link math library\n",
    "        self.wAll = True # show all warnings by default\n",
    "        self.wError = False # but keep comipiling for warnings\n",
    "        \n",
    "#################\n",
    "##%include:src/compile_with_rc.py\n",
    "##%include:src/c_exec_rc_.py\n",
    "##%include:src/do_r_runcode.py\n",
    "##%include:src/do_r_compilecode.py\n",
    "##%include:src/do_r_create_codefile.py\n",
    "##%include:src/do_r_preexecute.py\n"
   ]
  },
  {
   "cell_type": "code",
   "execution_count": null,
   "id": "fc6d0d16",
   "metadata": {},
   "outputs": [],
   "source": []
  }
 ],
 "metadata": {
  "interpreter": {
   "hash": "31f2aee4e71d21fbe5cf8b01ff0e069b9275f58929596ceb00d14d90e3e16cd6"
  },
  "kernelspec": {
   "display_name": "MyPython",
   "language": "Python",
   "name": "mypython"
  },
  "language_info": {
   "codemirror_mode": {
    "name": "ipython",
    "version": 3
   },
   "file_extension": ".py",
   "mimetype": "text/x-python",
   "name": "python",
   "nbconvert_exporter": "python",
   "pygments_lexer": "ipython3",
   "version": "3.9.6"
  }
 },
 "nbformat": 4,
 "nbformat_minor": 5
}
