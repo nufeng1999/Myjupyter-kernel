{
 "cells": [
  {
   "cell_type": "code",
   "execution_count": null,
   "id": "29cc610c",
   "metadata": {},
   "outputs": [],
   "source": [
    "##do_runcode\n",
    "##%overwritefile\n",
    "##%file:src/do_gjs_runcode.py\n",
    "##%noruncode\n",
    "    def do_runcode(self,return_code,fil_ename,magics,code, silent, store_history=True,\n",
    "                    user_expressions=None, allow_stdin=True):\n",
    "        return_code=return_code\n",
    "        fil_ename=fil_ename\n",
    "        bcancel_exec=False\n",
    "        retinfo=self.get_retinfo()\n",
    "        retstr=''\n",
    "        ##代码运行前\n",
    "        p = self.create_jupyter_subprocess(['gjs',fil_ename]+ magics['args'],cwd=None,shell=False,env=self.addkey2dict(magics,'env'))\n",
    "        #p = self.create_jupyter_subprocess([binary_file.name]+ magics['args'],cwd=None,shell=False)\n",
    "        #p = self.create_jupyter_subprocess([self.master_path, binary_file.name] + magics['args'],cwd='/tmp',shell=True)\n",
    "        self.g_rtsps[str(p.pid)]=p\n",
    "        return_code=p.returncode\n",
    "        ##代码启动后\n",
    "        bcancel_exec,retstr=self.raise_plugin(code,magics,return_code,fil_ename,3,2)\n",
    "        # if bcancel_exec:return bcancel_exec,retinfo,magics, code,fil_ename,retstr\n",
    "        \n",
    "        if len(self.addkey2dict(magics,'showpid'))>0:\n",
    "            self._write_to_stdout(\"The process PID:\"+str(p.pid)+\"\\n\")\n",
    "        return_code=p.wait_end(magics)\n",
    "        # del self.g_rtsps[str(p.pid)]\n",
    "        # p.write_contents(magics)\n",
    "        ##\n",
    "        ##调用接口\n",
    "        return_code=p.returncode\n",
    "        ##代码运行结束\n",
    "        if p.returncode != 0:\n",
    "            self._log(\"Executable exited with code {}\".format(p.returncode),2)\n",
    "        return bcancel_exec,retinfo,magics, code,fil_ename,retstr"
   ]
  },
  {
   "cell_type": "code",
   "execution_count": null,
   "id": "58ae8be2",
   "metadata": {},
   "outputs": [],
   "source": [
    "##do_compile_code\n",
    "##%overwritefile\n",
    "##%file:src/do_c_compilecode.py\n",
    "##%noruncode\n",
    "    def do_compile_code(self,return_code,fil_ename,magics,code, silent, store_history=True,\n",
    "                    user_expressions=None, allow_stdin=True):\n",
    "        return_code=0\n",
    "        fil_ename=fil_ename\n",
    "        sourcefilename=fil_ename\n",
    "        bcancel_exec=False\n",
    "        retinfo=self.get_retinfo()\n",
    "        retstr=''\n",
    "\n",
    "        return bcancel_exec,retinfo,magics, code,fil_ename,retstr"
   ]
  },
  {
   "cell_type": "code",
   "execution_count": null,
   "id": "9e2e5e68",
   "metadata": {},
   "outputs": [],
   "source": [
    "##do_create_codefile\n",
    "##%overwritefile\n",
    "##%file:src/do_gjs_create_codefile.py\n",
    "##%noruncode\n",
    "    def do_create_codefile(self,magics,code, silent, store_history=True,\n",
    "                    user_expressions=None, allow_stdin=True):\n",
    "        return_code=0\n",
    "        fil_ename=''\n",
    "        bcancel_exec=False\n",
    "        retinfo=self.get_retinfo()\n",
    "        retstr=''\n",
    "\n",
    "        source_file=self.create_codetemp_file(magics,code,suffix='.js')\n",
    "        newsrcfilename=source_file.name\n",
    "        fil_ename=newsrcfilename\n",
    "        return_code=True\n",
    "\n",
    "        return bcancel_exec,self.get_retinfo(),magics, code,fil_ename,retstr"
   ]
  },
  {
   "cell_type": "code",
   "execution_count": null,
   "id": "9343d6d3",
   "metadata": {},
   "outputs": [],
   "source": [
    "##do_preexecute\n",
    "##%overwritefile\n",
    "##%file:src/do_gjs_preexecute.py\n",
    "##%noruncode\n",
    "    def do_preexecute(self,code,magics,silent, store_history=True,\n",
    "                user_expressions=None, allow_stdin=False):\n",
    "        bcancel_exec=False\n",
    "        retinfo=self.get_retinfo()\n",
    "        \n",
    "        return bcancel_exec,retinfo,magics, code"
   ]
  },
  {
   "cell_type": "code",
   "execution_count": 4,
   "id": "84d3b67c",
   "metadata": {},
   "outputs": [
    {
     "data": {
      "text/plain": [
       "[MyPython] Info:file /root/Jupyter/Myjupyter-kernel/kernel/Gjs/../../../jupyter-MyGjs-kernel/jupyter_MyGjs_kernel/kernel.py created successfully\n"
      ]
     },
     "metadata": {
      "text/plain": {}
     },
     "output_type": "display_data"
    }
   ],
   "source": [
    "## new kernel.py\n",
    "##%overwritefile\n",
    "##%file:../../../jupyter-MyGjs-kernel/jupyter_MyGjs_kernel/kernel.py\n",
    "##//%file:kernel.py\n",
    "##%noruncode\n",
    "#\n",
    "#   MyGjs Jupyter Kernel\n",
    "#\n",
    "##%include:../../src/head.py\n",
    "##%include:../../src/common.py\n",
    "\n",
    "##%include:../../src/Mykernel.py\n",
    "\n",
    "class MyGjsKernel(MyKernel):\n",
    "    implementation = 'jupyter-MyGjs-kernel'\n",
    "    implementation_version = '1.0'\n",
    "    language = 'JavaScript'\n",
    "    language_version = sys.version.split()[0]\n",
    "    language_info = {'name': 'javascript',\n",
    "                     'version': sys.version.split()[0],\n",
    "                     'mimetype': 'text/javascript',\n",
    "                     'codemirror_mode': {\n",
    "                        'name': 'javascript',\n",
    "                        'version': sys.version_info[0]\n",
    "                     },\n",
    "                     'pygments_lexer': 'javascript%d' % 3,\n",
    "                     'nbconvert_exporter': 'javascript',\n",
    "                     'file_extension': '.js'}\n",
    "    runfiletype='script'\n",
    "    banner = \"MyGjs kernel.\\n\" \\\n",
    "             \"Uses gjs, compiles in javascript, and creates source code files and executables in temporary folder.\\n\"\n",
    "    kernelinfo=\"[MyGjs]\"\n",
    "    main_head = \"\\n\" \\\n",
    "            \"\\n\" \\\n",
    "            \"int main(List<String> arguments){\\n\"\n",
    "\n",
    "    main_foot = \"\\nreturn 0;\\n}\"\n",
    "\n",
    "##//%include:src/comm_attribute.py\n",
    "\n",
    "    def __init__(self, *args, **kwargs):\n",
    "        super(MyGjsKernel, self).__init__(*args, **kwargs)\n",
    "        self._allow_stdin = True\n",
    "        self.readOnlyFileSystem = False\n",
    "        self.bufferedOutput = True\n",
    "        self.linkMaths = True # always link math library\n",
    "        self.wAll = True # show all warnings by default\n",
    "        self.wError = False # but keep comipiling for warnings\n",
    "        \n",
    "#################\n",
    "\n",
    "##%include:src/do_gjs_runcode.py\n",
    "##%include:src/do_c_compilecode.py\n",
    "##%include:src/do_gjs_create_codefile.py\n",
    "##%include:src/do_gjs_preexecute.py\n"
   ]
  },
  {
   "cell_type": "code",
   "execution_count": null,
   "id": "fc6d0d16",
   "metadata": {},
   "outputs": [],
   "source": []
  }
 ],
 "metadata": {
  "interpreter": {
   "hash": "31f2aee4e71d21fbe5cf8b01ff0e069b9275f58929596ceb00d14d90e3e16cd6"
  },
  "kernelspec": {
   "display_name": "MyPython",
   "language": "Python",
   "name": "mypython"
  }
 },
 "nbformat": 4,
 "nbformat_minor": 5
}
