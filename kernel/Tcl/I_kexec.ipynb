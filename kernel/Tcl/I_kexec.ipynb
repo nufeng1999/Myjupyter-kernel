{
 "cells": [
  {
   "cell_type": "code",
   "execution_count": 5,
   "metadata": {},
   "outputs": [
    {
     "name": "stdout",
     "output_type": "stream",
     "text": [
      "[MyPython] Info:file h:\\Jupyter\\Myjupyter-kernel\\kernel\\Tcl\\src/do_tcl_runcode.py created successfully\n"
     ]
    }
   ],
   "source": [
    "##do_runcode\n",
    "##%overwritefile\n",
    "##%file:src/do_tcl_runcode.py\n",
    "##%noruncode\n",
    "    def do_runcode(self,return_code,fil_ename,magics,code, silent, store_history=True,\n",
    "                    user_expressions=None, allow_stdin=True):\n",
    "        return_code=return_code\n",
    "        fil_ename=fil_ename\n",
    "        bcancel_exec=False\n",
    "        retinfo=self.get_retinfo()\n",
    "        retstr=''\n",
    "\n",
    "        ##代码运行前\n",
    "        interpreter=[]\n",
    "        if len(self.kernel_info['interpreter']['cmd'])>0:\n",
    "            interpreter+=[self.kernel_info['interpreter']['cmd']]\n",
    "            if len(self.kernel_info['interpreter']['clargs'])>0:\n",
    "                interpreter+=self.kernel_info['interpreter']['clargs']\n",
    "            interpreter+=[fil_ename]\n",
    "            if len(self.kernel_info['interpreter']['crargs'])>0:\n",
    "                interpreter+=self.kernel_info['interpreter']['crargs']\n",
    "        cmd=[fil_ename]\n",
    "        if len(interpreter)>0:\n",
    "            cmd=interpreter\n",
    "        ## self._logln(\"The process :\"+fil_ename)\n",
    "        p = self.create_jupyter_subprocess(cmd+ magics['_st']['args'],cwd=None,shell=False,env=self.addkey2dict(magics,'env'),magics=magics)\n",
    "        self.g_rtsps[str(p.pid)]=p\n",
    "        return_code=p.returncode\n",
    "        ##代码启动后\n",
    "        # bcancel_exec,retstr=self.raise_plugin(code,magics,return_code,fil_ename,3,2)\n",
    "        # if bcancel_exec:return bcancel_exec,retinfo,magics, code,fil_ename,retstr\n",
    "         \n",
    "        if magics!=None and len(self.addkey2dict(magics,'showpid'))>0:\n",
    "            self._write_to_stdout(\"The process PID:\"+str(p.pid)+\"\\n\")\n",
    "        return_code=p.wait_end(magics)\n",
    "        ##代码运行结束\n",
    "        # self.cleanup_files()\n",
    "        if p.returncode != 0:\n",
    "            self._log(\"Executable exited with code {}\".format(p.returncode),2)\n",
    "        return bcancel_exec,retinfo,magics, code,fil_ename,retstr"
   ]
  },
  {
   "cell_type": "code",
   "execution_count": 6,
   "metadata": {},
   "outputs": [
    {
     "name": "stdout",
     "output_type": "stream",
     "text": [
      "[MyPython] Info:file h:\\Jupyter\\Myjupyter-kernel\\kernel\\Tcl\\src/do_tcl_compilecode.py created successfully\n"
     ]
    }
   ],
   "source": [
    "##do_compile_code\n",
    "##%overwritefile\n",
    "##%file:src/do_tcl_compilecode.py\n",
    "##%noruncode\n",
    "    def do_compile_code(self,return_code,fil_ename,magics,code, silent, store_history=True,\n",
    "                    user_expressions=None, allow_stdin=True):\n",
    "        return_code=0\n",
    "        fil_ename=fil_ename\n",
    "        sourcefilename=fil_ename\n",
    "        bcancel_exec=False\n",
    "        retinfo=self.get_retinfo()\n",
    "        retstr=''\n",
    "        if len(self.kernel_info['compiler']['cmd'])>0:\n",
    "            ## 执行编译\n",
    "            returncode,binary_filename=self._exec_sc_(fil_ename,magics)\n",
    "            fil_ename=binary_filename\n",
    "            return_code=returncode\n",
    "        \n",
    "            if returncode!=0:return  True,retinfo, code,fil_ename,retstr\n",
    "\n",
    "        return bcancel_exec,retinfo,magics, code,fil_ename,retstr"
   ]
  },
  {
   "cell_type": "code",
   "execution_count": 7,
   "metadata": {},
   "outputs": [
    {
     "name": "stdout",
     "output_type": "stream",
     "text": [
      "[MyPython] Info:file h:\\Jupyter\\Myjupyter-kernel\\kernel\\Tcl\\src/do_tcl_create_codefile.py created successfully\n"
     ]
    }
   ],
   "source": [
    "##do_tcl_create_codefile\n",
    "##%overwritefile\n",
    "##%file:src/do_tcl_create_codefile.py\n",
    "##%noruncode\n",
    "    def do_create_codefile(self,magics,code, silent, store_history=True,\n",
    "                    user_expressions=None, allow_stdin=True):\n",
    "        return_code=0\n",
    "        fil_ename=''\n",
    "        bcancel_exec=False\n",
    "        retinfo=self.get_retinfo()\n",
    "        retstr=''\n",
    "        \n",
    "        source_file=self.create_codetemp_file(magics,code,suffix=self.kernel_info['extension'])\n",
    "        newsrcfilename=source_file.name\n",
    "        fil_ename=newsrcfilename\n",
    "        return_code=True\n",
    "        \n",
    "        return bcancel_exec,retinfo,magics, code,fil_ename,retstr"
   ]
  },
  {
   "cell_type": "code",
   "execution_count": 8,
   "metadata": {},
   "outputs": [
    {
     "name": "stdout",
     "output_type": "stream",
     "text": [
      "[MyPython] Info:file h:\\Jupyter\\Myjupyter-kernel\\kernel\\Tcl\\src/do_tcl_preexecute.py created successfully\n"
     ]
    }
   ],
   "source": [
    "##do_tcl_preexecute\n",
    "##%overwritefile\n",
    "##%file:src/do_tcl_preexecute.py\n",
    "##%noruncode\n",
    "    def do_preexecute(self,code, magics,silent, store_history=True,\n",
    "                user_expressions=None, allow_stdin=False):\n",
    "        bcancel_exec=False\n",
    "        retinfo=self.get_retinfo()\n",
    "\n",
    "        if (len(self.addkey2dict(magics,'noruncode'))<1 \n",
    "            and len(self.kernel_info['needmain'])>0 ):\n",
    "            magics, code = self._add_main(magics, code)\n",
    "\n",
    "        return_code=0\n",
    "        fil_ename=''\n",
    "        return bcancel_exec,retinfo,magics, code"
   ]
  },
  {
   "cell_type": "code",
   "execution_count": null,
   "metadata": {},
   "outputs": [],
   "source": []
  }
 ],
 "metadata": {
  "kernelspec": {
   "display_name": "MyPython",
   "language": "Python",
   "name": "mypython"
  },
  "language_info": {
   "codemirror_mode": {
    "name": "ipython",
    "version": 3
   },
   "file_extension": ".py",
   "mimetype": "text/x-python",
   "name": "python",
   "nbconvert_exporter": "python",
   "pygments_lexer": "ipython3",
   "version": "3.9.6"
  },
  "orig_nbformat": 4
 },
 "nbformat": 4,
 "nbformat_minor": 2
}
