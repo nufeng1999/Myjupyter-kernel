{
 "cells": [
  {
   "cell_type": "code",
   "execution_count": 4,
   "id": "790ed872",
   "metadata": {},
   "outputs": [
    {
     "name": "stdout",
     "output_type": "stream",
     "text": [
      "[MyPythonKernel125439] Info:src/compile_with_javac.py\n",
      "[MyPythonKernel125439] Info:file /mnt/h/Jupyter/Myjupyter-kernel/kernel/Java/src/compile_with_javac.py created successfully\n"
     ]
    }
   ],
   "source": [
    "##%overwritefile\n",
    "##%file:src/compile_with_javac.py\n",
    "##%noruncode\n",
    "    def compile_with_javac(self, source_filename, \n",
    "        binary_filepath=None, cflags=None, \n",
    "        ldflags=None,env=None,\n",
    "        coptions=None,magics=None):\n",
    "        # cflags = ['-std=c89', '-pedantic', '-fPIC', '-shared', '-rdynamic'] + cflags\n",
    "        outpath=os.path.dirname(source_filename)\n",
    "        sf = os.path.basename(source_filename)\n",
    "        binary_filename = sf.split(\".\")[0]\n",
    "        # if self.linkMaths:\n",
    "        #     cflags = cflags + ['-lm']\n",
    "        # if self.wError:\n",
    "        #     cflags = cflags + ['-Werror']\n",
    "        # if self.wAll:\n",
    "        #     cflags = cflags + ['-Wall']\n",
    "        # if self.readOnlyFileSystem:\n",
    "        #     cflags = ['-DREAD_ONLY_FILE_SYSTEM'] + cflags\n",
    "        # if self.bufferedOutput:\n",
    "        #     cflags = ['-DBUFFERED_OUTPUT'] + cflags\n",
    "        # target=os.path.dirname(binary_filepath)\n",
    "        index=-1\n",
    "        if coptions==None:\n",
    "            coptions=[]\n",
    "        for s in coptions:\n",
    "            index=index+1\n",
    "            if s=='-d':\n",
    "                outpath=coptions[index+1]\n",
    "                if not outpath.startswith('-'):\n",
    "                    #剔除 -d参数和值\n",
    "                    outpath=coptions.pop(index+1)\n",
    "                    coptions.pop(index)\n",
    "            else:\n",
    "                if binary_filepath!=None:\n",
    "                    outpath=binary_filepath\n",
    "        args = ['javac']+coptions+ ['-d', outpath]+[ source_filename]\n",
    "        self.mymagics._logln(' '.join((' '+ str(s) for s in args)))\n",
    "        binary_filename=os.path.join(outpath,binary_filename)\n",
    "        return self.mymagics.create_jupyter_subprocess(args,env=env,magics=magics),binary_filename+\".class\",args\n"
   ]
  },
  {
   "cell_type": "code",
   "execution_count": 5,
   "id": "33551652",
   "metadata": {},
   "outputs": [
    {
     "name": "stdout",
     "output_type": "stream",
     "text": [
      "[MyPythonKernel125439] Info:src/j_exec_javac_.py\n",
      "[MyPythonKernel125439] Info:file /mnt/h/Jupyter/Myjupyter-kernel/kernel/Java/src/j_exec_javac_.py created successfully\n"
     ]
    }
   ],
   "source": [
    "##调用 javac 编译源代码\n",
    "##%overwritefile\n",
    "##%file:src/j_exec_javac_.py\n",
    "##%noruncode\n",
    "    def _exec_javac_(self,source_filename,magics):\n",
    "        self.mymagics._logln('Generating binary file')\n",
    "        magics['status']='compiling'\n",
    "        p,outfile,ccmd = self.compile_with_javac(\n",
    "            source_filename, \n",
    "            None,\n",
    "            self.mymagics.get_magicsSvalue(magics,'cflags'),\n",
    "            self.mymagics.get_magicsSvalue(magics,'ldflags'),\n",
    "            self.mymagics.get_magicsbykey(magics,'env'),\n",
    "            self.mymagics.get_magicsSvalue(magics,'coptions'),\n",
    "            magics\n",
    "            )\n",
    "        returncode=p.wait_end(magics)\n",
    "        p.write_contents()\n",
    "        magics['status']=''\n",
    "        if returncode != 0:  # Compilation failed\n",
    "            self.mymagics._logln(''.join((str(s) for s in ccmd)),3)\n",
    "            self.mymagics._logln(\"Javac exited with code {}, the executable will not be executed\".format(returncode),3)\n",
    "\n",
    "            # delete source files before exit\n",
    "            # os.remove(source_filename)\n",
    "            # os.remove(binary_file.name)\n",
    "        return p.returncode,outfile\n"
   ]
  },
  {
   "cell_type": "code",
   "execution_count": null,
   "metadata": {},
   "outputs": [],
   "source": []
  }
 ],
 "metadata": {
  "interpreter": {
   "hash": "75596ead963b1eeb4cf3ce4e8a9c4a864202dd5fd95b19dff9cbdac9756331e2"
  },
  "kernelspec": {
   "display_name": "MyPython",
   "language": "Python",
   "name": "mypython"
  },
  "orig_nbformat": 4
 },
 "nbformat": 4,
 "nbformat_minor": 2
}
