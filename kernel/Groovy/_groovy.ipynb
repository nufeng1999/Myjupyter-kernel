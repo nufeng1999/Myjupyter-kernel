{
 "cells": [
  {
   "cell_type": "code",
   "execution_count": 4,
   "id": "790ed872",
   "metadata": {},
   "outputs": [
    {
     "name": "stdout",
     "output_type": "stream",
     "text": [
      "[MyPythonKernel124954] Info:src/compile_with_groovyc.py\n",
      "[MyPythonKernel124954] Info:file /mnt/h/Jupyter/Myjupyter-kernel/kernel/Groovy/src/compile_with_groovyc.py created successfully\n"
     ]
    }
   ],
   "source": [
    "##%overwritefile\n",
    "##%file:src/compile_with_groovyc.py\n",
    "##%noruncode\n",
    "    def compile_with_groovyc(self, source_filename, binary_filepath=None, cflags=None, ldflags=None,env=None,coptions=None,magics=None):\n",
    "        # coptions = ['-b', '', '-cp', '', '-j'] + cflags\n",
    "        outpath=os.path.dirname(source_filename)\n",
    "        sf = os.path.basename(source_filename)\n",
    "        binary_filename = sf.split(\".\")[0]\n",
    "        index=-1\n",
    "        if coptions==None:\n",
    "            coptions=[]\n",
    "        for s in coptions:\n",
    "            index=index+1\n",
    "            if s=='-d':\n",
    "                outpath=coptions[index+1]\n",
    "                if not outpath.startswith('-'):\n",
    "                    #剔除 -d参数和值\n",
    "                    outpath=coptions.pop(index+1)\n",
    "                    coptions.pop(index)\n",
    "            else:\n",
    "                if binary_filepath!=None:\n",
    "                    outpath=binary_filepath\n",
    "        args = ['groovyc']+coptions+ ['-d', outpath]+[ source_filename]\n",
    "        self.mymagics._logln(' '.join((' '+ str(s) for s in args)))\n",
    "        binary_filename=os.path.join(outpath,binary_filename)\n",
    "        return self.mymagics.create_jupyter_subprocess(args,env=env,magics=magics),binary_filename+\".class\",args\n"
   ]
  },
  {
   "cell_type": "code",
   "execution_count": 5,
   "id": "33551652",
   "metadata": {},
   "outputs": [
    {
     "name": "stdout",
     "output_type": "stream",
     "text": [
      "[MyPythonKernel124954] Info:src/g_exec_groovyc_.py\n",
      "[MyPythonKernel124954] Info:file /mnt/h/Jupyter/Myjupyter-kernel/kernel/Groovy/src/g_exec_groovyc_.py created successfully\n"
     ]
    }
   ],
   "source": [
    "##%overwritefile\n",
    "##%file:src/g_exec_groovyc_.py\n",
    "##%noruncode\n",
    "    def _exec_groovyc_(self,source_filename,magics):\n",
    "        self.mymagics._write_to_stdout('Generating binary file\\n')\n",
    "        magics['status']='compiling'\n",
    "        p,outfile,ccmd = self.compile_with_groovyc(\n",
    "            source_filename, \n",
    "            None,\n",
    "            self.mymagics.get_magicsSvalue(magics,'cflags'),\n",
    "            self.mymagics.get_magicsSvalue(magics,'ldflags'),\n",
    "            self.mymagics.get_magicsbykey(magics,'env'),\n",
    "            self.mymagics.get_magicsSvalue(magics,'coptions'),\n",
    "            magics\n",
    "            )\n",
    "        returncode=p.wait_end(magics)\n",
    "        p.write_contents()\n",
    "        magics['status']=''\n",
    "        if returncode != 0:  # Compilation failed\n",
    "            self.mymagics._logln(''.join((str(s) for s in ccmd)),3)\n",
    "            self.mymagics._logln(\"Groovyc exited with code {}, the executable will not be executed\".format(returncode),3)\n",
    "\n",
    "            # delete source files before exit\n",
    "            os.remove(source_filename)\n",
    "            # os.remove(binary_file.name)\n",
    "        return p.returncode,outfile\n"
   ]
  }
 ],
 "metadata": {
  "interpreter": {
   "hash": "75596ead963b1eeb4cf3ce4e8a9c4a864202dd5fd95b19dff9cbdac9756331e2"
  },
  "kernelspec": {
   "display_name": "MyPython",
   "language": "Python",
   "name": "mypython"
  },
  "orig_nbformat": 4
 },
 "nbformat": 4,
 "nbformat_minor": 2
}
