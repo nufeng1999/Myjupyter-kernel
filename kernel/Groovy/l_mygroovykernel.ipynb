{
 "cells": [
  {
   "cell_type": "code",
   "execution_count": 21,
   "id": "18140065",
   "metadata": {},
   "outputs": [
    {
     "data": {
      "text/plain": [
       "[MyPython] Info:file /root/Jupyter/Myjupyter-kernel/kernel/Groovy/src/do_gv_runcode.py created successfully\n"
      ]
     },
     "metadata": {
      "text/plain": {}
     },
     "output_type": "display_data"
    }
   ],
   "source": [
    "##do_runcode\n",
    "##%overwritefile\n",
    "##%file:src/do_gv_runcode.py\n",
    "##%noruncode\n",
    "    def do_runcode(self,return_code,fil_ename,class_filename,outpath,magics,code, silent, store_history=True,\n",
    "                    user_expressions=None, allow_stdin=True):\n",
    "        return_code=return_code\n",
    "        fil_ename=fil_ename\n",
    "        bcancel_exec=False\n",
    "        retinfo=self.get_retinfo()\n",
    "        retstr=''\n",
    "\n",
    "        ##代码运行前\n",
    "        # mainclass='magics['package']+\".\"+class_filename\n",
    "        self.chkjoptions(magics,'/usr/share/java/groovy.jar',outpath)\n",
    "        # /usr/share/java/groovy-all-2.4.21.jar\n",
    "        # java -cp /usr/share/java/groovy.jar:. test options\n",
    "        # bcancel_exec,retstr=self.raise_plugin(code,magics,return_code,fil_ename,3,1)\n",
    "        # if bcancel_exec:return bcancel_exec,retinfo,magics, code,fil_ename,retstr\n",
    "        self._write_to_stdout(\"The process :\"+class_filename+\"\\n\")\n",
    "        ################# repl mode run code files\n",
    "        #FIXME:\n",
    "        if magics['runmode']=='repl':\n",
    "            self._start_replprg('java',magics['joptions']+[class_filename] + magics['args'],magics)\n",
    "\n",
    "            return_code=p.returncode\n",
    "            # bcancel_exec,retstr=self.raise_plugin(code,magics,return_code,fil_ename,3,2)\n",
    "            return bcancel_exec,retinfo,magics, code,fil_ename,retstr\n",
    "        ############################################\n",
    "\n",
    "    ############################################\n",
    "        #################dynamically load and execute code\n",
    "        #FIXME:\n",
    "        # if len(magics['dlrun'])>0:\n",
    "        #     p = self.create_jupyter_subprocess([self.master_path, class_filename] + magics['args'],env=self.addkey2dict(magics,'env'))\n",
    "        # #################\n",
    "        # else:\n",
    "        cmdstr = ['java']+magics['joptions']+[class_filename] + magics['args']\n",
    "        self._log(' '.join((' '+ str(s) for s in cmdstr))+\"\\n\")\n",
    "        p = self.create_jupyter_subprocess(['java']+magics['joptions']+[class_filename] + magics['args'],env=self.addkey2dict(magics,'env'))\n",
    "        self.subprocess=p\n",
    "        self.g_rtsps[str(p.pid)]=p\n",
    "        return_code=p.returncode\n",
    "        ##代码启动后\n",
    "        # bcancel_exec,retstr=self.raise_plugin(code,magics,return_code,fil_ename,3,2)\n",
    "        # if bcancel_exec:return bcancel_exec,retinfo,magics, code,fil_ename,retstr\n",
    "        \n",
    "        if len(self.addkey2dict(magics,'showpid'))>0:\n",
    "            self._write_to_stdout(\"The process PID:\"+str(p.pid)+\"\\n\")\n",
    "        return_code=p.wait_end(magics)\n",
    "        ##代码运行结束\n",
    "        # now remove the files we have just created\n",
    "        # if(os.path.exists(source_file.name)):\n",
    "        #     os.remove(source_file.name)\n",
    "        # if(os.path.exists(class_filename)):\n",
    "            # os.remove(class_filename)\n",
    "\n",
    "        # if p.returncode != 0:\n",
    "            # self._write_to_stderr(\"[C kernel] Executable exited with code {}\".format(p.returncode))\n",
    "        return bcancel_exec,retinfo,magics, code,fil_ename,retstr"
   ]
  },
  {
   "cell_type": "code",
   "execution_count": 22,
   "id": "7b9af1d3",
   "metadata": {},
   "outputs": [
    {
     "data": {
      "text/plain": [
       "[MyPython] Info:file /root/Jupyter/Myjupyter-kernel/kernel/Groovy/src/do_gv_compilecode.py created successfully\n"
      ]
     },
     "metadata": {
      "text/plain": {}
     },
     "output_type": "display_data"
    }
   ],
   "source": [
    "##do_compile_code\n",
    "##%overwritefile\n",
    "##%file:src/do_gv_compilecode.py\n",
    "##%noruncode\n",
    "    def do_compile_code(self,return_code,fil_ename,magics,code, silent, store_history=True,\n",
    "                    user_expressions=None, allow_stdin=True):\n",
    "        return_code=0\n",
    "        fil_ename=fil_ename\n",
    "        sourcefilename=fil_ename\n",
    "        bcancel_exec=False\n",
    "        retinfo=self.get_retinfo()\n",
    "        retstr=''\n",
    "        class_filename=''\n",
    "\n",
    "        if len(self.addkey2dict(magics,'file'))>0:\n",
    "            fil_ename=magics['file'][0]\n",
    "        # else: fil_ename=source_file.name\n",
    "        returncode,class_filename=self._exec_groovyc_(fil_ename,magics)\n",
    "        fil_ename=class_filename\n",
    "        outpath=os.path.dirname(class_filename)\n",
    "        sf = os.path.basename(class_filename)\n",
    "        class_filename = sf.split(\".\")[0]\n",
    "        return_code=returncode\n",
    "\n",
    "        if returncode!=0:return True,self.get_retinfo(),magics, code,fil_ename,class_filename,outpath,retstr\n",
    "        # Generate executable file :endode,fil_ename,class_filename,outpath,retstr\n",
    "        return  bcancel_exec,self.get_retinfo(),magics, code,fil_ename,class_filename,outpath,retstr"
   ]
  },
  {
   "cell_type": "code",
   "execution_count": 23,
   "id": "86262eba",
   "metadata": {},
   "outputs": [
    {
     "data": {
      "text/plain": [
       "[MyPython] Info:file /root/Jupyter/Myjupyter-kernel/kernel/Groovy/src/do_gv_create_codefile.py created successfully\n"
      ]
     },
     "metadata": {
      "text/plain": {}
     },
     "output_type": "display_data"
    }
   ],
   "source": [
    "##do_create_codefile\n",
    "##%overwritefile\n",
    "##%file:src/do_gv_create_codefile.py\n",
    "##%noruncode\n",
    "    def do_create_codefile(self,magics,code, silent, store_history=True,\n",
    "                    user_expressions=None, allow_stdin=True):\n",
    "        return_code=0\n",
    "        fil_ename=''\n",
    "        bcancel_exec=False\n",
    "        retinfo=self.get_retinfo()\n",
    "        retstr=''\n",
    "        class_filename=''\n",
    "        outpath=''\n",
    "\n",
    "        source_file=self.create_codetemp_file(magics,code,suffix='.groovy')\n",
    "        newsrcfilename=source_file.name\n",
    "        fil_ename=newsrcfilename\n",
    "        return_code=True\n",
    "            \n",
    "        ############# only run gcc，no not run executable file\n",
    "        if len(self.addkey2dict(magics,'onlyrungcc'))>0:\n",
    "            self._log(\"only run gcc \\n\")\n",
    "        return  bcancel_exec,self.get_retinfo(),magics, code,fil_ename,class_filename,outpath,retstr"
   ]
  },
  {
   "cell_type": "code",
   "execution_count": 24,
   "id": "ed81cf49",
   "metadata": {},
   "outputs": [
    {
     "data": {
      "text/plain": [
       "[MyPython] Info:file /root/Jupyter/Myjupyter-kernel/kernel/Groovy/src/do_gv_preexecute.py created successfully\n"
      ]
     },
     "metadata": {
      "text/plain": {}
     },
     "output_type": "display_data"
    }
   ],
   "source": [
    "##do_preexecute\n",
    "##%overwritefile\n",
    "##%file:src/do_gv_preexecute.py\n",
    "##%noruncode\n",
    "    def do_preexecute(self,code,magics, silent, store_history=True,\n",
    "                user_expressions=None, allow_stdin=False):\n",
    "        bcancel_exec=False\n",
    "        retinfo=self.get_retinfo()\n",
    "        ##扫描代码\n",
    "        #############send replcmd's command\n",
    "        if magics['runmode']=='repl':\n",
    "            if hasattr(self, 'replcmdwrapper'):\n",
    "                if self.replcmdwrapper :\n",
    "                    bcancel_exec=True\n",
    "                    retinfo= self.repl_sendcmd(code, silent, store_history,\n",
    "                        user_expressions, allow_stdin,magics)\n",
    "                    return bcancel_exec,retinfo,magics, code\n",
    "\n",
    "        return bcancel_exec,retinfo,magics, code"
   ]
  },
  {
   "cell_type": "code",
   "execution_count": 25,
   "id": "1272b946",
   "metadata": {},
   "outputs": [
    {
     "data": {
      "text/plain": [
       "[MyPython] Info:file /root/Jupyter/Myjupyter-kernel/kernel/Groovy/../../../jupyter-MyGroovy-kernel/jupyter_MyGroovy_kernel/kernel.py created successfully\n"
      ]
     },
     "metadata": {
      "text/plain": {}
     },
     "output_type": "display_data"
    }
   ],
   "source": [
    "## new kernel.py\n",
    "##%overwritefile\n",
    "##%file:../../../jupyter-MyGroovy-kernel/jupyter_MyGroovy_kernel/kernel.py\n",
    "###%file:groovy_kernel.py\n",
    "##%noruncode\n",
    "#\n",
    "#   MyGroovy Jupyter Kernel \n",
    "#   generated by MyPython\n",
    "#\n",
    "##%include:../../src/head.py\n",
    "##%include:../../src/common.py\n",
    "##%include:../../src/Mykernel.py\n",
    "class GroovyKernel(MyKernel):\n",
    "    implementation = 'jupyter-MyGroovy-kernel'\n",
    "    implementation_version = '1.0'\n",
    "    language = 'Groovy'\n",
    "    language_version = 'C11'\n",
    "    language_info = {'name': 'text/x-csrc',\n",
    "                     'mimetype': 'text/x-csrc',\n",
    "                     'file_extension': '.groovy'}\n",
    "    runfiletype='class'\n",
    "    banner = \"MyGroovy kernel.\\n\" \\\n",
    "             \"Uses Groovy, compiles in C11, and creates source code files and executables in temporary folder.\\n\"\n",
    "\n",
    "    main_head = \"#include <stdio.h>\\n\" \\\n",
    "            \"#include <math.h>\\n\" \\\n",
    "            \"int main(int argc, char* argv[], char** env){\\n\"\n",
    "\n",
    "    main_foot = \"\\nreturn 0;\\n}\"\n",
    "\n",
    "##//%include:src/comm_attribute.py\n",
    "\n",
    "    def __init__(self, *args, **kwargs):\n",
    "        super(GroovyKernel, self).__init__(*args, **kwargs)\n",
    "        self.kernelinfo='[MyC Kernel]'\n",
    "        self._allow_stdin = True\n",
    "        self.readOnlyFileSystem = False\n",
    "        self.bufferedOutput = True\n",
    "        self.linkMaths = True # always link math library\n",
    "        self.wAll = True # show all warnings by default\n",
    "        self.wError = False # but keep comipiling for warnings\n",
    "        \n",
    "#################\n",
    "##%include:src/compile_with_groovyc.py\n",
    "##%include:src/g_exec_groovyc_.py\n",
    "##%include:src/do_gv_runcode.py\n",
    "##%include:src/do_gv_compilecode.py\n",
    "##%include:src/do_gv_create_codefile.py\n",
    "##%include:src/do_gv_preexecute.py\n",
    "\n",
    "\n"
   ]
  },
  {
   "cell_type": "code",
   "execution_count": null,
   "id": "cc4cbce4",
   "metadata": {},
   "outputs": [],
   "source": []
  }
 ],
 "metadata": {
  "interpreter": {
   "hash": "31f2aee4e71d21fbe5cf8b01ff0e069b9275f58929596ceb00d14d90e3e16cd6"
  },
  "kernelspec": {
   "display_name": "MyPython",
   "language": "Python",
   "name": "mypython"
  },
  "language_info": {
   "codemirror_mode": {
    "name": "ipython",
    "version": 3
   },
   "file_extension": ".py",
   "mimetype": "text/x-python",
   "name": "python",
   "nbconvert_exporter": "python",
   "pygments_lexer": "ipython3",
   "version": "3.9.7"
  }
 },
 "nbformat": 4,
 "nbformat_minor": 5
}
