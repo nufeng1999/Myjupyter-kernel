{
 "cells": [
  {
   "cell_type": "code",
   "execution_count": 4,
   "metadata": {},
   "outputs": [
    {
     "name": "stdout",
     "output_type": "stream",
     "text": [
      "[MyPython] Info:The process :h:\\Jupyter\\Myjupyter-kernel\\kernel\\Vala\\tmptpispml3.py\n",
      "[MyPython] Info:python3 h:\\Jupyter\\Myjupyter-kernel\\kernel\\Vala\\tmptpispml3.py \n"
     ]
    },
    {
     "data": {
      "text/plain": [
       "----\r\n"
      ]
     },
     "metadata": {
      "text/plain": {}
     },
     "output_type": "display_data"
    },
    {
     "data": {
      "text/plain": [
       "\r\n"
      ]
     },
     "metadata": {
      "text/plain": {}
     },
     "output_type": "display_data"
    },
    {
     "name": "stdout",
     "output_type": "stream",
     "text": [
      "[MyPython] Info:The process end:16020\n"
     ]
    }
   ],
   "source": [
    "print(\"----\\n\")"
   ]
  },
  {
   "cell_type": "code",
   "execution_count": 5,
   "id": "790ed872",
   "metadata": {},
   "outputs": [
    {
     "name": "stdout",
     "output_type": "stream",
     "text": [
      "[MyPython] Info:file h:\\Jupyter\\Myjupyter-kernel\\kernel\\Vala\\src/compile_with_valac.py created successfully\n"
     ]
    }
   ],
   "source": [
    "##%overwritefile\n",
    "##%file:src/compile_with_valac.py\n",
    "##%noruncode\n",
    "    def compile_with_valac(self, source_filename, binary_filename, cflags=None, ldflags=None,env=None):\n",
    "        # cflags = ['-std=c89', '-pedantic', '-fPIC', '-shared', '-rdynamic'] + cflags\n",
    "        # cflags = ['-std=c99', '-Wdeclaration-after-statement', '-Wvla', '-fPIC', '-shared', '-rdynamic'] + cflags\n",
    "        # cflags = ['-std=iso9899:199409', '-pedantic', '-fPIC', '-shared', '-rdynamic'] + cflags\n",
    "        # cflags = ['-std=c99', '-pedantic', '-fPIC', '-shared', '-rdynamic'] + cflags\n",
    "        # cflags = ['-std=c11', '-pedantic', '-fPIC', '-shared', '-rdynamic'] + cflags\n",
    "        outfile=binary_filename\n",
    "        # if self.linkMaths:\n",
    "        #     cflags = cflags + ['-lm']\n",
    "        # if self.wError:\n",
    "        #     cflags = cflags + ['-Werror']\n",
    "        # if self.wAll:\n",
    "        #     cflags = cflags + ['-Wall']\n",
    "        # if self.readOnlyFileSystem:\n",
    "            # cflags = ['-DREAD_ONLY_FILE_SYSTEM'] + cflags\n",
    "        # if self.bufferedOutput:\n",
    "            # cflags = ['-DBUFFERED_OUTPUT'] + cflags\n",
    "\n",
    "        for s in cflags:\n",
    "            if s.startswith('-o'):\n",
    "                if(len(s)>2):\n",
    "                    outfile=s[2:]\n",
    "                else:\n",
    "                    outfile=cflags[cflags.index('-o')+1]\n",
    "                    if outfile.startswith('-'):\n",
    "                        outfile=binary_filename\n",
    "                del cflags[cflags.index('--outFile')+1]\n",
    "                del cflags[cflags.index('--outFile')]\n",
    "                    \n",
    "            binary_filename=outfile\n",
    "        args = ['valac', source_filename] + ['-o', binary_filename]+ cflags  + ldflags\n",
    "        self._log(''.join((' '+ str(s) for s in args))+\"\\n\")\n",
    "        return self.create_jupyter_subprocess(args,env=env,magics=magics),binary_filename,args\n"
   ]
  },
  {
   "cell_type": "code",
   "execution_count": 4,
   "id": "33551652",
   "metadata": {},
   "outputs": [
    {
     "name": "stdout",
     "output_type": "stream",
     "text": [
      "[MyPython] Info:file h:\\Jupyter\\Myjupyter-kernel\\kernel\\Vala\\src/c_exec_valac_.py created successfully\n"
     ]
    }
   ],
   "source": [
    "##%overwritefile\n",
    "##%file:src/c_exec_valac_.py\n",
    "##%noruncode\n",
    "    def _exec_valac_(self,source_filename,magics):\n",
    "        self._write_to_stdout('Generating executable file\\n')\n",
    "        with self.new_temp_file(suffix='.out') as binary_file:\n",
    "            p,outfile,gcccmd = self.compile_with_valac(\n",
    "                source_filename, \n",
    "                binary_file.name,\n",
    "                self.get_magicsSvalue(magics,'cflags'),\n",
    "                self.get_magicsSvalue(magics,'ldflags'),\n",
    "                self.get_magicsbykey(magics,'env')\n",
    "                )\n",
    "            returncode=p.wait_end(magics)\n",
    "            p.write_contents()\n",
    "            binary_file.name=os.path.join(os.path.abspath(''),outfile)\n",
    "            if returncode != 0:  # Compilation failed\n",
    "                self._log(''.join((str(s) for s in gcccmd))+\"\\n\",3)\n",
    "                self._log(\"valac exited with code {}, the executable will not be executed\".format(returncode),3)\n",
    "\n",
    "                # delete source files before exit\n",
    "                os.remove(source_filename)\n",
    "                os.remove(binary_file.name)\n",
    "        return p.returncode,binary_file.name\n"
   ]
  },
  {
   "cell_type": "code",
   "execution_count": null,
   "metadata": {},
   "outputs": [],
   "source": []
  }
 ],
 "metadata": {
  "interpreter": {
   "hash": "75596ead963b1eeb4cf3ce4e8a9c4a864202dd5fd95b19dff9cbdac9756331e2"
  },
  "kernelspec": {
   "display_name": "MyPython",
   "language": "Python",
   "name": "mypython"
  },
  "language_info": {
   "codemirror_mode": {
    "name": "ipython",
    "version": 3
   },
   "file_extension": ".py",
   "mimetype": "text/x-python",
   "name": "python",
   "nbconvert_exporter": "python",
   "pygments_lexer": "ipython3",
   "version": "3.9.6"
  },
  "orig_nbformat": 4
 },
 "nbformat": 4,
 "nbformat_minor": 2
}
