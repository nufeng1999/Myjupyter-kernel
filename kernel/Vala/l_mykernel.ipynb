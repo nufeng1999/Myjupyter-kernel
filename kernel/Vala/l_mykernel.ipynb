{
 "cells": [
  {
   "cell_type": "code",
   "execution_count": 4,
   "id": "5d40cafc",
   "metadata": {},
   "outputs": [
    {
     "name": "stdout",
     "output_type": "stream",
     "text": [
      "[MyPython] Info:src/do_vala_runcode.py\n",
      "[MyPython] Info:file h:\\Jupyter\\Myjupyter-kernel\\kernel\\Vala\\src/do_vala_runcode.py created successfully\n"
     ]
    }
   ],
   "source": [
    "##do_runcode\n",
    "##%overwritefile\n",
    "##%file:src/do_vala_runcode.py\n",
    "##%noruncode\n",
    "    def do_runcode(self,return_code,fil_ename,magics,code, silent, store_history=True,\n",
    "                    user_expressions=None, allow_stdin=True):\n",
    "        return_code=return_code\n",
    "        fil_ename=fil_ename\n",
    "        bcancel_exec=False\n",
    "        retinfo=self.mymagics.get_retinfo()\n",
    "        retstr=''\n",
    "        ##代码运行前\n",
    "        ################# repl mode run code files\n",
    "        #FIXME:\n",
    "        if magics['_st']['runmode']=='repl':\n",
    "            self.mymagics._start_replprg(fil_ename,magics['_st']['args'],magics)\n",
    "\n",
    "            return_code=self.mymagics.replwrapper.child.status\n",
    "            bcancel_exec,retstr=self.mymagics.raise_plugin(code,magics,return_code,fil_ename,3,2)\n",
    "            return bcancel_exec,retinfo,magics, code,fil_ename,retstr\n",
    "        ############################################\n",
    "\n",
    "    ############################################\n",
    "        p=None\n",
    "        #################dynamically load and execute code\n",
    "        #FIXME:\n",
    "        \n",
    "        if len(magics['dlrun'])>0:\n",
    "            p = self.mymagics.create_jupyter_subprocess([self.master_path, fil_ename] + magics['_st']['args'],env=self.addkey2dict(magics,'env'))\n",
    "        #################\n",
    "        else:\n",
    "            p = self.mymagics.create_jupyter_subprocess([fil_ename] + magics['_st']['args'],env=self.addkey2dict(magics,'env'),magics=magics)\n",
    "        self.mymagics.subprocess=p\n",
    "        self.mymagics.g_rtsps[str(p.pid)]=p\n",
    "        return_code=p.returncode\n",
    "        ##代码启动后\n",
    "        bcancel_exec,retstr=self.mymagics.raise_plugin(code,magics,return_code,fil_ename,3,2)\n",
    "        # if bcancel_exec:return bcancel_exec,retinfo,magics, code,fil_ename,retstr\n",
    "        \n",
    "        if len(self.mymagics.addkey2dict(magics,'showpid'))>0:\n",
    "            self.mymagics._write_to_stdout(\"The process PID:\"+str(p.pid)+\"\\n\")\n",
    "        p.wait_end(magics)\n",
    "        return_code=p.returncode\n",
    "        ##代码运行结束\n",
    "        # now remove the files we have just created\n",
    "        # if(os.path.exists(source_file.name)):\n",
    "            # os.remove(source_file.name)\n",
    "        # if(os.path.exists(binary_filename)):\n",
    "            # os.remove(binary_filename)\n",
    "\n",
    "        # if p.returncode != 0:\n",
    "            # self._write_to_stderr(\"[C kernel] Executable exited with code {}\".format(p.returncode))\n",
    "        return bcancel_exec,retinfo,magics, code,fil_ename,retstr"
   ]
  },
  {
   "cell_type": "code",
   "execution_count": 5,
   "id": "e64adf6a",
   "metadata": {},
   "outputs": [
    {
     "name": "stdout",
     "output_type": "stream",
     "text": [
      "[MyPython] Info:src/do_vala_compilecode.py\n",
      "[MyPython] Info:file h:\\Jupyter\\Myjupyter-kernel\\kernel\\Vala\\src/do_vala_compilecode.py created successfully\n"
     ]
    }
   ],
   "source": [
    "##do_compile_code\n",
    "##%overwritefile\n",
    "##%file:src/do_vala_compilecode.py\n",
    "##%noruncode\n",
    "    def do_compile_code(self,return_code,fil_ename,magics,code, silent, store_history=True,\n",
    "                    user_expressions=None, allow_stdin=True):\n",
    "        return_code=0\n",
    "        fil_ename=fil_ename\n",
    "        sourcefilename=fil_ename\n",
    "        bcancel_exec=False\n",
    "        retinfo=self.mymagics.get_retinfo()\n",
    "        retstr=''\n",
    "\n",
    "        returncode,binary_filename=self._exec_valac_(fil_ename,magics)\n",
    "        fil_ename=binary_filename\n",
    "        return_code=returncode\n",
    "        \n",
    "        if returncode!=0:return  True,retinfo, code,fil_ename,retstr\n",
    "\n",
    "        return bcancel_exec,retinfo,magics, code,fil_ename,retstr"
   ]
  },
  {
   "cell_type": "code",
   "execution_count": 6,
   "id": "bd9bb362",
   "metadata": {},
   "outputs": [
    {
     "name": "stdout",
     "output_type": "stream",
     "text": [
      "[MyPython] Info:src/do_vala_create_codefile.py\n",
      "[MyPython] Info:file h:\\Jupyter\\Myjupyter-kernel\\kernel\\Vala\\src/do_vala_create_codefile.py created successfully\n"
     ]
    }
   ],
   "source": [
    "##do_create_codefile\n",
    "##%overwritefile\n",
    "##%file:src/do_vala_create_codefile.py\n",
    "##%noruncode\n",
    "    def do_create_codefile(self,magics,code, silent, store_history=True,\n",
    "                    user_expressions=None, allow_stdin=True):\n",
    "        return_code=0\n",
    "        fil_ename=''\n",
    "        sourcefilename=''\n",
    "        bcancel_exec=False\n",
    "        retinfo=self.mymagics.get_retinfo()\n",
    "        retstr=''\n",
    "\n",
    "        source_file=self.mymagics.create_codetemp_file(magics,code,suffix='.vala')\n",
    "        sourcefilename=source_file.name \n",
    "        newsrcfilename=source_file.name\n",
    "        fil_ename=newsrcfilename\n",
    "        return_code=True\n",
    "\n",
    "        return  bcancel_exec,self.mymagics.get_retinfo(),magics, code,fil_ename,retstr"
   ]
  },
  {
   "cell_type": "code",
   "execution_count": 7,
   "id": "ebdfe787",
   "metadata": {},
   "outputs": [
    {
     "name": "stdout",
     "output_type": "stream",
     "text": [
      "[MyPython] Info:src/do_vala_preexecute.py\n",
      "[MyPython] Info:file h:\\Jupyter\\Myjupyter-kernel\\kernel\\Vala\\src/do_vala_preexecute.py created successfully\n"
     ]
    }
   ],
   "source": [
    "##do_preexecute\n",
    "##%overwritefile\n",
    "##%file:src/do_vala_preexecute.py\n",
    "##%noruncode\n",
    "    def do_preexecute(self,code,magics, silent, store_history=True,\n",
    "                user_expressions=None, allow_stdin=False):\n",
    "        bcancel_exec=False\n",
    "        retinfo=self.mymagics.get_retinfo()\n",
    "        ############# run gdb and send command begin\n",
    "        if len(magics['rungdb'])>0:\n",
    "            bcancel_exec=True\n",
    "            retinfo= self.mymagics.replgdb_sendcmd(code,silent, store_history,\n",
    "                user_expressions, allow_stdin)\n",
    "            return bcancel_exec,retinfo,magics, code\n",
    "        ############# run gdb and send command\n",
    "        #############send replcmd's command\n",
    "        if magics['_st']['runmode']=='repl':\n",
    "            if hasattr(self, 'replcmdwrapper'):\n",
    "                if self.replcmdwrapper :\n",
    "                    bcancel_exec=True\n",
    "                    retinfo= self.mymagics.repl_sendcmd(code, silent, store_history,\n",
    "                        user_expressions, allow_stdin,magics)\n",
    "                    return bcancel_exec,retinfo,magics, code\n",
    "        if len(self.mymagics.addkey2dict(magics,'noruncode'))<1 :\n",
    "            magics, code = self.mymagics._add_main(magics, code)\n",
    "        return bcancel_exec,retinfo,magics, code"
   ]
  },
  {
   "cell_type": "code",
   "execution_count": 4,
   "id": "1272b946",
   "metadata": {},
   "outputs": [
    {
     "name": "stdout",
     "output_type": "stream",
     "text": [
      "[MyPython] Info:../../../jupyter-MyVala-kernel/jupyter_MyVala_kernel/kernel.py\n",
      "[MyPython] Info:file h:\\Jupyter\\Myjupyter-kernel\\kernel\\Vala\\../../../jupyter-MyVala-kernel/jupyter_MyVala_kernel/kernel.py created successfully\n"
     ]
    }
   ],
   "source": [
    "## new kernel.py\n",
    "##%overwritefile\n",
    "##%file:../../../jupyter-MyVala-kernel/jupyter_MyVala_kernel/kernel.py\n",
    "###%file:c_kernel.py\n",
    "##%noruncode\n",
    "#\n",
    "#   MyVala Jupyter Kernel \n",
    "#   generated by MyPython\n",
    "#\n",
    "##%include:../../src/head.py\n",
    "from .MyKernel import MyKernel\n",
    "\n",
    "class MyValaKernel(MyKernel):\n",
    "    implementation = 'jupyter-MyVala-kernel'\n",
    "    implementation_version = '1.0'\n",
    "    language = 'Vala'\n",
    "    language_version = ''\n",
    "    language_info = {'name': 'text/vala',\n",
    "                     'mimetype': 'text/vala',\n",
    "                     'file_extension': '.vala'}\n",
    "    runfiletype='exe'\n",
    "    banner = \"vala kernel.\\n\" \\\n",
    "             \"Uses valac, compiles in vala, and creates source code files and executables in temporary folder.\\n\"\n",
    "\n",
    "    main_head = \"#include <stdio.h>\\n\" \\\n",
    "            \"#include <math.h>\\n\" \\\n",
    "            \"int main(int argc, char* argv[], char** env){\\n\"\n",
    "\n",
    "    main_foot = \"\\nreturn 0;\\n}\"\n",
    "\n",
    "\n",
    "\n",
    "    def __init__(self, *args, **kwargs):\n",
    "        super(MyValaKernel, self).__init__(*args, **kwargs)\n",
    "        self.runfiletype='script'\n",
    "        self.kernelinfo=\"[MyValaKernel{0}]\".format(time.strftime(\"%H%M%S\", time.localtime()))\n",
    "        \n",
    "#################\n",
    "##%include:src/compile_with_valac.py\n",
    "##%include:src/c_exec_valac_.py\n",
    "##%include:src/c_start_gdb.py\n",
    "##%include:src/c_do_replexecutegdb.py\n",
    "##%include:src/c_replgdb_sendcmd.py\n",
    "\n",
    "##%include:src/do_vala_runcode.py\n",
    "##%include:src/do_vala_compilecode.py\n",
    "##%include:src/do_vala_create_codefile.py\n",
    "##%include:src/do_vala_preexecute.py\n",
    "\n"
   ]
  },
  {
   "cell_type": "code",
   "execution_count": null,
   "id": "3c4fc2ef",
   "metadata": {},
   "outputs": [],
   "source": []
  }
 ],
 "metadata": {
  "interpreter": {
   "hash": "916dbcbb3f70747c44a77c7bcd40155683ae19c65e1c03b4aa3499c5328201f1"
  },
  "kernelspec": {
   "display_name": "MyPython",
   "language": "Python",
   "name": "mypython"
  },
  "language_info": {
   "codemirror_mode": {
    "name": "ipython",
    "version": 3
   },
   "file_extension": ".py",
   "mimetype": "text/x-python",
   "name": "python",
   "nbconvert_exporter": "python",
   "pygments_lexer": "ipython3",
   "version": "3.9.6"
  }
 },
 "nbformat": 4,
 "nbformat_minor": 5
}
