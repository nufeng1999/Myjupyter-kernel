{
 "cells": [
  {
   "cell_type": "code",
   "execution_count": 4,
   "id": "de5955fb",
   "metadata": {},
   "outputs": [
    {
     "name": "stdout",
     "output_type": "stream",
     "text": [
      "[MyPython] Info:file h:\\Jupyter\\Myjupyter-kernel\\kernel\\VBScript\\src/do_getrealpath.py created successfully\n"
     ]
    }
   ],
   "source": [
    "##do_getrealpath\n",
    "##%overwritefile\n",
    "##%file:src/do_getrealpath.py\n",
    "##%noruncode\n",
    "##u=os.popen('bash -c \"uname\"')\n",
    "    def getrealpath(self,filename):\n",
    "        u=''\n",
    "        realpath=filename\n",
    "        try:\n",
    "            if self.subsys.startswith('MINGW64') or self.subsys.startswith('CYGWIN'):\n",
    "                r=os.popen('bash -c \"cygpath '+filename+'\"')\n",
    "                realpath=r.read()\n",
    "        except Exception as e:\n",
    "            self._logln(\"\"+str(e),3)\n",
    "        return realpath\n",
    "\n"
   ]
  },
  {
   "cell_type": "code",
   "execution_count": 5,
   "id": "2ef90a66",
   "metadata": {},
   "outputs": [
    {
     "name": "stdout",
     "output_type": "stream",
     "text": [
      "[MyPython] Info:file h:\\Jupyter\\Myjupyter-kernel\\kernel\\VBScript\\src/do_vbscript_runcode.py created successfully\n"
     ]
    }
   ],
   "source": [
    "##do_runcode\n",
    "##%overwritefile\n",
    "##%file:src/do_vbscript_runcode.py\n",
    "##%noruncode\n",
    "    def do_runcode(self,return_code,fil_ename,magics,code, silent, store_history=True,\n",
    "                    user_expressions=None, allow_stdin=True):\n",
    "        return_code=return_code\n",
    "        fil_ename=fil_ename\n",
    "        bcancel_exec=False\n",
    "        retinfo=self.get_retinfo()\n",
    "        retstr=''\n",
    "\n",
    "        ##代码运行前\n",
    "        # bcancel_exec,retstr=self.raise_plugin(code,magics,return_code,fil_ename,3,1)\n",
    "        # if bcancel_exec:return bcancel_exec,retinfo,magics, code,fil_ename,retstr\n",
    "        self._logln(\"The process :\"+fil_ename)\n",
    "        fil_ename=self.getrealpath(fil_ename)\n",
    "        runprgargs=self.get_magicsSvalue(magics,'runprgargs')\n",
    "        cmds=['cscript',fil_ename]\n",
    "        if (len(runprgargs)>0):\n",
    "            cmds=['cscript']+runprgargs+[fil_ename]\n",
    "\n",
    "        p = self.create_jupyter_subprocess(cmds+ magics['_st']['args'],cwd=None,shell=False,env=self.addkey2dict(magics,'env'),magics=magics)\n",
    "        self.g_rtsps[str(p.pid)]=p\n",
    "        return_code=p.returncode\n",
    "        ##代码启动后\n",
    "        # bcancel_exec,retstr=self.raise_plugin(code,magics,return_code,fil_ename,3,2)\n",
    "        # if bcancel_exec:return bcancel_exec,retinfo,magics, code,fil_ename,retstr\n",
    "         \n",
    "        if magics!=None and len(self.addkey2dict(magics,'showpid'))>0:\n",
    "            self._write_to_stdout(\"The process PID:\"+str(p.pid)+\"\\n\")\n",
    "        return_code=p.wait_end(magics)\n",
    "        ##代码运行结束\n",
    "        # self.cleanup_files()\n",
    "        if p.returncode != 0:\n",
    "            self._log(\"Executable exited with code {}\".format(p.returncode),2)\n",
    "        return bcancel_exec,retinfo,magics, code,fil_ename,retstr"
   ]
  },
  {
   "cell_type": "code",
   "execution_count": 6,
   "id": "0e892e4c",
   "metadata": {},
   "outputs": [
    {
     "name": "stdout",
     "output_type": "stream",
     "text": [
      "[MyPython] Info:file h:\\Jupyter\\Myjupyter-kernel\\kernel\\VBScript\\src/do_vbscript_compilecode.py created successfully\n"
     ]
    }
   ],
   "source": [
    "##do_compile_code\n",
    "##%overwritefile\n",
    "##%file:src/do_vbscript_compilecode.py\n",
    "##%noruncode\n",
    "    def do_compile_code(self,return_code,fil_ename,magics,code, silent, store_history=True,\n",
    "                    user_expressions=None, allow_stdin=True):\n",
    "        return_code=0\n",
    "        fil_ename=fil_ename\n",
    "        sourcefilename=fil_ename\n",
    "        bcancel_exec=False\n",
    "        retinfo=self.get_retinfo()\n",
    "        retstr=''\n",
    "\n",
    "        return bcancel_exec,retinfo,magics, code,fil_ename,retstr"
   ]
  },
  {
   "cell_type": "code",
   "execution_count": 7,
   "id": "f44df5cb",
   "metadata": {},
   "outputs": [
    {
     "name": "stdout",
     "output_type": "stream",
     "text": [
      "[MyPython] Info:file h:\\Jupyter\\Myjupyter-kernel\\kernel\\VBScript\\src/do_vbscript_create_codefile.py created successfully\n"
     ]
    }
   ],
   "source": [
    "##do_vbscript_create_codefile\n",
    "##%overwritefile\n",
    "##%file:src/do_vbscript_create_codefile.py\n",
    "##%noruncode\n",
    "    def do_create_codefile(self,magics,code, silent, store_history=True,\n",
    "                    user_expressions=None, allow_stdin=True):\n",
    "        return_code=0\n",
    "        fil_ename=''\n",
    "        bcancel_exec=False\n",
    "        retinfo=self.get_retinfo()\n",
    "        retstr=''\n",
    "        \n",
    "        source_file=self.create_codetemp_file(magics,code,suffix='.vbs')\n",
    "        newsrcfilename=source_file.name\n",
    "        fil_ename=newsrcfilename\n",
    "        return_code=True\n",
    "        \n",
    "        return bcancel_exec,retinfo,magics, code,fil_ename,retstr"
   ]
  },
  {
   "cell_type": "code",
   "execution_count": 8,
   "id": "112d64e4",
   "metadata": {},
   "outputs": [
    {
     "name": "stdout",
     "output_type": "stream",
     "text": [
      "[MyPython] Info:file h:\\Jupyter\\Myjupyter-kernel\\kernel\\VBScript\\src/do_vbscript_preexecute.py created successfully\n"
     ]
    }
   ],
   "source": [
    "##do_vbscript_preexecute\n",
    "##%overwritefile\n",
    "##%file:src/do_vbscript_preexecute.py\n",
    "##%noruncode\n",
    "    def do_preexecute(self,code, magics,silent, store_history=True,\n",
    "                user_expressions=None, allow_stdin=False):\n",
    "        bcancel_exec=False\n",
    "        retinfo=self.get_retinfo()\n",
    "\n",
    "\n",
    "        return_code=0\n",
    "        fil_ename=''\n",
    "        return bcancel_exec,retinfo,magics, code"
   ]
  },
  {
   "cell_type": "code",
   "execution_count": 9,
   "id": "cf5bc10a",
   "metadata": {},
   "outputs": [
    {
     "name": "stdout",
     "output_type": "stream",
     "text": [
      "[MyPython] Info:file h:\\Jupyter\\Myjupyter-kernel\\kernel\\VBScript\\../../../jupyter-MyVBScript-kernel/jupyter_MyVBScript_kernel/kernel.py created successfully\n"
     ]
    }
   ],
   "source": [
    "## new kernel.py\n",
    "##%overwritefile\n",
    "##%file:../../../jupyter-MyVBScript-kernel/jupyter_MyVBScript_kernel/kernel.py\n",
    "###%file:vbs_kernel.py\n",
    "##%noruncode\n",
    "#\n",
    "#   MyVBScript Jupyter Kernel\n",
    "#   generated by MyPython\n",
    "#\n",
    "##%include:../../src/head.py\n",
    "##%include:../../src/common.py\n",
    "##%include:../../src/Mykernel.py\n",
    "class VBScriptKernel(MyKernel):\n",
    "    implementation = 'jupyter_MyVBScript_kernel'\n",
    "    implementation_version = '1.0'\n",
    "    language = 'VBScript'\n",
    "    language_version = ''\n",
    "    language_info = {'name': 'vbscript',\n",
    "                     'mimetype': 'text/x-vbscript',\n",
    "                     'file_extension': '.vbs'}\n",
    "    runfiletype='script'\n",
    "    banner = \"vbscript kernel.\\n\" \\\n",
    "             \"Uses vbscript, creates source code files and executables in temporary folder.\\n\"\n",
    "\n",
    "    main_head = \"\\n\" \\\n",
    "            \"\\n\" \\\n",
    "            \"int main(List<String> arguments){\\n\"\n",
    "\n",
    "    main_foot = \"\\nreturn 0;\\n}\"\n",
    "    \n",
    "##//%include:../../src/comm_attribute.py\n",
    "\n",
    "    def __init__(self, *args, **kwargs):\n",
    "        super(VBScriptKernel, self).__init__(*args, **kwargs)\n",
    "        self.kernelinfo='[MyVBS Kernel]'\n",
    "        self._allow_stdin = True\n",
    "        self.readOnlyFileSystem = False\n",
    "        self.bufferedOutput = True\n",
    "        self.linkMaths = True # always link math library\n",
    "        self.wAll = True # show all warnings by default\n",
    "        self.wError = False # but keep comipiling for warnings\n",
    "#################\n",
    "##%include:src/do_getrealpath.py\n",
    "##%include:src/do_vbscript_runcode.py\n",
    "##%include:src/do_vbscript_compilecode.py\n",
    "##%include:src/do_vbscript_create_codefile.py\n",
    "##%include:src/do_vbscript_preexecute.py\n",
    "\n"
   ]
  },
  {
   "cell_type": "code",
   "execution_count": null,
   "id": "93ab4f00",
   "metadata": {},
   "outputs": [],
   "source": []
  }
 ],
 "metadata": {
  "interpreter": {
   "hash": "22800efcd4c49881911a0b2d8a79797207328a6a642f3a84c2d705a7929860d9"
  },
  "kernelspec": {
   "display_name": "MyPython",
   "language": "Python",
   "name": "mypython"
  },
  "language_info": {
   "codemirror_mode": {
    "name": "ipython",
    "version": 3
   },
   "file_extension": ".py",
   "mimetype": "text/x-python",
   "name": "python",
   "nbconvert_exporter": "python",
   "pygments_lexer": "ipython3",
   "version": "3.9.6"
  }
 },
 "nbformat": 4,
 "nbformat_minor": 5
}
