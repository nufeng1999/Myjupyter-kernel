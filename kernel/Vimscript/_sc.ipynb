{
 "cells": [
  {
   "cell_type": "code",
   "execution_count": 4,
   "metadata": {},
   "outputs": [
    {
     "name": "stdout",
     "output_type": "stream",
     "text": [
      "[MyPython] Info:file h:\\Jupyter\\Myjupyter-kernel\\kernel\\Vimscript\\src/compile_out_file.py created successfully\n"
     ]
    }
   ],
   "source": [
    "##%overwritefile\n",
    "##%file:src/compile_out_file.py\n",
    "##%noruncode\n",
    "    def getCompout_filename(self,cflags,outfileflag,defoutfile):\n",
    "        outfile=''\n",
    "        binary_filename=defoutfile\n",
    "        index=0\n",
    "        for s in cflags:\n",
    "            if s.startswith(outfileflag):\n",
    "                if(len(s)>len(outfileflag)):\n",
    "                    outfile=s[len(outfileflag):]\n",
    "                    del cflags[index]\n",
    "                else:\n",
    "                    outfile=cflags[cflags.index(outfileflag)+1]\n",
    "                    if outfile.startswith('-'):\n",
    "                        outfile=binary_filename\n",
    "                    del cflags[cflags.index(outfileflag)+1]\n",
    "                    del cflags[cflags.index(outfileflag)]\n",
    "            binary_filename=outfile\n",
    "            index+=1\n",
    "        return binary_filename\n"
   ]
  },
  {
   "cell_type": "code",
   "execution_count": 5,
   "id": "790ed872",
   "metadata": {},
   "outputs": [
    {
     "name": "stdout",
     "output_type": "stream",
     "text": [
      "[MyPython] Info:file h:\\Jupyter\\Myjupyter-kernel\\kernel\\Vimscript\\src/compile_with_sc.py created successfully\n"
     ]
    }
   ],
   "source": [
    "##%overwritefile\n",
    "##%file:src/compile_with_sc.py\n",
    "##%noruncode\n",
    "    def compile_with_sc(self, source_filename, binary_filename, cflags=None, ldflags=None,env=None,magics=None):\n",
    "        outfile=binary_filename\n",
    "        orig_cflags=cflags\n",
    "        orig_ldflags=ldflags\n",
    "        ccmd=[]\n",
    "        clargs=[]\n",
    "        crargs=[]\n",
    "        outfileflag=[]\n",
    "        oft=''\n",
    "        if len(self.kernel_info['compiler']['outfileflag'])>0:\n",
    "            oft=self.kernel_info['compiler']['outfileflag']\n",
    "            outfileflag=[oft]\n",
    "            binary_filename=self.getCompout_filename(cflags,oft,outfile)\n",
    "        args=[]\n",
    "        if magics!=None and len(self.addkey2dict(magics,'ccompiler'))>0:\n",
    "            ## use code line ccompiler lable\n",
    "            args = magics['ccompiler'] + orig_cflags +[source_filename] + orig_ldflags\n",
    "        else:\n",
    "            ## use kernel default compiler -> kernel_info['compiler']['cmd']\n",
    "            if len(self.kernel_info['compiler']['cmd'])>0:\n",
    "                ccmd+=[self.kernel_info['compiler']['cmd']]\n",
    "            if len(self.kernel_info['compiler']['clargs'])>0:\n",
    "                clargs+=self.kernel_info['compiler']['clargs']\n",
    "            if len(self.kernel_info['compiler']['crargs'])>0:\n",
    "                crargs+=self.kernel_info['compiler']['crargs']\n",
    "\n",
    "            args = ccmd+cflags+[source_filename] +clargs+outfileflag+ [binary_filename]+crargs+ ldflags\n",
    "        # self._log(''.join((' '+ str(s) for s in args))+\"\\n\")\n",
    "        return self.create_jupyter_subprocess(args,env=env,magics=magics),binary_filename,args\n"
   ]
  },
  {
   "cell_type": "code",
   "execution_count": 6,
   "id": "33551652",
   "metadata": {},
   "outputs": [
    {
     "name": "stdout",
     "output_type": "stream",
     "text": [
      "[MyPython] Info:file h:\\Jupyter\\Myjupyter-kernel\\kernel\\Vimscript\\src/c_exec_sc_.py created successfully\n"
     ]
    }
   ],
   "source": [
    "##%overwritefile\n",
    "##%file:src/c_exec_sc_.py\n",
    "##%noruncode\n",
    "    def _exec_sc_(self,source_filename,magics):\n",
    "        self._logln('Generating executable file')\n",
    "        with self.new_temp_file(suffix=self.kernel_info['execsuffix']) as binary_file:\n",
    "            magics['status']='compiling'\n",
    "            p,outfile,tsccmd = self.compile_with_sc(\n",
    "                source_filename, \n",
    "                binary_file.name,\n",
    "                self.get_magicsSvalue(magics,'cflags'),\n",
    "                self.get_magicsSvalue(magics,'ldflags'),\n",
    "                self.get_magicsbykey(magics,'env'),\n",
    "                magics=magics)\n",
    "            returncode=p.wait_end(magics)\n",
    "            p.write_contents()\n",
    "            magics['status']=''\n",
    "            binary_file.name=os.path.join(os.path.abspath(''),outfile)\n",
    "            if returncode != 0:  \n",
    "                ## Compilation failed\n",
    "                self._logln(' '.join((str(s) for s in tsccmd))+\"\\n\",3)\n",
    "                self._logln(\"compiler exited with code {}, the executable will not be executed\".format(returncode),3)\n",
    "                ## delete source files before exit\n",
    "                ## os.remove(source_filename)\n",
    "                os.remove(binary_file.name)\n",
    "        return p.returncode,binary_file.name\n"
   ]
  },
  {
   "cell_type": "code",
   "execution_count": null,
   "metadata": {},
   "outputs": [],
   "source": []
  }
 ],
 "metadata": {
  "interpreter": {
   "hash": "75596ead963b1eeb4cf3ce4e8a9c4a864202dd5fd95b19dff9cbdac9756331e2"
  },
  "kernelspec": {
   "display_name": "MyPython",
   "language": "Python",
   "name": "mypython"
  },
  "language_info": {
   "codemirror_mode": {
    "name": "ipython",
    "version": 3
   },
   "file_extension": ".py",
   "mimetype": "text/x-python",
   "name": "python",
   "nbconvert_exporter": "python",
   "pygments_lexer": "ipython3",
   "version": "3.9.6"
  },
  "orig_nbformat": 4
 },
 "nbformat": 4,
 "nbformat_minor": 2
}
