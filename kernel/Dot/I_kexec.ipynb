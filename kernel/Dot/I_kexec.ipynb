{
 "cells": [
  {
   "cell_type": "code",
   "execution_count": 5,
   "metadata": {},
   "outputs": [
    {
     "name": "stdout",
     "output_type": "stream",
     "text": [
      "[MyPythonKernel224824] Info:file h:\\Jupyter\\Myjupyter-kernel\\kernel\\Dot\\src/do_dot_runcode.py created successfully\n"
     ]
    }
   ],
   "source": [
    "## do_runcode\n",
    "##%overwritefile\n",
    "##%file:src/do_dot_runcode.py\n",
    "##%noruncode\n",
    "    def do_runcode(self,return_code,fil_ename,magics,code, silent, store_history=True,\n",
    "                    user_expressions=None, allow_stdin=True):\n",
    "        return_code=return_code\n",
    "        fil_ename=fil_ename\n",
    "        bcancel_exec=False\n",
    "        retinfo=self.mymagics.get_retinfo()\n",
    "        retstr=''\n",
    "\n",
    "        ## 代码运行前\n",
    "        ## 有解释器则使用解释器执行文件 fil_ename，否则直接执行文件 fil_ename\n",
    "        src = None\n",
    "        has_error = False\n",
    "        try:\n",
    "            src = Source(code)\n",
    "            png_src = src.pipe(format=\"png\")\n",
    "        except subprocess.CalledProcessError as _called_error:\n",
    "            has_error = True\n",
    "            error = _called_error.stderr\n",
    "        except Exception as e:\n",
    "            self.mymagics._logln(str(e),3)\n",
    "\n",
    "        if not has_error:\n",
    "            ## Note: JSON encoding requires a string, so after base64 encoding the data\n",
    "            ## we must decode the resulting bytes\n",
    "            data_string = base64.b64encode(png_src).decode(\"utf-8\")\n",
    "            width, height = imgsize.get_png_size(png_src)\n",
    "            stream_content = {\n",
    "                \"metadata\": {\"image/png\": {\"width\": width, \"height\": height}},\n",
    "                \"data\": {\"image/png\": data_string},\n",
    "            }\n",
    "\n",
    "            self.send_response(self.iopub_socket, \"display_data\", stream_content)\n",
    "        else:\n",
    "            self.mymagics._logln(error.decode(),3)\n",
    "        ## if p.returncode != 0:\n",
    "        ##     self.mymagics._log(\"Executable exited with code {}\".format(p.returncode),2)\n",
    "        return bcancel_exec,retinfo,magics, code,fil_ename,retstr"
   ]
  },
  {
   "cell_type": "code",
   "execution_count": 5,
   "metadata": {},
   "outputs": [
    {
     "name": "stdout",
     "output_type": "stream",
     "text": [
      "[MyPythonKernel220407] Info:file h:\\Jupyter\\Myjupyter-kernel\\kernel\\Dot\\src/do_dot_compilecode.py created successfully\n"
     ]
    }
   ],
   "source": [
    "## do_compile_code\n",
    "##%overwritefile\n",
    "##%file:src/do_dot_compilecode.py\n",
    "##%noruncode\n",
    "    def do_compile_code(self,return_code,fil_ename,magics,code, silent, store_history=True,\n",
    "                    user_expressions=None, allow_stdin=True):\n",
    "        bcancel_exec=False\n",
    "        retinfo=self.mymagics.get_retinfo()\n",
    "        retstr=''\n",
    "        binary_filename=fil_ename\n",
    "        # if len(self.kernel_info['compiler']['cmd'])>0:\n",
    "        #     ## 执行编译\n",
    "        #     returncode,binary_filename=self._exec_sc_(fil_ename,magics)\n",
    "        #     if returncode!=0:return  True,retinfo, code,fil_ename,retstr\n",
    "\n",
    "        return bcancel_exec,retinfo,magics, code,binary_filename,retstr"
   ]
  },
  {
   "cell_type": "code",
   "execution_count": 6,
   "metadata": {},
   "outputs": [
    {
     "name": "stdout",
     "output_type": "stream",
     "text": [
      "[MyPythonKernel220407] Info:file h:\\Jupyter\\Myjupyter-kernel\\kernel\\Dot\\src/do_dot_create_codefile.py created successfully\n"
     ]
    }
   ],
   "source": [
    "## do_dot_create_codefile\n",
    "##%overwritefile\n",
    "##%file:src/do_dot_create_codefile.py\n",
    "##%noruncode\n",
    "    def do_create_codefile(self,magics,code, silent, store_history=True,\n",
    "                    user_expressions=None, allow_stdin=True):\n",
    "        fil_ename=''\n",
    "        bcancel_exec=False\n",
    "        retinfo=self.mymagics.get_retinfo()\n",
    "        retstr=''\n",
    "        \n",
    "        source_file=self.mymagics.create_codetemp_file(magics,code,suffix=self.kernel_info['extension'])\n",
    "        fil_ename=source_file.name\n",
    "        \n",
    "        return bcancel_exec,retinfo,magics, code,fil_ename,retstr"
   ]
  },
  {
   "cell_type": "code",
   "execution_count": 7,
   "metadata": {},
   "outputs": [
    {
     "name": "stdout",
     "output_type": "stream",
     "text": [
      "[MyPythonKernel220407] Info:file h:\\Jupyter\\Myjupyter-kernel\\kernel\\Dot\\src/do_dot_preexecute.py created successfully\n"
     ]
    }
   ],
   "source": [
    "## do_dot_preexecute\n",
    "##%overwritefile\n",
    "##%file:src/do_dot_preexecute.py\n",
    "##%noruncode\n",
    "    def do_preexecute(self,code, magics,silent, store_history=True,\n",
    "                user_expressions=None, allow_stdin=False):\n",
    "        bcancel_exec=False\n",
    "        retinfo=self.mymagics.get_retinfo()\n",
    "        ## 需要运行代码并且需要 main()函数则调用 _add_main 函数处理\n",
    "        if (len(self.mymagics.addkey2dict(magics,'noruncode'))<1 \n",
    "            and len(self.kernel_info['needmain'])>0 ):\n",
    "            magics, code = self.mymagics._add_main(magics, code)\n",
    "\n",
    "        return bcancel_exec,retinfo,magics, code"
   ]
  },
  {
   "cell_type": "code",
   "execution_count": null,
   "metadata": {},
   "outputs": [],
   "source": []
  }
 ],
 "metadata": {
  "kernelspec": {
   "display_name": "MyPython",
   "language": "Python",
   "name": "mypython"
  },
  "language_info": {
   "codemirror_mode": {
    "name": "ipython",
    "version": 3
   },
   "file_extension": ".py",
   "mimetype": "text/x-python",
   "name": "python",
   "nbconvert_exporter": "python",
   "pygments_lexer": "ipython3",
   "version": "3.9.6"
  },
  "orig_nbformat": 4
 },
 "nbformat": 4,
 "nbformat_minor": 2
}
