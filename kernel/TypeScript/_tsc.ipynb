{
 "cells": [
  {
   "cell_type": "code",
   "execution_count": 4,
   "id": "790ed872",
   "metadata": {},
   "outputs": [
    {
     "name": "stdout",
     "output_type": "stream",
     "text": [
      "[MyPythonKernel215222] Info:src/compile_with_tsc.py\n",
      "[MyPythonKernel215222] Info:file h:\\Jupyter\\Myjupyter-kernel\\kernel\\TypeScript\\src/compile_with_tsc.py created successfully\n"
     ]
    }
   ],
   "source": [
    "##%overwritefile\n",
    "##%file:src/compile_with_tsc.py\n",
    "##%noruncode\n",
    "    def compile_with_tsc(self, source_filename, binary_filename, cflags=None, ldflags=None,env=None,magics=None):\n",
    "        outfile=binary_filename\n",
    "        orig_cflags=cflags\n",
    "        orig_ldflags=ldflags\n",
    "        index=0\n",
    "        for s in cflags:\n",
    "            if s.startswith('--outFile'):\n",
    "                if(len(s)>9):\n",
    "                    outfile=s[9:]\n",
    "                    del cflags[index]\n",
    "                else:\n",
    "                    outfile=cflags[cflags.index('--outFile')+1]\n",
    "                    if outfile.startswith('-'):\n",
    "                        outfile=binary_filename\n",
    "                    del cflags[cflags.index('--outFile')+1]\n",
    "                    del cflags[cflags.index('--outFile')]\n",
    "            binary_filename=outfile\n",
    "            index+=1\n",
    "        args=[]\n",
    "        if magics!=None and len(self.mymagics.addkey2dict(magics,'ccompiler'))>0:\n",
    "            args = magics['ccompiler'] + orig_cflags +[source_filename] + orig_ldflags\n",
    "        else:\n",
    "            tsccmd=['tsc']\n",
    "            if self.mymagics.sys==\"Windows\":\n",
    "                tsccmd=['cmd','/c','tsc']\n",
    "            args = tsccmd+[source_filename] + ['--outFile', binary_filename]+ cflags  + ldflags\n",
    "        # self._log(''.join((' '+ str(s) for s in args))+\"\\n\")\n",
    "        return self.mymagics.create_jupyter_subprocess(args,env=env,magics=magics),binary_filename,args\n"
   ]
  },
  {
   "cell_type": "code",
   "execution_count": 5,
   "id": "33551652",
   "metadata": {},
   "outputs": [
    {
     "name": "stdout",
     "output_type": "stream",
     "text": [
      "[MyPythonKernel215222] Info:src/c_exec_tsc_.py\n",
      "[MyPythonKernel215222] Info:file h:\\Jupyter\\Myjupyter-kernel\\kernel\\TypeScript\\src/c_exec_tsc_.py created successfully\n"
     ]
    }
   ],
   "source": [
    "##%overwritefile\n",
    "##%file:src/c_exec_tsc_.py\n",
    "##%noruncode\n",
    "    def _exec_tsc_(self,source_filename,magics):\n",
    "        self.mymagics._logln('Generating executable file')\n",
    "        with self.mymagics.new_temp_file(suffix='.js') as binary_file:\n",
    "            magics['status']='compiling'\n",
    "            p,outfile,tsccmd = self.compile_with_tsc(\n",
    "                source_filename, \n",
    "                binary_file.name,\n",
    "                self.mymagics.get_magicsSvalue(magics,'cflags'),\n",
    "                self.mymagics.get_magicsSvalue(magics,'ldflags'),\n",
    "                self.mymagics.get_magicsbykey(magics,'env'),\n",
    "                magics=magics)\n",
    "            returncode=p.wait_end(magics)\n",
    "            p.write_contents()\n",
    "            magics['status']=''\n",
    "            binary_file.name=os.path.join(os.path.abspath(''),outfile)\n",
    "            if returncode != 0:  # Compilation failed\n",
    "                self.mymagics._logln(' '.join((str(s) for s in tsccmd))+\"\\n\",3)\n",
    "                self.mymagics._logln(\"TSC compiler exited with code {}, the executable will not be executed\".format(returncode),3)\n",
    "\n",
    "                # delete source files before exit\n",
    "                os.remove(source_filename)\n",
    "                os.remove(binary_file.name)\n",
    "        return p.returncode,binary_file.name\n"
   ]
  },
  {
   "cell_type": "code",
   "execution_count": null,
   "metadata": {},
   "outputs": [],
   "source": []
  }
 ],
 "metadata": {
  "interpreter": {
   "hash": "75596ead963b1eeb4cf3ce4e8a9c4a864202dd5fd95b19dff9cbdac9756331e2"
  },
  "kernelspec": {
   "display_name": "MyPython",
   "language": "Python",
   "name": "mypython"
  },
  "language_info": {
   "codemirror_mode": {
    "name": "ipython",
    "version": 3
   },
   "file_extension": ".py",
   "mimetype": "text/x-python",
   "name": "python",
   "nbconvert_exporter": "python",
   "pygments_lexer": "ipython3",
   "version": "3.9.6"
  },
  "orig_nbformat": 4
 },
 "nbformat": 4,
 "nbformat_minor": 2
}
