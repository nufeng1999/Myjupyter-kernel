{
 "cells": [
  {
   "cell_type": "code",
   "execution_count": 4,
   "id": "29cc610c",
   "metadata": {},
   "outputs": [
    {
     "name": "stdout",
     "output_type": "stream",
     "text": [
      "[MyPythonKernel224731] Info:src/do_ts_runcode.py\n",
      "[MyPythonKernel224731] Info:file h:\\Jupyter\\Myjupyter-kernel\\kernel\\TypeScript\\src/do_ts_runcode.py created successfully\n"
     ]
    }
   ],
   "source": [
    "##do_runcode\n",
    "##%overwritefile\n",
    "##%file:src/do_ts_runcode.py\n",
    "##%noruncode\n",
    "    def do_runcode(self,return_code,file_name,magics,code, silent, store_history=True,\n",
    "                    user_expressions=None, allow_stdin=True):\n",
    "        return_code=return_code\n",
    "        file_name=file_name\n",
    "        bcancel_exec=False\n",
    "        retinfo=self.mymagics.get_retinfo()\n",
    "        retstr=''\n",
    "        ##代码运行前\n",
    "        p = self.mymagics.create_jupyter_subprocess(['node',file_name]+ magics['_st']['args'],cwd=None,shell=False,env=self.mymagics.addkey2dict(magics,'env'),magics=magics)\n",
    "        #p = self.mymagics.create_jupyter_subprocess([binary_file.name]+ magics['args'],cwd=None,shell=False)\n",
    "        #p = self.mymagics.create_jupyter_subprocess([self.master_path, binary_file.name] + magics['args'],cwd='/tmp',shell=True)\n",
    "        self.mymagics.g_rtsps[str(p.pid)]=p\n",
    "        return_code=p.returncode\n",
    "        ##代码启动后\n",
    "        bcancel_exec,retstr=self.mymagics.raise_plugin(code,magics,return_code,file_name,3,2)\n",
    "        # if bcancel_exec:return bcancel_exec,retinfo,magics, code,file_name,retstr\n",
    "        \n",
    "        if len(self.mymagics.addkey2dict(magics,'showpid'))>0:\n",
    "            self.mymagics._write_to_stdout(\"The process PID:\"+str(p.pid)+\"\\n\")\n",
    "        return_code=p.wait_end(magics)\n",
    "        # del self.g_rtsps[str(p.pid)]\n",
    "        # p.write_contents(magics)\n",
    "        ##\n",
    "        ##调用接口\n",
    "        return_code=p.returncode\n",
    "        ##代码运行结束\n",
    "        if p.returncode != 0:\n",
    "            self.mymagics._log(\"Executable exited with code {}\".format(p.returncode),2)\n",
    "        return bcancel_exec,retinfo,magics, code,file_name,retstr"
   ]
  },
  {
   "cell_type": "code",
   "execution_count": 5,
   "id": "58ae8be2",
   "metadata": {},
   "outputs": [
    {
     "name": "stdout",
     "output_type": "stream",
     "text": [
      "[MyPythonKernel224731] Info:src/do_ts_compilecode.py\n",
      "[MyPythonKernel224731] Info:file h:\\Jupyter\\Myjupyter-kernel\\kernel\\TypeScript\\src/do_ts_compilecode.py created successfully\n"
     ]
    }
   ],
   "source": [
    "##do_compile_code\n",
    "##%overwritefile\n",
    "##%file:src/do_ts_compilecode.py\n",
    "##%noruncode\n",
    "    def do_compile_code(self,return_code,file_name,magics,code, silent, store_history=True,\n",
    "                    user_expressions=None, allow_stdin=True):\n",
    "        return_code=0\n",
    "        file_name=file_name\n",
    "        sourcefilename=file_name\n",
    "        bcancel_exec=False\n",
    "        retinfo=self.mymagics.get_retinfo()\n",
    "        retstr=''\n",
    "\n",
    "        returncode,binary_filename=self._exec_tsc_(file_name,magics)\n",
    "        file_name=binary_filename\n",
    "        return_code=returncode\n",
    "        \n",
    "        if returncode!=0:return  True,retinfo, code,file_name,retstr\n",
    "\n",
    "        return bcancel_exec,retinfo,magics, code,file_name,retstr"
   ]
  },
  {
   "cell_type": "code",
   "execution_count": 6,
   "id": "9e2e5e68",
   "metadata": {},
   "outputs": [
    {
     "name": "stdout",
     "output_type": "stream",
     "text": [
      "[MyPythonKernel224731] Info:src/do_ts_create_codefile.py\n",
      "[MyPythonKernel224731] Info:file h:\\Jupyter\\Myjupyter-kernel\\kernel\\TypeScript\\src/do_ts_create_codefile.py created successfully\n"
     ]
    }
   ],
   "source": [
    "##do_create_codefile\n",
    "##%overwritefile\n",
    "##%file:src/do_ts_create_codefile.py\n",
    "##%noruncode\n",
    "    def do_create_codefile(self,magics,code, silent, store_history=True,\n",
    "                    user_expressions=None, allow_stdin=True):\n",
    "        return_code=0\n",
    "        file_name=''\n",
    "        bcancel_exec=False\n",
    "        retinfo=self.mymagics.get_retinfo()\n",
    "        retstr=''\n",
    "\n",
    "        source_file=self.mymagics.create_codetemp_file(magics,code,suffix='.ts')\n",
    "        newsrcfilename=source_file.name\n",
    "        file_name=newsrcfilename\n",
    "        return_code=True\n",
    "\n",
    "        return bcancel_exec,self.mymagics.get_retinfo(),magics, code,file_name,retstr"
   ]
  },
  {
   "cell_type": "code",
   "execution_count": 7,
   "id": "9343d6d3",
   "metadata": {},
   "outputs": [
    {
     "name": "stdout",
     "output_type": "stream",
     "text": [
      "[MyPythonKernel224731] Info:src/do_ts_preexecute.py\n",
      "[MyPythonKernel224731] Info:file h:\\Jupyter\\Myjupyter-kernel\\kernel\\TypeScript\\src/do_ts_preexecute.py created successfully\n"
     ]
    }
   ],
   "source": [
    "##do_preexecute\n",
    "##%overwritefile\n",
    "##%file:src/do_ts_preexecute.py\n",
    "##%noruncode\n",
    "    def do_preexecute(self,code,magics,silent, store_history=True,\n",
    "                user_expressions=None, allow_stdin=False):\n",
    "        bcancel_exec=False\n",
    "        retinfo=self.mymagics.get_retinfo()\n",
    "        \n",
    "        return bcancel_exec,retinfo,magics, code"
   ]
  },
  {
   "cell_type": "code",
   "execution_count": 8,
   "id": "84d3b67c",
   "metadata": {},
   "outputs": [
    {
     "name": "stdout",
     "output_type": "stream",
     "text": [
      "[MyPythonKernel224731] Info:../../../jupyter-MyTypeScript-kernel/jupyter_MyTypeScript_kernel/kernel.py\n",
      "[MyPythonKernel224731] Info:file h:\\Jupyter\\Myjupyter-kernel\\kernel\\TypeScript\\../../../jupyter-MyTypeScript-kernel/jupyter_MyTypeScript_kernel/kernel.py created successfully\n"
     ]
    }
   ],
   "source": [
    "## new kernel.py\n",
    "##%overwritefile\n",
    "##%file:../../../jupyter-MyTypeScript-kernel/jupyter_MyTypeScript_kernel/kernel.py\n",
    "##//%file:kernel.py\n",
    "##%noruncode\n",
    "#\n",
    "#   MyPython Jupyter Kernel\n",
    "#\n",
    "##%include:../../src/head.py\n",
    "from .MyKernel import MyKernel\n",
    "\n",
    "\n",
    "class MyTypeScriptKernel(MyKernel):\n",
    "    implementation = 'jupyter-MyTypeScript-kernel'\n",
    "    implementation_version = '1.0'\n",
    "    language = 'typescript'\n",
    "    language_version = ''\n",
    "    language_info = {'name': 'typescript',\n",
    "                     'version': sys.version.split()[0],\n",
    "                     'mimetype': 'text/typescript',\n",
    "                     'codemirror_mode': {\n",
    "                        'name': 'ipython',\n",
    "                        'version': sys.version_info[0]\n",
    "                     },\n",
    "                     'pygments_lexer': 'ipython%d' % 3,\n",
    "                     'nbconvert_exporter': 'TypeScript',\n",
    "                     'file_extension': '.ts'}\n",
    "    runfiletype='script'\n",
    "    banner = \"MyTypeScript kernel.\\n\" \\\n",
    "             \"Uses tsc, creates source code files and executables in temporary folder.\\n\"\n",
    "    kernelinfo=\"[MyTypeScript]\"\n",
    "    main_head = \"\\n\" \\\n",
    "            \"\\n\" \\\n",
    "            \"int main(List<String> arguments){\\n\"\n",
    "\n",
    "    main_foot = \"\\nreturn 0;\\n}\"\n",
    "\n",
    "##//%include:src/comm_attribute.py\n",
    "\n",
    "    def __init__(self, *args, **kwargs):\n",
    "        super(MyTypeScriptKernel, self).__init__(*args, **kwargs)\n",
    "        self.runfiletype='script'\n",
    "        self.kernelinfo=\"[MyTypeScriptKernel{0}]\".format(time.strftime(\"%H%M%S\", time.localtime()))\n",
    "        \n",
    "        \n",
    "#################\n",
    "##%include:src/compile_with_tsc.py\n",
    "##%include:src/c_exec_tsc_.py\n",
    "##%include:src/do_ts_runcode.py\n",
    "##%include:src/do_ts_compilecode.py\n",
    "##%include:src/do_ts_create_codefile.py\n",
    "##%include:src/do_ts_preexecute.py\n"
   ]
  },
  {
   "cell_type": "code",
   "execution_count": null,
   "id": "fc6d0d16",
   "metadata": {},
   "outputs": [],
   "source": []
  }
 ],
 "metadata": {
  "interpreter": {
   "hash": "31f2aee4e71d21fbe5cf8b01ff0e069b9275f58929596ceb00d14d90e3e16cd6"
  },
  "kernelspec": {
   "display_name": "MyPython",
   "language": "Python",
   "name": "mypython"
  },
  "language_info": {
   "codemirror_mode": {
    "name": "ipython",
    "version": 3
   },
   "file_extension": ".py",
   "mimetype": "text/x-python",
   "name": "python",
   "nbconvert_exporter": "python",
   "pygments_lexer": "ipython3",
   "version": "3.9.6"
  }
 },
 "nbformat": 4,
 "nbformat_minor": 5
}
