{
 "cells": [
  {
   "cell_type": "code",
   "execution_count": 4,
   "metadata": {},
   "outputs": [
    {
     "data": {
      "text/plain": [
       "[MyPython] Info:copy to :H:/Jupyter/Myjupyter-kernel/plugins/../../jupyter-MyPython-kernel/plugins/onlyrunnotecmd.py\n"
      ]
     },
     "metadata": {
      "text/plain": {}
     },
     "output_type": "display_data"
    },
    {
     "data": {
      "text/plain": [
       "[MyPython] Info:copy to :H:/Jupyter/Myjupyter-kernel/plugins/../../jupyter-MyC-kernel/plugins/onlyrunnotecmd.py\n"
      ]
     },
     "metadata": {
      "text/plain": {}
     },
     "output_type": "display_data"
    },
    {
     "data": {
      "text/plain": [
       "[MyPython] Info:copy to :H:/Jupyter/Myjupyter-kernel/plugins/../../jupyter-MyDart-kernel/plugins/onlyrunnotecmd.py\n"
      ]
     },
     "metadata": {
      "text/plain": {}
     },
     "output_type": "display_data"
    },
    {
     "data": {
      "text/plain": [
       "[MyPython] Info:copy to :H:/Jupyter/Myjupyter-kernel/plugins/../../jupyter-MyKotlin-kernel/plugins/onlyrunnotecmd.py\n"
      ]
     },
     "metadata": {
      "text/plain": {}
     },
     "output_type": "display_data"
    },
    {
     "data": {
      "text/plain": [
       "[MyPython] Info:copy to :H:/Jupyter/Myjupyter-kernel/plugins/../../jupyter-MyGroovy-kernel/plugins/onlyrunnotecmd.py\n"
      ]
     },
     "metadata": {
      "text/plain": {}
     },
     "output_type": "display_data"
    },
    {
     "data": {
      "text/plain": [
       "[MyPython] Info:copy to :H:/Jupyter/Myjupyter-kernel/plugins/../../jupyter-MyJava-kernel/plugins/onlyrunnotecmd.py\n"
      ]
     },
     "metadata": {
      "text/plain": {}
     },
     "output_type": "display_data"
    },
    {
     "data": {
      "text/plain": [
       "[MyPython] Info:copy to :H:/Jupyter/Myjupyter-kernel/plugins/../../jupyter-MyGjs-kernel/plugins/onlyrunnotecmd.py\n"
      ]
     },
     "metadata": {
      "text/plain": {}
     },
     "output_type": "display_data"
    },
    {
     "data": {
      "text/plain": [
       "[MyPython] Info:copy to :H:/Jupyter/Myjupyter-kernel/plugins/../../jupyter-MyVala-kernel/plugins/onlyrunnotecmd.py\n"
      ]
     },
     "metadata": {
      "text/plain": {}
     },
     "output_type": "display_data"
    },
    {
     "data": {
      "text/plain": [
       "[MyPython] Info:copy to :H:/Jupyter/Myjupyter-kernel/plugins/../../jupyter-MyNodejs-kernel/plugins/onlyrunnotecmd.py\n"
      ]
     },
     "metadata": {
      "text/plain": {}
     },
     "output_type": "display_data"
    },
    {
     "data": {
      "text/plain": [
       "[MyPython] Info:copy to :H:/Jupyter/Myjupyter-kernel/plugins/../../jupyter-MyBash-kernel/plugins/onlyrunnotecmd.py\n"
      ]
     },
     "metadata": {
      "text/plain": {}
     },
     "output_type": "display_data"
    },
    {
     "data": {
      "text/plain": [
       "[MyPython] Info:file H:/Jupyter/Myjupyter-kernel/plugins/src/onlyrunnotecmd.py created successfully\n"
      ]
     },
     "metadata": {
      "text/plain": {}
     },
     "output_type": "display_data"
    }
   ],
   "source": [
    "##%overwritefile\n",
    "##%file:src/onlyrunnotecmd.py\n",
    "##%file:../../jupyter-MyPython-kernel/plugins/onlyrunnotecmd.py\n",
    "##%file:../../jupyter-MyC-kernel/plugins/onlyrunnotecmd.py\n",
    "##%file:../../jupyter-MyDart-kernel/plugins/onlyrunnotecmd.py\n",
    "\n",
    "##%file:../../jupyter-MyKotlin-kernel/plugins/onlyrunnotecmd.py\n",
    "##%file:../../jupyter-MyGroovy-kernel/plugins/onlyrunnotecmd.py\n",
    "##%file:../../jupyter-MyJava-kernel/plugins/onlyrunnotecmd.py\n",
    "##%file:../../jupyter-MyGjs-kernel/plugins/onlyrunnotecmd.py\n",
    "##%file:../../jupyter-MyVala-kernel/plugins/onlyrunnotecmd.py\n",
    "##%file:../../jupyter-MyNodejs-kernel/plugins/onlyrunnotecmd.py\n",
    "##%file:../../jupyter-MyBash-kernel/plugins/onlyrunnotecmd.py\n",
    "##%noruncode\n",
    "from typing import Dict, Tuple, Sequence,List\n",
    "from plugins.ISpecialID import IStag,IDtag,IBtag,ITag\n",
    "import os\n",
    "class Myonlyrunnotecmd(IBtag):\n",
    "    kobj=None\n",
    "    def getName(self) -> str:\n",
    "        # self.kobj._write_to_stdout(\"setKernelobj setKernelobj setKernelobj\\n\")\n",
    "        \n",
    "        return 'Myonlyrunnotecmd'\n",
    "    def getAuthor(self) -> str:\n",
    "        return 'Author'\n",
    "    def getIntroduction(self) -> str:\n",
    "        return 'Myonlyrunnotecmd'\n",
    "    def getPriority(self)->int:\n",
    "        return 0\n",
    "    def getExcludeID(self)->List[str]:\n",
    "        return []\n",
    "    def getIDBptag(self) -> List[str]:\n",
    "        return ['onlyrunnotecmd']\n",
    "    def setKernelobj(self,obj):\n",
    "        self.kobj=obj\n",
    "        # self.kobj._write_to_stdout(\"setKernelobj setKernelobj setKernelobj\\n\")\n",
    "        return\n",
    "    def on_shutdown(self, restart):\n",
    "        return\n",
    "    def on_IBpCodescanning(self,magics,line) -> str:\n",
    "        # self.kobj._write_to_stdout(line+\" on_ISpCodescanning\\n\")\n",
    "        self.kobj.addkey2dict(magics,'onlyrunnotecmd')\n",
    "        magics['onlyrunnotecmd'] = ['true']\n",
    "        return ''\n",
    "    ##在代码预处理前扫描代码时调用     \n",
    "    def on_Codescanning(self,magics,code)->Tuple[bool,str]:\n",
    "        pass\n",
    "        return False,code\n",
    "    ##生成文件时调用\n",
    "    def on_before_buildfile(self,code,magics)->Tuple[bool,str]:\n",
    "        return False,''\n",
    "    def on_after_buildfile(self,returncode,srcfile,magics)->bool:\n",
    "        return False\n",
    "    def on_before_compile(self,code,magics)->Tuple[bool,str]:\n",
    "        return False,''\n",
    "    def on_after_compile(self,returncode,binfile,magics)->bool:\n",
    "        return False\n",
    "    def on_before_exec(self,code,magics)->Tuple[bool,str]:\n",
    "        return False,''\n",
    "    def on_after_exec(self,returncode,srcfile,magics)->bool:\n",
    "        return False\n",
    "    def on_after_completion(self,returncode,execfile,magics)->bool:\n",
    "        return False\n",
    "\n",
    "    "
   ]
  },
  {
   "cell_type": "code",
   "execution_count": null,
   "metadata": {},
   "outputs": [],
   "source": []
  }
 ],
 "metadata": {
  "kernelspec": {
   "display_name": "MyPython",
   "language": "Python",
   "name": "mypython"
  },
  "language_info": {
   "codemirror_mode": {
    "name": "ipython",
    "version": 3
   },
   "file_extension": ".py",
   "mimetype": "text/x-python",
   "name": "python",
   "nbconvert_exporter": "python",
   "pygments_lexer": "ipython3",
   "version": "3.9.7"
  },
  "orig_nbformat": 4
 },
 "nbformat": 4,
 "nbformat_minor": 2
}
