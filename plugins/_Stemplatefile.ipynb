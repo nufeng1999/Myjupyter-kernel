{
 "cells": [
  {
   "cell_type": "code",
   "execution_count": 4,
   "metadata": {},
   "outputs": [
    {
     "data": {
      "text/plain": [
       "[MyPython] Info:copy to :H:/Jupyter/Myjupyter-kernel/plugins/../../jupyter-MyPython-kernel/plugins/templatefile.py\n"
      ]
     },
     "metadata": {
      "text/plain": {}
     },
     "output_type": "display_data"
    },
    {
     "data": {
      "text/plain": [
       "[MyPython] Info:copy to :H:/Jupyter/Myjupyter-kernel/plugins/../../jupyter-MyC-kernel/plugins/templatefile.py\n"
      ]
     },
     "metadata": {
      "text/plain": {}
     },
     "output_type": "display_data"
    },
    {
     "data": {
      "text/plain": [
       "[MyPython] Info:copy to :H:/Jupyter/Myjupyter-kernel/plugins/../../jupyter-MyDart-kernel/plugins/templatefile.py\n"
      ]
     },
     "metadata": {
      "text/plain": {}
     },
     "output_type": "display_data"
    },
    {
     "data": {
      "text/plain": [
       "[MyPython] Info:copy to :H:/Jupyter/Myjupyter-kernel/plugins/../../jupyter-MyKotlin-kernel/plugins/templatefile.py\n"
      ]
     },
     "metadata": {
      "text/plain": {}
     },
     "output_type": "display_data"
    },
    {
     "data": {
      "text/plain": [
       "[MyPython] Info:copy to :H:/Jupyter/Myjupyter-kernel/plugins/../../jupyter-MyGroovy-kernel/plugins/templatefile.py\n"
      ]
     },
     "metadata": {
      "text/plain": {}
     },
     "output_type": "display_data"
    },
    {
     "data": {
      "text/plain": [
       "[MyPython] Info:copy to :H:/Jupyter/Myjupyter-kernel/plugins/../../jupyter-MyJava-kernel/plugins/templatefile.py\n"
      ]
     },
     "metadata": {
      "text/plain": {}
     },
     "output_type": "display_data"
    },
    {
     "data": {
      "text/plain": [
       "[MyPython] Info:copy to :H:/Jupyter/Myjupyter-kernel/plugins/../../jupyter-MyGjs-kernel/plugins/templatefile.py\n"
      ]
     },
     "metadata": {
      "text/plain": {}
     },
     "output_type": "display_data"
    },
    {
     "data": {
      "text/plain": [
       "[MyPython] Info:copy to :H:/Jupyter/Myjupyter-kernel/plugins/../../jupyter-MyVala-kernel/plugins/templatefile.py\n"
      ]
     },
     "metadata": {
      "text/plain": {}
     },
     "output_type": "display_data"
    },
    {
     "data": {
      "text/plain": [
       "[MyPython] Info:copy to :H:/Jupyter/Myjupyter-kernel/plugins/../../jupyter-MyNodejs-kernel/plugins/templatefile.py\n"
      ]
     },
     "metadata": {
      "text/plain": {}
     },
     "output_type": "display_data"
    },
    {
     "data": {
      "text/plain": [
       "[MyPython] Info:copy to :H:/Jupyter/Myjupyter-kernel/plugins/../../jupyter-MyBash-kernel/plugins/templatefile.py\n"
      ]
     },
     "metadata": {
      "text/plain": {}
     },
     "output_type": "display_data"
    },
    {
     "data": {
      "text/plain": [
       "[MyPython] Info:file H:/Jupyter/Myjupyter-kernel/plugins/src/templatefile.py created successfully\n"
      ]
     },
     "metadata": {
      "text/plain": {}
     },
     "output_type": "display_data"
    }
   ],
   "source": [
    "##%overwritefile\n",
    "##%file:src/templatefile.py\n",
    "##%file:../../jupyter-MyPython-kernel/plugins/templatefile.py\n",
    "##%file:../../jupyter-MyC-kernel/plugins/templatefile.py\n",
    "##%file:../../jupyter-MyDart-kernel/plugins/templatefile.py\n",
    "\n",
    "##%file:../../jupyter-MyKotlin-kernel/plugins/templatefile.py\n",
    "##%file:../../jupyter-MyGroovy-kernel/plugins/templatefile.py\n",
    "##%file:../../jupyter-MyJava-kernel/plugins/templatefile.py\n",
    "##%file:../../jupyter-MyGjs-kernel/plugins/templatefile.py\n",
    "##%file:../../jupyter-MyVala-kernel/plugins/templatefile.py\n",
    "##%file:../../jupyter-MyNodejs-kernel/plugins/templatefile.py\n",
    "##%file:../../jupyter-MyBash-kernel/plugins/templatefile.py\n",
    "##%file:../../jupyter-MyVBScript-kernel/plugins/templatefile.py\n",
    "##%file:../../jupyter-MyWLS-kernel/plugins/templatefile.py\n",
    "##%noruncode\n",
    "import typing as t\n",
    "from typing import Dict, Tuple, Sequence,List\n",
    "from plugins.ISpecialID import IStag,IDtag,IBtag,ITag\n",
    "import os\n",
    "class MyTemplatefile(IStag):\n",
    "    kobj=None\n",
    "    def getName(self) -> str:\n",
    "        # self.kobj._write_to_stdout(\"setKernelobj setKernelobj setKernelobj\\n\")\n",
    "        \n",
    "        return 'MyTemplatefile'\n",
    "    def getAuthor(self) -> str:\n",
    "        return 'Author'\n",
    "    def getIntroduction(self) -> str:\n",
    "        return 'MyTemplatefile'\n",
    "    def getPriority(self)->int:\n",
    "        return 0\n",
    "    def getExcludeID(self)->List[str]:\n",
    "        return []\n",
    "    def getIDSptag(self) -> List[str]:\n",
    "        return ['templatefile']\n",
    "    def setKernelobj(self,obj):\n",
    "        self.kobj=obj\n",
    "        # self.kobj._write_to_stdout(\"setKernelobj setKernelobj setKernelobj\\n\")\n",
    "        return\n",
    "    def on_shutdown(self, restart):\n",
    "        return\n",
    "    def on_ISpCodescanning(self,key, value,magics,line) -> str:\n",
    "        # self.kobj._write_to_stdout(line+\" on_ISpCodescanning\\n\")\n",
    "        self.kobj.addkey2dict(magics,'templatefile')\n",
    "        return self.templatehander(self,key, value,magics,line)\n",
    "    ##在代码预处理前扫描代码时调用    \n",
    "    def on_Codescanning(self,magics,code)->Tuple[bool,str]:\n",
    "        pass\n",
    "        return False,code\n",
    "    ##生成文件时调用\n",
    "    def on_before_buildfile(self,code,magics)->Tuple[bool,str]:\n",
    "        return False,''\n",
    "    def on_after_buildfile(self,returncode,srcfile,magics)->bool:\n",
    "        return False\n",
    "    def on_before_compile(self,code,magics)->Tuple[bool,str]:\n",
    "        return False,''\n",
    "    def on_after_compile(self,returncode,binfile,magics)->bool:\n",
    "        return False\n",
    "    def on_before_exec(self,code,magics)->Tuple[bool,str]:\n",
    "        return False,''\n",
    "    def on_after_exec(self,returncode,srcfile,magics)->bool:\n",
    "        return False\n",
    "    def on_after_completion(self,returncode,execfile,magics)->bool:\n",
    "        return False\n",
    "    def templatehander(self,key, value,magics,line):\n",
    "        # self.kobj._write_to_stdout(value+\"\\n\")\n",
    "        newline=line\n",
    "        index1=line.find('//%')\n",
    "        if len(value)>0:\n",
    "            magics[key] =value.split(\" \",1)\n",
    "        else:\n",
    "            magics[key] =None\n",
    "            return ''\n",
    "        templatefile=magics['templatefile'][0]\n",
    "        if len(magics['templatefile'])>1:\n",
    "            argsstr=magics['templatefile'][1]\n",
    "            templateargsdict=self.kobj.resolving_eqval2dict(argsstr)\n",
    "        else:\n",
    "            templateargsdict=None\n",
    "        if len(magics['templatefile'])>0:\n",
    "            newline=self.readtemplatefile(self,templatefile,index1,templateargsdict)\n",
    "        return newline + '\\n'\n",
    "\n",
    "    def readtemplatefile(self,filename,spacecount=0,*args: t.Any, **kwargs: t.Any):\n",
    "        filecode=''\n",
    "        newfilecode=''\n",
    "        codelist1=None\n",
    "        filenm=os.path.join(os.path.abspath(''),filename);\n",
    "        if not os.path.exists(filenm):\n",
    "            return filecode;\n",
    "        template = self.jinja2_env.get_template(filenm)\n",
    "        filecode=template.render(*args,**kwargs)\n",
    "\n",
    "        for line in filecode.splitlines():\n",
    "            if len(line)>0:\n",
    "                for t in line:\n",
    "                    newfilecode+=' '*spacecount + t+'\\n'\n",
    "        return newfilecode\n"
   ]
  },
  {
   "cell_type": "code",
   "execution_count": null,
   "metadata": {},
   "outputs": [],
   "source": []
  }
 ],
 "metadata": {
  "kernelspec": {
   "display_name": "MyPython",
   "language": "Python",
   "name": "mypython"
  },
  "orig_nbformat": 4
 },
 "nbformat": 4,
 "nbformat_minor": 2
}
