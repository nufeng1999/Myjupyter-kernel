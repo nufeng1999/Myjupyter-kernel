{
 "cells": [
  {
   "cell_type": "code",
   "execution_count": 4,
   "metadata": {},
   "outputs": [
    {
     "data": {
      "text/plain": [
       "[MyPython] Info:copy to :h:\\Jupyter\\Myjupyter-kernel\\plugins\\../../jupyter-MyC-kernel/plugins/ccompiler.py\n"
      ]
     },
     "metadata": {
      "text/plain": {}
     },
     "output_type": "display_data"
    },
    {
     "data": {
      "text/plain": [
       "[MyPython] Info:file h:\\Jupyter\\Myjupyter-kernel\\plugins\\src/ccompiler.py created successfully\n"
      ]
     },
     "metadata": {
      "text/plain": {}
     },
     "output_type": "display_data"
    }
   ],
   "source": [
    "##%overwritefile\n",
    "##%file:src/ccompiler.py\n",
    "##%file:../../jupyter-MyC-kernel/plugins/ccompiler.py\n",
    "##%noruncode\n",
    "from typing import Dict, Tuple, Sequence,List\n",
    "from plugins.ISpecialID import IStag,IDtag,IBtag,ITag\n",
    "import os\n",
    "class Myccompiler(IStag):\n",
    "    kobj=None\n",
    "    def getName(self) -> str:\n",
    "        # self.kobj._write_to_stdout(\"setKernelobj setKernelobj setKernelobj\\n\")\n",
    "        \n",
    "        return 'Myccompiler'\n",
    "    def getAuthor(self) -> str:\n",
    "        return 'Author'\n",
    "    def getIntroduction(self) -> str:\n",
    "        return 'Myccompiler'\n",
    "    def getPriority(self)->int:\n",
    "        return 0\n",
    "    def getExcludeID(self)->List[str]:\n",
    "        return []\n",
    "    def getIDSptag(self) -> List[str]:\n",
    "        return ['ccompiler','cc']\n",
    "    def setKernelobj(self,obj):\n",
    "        self.kobj=obj\n",
    "        # self.kobj._write_to_stdout(\"setKernelobj setKernelobj setKernelobj\\n\")\n",
    "        return\n",
    "    def on_shutdown(self, restart):\n",
    "        return\n",
    "    def on_ISpCodescanning(self,key, value,magics,line) -> str:\n",
    "        # self.kobj._write_to_stdout(line+\" on_ISpCodescanning\\n\")\n",
    "        self.kobj.addkey2dict(magics,'ccompiler')\n",
    "        return self.commandhander(self,key, value,magics,line)\n",
    "    ##在代码预处理前扫描代码时调用    \n",
    "    def on_Codescanning(self,magics,code)->Tuple[bool,str]:\n",
    "        pass\n",
    "        return False,code\n",
    "    ##生成文件时调用\n",
    "    def on_before_buildfile(self,code,magics)->Tuple[bool,str]:\n",
    "        return False,''\n",
    "    def on_after_buildfile(self,returncode,srcfile,magics)->bool:\n",
    "        return False\n",
    "    def on_before_compile(self,code,magics)->Tuple[bool,str]:\n",
    "        return False,''\n",
    "    def on_after_compile(self,returncode,binfile,magics)->bool:\n",
    "        return False\n",
    "    def on_before_exec(self,code,magics)->Tuple[bool,str]:\n",
    "        return False,''\n",
    "    def on_after_exec(self,returncode,srcfile,magics)->bool:\n",
    "        return False\n",
    "    def on_after_completion(self,returncode,execfile,magics)->bool:\n",
    "        return False\n",
    "    def commandhander(self,key, value,magics,line):\n",
    "        # self.kobj._write_to_stdout(value+\"  exec kcmd...\\n\")\n",
    "        magics['ccompiler'] = [value]\n",
    "        return ''\n",
    "\n",
    "    "
   ]
  },
  {
   "cell_type": "code",
   "execution_count": null,
   "metadata": {},
   "outputs": [],
   "source": []
  }
 ],
 "metadata": {
  "kernelspec": {
   "display_name": "MyPython",
   "language": "Python",
   "name": "mypython"
  },
  "orig_nbformat": 4
 },
 "nbformat": 4,
 "nbformat_minor": 2
}
