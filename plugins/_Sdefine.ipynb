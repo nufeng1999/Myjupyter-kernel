{
 "cells": [
  {
   "cell_type": "code",
   "execution_count": 6,
   "metadata": {},
   "outputs": [
    {
     "data": {
      "text/plain": [
       "[MyPython] Info:raise_ICodescan\n"
      ]
     },
     "metadata": {
      "text/plain": {}
     },
     "output_type": "display_data"
    },
    {
     "data": {
      "text/plain": [
       "[MyPython] Info:raise_ICodescan\n"
      ]
     },
     "metadata": {
      "text/plain": {}
     },
     "output_type": "display_data"
    },
    {
     "data": {
      "text/plain": [
       "[MyPython] Info:copy to :/root/Jupyter/Myjupyter-kernel/plugins/../../jupyter-MyPython-kernel/plugins/define.py\n"
      ]
     },
     "metadata": {
      "text/plain": {}
     },
     "output_type": "display_data"
    },
    {
     "data": {
      "text/plain": [
       "[MyPython] Info:copy to :/root/Jupyter/Myjupyter-kernel/plugins/../../jupyter-MyC-kernel/plugins/define.py\n"
      ]
     },
     "metadata": {
      "text/plain": {}
     },
     "output_type": "display_data"
    },
    {
     "data": {
      "text/plain": [
       "[MyPython] Info:copy to :/root/Jupyter/Myjupyter-kernel/plugins/../../jupyter-MyDart-kernel/plugins/define.py\n"
      ]
     },
     "metadata": {
      "text/plain": {}
     },
     "output_type": "display_data"
    },
    {
     "data": {
      "text/plain": [
       "[MyPython] Info:copy to :/root/Jupyter/Myjupyter-kernel/plugins/../../jupyter-MyKotlin-kernel/plugins/define.py\n"
      ]
     },
     "metadata": {
      "text/plain": {}
     },
     "output_type": "display_data"
    },
    {
     "data": {
      "text/plain": [
       "[MyPython] Info:copy to :/root/Jupyter/Myjupyter-kernel/plugins/../../jupyter-MyGroovy-kernel/plugins/define.py\n"
      ]
     },
     "metadata": {
      "text/plain": {}
     },
     "output_type": "display_data"
    },
    {
     "data": {
      "text/plain": [
       "[MyPython] Info:copy to :/root/Jupyter/Myjupyter-kernel/plugins/../../jupyter-MyJava-kernel/plugins/define.py\n"
      ]
     },
     "metadata": {
      "text/plain": {}
     },
     "output_type": "display_data"
    },
    {
     "data": {
      "text/plain": [
       "[MyPython] Info:file /root/Jupyter/Myjupyter-kernel/plugins/src/define.py created successfully\n"
      ]
     },
     "metadata": {
      "text/plain": {}
     },
     "output_type": "display_data"
    }
   ],
   "source": [
    "##%overwritefile\n",
    "##%file:src/define.py\n",
    "##%file:../../jupyter-MyPython-kernel/plugins/define.py\n",
    "##%file:../../jupyter-MyC-kernel/plugins/define.py\n",
    "##%file:../../jupyter-MyDart-kernel/plugins/define.py\n",
    "\n",
    "##%file:../../jupyter-MyKotlin-kernel/plugins/define.py\n",
    "##%file:../../jupyter-MyGroovy-kernel/plugins/define.py\n",
    "##%file:../../jupyter-MyJava-kernel/plugins/define.py\n",
    "##%noruncode\n",
    "from jinja2 import Environment, PackageLoader, select_autoescape,Template\n",
    "from typing import List,Dict, Tuple, Sequence\n",
    "from plugins.ISpecialID import IStag,IDtag,IBtag,ITag\n",
    "import os\n",
    "import re\n",
    "class MyMacro():\n",
    "    name=''\n",
    "    content=''\n",
    "    lastargs={}\n",
    "    def render(self,args):\n",
    "        env = Environment()\n",
    "        template = Template(self.content)\n",
    "        ret=template.render(args)\n",
    "        # print('ret'+'\\n')\n",
    "        return ret\n",
    "class Mydefine(IStag):\n",
    "    kobj=None\n",
    "    def getName(self) -> str:\n",
    "        # self.kobj._write_to_stdout(\"setKernelobj setKernelobj setKernelobj\\n\")\n",
    "        return 'Mydefine'\n",
    "    def getAuthor(self) -> str:\n",
    "        return 'Author'\n",
    "    def getIntroduction(self) -> str:\n",
    "        return 'Mydefine'\n",
    "    def getPriority(self)->int:\n",
    "        return 0\n",
    "    def getExcludeID(self)->List[str]:\n",
    "        return []\n",
    "    def getIDSptag(self) -> List[str]:\n",
    "        return ['define']\n",
    "    def setKernelobj(self,obj):\n",
    "        self.kobj=obj\n",
    "        # self.kobj._write_to_stdout(\"setKernelobj setKernelobj setKernelobj\\n\")\n",
    "        return\n",
    "    def on_shutdown(self, restart):\n",
    "        return\n",
    "    def on_ISpCodescanning(self,key, value,magics,line) -> str:\n",
    "        # self.kobj._write_to_stdout(line+\"define on_ISpCodescanning\\n\")\n",
    "        # self.kobj.addkey2dict(magics,'define')\n",
    "        if not magics.__contains__('define'):\n",
    "            d={'define':{}}\n",
    "            magics.update(d)\n",
    "        # envdict=self.kobj.resolving_eqval2dict(value)\n",
    "        # self.kobj._logln('addmacro')\n",
    "        self.addmacro(self,magics,line)\n",
    "        # magics[key] =dict(envdict)\n",
    "        return ''\n",
    "    ##在代码预处理前扫描代码时调用    \n",
    "    def on_Codescanning(self,magics,code)->Tuple[bool,str]:\n",
    "        pass\n",
    "        return False,code\n",
    "    ##生成文件时调用\n",
    "    def on_before_buildfile(self,code,magics)->Tuple[bool,str]:\n",
    "        return False,''\n",
    "    def on_after_buildfile(self,returncode,srcfile,magics)->bool:\n",
    "        return False\n",
    "    def on_before_compile(self,code,magics)->Tuple[bool,str]:\n",
    "        return False,''\n",
    "    def on_after_compile(self,returncode,binfile,magics)->bool:\n",
    "        return False\n",
    "    def on_before_exec(self,code,magics)->Tuple[bool,str]:\n",
    "        return False,''\n",
    "    def on_after_exec(self,returncode,srcfile,magics)->bool:\n",
    "        return False\n",
    "    def on_after_completion(self,returncode,execfile,magics)->bool:\n",
    "        return False\n",
    "\n",
    "\n",
    "##%include:src/_definecodepart.py"
   ]
  },
  {
   "cell_type": "markdown",
   "metadata": {},
   "source": []
  },
  {
   "cell_type": "code",
   "execution_count": 5,
   "metadata": {},
   "outputs": [
    {
     "data": {
      "text/plain": [
       "[MyPython] Info:raise_ICodescan\n"
      ]
     },
     "metadata": {
      "text/plain": {}
     },
     "output_type": "display_data"
    },
    {
     "data": {
      "text/plain": [
       "[MyPython] Info:raise_ICodescan\n"
      ]
     },
     "metadata": {
      "text/plain": {}
     },
     "output_type": "display_data"
    },
    {
     "data": {
      "text/plain": [
       "[MyPython] Info:file /root/Jupyter/Myjupyter-kernel/plugins/src/_definecodepart.py created successfully\n"
      ]
     },
     "metadata": {
      "text/plain": {}
     },
     "output_type": "display_data"
    }
   ],
   "source": [
    "##/%test\n",
    "##%overwritefile\n",
    "##%file:src/_definecodepart.py\n",
    "##%noruncode\n",
    "\n",
    "##test_begin\n",
    "from typing import Dict, Tuple, Sequence,List\n",
    "# from plugins.ISpecialID import IStag,IDtag,IBtag,ITag\n",
    "import os\n",
    "from jinja2 import Environment, PackageLoader, select_autoescape,Template\n",
    "from typing import List, Dict, Tuple, Sequence\n",
    "import re\n",
    "##test_end\n",
    "\n",
    "\n",
    "##test_begin\n",
    "class MyMacro():\n",
    "    name=''\n",
    "    content=''\n",
    "    lastargs={}\n",
    "    def render(self,args):\n",
    "        env = Environment()\n",
    "        template = Template(self.content)\n",
    "        ret=template.render(args)\n",
    "        # print('ret'+'\\n')\n",
    "        return ret\n",
    "class Test():\n",
    "    ##%include:../src/_is_specialID.py\n",
    "    def macrolist(self,magics):\n",
    "        # self._log(\"---------MacroList--------\\n\")\n",
    "        for key,value in magics['define'].items():\n",
    "            print( key)        \n",
    "##test_end\n",
    "    def loadmacrofile(self,file:str):\n",
    "        ##TODO 装入宏文件\n",
    "        pass\n",
    "    def delmacro(self,magics,name:str):\n",
    "        del magics['define'][name]\n",
    "    def addmacro(self,magics,macrostr:str)->bool:\n",
    "        # self.kobj.addkey2dict(magics,'define')\n",
    "        name=''\n",
    "        args=''\n",
    "        content=''\n",
    "        ##\n",
    "        #TODO 解析 macrostr\n",
    "        if self.kobj._is_specialID(macrostr):\n",
    "            findObj= re.search( r':(.*)',macrostr)\n",
    "            if not findObj or len(findObj.group(0))<2:\n",
    "                return False\n",
    "        else:\n",
    "            return False\n",
    "        key, value = macrostr.strip()[3:].split(\":\", 2)\n",
    "        key = key.strip().lower()\n",
    "        if key != \"define\":\n",
    "            return False\n",
    "        name=''\n",
    "        content=''\n",
    "        li = value.strip().split(\" \", 1)\n",
    "        if len(li)>0:\n",
    "            name = li[0].strip()\n",
    "        if len(li)>1:\n",
    "            content = li[1].strip()\n",
    "        ##\n",
    "        # m.args=args\n",
    "        # if not self.magics['define'].__contains__(name):\n",
    "        #     d={name:content}\n",
    "        #     magics['define'].update(d)\n",
    "        # else:\n",
    "        magics['define'][name]=content        \n",
    "        return True\n",
    "##test_begin\n",
    "test=Test()\n",
    "test.addmacro('##%define: m1  content {{name}} end')\n",
    "test.macrolist()\n",
    "ret=test.macrorender('m1',{'name':' --- '})\n",
    "print(ret+'\\n')\n",
    "##test_end"
   ]
  },
  {
   "cell_type": "code",
   "execution_count": null,
   "metadata": {},
   "outputs": [],
   "source": [
    "   "
   ]
  }
 ],
 "metadata": {
  "interpreter": {
   "hash": "916dbcbb3f70747c44a77c7bcd40155683ae19c65e1c03b4aa3499c5328201f1"
  },
  "kernelspec": {
   "display_name": "MyPython",
   "language": "Python",
   "name": "mypython"
  },
  "language_info": {
   "codemirror_mode": {
    "name": "ipython",
    "version": 3
   },
   "file_extension": ".py",
   "mimetype": "text/x-python",
   "name": "python",
   "nbconvert_exporter": "python",
   "pygments_lexer": "ipython3",
   "version": "3.9.7"
  },
  "orig_nbformat": 4
 },
 "nbformat": 4,
 "nbformat_minor": 2
}
