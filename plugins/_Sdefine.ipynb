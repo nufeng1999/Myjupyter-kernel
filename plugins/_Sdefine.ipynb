{
 "cells": [
  {
   "cell_type": "code",
   "execution_count": 16,
   "metadata": {},
   "outputs": [
    {
     "name": "stdout",
     "output_type": "stream",
     "text": [
      "copy to :/root/Jupyter/Myjupyter-kernel/plugins/../../jupyter-MyPython-kernel/plugins/define.py\n",
      "copy to :/root/Jupyter/Myjupyter-kernel/plugins/../../jupyter-MyC-kernel/plugins/define.py\n",
      "copy to :/root/Jupyter/Myjupyter-kernel/plugins/../../jupyter-MyDart-kernel/plugins/define.py\n",
      "[MyPythonkernel] Info:file /root/Jupyter/Myjupyter-kernel/plugins/src/define.py created successfully\n"
     ]
    }
   ],
   "source": [
    "##%overwritefile\n",
    "##%file:src/define.py\n",
    "##%file:../../jupyter-MyPython-kernel/plugins/define.py\n",
    "##%file:../../jupyter-MyC-kernel/plugins/define.py\n",
    "##%file:../../jupyter-MyDart-kernel/plugins/define.py\n",
    "\n",
    "##%file:../../jupyter-MyKotlin-kernel/plugins/define.py\n",
    "##%file:../../jupyter-MyGroovy-kernel/plugins/define.py\n",
    "##%file:../../jupyter-MyJava-kernel/plugins/define.py\n",
    "##%noruncode\n",
    "from typing import Dict, Tuple, Sequence,List\n",
    "from plugins.ISpecialID import IStag,IDtag,IBtag,ITag\n",
    "import os\n",
    "import re\n",
    "class Mydefine(IStag):\n",
    "    kobj=None\n",
    "    def getName(self) -> str:\n",
    "        # self.kobj._write_to_stdout(\"setKernelobj setKernelobj setKernelobj\\n\")\n",
    "        return 'Mydefine'\n",
    "    def getAuthor(self) -> str:\n",
    "        return 'Author'\n",
    "    def getIntroduction(self) -> str:\n",
    "        return 'Mydefine'\n",
    "    def getPriority(self)->int:\n",
    "        return 0\n",
    "    def getExcludeID(self)->List[str]:\n",
    "        return []\n",
    "    def getIDSptag(self) -> List[str]:\n",
    "        return ['define']\n",
    "    def setKernelobj(self,obj):\n",
    "        self.kobj=obj\n",
    "        # self.kobj._write_to_stdout(\"setKernelobj setKernelobj setKernelobj\\n\")\n",
    "        return\n",
    "    def on_shutdown(self, restart):\n",
    "        return\n",
    "    def on_ISpCodescanning(self,key, value,magics,line) -> str:\n",
    "        # self.kobj._write_to_stdout(line+\" on_ISpCodescanning\\n\")\n",
    "        self.kobj.addkey2dict(magics,'define')\n",
    "        envdict=self.kobj._filter_env(value)\n",
    "        magics[key] =dict(envdict)\n",
    "        return ''\n",
    "    ##生成文件时调用\n",
    "    def on_before_buildfile(self,code,magics)->Tuple[bool,str]:\n",
    "        return False,''\n",
    "    def on_after_buildfile(self,returncode,srcfile,magics)->bool:\n",
    "        return False\n",
    "    def on_before_compile(self,code,magics)->Tuple[bool,str]:\n",
    "        return False,''\n",
    "    def on_after_compile(self,returncode,binfile,magics)->bool:\n",
    "        return False\n",
    "    def on_before_exec(self,code,magics)->Tuple[bool,str]:\n",
    "        return False,''\n",
    "    def on_after_exec(self,returncode,srcfile,magics)->bool:\n",
    "        return False\n",
    "    def on_after_completion(self,returncode,execfile,magics)->bool:\n",
    "        return False\n",
    "\n",
    "##%include:src/_definecodepart.py"
   ]
  },
  {
   "cell_type": "markdown",
   "metadata": {},
   "source": []
  },
  {
   "cell_type": "code",
   "execution_count": 4,
   "metadata": {},
   "outputs": [
    {
     "name": "stdout",
     "output_type": "stream",
     "text": [
      "[MyPythonkernel] Info:file /root/Jupyter/Myjupyter-kernel/plugins/src/_definecodepart.py created successfully\n",
      "The process :/root/Jupyter/Myjupyter-kernel/plugins/src/_definecodepart.py\n"
     ]
    },
    {
     "data": {
      "text/plain": [
       "m1\n"
      ]
     },
     "metadata": {
      "text/plain": {}
     },
     "output_type": "display_data"
    },
    {
     "data": {
      "text/plain": [
       " content  ---  end\n",
       "\n"
      ]
     },
     "metadata": {
      "text/plain": {}
     },
     "output_type": "display_data"
    },
    {
     "name": "stdout",
     "output_type": "stream",
     "text": [
      "The process end:6976\n"
     ]
    }
   ],
   "source": [
    "##%test\n",
    "##%overwritefile\n",
    "##%file:src/_definecodepart.py\n",
    "##test_begin\n",
    "from typing import Dict, Tuple, Sequence,List\n",
    "# from plugins.ISpecialID import IStag,IDtag,IBtag,ITag\n",
    "import os\n",
    "from jinja2 import Environment, PackageLoader, select_autoescape,Template\n",
    "from typing import List, Dict, Tuple, Sequence\n",
    "import re\n",
    "##test_end\n",
    "\n",
    "##test_begin\n",
    "class MyMacro():\n",
    "    name=''\n",
    "    content=''\n",
    "    lastargs={}\n",
    "    def render(self,args):\n",
    "        env = Environment()\n",
    "        template = Template(self.content)\n",
    "        ret=template.render(args)\n",
    "        # print('ret'+'\\n')\n",
    "        return ret\n",
    "\n",
    "class Test():\n",
    "##test_end\n",
    "##%include:../src/_is_specialID.py\n",
    "    g_macros={}\n",
    "    def macrolist(self):\n",
    "        # self._log(\"---------MacroList--------\\n\")\n",
    "        for key,value in self.g_macros.items():\n",
    "            print( key)        \n",
    "    def loadmacrofile(self,file:str):\n",
    "        ##TODO 装入宏文件\n",
    "        pass\n",
    "    def delmacro(self,name:str):\n",
    "        del g_macros[name]\n",
    "    def addmacro(self,macrostr:str)->bool:\n",
    "        name=''\n",
    "        args=''\n",
    "        content=''\n",
    "        ##\n",
    "        #TODO 解析 macrostr\n",
    "        if self._is_specialID(macrostr):\n",
    "            findObj= re.search( r':(.*)',macrostr)\n",
    "            if not findObj or len(findObj.group(0))<2:\n",
    "                return False\n",
    "        else:\n",
    "            return False\n",
    "        key, value = macrostr.strip()[3:].split(\":\", 2)\n",
    "        key = key.strip().lower()\n",
    "        if key != \"define\":\n",
    "            return False\n",
    "        name,content = value.strip().split(\" \", 1)\n",
    "        ##\n",
    "        m=MyMacro()\n",
    "        m.name=name\n",
    "        m.content=content\n",
    "        # m.args=args\n",
    "        if not self.g_macros.__contains__(name):\n",
    "            d={name:None}\n",
    "            self.g_macros.update(d)\n",
    "        self.g_macros[name]=m\n",
    "    def macrorender(self,name:str,args:Dict)->str:\n",
    "        if not self.g_macros.__contains__(name):\n",
    "            return ''\n",
    "        m=self.g_macros[name]\n",
    "        return m.render(args)\n",
    "##test_begin\n",
    "test=Test()\n",
    "test.addmacro('##%define: m1  content {{name}} end')\n",
    "test.macrolist()\n",
    "ret=test.macrorender('m1',{'name':' --- '})\n",
    "print(ret+'\\n')\n",
    "##test_end"
   ]
  },
  {
   "cell_type": "code",
   "execution_count": null,
   "metadata": {},
   "outputs": [],
   "source": [
    "    def _is_if(self,line):\n",
    "        if line==None or line=='':return ''\n",
    "        return line.strip().startswith('##if') or line.strip().startswith('//if')\n",
    "    def _is_else(self,line):\n",
    "        if line==None or line=='':return ''\n",
    "        return line.strip().startswith('##else') or line.strip().startswith('//else')\n",
    "    def _is_endif(self,line):\n",
    "        if line==None or line=='':return ''\n",
    "        return line.strip().startswith('##endif') or line.strip().startswith('//endif')\n",
    "\n",
    "    isifmacro=False\n",
    "    def ifmcode(self,line):\n",
    "        if not self.isifmacro:\n",
    "            istb=self._is_if(line)\n",
    "            if istb: \n",
    "                #登记 if\n",
    "                self.isifmacro=True\n",
    "                if len(line.strip())>5:\n",
    "                    iste=self._is_endif(line)\n",
    "                    #注销 if\n",
    "                    if iste:self.isifmacro=False\n",
    "                return ''\n",
    "        istl=self._is_else(line):\n",
    "        if istl:\n",
    "            #登记 else\n",
    "            # self.isifmacro=False\n",
    "            return ''\n",
    "        iste=self._is_endif(line)\n",
    "        if iste:\n",
    "            #注销 if\n",
    "            self.isifmacro=False\n",
    "            return ''\n",
    "        line= \"\" if self.isifmacro else line\n",
    "        return line\n",
    "    \n"
   ]
  }
 ],
 "metadata": {
  "kernelspec": {
   "display_name": "MyPython",
   "language": "Python",
   "name": "mypython"
  },
  "orig_nbformat": 4
 },
 "nbformat": 4,
 "nbformat_minor": 2
}
