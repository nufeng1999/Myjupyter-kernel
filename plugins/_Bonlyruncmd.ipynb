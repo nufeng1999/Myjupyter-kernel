{
 "cells": [
  {
   "cell_type": "code",
   "execution_count": 4,
   "metadata": {},
   "outputs": [
    {
     "name": "stdout",
     "output_type": "stream",
     "text": [
      "copy to :/root/Jupyter/Myjupyter-kernel/plugins/../../jupyter-MyPython-kernel/plugins/onlyruncmd.py\n",
      "copy to :/root/Jupyter/Myjupyter-kernel/plugins/../../jupyter-MyC-kernel/plugins/onlyruncmd.py\n",
      "copy to :/root/Jupyter/Myjupyter-kernel/plugins/../../jupyter-MyDart-kernel/plugins/onlyruncmd.py\n",
      "[MyPythonkernel] Info:file /root/Jupyter/Myjupyter-kernel/plugins/src/onlyruncmd.py created successfully\n"
     ]
    }
   ],
   "source": [
    "##%overwritefile\n",
    "##%file:src/onlyruncmd.py\n",
    "##%file:../../jupyter-MyPython-kernel/plugins/onlyruncmd.py\n",
    "##%file:../../jupyter-MyC-kernel/plugins/onlyruncmd.py\n",
    "##%file:../../jupyter-MyDart-kernel/plugins/onlyruncmd.py\n",
    "##%noruncode\n",
    "from typing import Dict, Tuple, Sequence,List\n",
    "from plugins.ISpecialID import IStag,IDtag,IBtag,ITag\n",
    "import os\n",
    "class Myonlyruncmd(IBtag):\n",
    "    kobj=None\n",
    "    def getName(self) -> str:\n",
    "        # self.kobj._write_to_stdout(\"setKernelobj setKernelobj setKernelobj\\n\")\n",
    "        \n",
    "        return 'Myonlyruncmd'\n",
    "    def getAuthor(self) -> str:\n",
    "        return 'Author'\n",
    "    def getIntroduction(self) -> str:\n",
    "        return 'Myonlyruncmd'\n",
    "    def getPriority(self)->int:\n",
    "        return 0\n",
    "    def getExcludeID(self)->List[str]:\n",
    "        return []\n",
    "    def getIDBptag(self) -> List[str]:\n",
    "        return ['onlyruncmd']\n",
    "    def setKernelobj(self,obj):\n",
    "        self.kobj=obj\n",
    "        # self.kobj._write_to_stdout(\"setKernelobj setKernelobj setKernelobj\\n\")\n",
    "        return\n",
    "    def on_shutdown(self, restart):\n",
    "        return\n",
    "    def on_IBpCodescanning(self,magics,line) -> str:\n",
    "        # self.kobj._write_to_stdout(line+\" on_IBpCodescanning\\n\")\n",
    "        self.kobj.addkey2dict(magics,'onlyruncmd')\n",
    "        magics['onlyruncmd'] = ['true']\n",
    "        # self.kobj._log(magics['onlyruncmd']+\" on_IBpCodescanning\\n\")\n",
    "        return ''\n",
    "    ##生成文件时调用\n",
    "    def on_before_buildfile(self,code,magics)->Tuple[bool,str]:\n",
    "        return True,''\n",
    "    def on_after_buildfile(self,returncode,srcfile,magics)->bool:\n",
    "        return False\n",
    "    def on_before_compile(self,code,magics)->Tuple[bool,str]:\n",
    "        return False,''\n",
    "    def on_after_compile(self,returncode,binfile,magics)->bool:\n",
    "        return False\n",
    "    def on_before_exec(self,code,magics)->Tuple[bool,str]:\n",
    "        return False,''\n",
    "    def on_after_exec(self,returncode,srcfile,magics)->bool:\n",
    "        return False\n",
    "    def on_after_completion(self,returncode,execfile,magics)->bool:\n",
    "        return False\n",
    "\n",
    "    "
   ]
  },
  {
   "cell_type": "code",
   "execution_count": null,
   "metadata": {},
   "outputs": [],
   "source": []
  }
 ],
 "metadata": {
  "kernelspec": {
   "display_name": "MyPython",
   "language": "Python",
   "name": "mypython"
  },
  "orig_nbformat": 4
 },
 "nbformat": 4,
 "nbformat_minor": 2
}
