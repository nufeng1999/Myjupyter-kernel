{
 "cells": [
  {
   "cell_type": "code",
   "execution_count": 4,
   "metadata": {},
   "outputs": [
    {
     "data": {
      "text/plain": [
       "[MyPython] Info:copy to :H:/Jupyter/Myjupyter-kernel/plugins/../../jupyter-MyPython-kernel/plugins/showpid.py\n"
      ]
     },
     "metadata": {
      "text/plain": {}
     },
     "output_type": "display_data"
    },
    {
     "data": {
      "text/plain": [
       "[MyPython] Info:copy to :H:/Jupyter/Myjupyter-kernel/plugins/../../jupyter-MyC-kernel/plugins/showpid.py\n"
      ]
     },
     "metadata": {
      "text/plain": {}
     },
     "output_type": "display_data"
    },
    {
     "data": {
      "text/plain": [
       "[MyPython] Info:copy to :H:/Jupyter/Myjupyter-kernel/plugins/../../jupyter-MyDart-kernel/plugins/showpid.py\n"
      ]
     },
     "metadata": {
      "text/plain": {}
     },
     "output_type": "display_data"
    },
    {
     "data": {
      "text/plain": [
       "[MyPython] Info:copy to :H:/Jupyter/Myjupyter-kernel/plugins/../../jupyter-MyKotlin-kernel/plugins/showpid.py\n"
      ]
     },
     "metadata": {
      "text/plain": {}
     },
     "output_type": "display_data"
    },
    {
     "data": {
      "text/plain": [
       "[MyPython] Info:copy to :H:/Jupyter/Myjupyter-kernel/plugins/../../jupyter-MyGroovy-kernel/plugins/showpid.py\n"
      ]
     },
     "metadata": {
      "text/plain": {}
     },
     "output_type": "display_data"
    },
    {
     "data": {
      "text/plain": [
       "[MyPython] Info:copy to :H:/Jupyter/Myjupyter-kernel/plugins/../../jupyter-MyJava-kernel/plugins/showpid.py\n"
      ]
     },
     "metadata": {
      "text/plain": {}
     },
     "output_type": "display_data"
    },
    {
     "data": {
      "text/plain": [
       "[MyPython] Info:copy to :H:/Jupyter/Myjupyter-kernel/plugins/../../jupyter-MyGjs-kernel/plugins/showpid.py\n"
      ]
     },
     "metadata": {
      "text/plain": {}
     },
     "output_type": "display_data"
    },
    {
     "data": {
      "text/plain": [
       "[MyPython] Info:copy to :H:/Jupyter/Myjupyter-kernel/plugins/../../jupyter-MyVala-kernel/plugins/showpid.py\n"
      ]
     },
     "metadata": {
      "text/plain": {}
     },
     "output_type": "display_data"
    },
    {
     "data": {
      "text/plain": [
       "[MyPython] Info:copy to :H:/Jupyter/Myjupyter-kernel/plugins/../../jupyter-MyNodejs-kernel/plugins/showpid.py\n"
      ]
     },
     "metadata": {
      "text/plain": {}
     },
     "output_type": "display_data"
    },
    {
     "data": {
      "text/plain": [
       "[MyPython] Info:copy to :H:/Jupyter/Myjupyter-kernel/plugins/../../jupyter-MyBash-kernel/plugins/showpid.py\n"
      ]
     },
     "metadata": {
      "text/plain": {}
     },
     "output_type": "display_data"
    },
    {
     "data": {
      "text/plain": [
       "[MyPython] Info:file H:/Jupyter/Myjupyter-kernel/plugins/src/showpid.py created successfully\n"
      ]
     },
     "metadata": {
      "text/plain": {}
     },
     "output_type": "display_data"
    }
   ],
   "source": [
    "##%overwritefile\n",
    "##%file:src/showpid.py\n",
    "##%file:../../jupyter-MyPython-kernel/plugins/showpid.py\n",
    "##%file:../../jupyter-MyC-kernel/plugins/showpid.py\n",
    "##%file:../../jupyter-MyDart-kernel/plugins/showpid.py\n",
    "\n",
    "##%file:../../jupyter-MyKotlin-kernel/plugins/showpid.py\n",
    "##%file:../../jupyter-MyGroovy-kernel/plugins/showpid.py\n",
    "##%file:../../jupyter-MyJava-kernel/plugins/showpid.py\n",
    "##%file:../../jupyter-MyGjs-kernel/plugins/showpid.py\n",
    "##%file:../../jupyter-MyVala-kernel/plugins/showpid.py\n",
    "##%file:../../jupyter-MyNodejs-kernel/plugins/showpid.py\n",
    "##%file:../../jupyter-MyBash-kernel/plugins/showpid.py\n",
    "##%file:../../jupyter-MyVBScript-kernel/plugins/showpid.py\n",
    "##%file:../../jupyter-MyWLS-kernel/plugins/showpid.py\n",
    "##%noruncode\n",
    "from typing import Dict, Tuple, Sequence,List\n",
    "from plugins.ISpecialID import IStag,IDtag,IBtag,ITag\n",
    "import os\n",
    "class MyShowpid(IBtag):\n",
    "    kobj=None\n",
    "    def getName(self) -> str:\n",
    "        # self.kobj._write_to_stdout(\"setKernelobj setKernelobj setKernelobj\\n\")\n",
    "        \n",
    "        return 'MyShowpid'\n",
    "    def getAuthor(self) -> str:\n",
    "        return 'Author'\n",
    "    def getIntroduction(self) -> str:\n",
    "        return 'MyShowpid'\n",
    "    def getPriority(self)->int:\n",
    "        return 0\n",
    "    def getExcludeID(self)->List[str]:\n",
    "        return []\n",
    "    def getIDBptag(self) -> List[str]:\n",
    "        return ['showpid']\n",
    "    def setKernelobj(self,obj):\n",
    "        self.kobj=obj\n",
    "        # self.kobj._write_to_stdout(\"setKernelobj setKernelobj setKernelobj\\n\")\n",
    "        return\n",
    "    def on_shutdown(self, restart):\n",
    "        return\n",
    "    def on_IBpCodescanning(self,magics,line) -> str:\n",
    "        # self.kobj._write_to_stdout(line+\" on_ISpCodescanning\\n\")\n",
    "        self.kobj.addkey2dict(magics,'showpid')\n",
    "        magics['showpid'] = ['true']\n",
    "        return ''\n",
    "    ##在代码预处理前扫描代码时调用    \n",
    "    def on_Codescanning(self,magics,code)->Tuple[bool,str]:\n",
    "        pass\n",
    "        return False,code\n",
    "    ##生成文件时调用\n",
    "    def on_before_buildfile(self,code,magics)->Tuple[bool,str]:\n",
    "        return False,''\n",
    "    def on_after_buildfile(self,returncode,srcfile,magics)->bool:\n",
    "        return False\n",
    "    def on_before_compile(self,code,magics)->Tuple[bool,str]:\n",
    "        return False,''\n",
    "    def on_after_compile(self,returncode,binfile,magics)->bool:\n",
    "        return False\n",
    "    def on_before_exec(self,code,magics)->Tuple[bool,str]:\n",
    "        return False,''\n",
    "    def on_after_exec(self,returncode,srcfile,magics)->bool:\n",
    "        return False\n",
    "    def on_after_completion(self,returncode,execfile,magics)->bool:\n",
    "        return False\n",
    "\n",
    "    "
   ]
  },
  {
   "cell_type": "code",
   "execution_count": null,
   "metadata": {},
   "outputs": [],
   "source": []
  }
 ],
 "metadata": {
  "kernelspec": {
   "display_name": "MyPython",
   "language": "Python",
   "name": "mypython"
  },
  "orig_nbformat": 4
 },
 "nbformat": 4,
 "nbformat_minor": 2
}
