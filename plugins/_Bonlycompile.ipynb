{
 "cells": [
  {
   "cell_type": "code",
   "execution_count": 4,
   "metadata": {},
   "outputs": [
    {
     "name": "stdout",
     "output_type": "stream",
     "text": [
      "[MyPython] Info:copy to :h:\\Jupyter\\Myjupyter-kernel\\plugins\\../../jupyter-MyC-kernel/plugins/onlycompile.py\n",
      "[MyPython] Info:copy to :h:\\Jupyter\\Myjupyter-kernel\\plugins\\../../jupyter-MyDart-kernel/plugins/onlycompile.py\n",
      "[MyPython] Info:copy to :h:\\Jupyter\\Myjupyter-kernel\\plugins\\../../jupyter-MyKotlin-kernel/plugins/onlycompile.py\n",
      "[MyPython] Info:copy to :h:\\Jupyter\\Myjupyter-kernel\\plugins\\../../jupyter-MyGroovy-kernel/plugins/onlycompile.py\n",
      "[MyPython] Info:copy to :h:\\Jupyter\\Myjupyter-kernel\\plugins\\../../jupyter-MyJava-kernel/plugins/onlycompile.py\n",
      "[MyPython] Info:copy to :h:\\Jupyter\\Myjupyter-kernel\\plugins\\../../jupyter-MyBatch-kernel/plugins/onlycompile.py\n",
      "[MyPython] Info:copy to :h:\\Jupyter\\Myjupyter-kernel\\plugins\\../../jupyter-MyPS-kernel/plugins/onlycompile.py\n",
      "[MyPython] Info:copy to :h:\\Jupyter\\Myjupyter-kernel\\plugins\\../../jupyter-MyGjs-kernel/plugins/onlycompile.py\n",
      "[MyPython] Info:copy to :h:\\Jupyter\\Myjupyter-kernel\\plugins\\../../jupyter-MyVala-kernel/plugins/onlycompile.py\n",
      "[MyPython] Info:copy to :h:\\Jupyter\\Myjupyter-kernel\\plugins\\../../jupyter-MyNodejs-kernel/plugins/onlycompile.py\n",
      "[MyPython] Info:copy to :h:\\Jupyter\\Myjupyter-kernel\\plugins\\../../jupyter-MyBash-kernel/plugins/onlycompile.py\n",
      "[MyPython] Info:copy to :h:\\Jupyter\\Myjupyter-kernel\\plugins\\../../jupyter-MyVBScript-kernel/plugins/onlycompile.py\n",
      "[MyPython] Info:copy to :h:\\Jupyter\\Myjupyter-kernel\\plugins\\../../jupyter-MyWLS-kernel/plugins/onlycompile.py\n",
      "[MyPython] Info:copy to :h:\\Jupyter\\Myjupyter-kernel\\plugins\\../../jupyter-MyGo-kernel/plugins/onlycompile.py\n",
      "[MyPython] Info:copy to :h:\\Jupyter\\Myjupyter-kernel\\plugins\\../../jupyter-MyHtml-kernel/plugins/onlycompile.py\n",
      "[MyPython] Info:copy to :h:\\Jupyter\\Myjupyter-kernel\\plugins\\../../jupyter-MyTypeScript-kernel/plugins/onlycompile.py\n",
      "[MyPython] Info:file h:\\Jupyter\\Myjupyter-kernel\\plugins\\../../jupyter-MyPython-kernel/plugins/onlycompile.py created successfully\n"
     ]
    }
   ],
   "source": [
    "##%overwritefile\n",
    "## %file:src/onlycompile.py\n",
    "##%fnlist:Python C Dart Kotlin Groovy Java Batch PS R Swift Lua Perl PHP\n",
    "##%fnlist:Gjs Vala Nodejs Bash VBScript WLS Go Html TypeScript\n",
    "##%fileforlist:../../jupyter-My$fnlist-kernel/plugins/onlycompile.py\n",
    "##%noruncode\n",
    "from typing import Dict, Tuple, Sequence,List\n",
    "from plugins.ISpecialID import IStag,IDtag,IBtag,ITag\n",
    "import os\n",
    "class Myonlycompile(IBtag):\n",
    "    kobj=None\n",
    "    def getName(self) -> str:\n",
    "        return 'Myonlycompile'\n",
    "    def getAuthor(self) -> str:\n",
    "        return 'Author'\n",
    "    def getIntroduction(self) -> str:\n",
    "        return 'Myonlycompile'\n",
    "    def getPriority(self)->int:\n",
    "        return 0\n",
    "    def getExcludeID(self)->List[str]:\n",
    "        return []\n",
    "    def getIDBptag(self) -> List[str]:\n",
    "        return ['onlycompile']\n",
    "    def setKernelobj(self,obj):\n",
    "        self.kobj=obj\n",
    "        # self.kobj._write_to_stdout(\"setKernelobj setKernelobj setKernelobj\\n\")\n",
    "        return\n",
    "    def on_shutdown(self, restart):\n",
    "        return\n",
    "    def on_IBpCodescanning(self,magics,line) -> str:\n",
    "        # self.kobj._write_to_stdout(line+\" on_IBpCodescanning\\n\")\n",
    "        self.kobj.addkey2dict(magics,'onlycompile')\n",
    "        magics['onlycompile'] = ['true']\n",
    "        # self.kobj._log(magics['onlycompile']+\" on_IBpCodescanning\\n\")\n",
    "        return ''\n",
    "    ##在代码预处理前扫描代码时调用    \n",
    "    def on_Codescanning(self,magics,code)->Tuple[bool,str]:\n",
    "        pass\n",
    "        return False,code\n",
    "    ##生成文件时调用\n",
    "    def on_before_buildfile(self,code,magics)->Tuple[bool,str]:\n",
    "        return False,''\n",
    "    def on_after_buildfile(self,returncode,srcfile,magics)->bool:\n",
    "        return False\n",
    "    def on_before_compile(self,code,magics)->Tuple[bool,str]:\n",
    "        return False,''\n",
    "    def on_after_compile(self,returncode,binfile,magics)->bool:\n",
    "        return False\n",
    "    def on_before_exec(self,code,magics)->Tuple[bool,str]:\n",
    "        return False,''\n",
    "    def on_after_exec(self,returncode,srcfile,magics)->bool:\n",
    "        return False\n",
    "    def on_after_completion(self,returncode,execfile,magics)->bool:\n",
    "        return False\n",
    "\n",
    "    "
   ]
  },
  {
   "cell_type": "code",
   "execution_count": null,
   "metadata": {},
   "outputs": [],
   "source": []
  }
 ],
 "metadata": {
  "kernelspec": {
   "display_name": "MyPython",
   "language": "Python",
   "name": "mypython"
  },
  "orig_nbformat": 4
 },
 "nbformat": 4,
 "nbformat_minor": 2
}
