{
 "cells": [
  {
   "cell_type": "code",
   "execution_count": 4,
   "metadata": {},
   "outputs": [
    {
     "data": {
      "text/plain": [
       "[MyPython] Info:copy to :h:\\Jupyter\\Myjupyter-kernel\\plugins\\../../jupyter-MyPython-kernel/plugins/include.py\n"
      ]
     },
     "metadata": {
      "text/plain": {}
     },
     "output_type": "display_data"
    },
    {
     "data": {
      "text/plain": [
       "[MyPython] Info:copy to :h:\\Jupyter\\Myjupyter-kernel\\plugins\\../../jupyter-MyC-kernel/plugins/include.py\n"
      ]
     },
     "metadata": {
      "text/plain": {}
     },
     "output_type": "display_data"
    },
    {
     "data": {
      "text/plain": [
       "[MyPython] Info:copy to :h:\\Jupyter\\Myjupyter-kernel\\plugins\\../../jupyter-MyDart-kernel/plugins/include.py\n"
      ]
     },
     "metadata": {
      "text/plain": {}
     },
     "output_type": "display_data"
    },
    {
     "data": {
      "text/plain": [
       "[MyPython] Info:copy to :h:\\Jupyter\\Myjupyter-kernel\\plugins\\../../jupyter-MyKotlin-kernel/plugins/include.py\n"
      ]
     },
     "metadata": {
      "text/plain": {}
     },
     "output_type": "display_data"
    },
    {
     "data": {
      "text/plain": [
       "[MyPython] Info:copy to :h:\\Jupyter\\Myjupyter-kernel\\plugins\\../../jupyter-MyGroovy-kernel/plugins/include.py\n"
      ]
     },
     "metadata": {
      "text/plain": {}
     },
     "output_type": "display_data"
    },
    {
     "data": {
      "text/plain": [
       "[MyPython] Info:copy to :h:\\Jupyter\\Myjupyter-kernel\\plugins\\../../jupyter-MyJava-kernel/plugins/include.py\n"
      ]
     },
     "metadata": {
      "text/plain": {}
     },
     "output_type": "display_data"
    },
    {
     "data": {
      "text/plain": [
       "[MyPython] Info:copy to :h:\\Jupyter\\Myjupyter-kernel\\plugins\\../../jupyter-MyGjs-kernel/plugins/include.py\n"
      ]
     },
     "metadata": {
      "text/plain": {}
     },
     "output_type": "display_data"
    },
    {
     "data": {
      "text/plain": [
       "[MyPython] Info:copy to :h:\\Jupyter\\Myjupyter-kernel\\plugins\\../../jupyter-MyVala-kernel/plugins/include.py\n"
      ]
     },
     "metadata": {
      "text/plain": {}
     },
     "output_type": "display_data"
    },
    {
     "data": {
      "text/plain": [
       "[MyPython] Info:copy to :h:\\Jupyter\\Myjupyter-kernel\\plugins\\../../jupyter-MyNodejs-kernel/plugins/include.py\n"
      ]
     },
     "metadata": {
      "text/plain": {}
     },
     "output_type": "display_data"
    },
    {
     "data": {
      "text/plain": [
       "[MyPython] Info:file h:\\Jupyter\\Myjupyter-kernel\\plugins\\src/include.py created successfully\n"
      ]
     },
     "metadata": {
      "text/plain": {}
     },
     "output_type": "display_data"
    }
   ],
   "source": [
    "##%overwritefile\n",
    "##%file:src/include.py\n",
    "##%file:../../jupyter-MyPython-kernel/plugins/include.py\n",
    "##%file:../../jupyter-MyC-kernel/plugins/include.py\n",
    "##%file:../../jupyter-MyDart-kernel/plugins/include.py\n",
    "\n",
    "##%file:../../jupyter-MyKotlin-kernel/plugins/include.py\n",
    "##%file:../../jupyter-MyGroovy-kernel/plugins/include.py\n",
    "##%file:../../jupyter-MyJava-kernel/plugins/include.py\n",
    "##%file:../../jupyter-MyGjs-kernel/plugins/include.py\n",
    "##%file:../../jupyter-MyVala-kernel/plugins/include.py\n",
    "##%file:../../jupyter-MyNodejs-kernel/plugins/include.py\n",
    "##//%include:src/test1.py\n",
    "##%noruncode\n",
    "from typing import Dict, Tuple, Sequence,List\n",
    "from plugins.ISpecialID import IStag,IDtag,IBtag,ITag\n",
    "from plugins._filter2_magics import Magics\n",
    "import os\n",
    "class MyInclude(IStag):\n",
    "    kobj=None\n",
    "    def getName(self) -> str:\n",
    "        # self.kobj._write_to_stdout(\"setKernelobj setKernelobj setKernelobj\\n\")\n",
    "        \n",
    "        return 'MyInclude'\n",
    "    def getAuthor(self) -> str:\n",
    "        return 'Author'\n",
    "    def getIntroduction(self) -> str:\n",
    "        return 'MyInclude'\n",
    "    def getPriority(self)->int:\n",
    "        return 0\n",
    "    def getExcludeID(self)->List[str]:\n",
    "        return []\n",
    "    def getIDSptag(self) -> List[str]:\n",
    "        return ['include']\n",
    "    def setKernelobj(self,obj):\n",
    "        self.kobj=obj\n",
    "        # self.kobj._write_to_stdout(\"setKernelobj setKernelobj setKernelobj\\n\")\n",
    "        return\n",
    "    def on_shutdown(self, restart):\n",
    "        return\n",
    "    def on_ISpCodescanning(self,key, value,magics,line) -> str:\n",
    "        # self.kobj._write_to_stdout(line+\" on_ISpCodescanning\\n\")\n",
    "        self.kobj.addkey2dict(magics,'include')\n",
    "        return self.includehander(self,key, value,magics,line)\n",
    "    ##在代码预处理前扫描代码时调用    \n",
    "    def on_Codescanning(self,magics,code)->Tuple[bool,str]:\n",
    "        pass\n",
    "        return False,code\n",
    "    ##生成文件时调用\n",
    "    def on_before_buildfile(self,code,magics)->Tuple[bool,str]:\n",
    "        return False,''\n",
    "    def on_after_buildfile(self,returncode,srcfile,magics)->bool:\n",
    "        return False\n",
    "    def on_before_compile(self,code,magics)->Tuple[bool,str]:\n",
    "        return False,''\n",
    "    def on_after_compile(self,returncode,binfile,magics)->bool:\n",
    "        return False\n",
    "    def on_before_exec(self,code,magics)->Tuple[bool,str]:\n",
    "        return False,''\n",
    "    def on_after_exec(self,returncode,srcfile,magics)->bool:\n",
    "        return False\n",
    "    def on_after_completion(self,returncode,execfile,magics)->bool:\n",
    "        return False\n",
    "    def includehander(self,key, value,magics,line):\n",
    "        # self.kobj._write_to_stdout(value+\"\\n\")\n",
    "        if len(value)>0:\n",
    "            magics[key] = value\n",
    "        else:\n",
    "            magics[key] =''\n",
    "            return ''\n",
    "        if len(magics['include'])>0:\n",
    "            index1=line.find('##%')\n",
    "            # self.kobj._write_to_stdout(\"readcodefile\\n\")\n",
    "            line=self.readcodefile(self,magics['include'],index1)\n",
    "        return line\n",
    "    def readcodefile(self,filename,spacecount=0):\n",
    "        filecontent=''\n",
    "        filecode=''\n",
    "        codelist1=None\n",
    "        if not os.path.exists(filename):\n",
    "            return ''\n",
    "        # self.kobj._log(os.path.join(os.path.abspath(''),filename+\"\\n\"))\n",
    "        with open(os.path.join(os.path.abspath(''),filename), 'r',encoding=\"UTF-8\") as codef1:\n",
    "            codelist1 = codef1.readlines()\n",
    "        #扫描源码\n",
    "        # filecode=codelist1\n",
    "        if len(codelist1)>0:\n",
    "            for t in codelist1:\n",
    "                filecontent+=' '*spacecount + t\n",
    "        try:\n",
    "            newmagics,filecontent=self.kobj.mag.filter(filecontent)\n",
    "        except Exception as e:\n",
    "            self.kobj._log(str(e),3)\n",
    "        return filecontent\n"
   ]
  },
  {
   "cell_type": "code",
   "execution_count": 5,
   "metadata": {},
   "outputs": [
    {
     "data": {
      "text/plain": [
       "[MyPython] Info:file h:\\Jupyter\\Myjupyter-kernel\\plugins\\TEST1.py created successfully\n"
      ]
     },
     "metadata": {
      "text/plain": {}
     },
     "output_type": "display_data"
    },
    {
     "data": {
      "text/plain": [
       "[MyPython] Info:The process :h:\\Jupyter\\Myjupyter-kernel\\plugins\\TEST1.py\n"
      ]
     },
     "metadata": {
      "text/plain": {}
     },
     "output_type": "display_data"
    },
    {
     "data": {
      "text/plain": [
       "[MyPython] Info:python3 h:\\Jupyter\\Myjupyter-kernel\\plugins\\TEST1.py \n"
      ]
     },
     "metadata": {
      "text/plain": {}
     },
     "output_type": "display_data"
    },
    {
     "data": {
      "text/plain": [
       "1\r\n",
       "\r\n",
       "3\r\n",
       "\r\n"
      ]
     },
     "metadata": {
      "text/plain": {}
     },
     "output_type": "display_data"
    },
    {
     "data": {
      "text/plain": [
       "The process end:17012\n"
      ]
     },
     "metadata": {
      "text/plain": {}
     },
     "output_type": "display_data"
    }
   ],
   "source": [
    "##TEST\n",
    "##%file:TEST1.py\n",
    "##%include:../src/test.py\n"
   ]
  },
  {
   "cell_type": "code",
   "execution_count": null,
   "metadata": {},
   "outputs": [],
   "source": []
  }
 ],
 "metadata": {
  "interpreter": {
   "hash": "916dbcbb3f70747c44a77c7bcd40155683ae19c65e1c03b4aa3499c5328201f1"
  },
  "kernelspec": {
   "display_name": "MyPython",
   "language": "Python",
   "name": "mypython"
  },
  "orig_nbformat": 4
 },
 "nbformat": 4,
 "nbformat_minor": 2
}
