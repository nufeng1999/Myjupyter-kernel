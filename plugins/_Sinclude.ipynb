{
 "cells": [
  {
   "cell_type": "code",
   "execution_count": 4,
   "metadata": {},
   "outputs": [
    {
     "name": "stdout",
     "output_type": "stream",
     "text": [
      "[MyPython] Info:copy to :h:\\Jupyter\\Myjupyter-kernel\\plugins\\../../jupyter-MyC-kernel/plugins/include.py\n",
      "[MyPython] Info:copy to :h:\\Jupyter\\Myjupyter-kernel\\plugins\\../../jupyter-MyDart-kernel/plugins/include.py\n",
      "[MyPython] Info:copy to :h:\\Jupyter\\Myjupyter-kernel\\plugins\\../../jupyter-MyKotlin-kernel/plugins/include.py\n",
      "[MyPython] Info:copy to :h:\\Jupyter\\Myjupyter-kernel\\plugins\\../../jupyter-MyGroovy-kernel/plugins/include.py\n",
      "[MyPython] Info:copy to :h:\\Jupyter\\Myjupyter-kernel\\plugins\\../../jupyter-MyJava-kernel/plugins/include.py\n",
      "[MyPython] Info:copy to :h:\\Jupyter\\Myjupyter-kernel\\plugins\\../../jupyter-MyBatch-kernel/plugins/include.py\n",
      "[MyPython] Info:copy to :h:\\Jupyter\\Myjupyter-kernel\\plugins\\../../jupyter-MyPS-kernel/plugins/include.py\n",
      "[MyPython] Info:copy to :h:\\Jupyter\\Myjupyter-kernel\\plugins\\../../jupyter-MyR-kernel/plugins/include.py\n",
      "[MyPython] Info:copy to :h:\\Jupyter\\Myjupyter-kernel\\plugins\\../../jupyter-MySwift-kernel/plugins/include.py\n",
      "[MyPython] Info:copy to :h:\\Jupyter\\Myjupyter-kernel\\plugins\\../../jupyter-MyLua-kernel/plugins/include.py\n",
      "[MyPython] Info:copy to :h:\\Jupyter\\Myjupyter-kernel\\plugins\\../../jupyter-MyPerl-kernel/plugins/include.py\n",
      "[MyPython] Info:copy to :h:\\Jupyter\\Myjupyter-kernel\\plugins\\../../jupyter-MyPHP-kernel/plugins/include.py\n",
      "[MyPython] Info:copy to :h:\\Jupyter\\Myjupyter-kernel\\plugins\\../../jupyter-MyGjs-kernel/plugins/include.py\n",
      "[MyPython] Info:copy to :h:\\Jupyter\\Myjupyter-kernel\\plugins\\../../jupyter-MyVala-kernel/plugins/include.py\n",
      "[MyPython] Info:copy to :h:\\Jupyter\\Myjupyter-kernel\\plugins\\../../jupyter-MyNodejs-kernel/plugins/include.py\n",
      "[MyPython] Info:copy to :h:\\Jupyter\\Myjupyter-kernel\\plugins\\../../jupyter-MyBash-kernel/plugins/include.py\n",
      "[MyPython] Info:copy to :h:\\Jupyter\\Myjupyter-kernel\\plugins\\../../jupyter-MyVBScript-kernel/plugins/include.py\n",
      "[MyPython] Info:copy to :h:\\Jupyter\\Myjupyter-kernel\\plugins\\../../jupyter-MyWLS-kernel/plugins/include.py\n",
      "[MyPython] Info:copy to :h:\\Jupyter\\Myjupyter-kernel\\plugins\\../../jupyter-MyGo-kernel/plugins/include.py\n",
      "[MyPython] Info:copy to :h:\\Jupyter\\Myjupyter-kernel\\plugins\\../../jupyter-MyHtml-kernel/plugins/include.py\n",
      "[MyPython] Info:copy to :h:\\Jupyter\\Myjupyter-kernel\\plugins\\../../jupyter-MyTypeScript-kernel/plugins/include.py\n",
      "[MyPython] Info:file h:\\Jupyter\\Myjupyter-kernel\\plugins\\../../jupyter-MyPython-kernel/plugins/include.py created successfully\n"
     ]
    }
   ],
   "source": [
    "##%overwritefile\n",
    "## %file:src/include.py\n",
    "##%fnlist:Python C Dart Kotlin Groovy Java Batch PS R Swift Lua Perl PHP Tcl Vimscript M4\n",
    "##%fnlist:Gjs Vala Nodejs Bash VBScript WLS Go Html TypeScript Make Ruby Rust\n",
    "##%fileforlist:../../jupyter-My$fnlist-kernel/jupyter_My$fnlist_kernel/plugins/include.py\n",
    "##%noruncode\n",
    "from typing import Dict, Tuple, Sequence,List\n",
    "from plugins.ISpecialID import IStag,IDtag,IBtag,ITag\n",
    "from plugins._filter2_magics import Magics\n",
    "import os\n",
    "class MyInclude(IStag):\n",
    "    kobj=None\n",
    "    def getName(self) -> str:\n",
    "        # self.kobj._write_to_stdout(\"setKernelobj setKernelobj setKernelobj\\n\")\n",
    "        \n",
    "        return 'MyInclude'\n",
    "    def getAuthor(self) -> str:\n",
    "        return 'Author'\n",
    "    def getIntroduction(self) -> str:\n",
    "        return 'MyInclude'\n",
    "    def getPriority(self)->int:\n",
    "        return 0\n",
    "    def getExcludeID(self)->List[str]:\n",
    "        return []\n",
    "    def getIDSptag(self) -> List[str]:\n",
    "        return ['include']\n",
    "    def setKernelobj(self,obj):\n",
    "        self.kobj=obj\n",
    "        # self.kobj._write_to_stdout(\"setKernelobj setKernelobj setKernelobj\\n\")\n",
    "        return\n",
    "    def on_shutdown(self, restart):\n",
    "        return\n",
    "    def on_ISpCodescanning(self,key, value,magics,line) -> str:\n",
    "        # self.kobj._write_to_stdout(line+\" on_ISpCodescanning\\n\")\n",
    "        self.kobj.addkey2dict(magics,'include')\n",
    "        return self.includehander(self,key, value,magics,line)\n",
    "    ##在代码预处理前扫描代码时调用    \n",
    "    def on_Codescanning(self,magics,code)->Tuple[bool,str]:\n",
    "        pass\n",
    "        return False,code\n",
    "    ##生成文件时调用\n",
    "    def on_before_buildfile(self,code,magics)->Tuple[bool,str]:\n",
    "        return False,''\n",
    "    def on_after_buildfile(self,returncode,srcfile,magics)->bool:\n",
    "        return False\n",
    "    def on_before_compile(self,code,magics)->Tuple[bool,str]:\n",
    "        return False,''\n",
    "    def on_after_compile(self,returncode,binfile,magics)->bool:\n",
    "        return False\n",
    "    def on_before_exec(self,code,magics)->Tuple[bool,str]:\n",
    "        return False,''\n",
    "    def on_after_exec(self,returncode,srcfile,magics)->bool:\n",
    "        return False\n",
    "    def on_after_completion(self,returncode,execfile,magics)->bool:\n",
    "        return False\n",
    "    def includehander(self,key, value,magics,line):\n",
    "        # self.kobj._write_to_stdout(value+\"\\n\")\n",
    "        if len(value)>0:\n",
    "            magics[key] = value.strip()\n",
    "        else:\n",
    "            magics[key] =''\n",
    "            return ''\n",
    "        if len(magics['include'])>0:\n",
    "            index1=line.find('##%')\n",
    "            if index1<1:\n",
    "                index1=line.find('//%')\n",
    "            spacechar=' '\n",
    "            if index1>0:\n",
    "                spacechar=line[0]\n",
    "            ## self.kobj._logln(magics['include']+\" index1 \"+str(index1))\n",
    "            line=self.readcodefile(self,filename=magics['include'],spacecount=index1,spacechar=spacechar)\n",
    "        return line\n",
    "    def readcodefile(self,filename,spacecount=0,spacechar=' '):\n",
    "        filecontent=''\n",
    "        filecode=''\n",
    "        codelist1=None\n",
    "        # self.kobj._log(os.path.join(os.path.abspath(''),filename+\"\\n\"))\n",
    "        if not os.path.exists(filename):\n",
    "            return ''\n",
    "        with open(os.path.join(os.path.abspath(''),filename), 'r',encoding=\"UTF-8\") as codef1:\n",
    "            codelist1 = codef1.readlines()\n",
    "        #扫描源码\n",
    "        # filecode=codelist1\n",
    "        if len(codelist1)>0:\n",
    "            for t in codelist1:\n",
    "                filecontent+=spacechar*spacecount + t\n",
    "        try:\n",
    "            newmagics,filecontent=self.kobj.mag.filter(filecontent)\n",
    "        except Exception as e:\n",
    "            self.kobj._log(str(e),3)\n",
    "        return filecontent\n"
   ]
  },
  {
   "cell_type": "code",
   "execution_count": 5,
   "metadata": {},
   "outputs": [
    {
     "data": {
      "text/plain": [
       "[MyPython] Info:file h:\\Jupyter\\Myjupyter-kernel\\plugins\\TEST1.py created successfully\n"
      ]
     },
     "metadata": {
      "text/plain": {}
     },
     "output_type": "display_data"
    },
    {
     "data": {
      "text/plain": [
       "[MyPython] Info:The process :h:\\Jupyter\\Myjupyter-kernel\\plugins\\TEST1.py\n"
      ]
     },
     "metadata": {
      "text/plain": {}
     },
     "output_type": "display_data"
    },
    {
     "data": {
      "text/plain": [
       "[MyPython] Info:python3 h:\\Jupyter\\Myjupyter-kernel\\plugins\\TEST1.py \n"
      ]
     },
     "metadata": {
      "text/plain": {}
     },
     "output_type": "display_data"
    },
    {
     "data": {
      "text/plain": [
       "1\r\n",
       "\r\n",
       "3\r\n",
       "\r\n"
      ]
     },
     "metadata": {
      "text/plain": {}
     },
     "output_type": "display_data"
    },
    {
     "data": {
      "text/plain": [
       "The process end:17012\n"
      ]
     },
     "metadata": {
      "text/plain": {}
     },
     "output_type": "display_data"
    }
   ],
   "source": [
    "##TEST\n",
    "##%file:TEST1.py\n",
    "##%include:../src/test.py\n"
   ]
  },
  {
   "cell_type": "code",
   "execution_count": null,
   "metadata": {},
   "outputs": [],
   "source": []
  }
 ],
 "metadata": {
  "interpreter": {
   "hash": "916dbcbb3f70747c44a77c7bcd40155683ae19c65e1c03b4aa3499c5328201f1"
  },
  "kernelspec": {
   "display_name": "MyPython",
   "language": "Python",
   "name": "mypython"
  },
  "orig_nbformat": 4
 },
 "nbformat": 4,
 "nbformat_minor": 2
}
