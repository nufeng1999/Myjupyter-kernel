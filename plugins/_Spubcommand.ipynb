{
 "cells": [
  {
   "cell_type": "code",
   "execution_count": 5,
   "metadata": {},
   "outputs": [
    {
     "data": {
      "text/plain": [
       "[MyPython] Info:copy to :H:/Jupyter/Myjupyter-kernel/plugins/../../jupyter-MyDart-kernel/plugins/pubcommand.py\n"
      ]
     },
     "metadata": {
      "text/plain": {}
     },
     "output_type": "display_data"
    },
    {
     "data": {
      "text/plain": [
       "[MyPython] Info:file H:/Jupyter/Myjupyter-kernel/plugins/src/pubcommand.py created successfully\n"
      ]
     },
     "metadata": {
      "text/plain": {}
     },
     "output_type": "display_data"
    }
   ],
   "source": [
    "##%overwritefile\n",
    "##%file:src/pubcommand.py\n",
    "##%file:../../jupyter-MyDart-kernel/plugins/pubcommand.py\n",
    "##%noruncode\n",
    "from typing import Dict, Tuple, Sequence,List\n",
    "from plugins.ISpecialID import IStag,IDtag,IBtag,ITag\n",
    "import os\n",
    "import re\n",
    "class MyPubcommand(IStag):\n",
    "    kobj=None\n",
    "    def getName(self) -> str:\n",
    "        # self.kobj._write_to_stdout(\"setKernelobj setKernelobj setKernelobj\\n\")\n",
    "        \n",
    "        return 'MyPubcommand'\n",
    "    def getAuthor(self) -> str:\n",
    "        return 'Author'\n",
    "    def getIntroduction(self) -> str:\n",
    "        return 'MyPubcommand'\n",
    "    def getPriority(self)->int:\n",
    "        return 0\n",
    "    def getExcludeID(self)->List[str]:\n",
    "        return []\n",
    "    def getIDSptag(self) -> List[str]:\n",
    "        return ['pubcmd']\n",
    "    def setKernelobj(self,obj):\n",
    "        self.kobj=obj\n",
    "        # self.kobj._write_to_stdout(\"setKernelobj setKernelobj setKernelobj\\n\")\n",
    "        return\n",
    "    def on_shutdown(self, restart):\n",
    "        return\n",
    "    def on_ISpCodescanning(self,key, value,magics,line) -> str:\n",
    "        # self.kobj._write_to_stdout(line+\" on_ISpCodescanning\\n\")\n",
    "        self.kobj.addkey2dict(magics,'pubcmd')\n",
    "        return self.commandhander(self,key, value,magics,line)\n",
    "    ##在代码预处理前扫描代码时调用    \n",
    "    def on_Codescanning(self,magics,code)->Tuple[bool,str]:\n",
    "        pass\n",
    "        return False,code\n",
    "    ##生成文件时调用\n",
    "    def on_before_buildfile(self,code,magics)->Tuple[bool,str]:\n",
    "        return False,''\n",
    "    def on_after_buildfile(self,returncode,srcfile,magics)->bool:\n",
    "        return False\n",
    "    def on_before_compile(self,code,magics)->Tuple[bool,str]:\n",
    "        return False,''\n",
    "    def on_after_compile(self,returncode,binfile,magics)->bool:\n",
    "        return False\n",
    "    def on_before_exec(self,code,magics)->Tuple[bool,str]:\n",
    "        return False,''\n",
    "    def on_after_exec(self,returncode,srcfile,magics)->bool:\n",
    "        return False\n",
    "    def on_after_completion(self,returncode,execfile,magics)->bool:\n",
    "        return False\n",
    "    def commandhander(self,key, value,magics,line):\n",
    "        cmds=[]\n",
    "        for argument in re.findall(r'(?:[^\\s,\"]|\"(?:\\\\.|[^\"])*\")+', value.strip()):\n",
    "            cmds += [argument.strip('\"')]\n",
    "        magics['pubcmd']=cmds\n",
    "        if len(magics['pubcmd'])>0:\n",
    "            self.do_command(self,commands=magics['pubcmd'],magics=magics)\n",
    "        return ''\n",
    "    def do_command(self,commands=None,cwd=None,magics=None):\n",
    "        try:\n",
    "            p = self.kobj.create_jupyter_subprocess(['pub']+commands,cwd=os.path.abspath(''),shell=False,magics=magics)\n",
    "            self.kobj.g_rtsps[str(p.pid)]=p\n",
    "            if magics!=None and len(self.kobj.addkey2dict(magics,'showpid'))>0:\n",
    "                self.kobj._logln(\"The process PID:\"+str(p.pid))\n",
    "            returncode=p.wait_end(magics)\n",
    "            del self.g_rtsps[str(p.pid)]\n",
    "            if returncode != 0:\n",
    "                self.kobj._logln(\"Executable exited with code {}\".format(returncode),3)\n",
    "            else:\n",
    "                self.kobj._logln(\"Info:npm command success.\")\n",
    "        except Exception as e:\n",
    "            self.kobj._logln(\"do_pub_command err:\"+str(e))\n",
    "            raise\n",
    "        return\n",
    "    "
   ]
  },
  {
   "cell_type": "code",
   "execution_count": null,
   "metadata": {},
   "outputs": [],
   "source": []
  }
 ],
 "metadata": {
  "kernelspec": {
   "display_name": "MyPython",
   "language": "Python",
   "name": "mypython"
  },
  "language_info": {
   "codemirror_mode": {
    "name": "ipython",
    "version": 3
   },
   "file_extension": ".py",
   "mimetype": "text/x-python",
   "name": "python",
   "nbconvert_exporter": "python",
   "pygments_lexer": "ipython3",
   "version": "3.9.7"
  },
  "orig_nbformat": 4
 },
 "nbformat": 4,
 "nbformat_minor": 2
}
