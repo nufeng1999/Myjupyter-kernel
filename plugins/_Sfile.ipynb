{
 "cells": [
  {
   "cell_type": "code",
   "execution_count": 4,
   "metadata": {},
   "outputs": [
    {
     "name": "stdout",
     "output_type": "stream",
     "text": [
      "copy to :/root/Jupyter/Myjupyter-kernel/plugins/../../jupyter-MyPython-kernel/plugins/file.py\n",
      "copy to :/root/Jupyter/Myjupyter-kernel/plugins/../../jupyter-MyC-kernel/plugins/file.py\n",
      "copy to :/root/Jupyter/Myjupyter-kernel/plugins/../../jupyter-MyDart-kernel/plugins/file.py\n",
      "[MyPythonkernel] Info:file /root/Jupyter/Myjupyter-kernel/plugins/src/file.py created successfully\n"
     ]
    }
   ],
   "source": [
    "##%overwritefile\n",
    "##%file:src/file.py\n",
    "##%file:../../jupyter-MyPython-kernel/plugins/file.py\n",
    "##%file:../../jupyter-MyC-kernel/plugins/file.py\n",
    "##%file:../../jupyter-MyDart-kernel/plugins/file.py\n",
    "##%noruncode\n",
    "from typing import Dict, Tuple, Sequence,List\n",
    "from plugins.ISpecialID import IStag,IDtag,IBtag,ITag\n",
    "import re\n",
    "class MyFile(IStag):\n",
    "    kobj=None\n",
    "    def getName(self) -> str:\n",
    "        # self.kobj._write_to_stdout(\"setKernelobj setKernelobj setKernelobj\\n\")\n",
    "        return 'MyFile'\n",
    "    def getAuthor(self) -> str:\n",
    "        return 'Author'\n",
    "    def getIntroduction(self) -> str:\n",
    "        return 'MyFile'\n",
    "    def getPriority(self)->int:\n",
    "        return 0\n",
    "    def getExcludeID(self)->List[str]:\n",
    "        return []\n",
    "    def getIDSptag(self) -> List[str]:\n",
    "        return ['file']\n",
    "    def setKernelobj(self,obj):\n",
    "        self.kobj=obj\n",
    "        # self.kobj._write_to_stdout(\"setKernelobj setKernelobj setKernelobj\\n\")\n",
    "        return\n",
    "    def on_shutdown(self, restart):\n",
    "        return\n",
    "    def on_ISpCodescanning(self,key, value,magics,line) -> str:\n",
    "        # return self.filehander(self,key, value,magics,line)\n",
    "        try:\n",
    "            self.kobj.addkey2dict(magics,'file')\n",
    "            if len(value)>0:\n",
    "                magics[key] += [value[re.search(r'[^/]',value).start():]]\n",
    "            else:\n",
    "                magics[key] +=['newfile']\n",
    "        except Exception as e:\n",
    "            self.kobj._log(str(e),2)\n",
    "        return ''\n",
    "    ##生成文件时调用\n",
    "    def on_before_buildfile(self,code,magics)->Tuple[bool,str]:\n",
    "        return False,''\n",
    "    def on_after_buildfile(self,returncode,srcfile,magics)->bool:\n",
    "        # self.kobj._log('on_after_buildfile  file\\n',2)\n",
    "        \n",
    "        if len(self.kobj.addkey2dict(magics,'file'))>0:\n",
    "                self.kobj._log(\"srcfile:\"+srcfile+\"\\n\")\n",
    "                newsrcfilename = self.kobj._fileshander(magics['file'],srcfile,magics)\n",
    "                self.kobj._log(\"file \"+ newsrcfilename +\" created successfully\\n\")\n",
    "        return False\n",
    "    def on_before_compile(self,code,magics)->Tuple[bool,str]:\n",
    "        return False,''\n",
    "    def on_after_compile(self,returncode,binfile,magics)->bool:\n",
    "        return False\n",
    "    def on_before_exec(self,code,magics)->Tuple[bool,str]:\n",
    "        return False,''\n",
    "    def on_after_exec(self,returncode,srcfile,magics)->bool:\n",
    "        return False\n",
    "    def on_after_completion(self,returncode,execfile,magics)->bool:\n",
    "        return False\n",
    "    def filehander(self,key, value,magics,line):\n",
    "        self.kobj._write_to_stdout(value+\"\\n\")\n",
    "        if len(value)>0:\n",
    "            magics[str(key)] += [value[re.search(r'[^/]',value).start():]]\n",
    "        else:\n",
    "            magics[str(key)] +=['newfile']\n",
    "        return ''"
   ]
  },
  {
   "cell_type": "code",
   "execution_count": null,
   "metadata": {},
   "outputs": [],
   "source": []
  }
 ],
 "metadata": {
  "kernelspec": {
   "display_name": "MyPython",
   "language": "Python",
   "name": "mypython"
  },
  "orig_nbformat": 4
 },
 "nbformat": 4,
 "nbformat_minor": 2
}
